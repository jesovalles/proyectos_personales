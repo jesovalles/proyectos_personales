{
 "cells": [
  {
   "cell_type": "markdown",
   "metadata": {
    "id": "7g2xpAPPnRts"
   },
   "source": [
    "# **Predictor de faltas a pagos de préstamos**"
   ]
  },
  {
   "cell_type": "markdown",
   "metadata": {
    "id": "917Lmjp9vpig"
   },
   "source": [
    "-------------------\n",
    "## **Dataset**\n",
    "--------------------\n",
    "\n",
    "- **Default** - Yes/No, si: deudor - no: no deudor\n",
    "- **Student** - Yes/No\n",
    "- **Balance** - La cantidad de dinero en la cuenta bancaria.\n",
    "- **Income** - Los ingresos del aplicante."
   ]
  },
  {
   "cell_type": "code",
   "execution_count": 21,
   "metadata": {},
   "outputs": [],
   "source": [
    "import pandas as pd\n",
    "import numpy as np\n",
    "import matplotlib.pyplot as plt\n",
    "from sklearn.preprocessing import StandardScaler\n",
    "from sklearn.model_selection import train_test_split\n",
    "from sklearn.neighbors import KNeighborsClassifier\n",
    "import seaborn as sns\n",
    "import warnings\n",
    "warnings.filterwarnings('ignore')\n",
    "\n",
    "pd.options.display.float_format = '{:,.2f}'.format"
   ]
  },
  {
   "cell_type": "code",
   "execution_count": 2,
   "metadata": {},
   "outputs": [],
   "source": [
    "df = pd.read_csv('Default.csv')"
   ]
  },
  {
   "cell_type": "code",
   "execution_count": 3,
   "metadata": {},
   "outputs": [
    {
     "data": {
      "text/html": [
       "<div>\n",
       "<style scoped>\n",
       "    .dataframe tbody tr th:only-of-type {\n",
       "        vertical-align: middle;\n",
       "    }\n",
       "\n",
       "    .dataframe tbody tr th {\n",
       "        vertical-align: top;\n",
       "    }\n",
       "\n",
       "    .dataframe thead th {\n",
       "        text-align: right;\n",
       "    }\n",
       "</style>\n",
       "<table border=\"1\" class=\"dataframe\">\n",
       "  <thead>\n",
       "    <tr style=\"text-align: right;\">\n",
       "      <th></th>\n",
       "      <th>Unnamed: 0</th>\n",
       "      <th>default</th>\n",
       "      <th>student</th>\n",
       "      <th>balance</th>\n",
       "      <th>income</th>\n",
       "    </tr>\n",
       "  </thead>\n",
       "  <tbody>\n",
       "    <tr>\n",
       "      <th>0</th>\n",
       "      <td>1</td>\n",
       "      <td>No</td>\n",
       "      <td>No</td>\n",
       "      <td>729.53</td>\n",
       "      <td>44,361.63</td>\n",
       "    </tr>\n",
       "    <tr>\n",
       "      <th>1</th>\n",
       "      <td>2</td>\n",
       "      <td>No</td>\n",
       "      <td>Yes</td>\n",
       "      <td>817.18</td>\n",
       "      <td>12,106.13</td>\n",
       "    </tr>\n",
       "    <tr>\n",
       "      <th>2</th>\n",
       "      <td>3</td>\n",
       "      <td>No</td>\n",
       "      <td>No</td>\n",
       "      <td>1,073.55</td>\n",
       "      <td>31,767.14</td>\n",
       "    </tr>\n",
       "    <tr>\n",
       "      <th>3</th>\n",
       "      <td>4</td>\n",
       "      <td>No</td>\n",
       "      <td>No</td>\n",
       "      <td>529.25</td>\n",
       "      <td>35,704.49</td>\n",
       "    </tr>\n",
       "    <tr>\n",
       "      <th>4</th>\n",
       "      <td>5</td>\n",
       "      <td>No</td>\n",
       "      <td>No</td>\n",
       "      <td>785.66</td>\n",
       "      <td>38,463.50</td>\n",
       "    </tr>\n",
       "  </tbody>\n",
       "</table>\n",
       "</div>"
      ],
      "text/plain": [
       "   Unnamed: 0 default student  balance    income\n",
       "0           1      No      No   729.53 44,361.63\n",
       "1           2      No     Yes   817.18 12,106.13\n",
       "2           3      No      No 1,073.55 31,767.14\n",
       "3           4      No      No   529.25 35,704.49\n",
       "4           5      No      No   785.66 38,463.50"
      ]
     },
     "execution_count": 3,
     "metadata": {},
     "output_type": "execute_result"
    }
   ],
   "source": [
    "df.head()"
   ]
  },
  {
   "cell_type": "code",
   "execution_count": 4,
   "metadata": {},
   "outputs": [
    {
     "data": {
      "text/html": [
       "<div>\n",
       "<style scoped>\n",
       "    .dataframe tbody tr th:only-of-type {\n",
       "        vertical-align: middle;\n",
       "    }\n",
       "\n",
       "    .dataframe tbody tr th {\n",
       "        vertical-align: top;\n",
       "    }\n",
       "\n",
       "    .dataframe thead th {\n",
       "        text-align: right;\n",
       "    }\n",
       "</style>\n",
       "<table border=\"1\" class=\"dataframe\">\n",
       "  <thead>\n",
       "    <tr style=\"text-align: right;\">\n",
       "      <th></th>\n",
       "      <th>default</th>\n",
       "      <th>student</th>\n",
       "      <th>balance</th>\n",
       "      <th>income</th>\n",
       "    </tr>\n",
       "  </thead>\n",
       "  <tbody>\n",
       "    <tr>\n",
       "      <th>0</th>\n",
       "      <td>No</td>\n",
       "      <td>No</td>\n",
       "      <td>729.53</td>\n",
       "      <td>44,361.63</td>\n",
       "    </tr>\n",
       "    <tr>\n",
       "      <th>1</th>\n",
       "      <td>No</td>\n",
       "      <td>Yes</td>\n",
       "      <td>817.18</td>\n",
       "      <td>12,106.13</td>\n",
       "    </tr>\n",
       "    <tr>\n",
       "      <th>2</th>\n",
       "      <td>No</td>\n",
       "      <td>No</td>\n",
       "      <td>1,073.55</td>\n",
       "      <td>31,767.14</td>\n",
       "    </tr>\n",
       "    <tr>\n",
       "      <th>3</th>\n",
       "      <td>No</td>\n",
       "      <td>No</td>\n",
       "      <td>529.25</td>\n",
       "      <td>35,704.49</td>\n",
       "    </tr>\n",
       "    <tr>\n",
       "      <th>4</th>\n",
       "      <td>No</td>\n",
       "      <td>No</td>\n",
       "      <td>785.66</td>\n",
       "      <td>38,463.50</td>\n",
       "    </tr>\n",
       "  </tbody>\n",
       "</table>\n",
       "</div>"
      ],
      "text/plain": [
       "  default student  balance    income\n",
       "0      No      No   729.53 44,361.63\n",
       "1      No     Yes   817.18 12,106.13\n",
       "2      No      No 1,073.55 31,767.14\n",
       "3      No      No   529.25 35,704.49\n",
       "4      No      No   785.66 38,463.50"
      ]
     },
     "execution_count": 4,
     "metadata": {},
     "output_type": "execute_result"
    }
   ],
   "source": [
    "df.drop(columns = ['Unnamed: 0'], inplace = True)\n",
    "df.head()"
   ]
  },
  {
   "cell_type": "code",
   "execution_count": 5,
   "metadata": {},
   "outputs": [],
   "source": [
    "dict_binario = {'Yes': 1, 'No': 0}"
   ]
  },
  {
   "cell_type": "code",
   "execution_count": 6,
   "metadata": {},
   "outputs": [],
   "source": [
    "df['default'] = df['default'].map(dict_binario)\n",
    "df['student'] = df['student'].map(dict_binario)"
   ]
  },
  {
   "cell_type": "code",
   "execution_count": 8,
   "metadata": {},
   "outputs": [
    {
     "data": {
      "text/html": [
       "<div>\n",
       "<style scoped>\n",
       "    .dataframe tbody tr th:only-of-type {\n",
       "        vertical-align: middle;\n",
       "    }\n",
       "\n",
       "    .dataframe tbody tr th {\n",
       "        vertical-align: top;\n",
       "    }\n",
       "\n",
       "    .dataframe thead th {\n",
       "        text-align: right;\n",
       "    }\n",
       "</style>\n",
       "<table border=\"1\" class=\"dataframe\">\n",
       "  <thead>\n",
       "    <tr style=\"text-align: right;\">\n",
       "      <th></th>\n",
       "      <th>default</th>\n",
       "      <th>student</th>\n",
       "      <th>balance</th>\n",
       "      <th>income</th>\n",
       "    </tr>\n",
       "  </thead>\n",
       "  <tbody>\n",
       "    <tr>\n",
       "      <th>0</th>\n",
       "      <td>0</td>\n",
       "      <td>0</td>\n",
       "      <td>729.53</td>\n",
       "      <td>44,361.63</td>\n",
       "    </tr>\n",
       "    <tr>\n",
       "      <th>1</th>\n",
       "      <td>0</td>\n",
       "      <td>1</td>\n",
       "      <td>817.18</td>\n",
       "      <td>12,106.13</td>\n",
       "    </tr>\n",
       "    <tr>\n",
       "      <th>2</th>\n",
       "      <td>0</td>\n",
       "      <td>0</td>\n",
       "      <td>1,073.55</td>\n",
       "      <td>31,767.14</td>\n",
       "    </tr>\n",
       "    <tr>\n",
       "      <th>3</th>\n",
       "      <td>0</td>\n",
       "      <td>0</td>\n",
       "      <td>529.25</td>\n",
       "      <td>35,704.49</td>\n",
       "    </tr>\n",
       "    <tr>\n",
       "      <th>4</th>\n",
       "      <td>0</td>\n",
       "      <td>0</td>\n",
       "      <td>785.66</td>\n",
       "      <td>38,463.50</td>\n",
       "    </tr>\n",
       "  </tbody>\n",
       "</table>\n",
       "</div>"
      ],
      "text/plain": [
       "   default  student  balance    income\n",
       "0        0        0   729.53 44,361.63\n",
       "1        0        1   817.18 12,106.13\n",
       "2        0        0 1,073.55 31,767.14\n",
       "3        0        0   529.25 35,704.49\n",
       "4        0        0   785.66 38,463.50"
      ]
     },
     "execution_count": 8,
     "metadata": {},
     "output_type": "execute_result"
    }
   ],
   "source": [
    "df.head()"
   ]
  },
  {
   "cell_type": "code",
   "execution_count": 11,
   "metadata": {},
   "outputs": [
    {
     "data": {
      "text/plain": [
       "0   0.97\n",
       "1   0.03\n",
       "Name: default, dtype: float64"
      ]
     },
     "execution_count": 11,
     "metadata": {},
     "output_type": "execute_result"
    }
   ],
   "source": [
    "# calcular el (porcentaje) de cada categoria con respecto al número total de registros\n",
    "df['default'].value_counts(normalize = True)"
   ]
  },
  {
   "cell_type": "code",
   "execution_count": 12,
   "metadata": {
    "scrolled": true
   },
   "outputs": [
    {
     "name": "stdout",
     "output_type": "stream",
     "text": [
      "<class 'pandas.core.frame.DataFrame'>\n",
      "RangeIndex: 10000 entries, 0 to 9999\n",
      "Data columns (total 4 columns):\n",
      " #   Column   Non-Null Count  Dtype  \n",
      "---  ------   --------------  -----  \n",
      " 0   default  10000 non-null  int64  \n",
      " 1   student  10000 non-null  int64  \n",
      " 2   balance  10000 non-null  float64\n",
      " 3   income   10000 non-null  float64\n",
      "dtypes: float64(2), int64(2)\n",
      "memory usage: 312.6 KB\n"
     ]
    }
   ],
   "source": [
    "df.info()"
   ]
  },
  {
   "cell_type": "code",
   "execution_count": 14,
   "metadata": {},
   "outputs": [],
   "source": [
    "ss = StandardScaler()"
   ]
  },
  {
   "cell_type": "code",
   "execution_count": 15,
   "metadata": {},
   "outputs": [],
   "source": [
    "train_error = []\n",
    "test_error = []\n",
    "\n",
    "knn_split = {}\n",
    "error_knn = pd.DataFrame()"
   ]
  },
  {
   "cell_type": "code",
   "execution_count": 22,
   "metadata": {},
   "outputs": [
    {
     "name": "stdout",
     "output_type": "stream",
     "text": [
      "1\n",
      "[0.0, 0.04326666666666668]\n",
      "2\n",
      "[0.02125833333333334, 0.03530000000000001]\n",
      "3\n",
      "[0.022241666666666656, 0.03280000000000001]\n",
      "4\n",
      "[0.024808333333333335, 0.031533333333333316]\n",
      "5\n",
      "[0.02485, 0.03113333333333334]\n",
      "6\n",
      "[0.025666666666666674, 0.027933333333333327]\n",
      "7\n",
      "[0.024808333333333352, 0.02866666666666667]\n",
      "8\n",
      "[0.025141666666666663, 0.030133333333333324]\n",
      "9\n",
      "[0.02572499999999999, 0.02746666666666667]\n",
      "10\n",
      "[0.02623333333333333, 0.02756666666666666]\n",
      "11\n",
      "[0.026049999999999997, 0.026999999999999986]\n",
      "12\n",
      "[0.02630833333333334, 0.028033333333333334]\n",
      "13\n",
      "[0.026108333333333334, 0.027566666666666666]\n",
      "14\n",
      "[0.02651666666666667, 0.02843333333333331]\n",
      "15\n",
      "[0.02636666666666668, 0.027700000000000006]\n",
      "16\n",
      "[0.02639166666666667, 0.028533333333333338]\n",
      "17\n",
      "[0.02598333333333332, 0.028666666666666663]\n",
      "18\n",
      "[0.026808333333333337, 0.027933333333333327]\n",
      "19\n",
      "[0.026441666666666676, 0.028666666666666663]\n",
      "20\n",
      "[0.026291666666666675, 0.029466666666666655]\n"
     ]
    },
    {
     "data": {
      "text/plain": [
       "{1: [0.0, 0.04326666666666668],\n",
       " 2: [0.02125833333333334, 0.03530000000000001],\n",
       " 3: [0.022241666666666656, 0.03280000000000001],\n",
       " 4: [0.024808333333333335, 0.031533333333333316],\n",
       " 5: [0.02485, 0.03113333333333334],\n",
       " 6: [0.025666666666666674, 0.027933333333333327],\n",
       " 7: [0.024808333333333352, 0.02866666666666667],\n",
       " 8: [0.025141666666666663, 0.030133333333333324],\n",
       " 9: [0.02572499999999999, 0.02746666666666667],\n",
       " 10: [0.02623333333333333, 0.02756666666666666],\n",
       " 11: [0.026049999999999997, 0.026999999999999986],\n",
       " 12: [0.02630833333333334, 0.028033333333333334],\n",
       " 13: [0.026108333333333334, 0.027566666666666666],\n",
       " 14: [0.02651666666666667, 0.02843333333333331],\n",
       " 15: [0.02636666666666668, 0.027700000000000006],\n",
       " 16: [0.02639166666666667, 0.028533333333333338],\n",
       " 17: [0.02598333333333332, 0.028666666666666663],\n",
       " 18: [0.026808333333333337, 0.027933333333333327],\n",
       " 19: [0.026441666666666676, 0.028666666666666663],\n",
       " 20: [0.026291666666666675, 0.029466666666666655]}"
      ]
     },
     "execution_count": 22,
     "metadata": {},
     "output_type": "execute_result"
    }
   ],
   "source": [
    "for k in range(1, 21):\n",
    "    train_error = []\n",
    "    test_error = []\n",
    "    lista = []\n",
    "    knn = KNeighborsClassifier(n_neighbors=k)\n",
    "    print(k)\n",
    "    \n",
    "    for i in range(15):\n",
    "        carac = ['student', 'balance', 'income'] # carac es X y default es Y \n",
    "        X_train, X_test, y_train, y_test = train_test_split(df[carac], df['default'], test_size=0.20)\n",
    "        \n",
    "        X_train = ss.fit_transform(X_train)\n",
    "        X_test = ss.transform(X_test)\n",
    "        \n",
    "        knn.fit(X_train, y_train)\n",
    "        \n",
    "        train_error.append(1 - knn.score(X_train, y_train))\n",
    "        test_error.append(1 - knn.score(X_test, y_test))\n",
    "    lista.append(sum(train_error)/len(train_error))\n",
    "    lista.append(sum(test_error)/len(test_error))\n",
    "    knn_split[k] = lista\n",
    "    print(knn_split[k])\n",
    "\n",
    "knn_split"
   ]
  },
  {
   "cell_type": "code",
   "execution_count": 23,
   "metadata": {},
   "outputs": [],
   "source": [
    "kl = []\n",
    "vl = []\n",
    "v2 = []\n",
    "\n",
    "for k, v in knn_split.items():\n",
    "    kl.append(k)\n",
    "    vl.append(knn_split[k][1])\n",
    "    v2.append(knn_split[k][0])"
   ]
  },
  {
   "cell_type": "code",
   "execution_count": 24,
   "metadata": {},
   "outputs": [
    {
     "data": {
      "image/png": "[encoded data removed]",
      "text/plain": [
       "<Figure size 400x400 with 1 Axes>"
      ]
     },
     "metadata": {},
     "output_type": "display_data"
    }
   ],
   "source": [
    "plt.figure(figsize = (4,4))\n",
    "plt.xlabel('Numero de vecinos K')\n",
    "plt.ylabel('Error')\n",
    "plt.plot(kl, vl, label='Error en Testeo')\n",
    "plt.plot(kl,v2, label='Error en Entrenamiento')\n",
    "plt.legend()\n",
    "plt.show()"
   ]
  },
  {
   "cell_type": "code",
   "execution_count": 25,
   "metadata": {},
   "outputs": [
    {
     "name": "stdout",
     "output_type": "stream",
     "text": [
      "La efectividad con la data de entrenamiento es de 0.970875, mientras que con la data de testeo es de 0.969\n"
     ]
    }
   ],
   "source": [
    "knn = KNeighborsClassifier(n_neighbors=16)\n",
    "knn.fit(X_train, y_train)\n",
    "knn.fit(X_test, y_test)\n",
    "\n",
    "entrenamiento = knn.score(X_train, y_train)\n",
    "testeo = knn.score(X_test, y_test)\n",
    "\n",
    "print(f'La efectividad con la data de entrenamiento es de {entrenamiento}, mientras que con la data de testeo es de {testeo}')"
   ]
  },
  {
   "cell_type": "markdown",
   "metadata": {},
   "source": [
    "#### Making a predictive system"
   ]
  },
  {
   "cell_type": "code",
   "execution_count": 29,
   "metadata": {},
   "outputs": [],
   "source": [
    "def predicion (datos):\n",
    "    \n",
    "    # transformando la data a un array\n",
    "    input_data_as_numpy_array = np.asarray(datos)\n",
    "\n",
    "    # reformando el array\n",
    "    input_data_reshaped = input_data_as_numpy_array.reshape(1,-1)\n",
    "    \n",
    "    # creando el modelo de predicción\n",
    "    prediction = knn.predict(input_data_reshaped)\n",
    "    print(f'El resultado es {prediction[0]}')\n",
    "\n",
    "    if (prediction[0] == 0):\n",
    "      print('La persona probablemente no tendra faltas de pago')\n",
    "    else:\n",
    "      print('La persona probablemente tenga faltas de pago')"
   ]
  },
  {
   "cell_type": "code",
   "execution_count": 30,
   "metadata": {},
   "outputs": [
    {
     "name": "stdout",
     "output_type": "stream",
     "text": [
      "El resultado es 0\n",
      "La persona probablemente no tendra faltas de pago\n"
     ]
    }
   ],
   "source": [
    "input_data = (1,817.18,12106.13)\n",
    "predicion(input_data)"
   ]
  }
 ],
 "metadata": {
  "colab": {
   "collapsed_sections": [],
   "name": "LVC_3_Practical_Application_Classification_Predicting_Loan_Defaulters.ipynb",
   "provenance": []
  },
  "kernelspec": {
   "display_name": "Python 3 (ipykernel)",
   "language": "python",
   "name": "python3"
  },
  "language_info": {
   "codemirror_mode": {
    "name": "ipython",
    "version": 3
   },
   "file_extension": ".py",
   "mimetype": "text/x-python",
   "name": "python",
   "nbconvert_exporter": "python",
   "pygments_lexer": "ipython3",
   "version": "3.9.13"
  }
 },
 "nbformat": 4,
 "nbformat_minor": 4
}
