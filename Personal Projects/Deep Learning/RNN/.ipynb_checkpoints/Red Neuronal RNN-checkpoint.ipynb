{
 "cells": [
  {
   "cell_type": "markdown",
   "id": "614a855f-728a-4fb8-a813-b91be159e367",
   "metadata": {},
   "source": [
    "## Red Neuronal Recurrente (RNN)"
   ]
  },
  {
   "cell_type": "markdown",
   "id": "b28ba62f-3536-431a-abee-6c58cb3fde8f",
   "metadata": {},
   "source": [
    "implementación de una Red Neuronal Recurrente (RNN) avanzada utilizando TensorFlow y Keras. Se utilizará un dataset de ejemplo (IMDB) de clasificación de sentimientos para ilustrar su uso. La red incluirá las mejores prácticas, como:\n",
    "\n",
    "- *Capa Embedding* para manejar datos secuenciales.\n",
    "- *LSTM bidireccional* para capturar dependencias a largo plazo en ambas direcciones.\n",
    "- *Regularización (Dropout y Recurrent Dropout)* para evitar sobreajuste.\n",
    "- *Batch Normalization* para estabilizar el entrenamiento.\n",
    "- *Early Stopping* y reducción de tasa de aprendizaje en función de la validación."
   ]
  },
  {
   "cell_type": "code",
   "execution_count": 1,
   "id": "8a78b5c5-f24e-4fdf-800f-596521686333",
   "metadata": {},
   "outputs": [],
   "source": [
    "import tensorflow as tf\n",
    "from tensorflow import keras\n",
    "from tensorflow.keras.models import Sequential\n",
    "from tensorflow.keras.layers import Embedding, LSTM, Dense, Dropout, Bidirectional, BatchNormalization\n",
    "from tensorflow.keras.callbacks import EarlyStopping, ReduceLROnPlateau\n",
    "from tensorflow.keras.preprocessing.sequence import pad_sequences\n",
    "from tensorflow.keras.datasets import imdb\n",
    "import numpy as np"
   ]
  },
  {
   "cell_type": "code",
   "execution_count": 2,
   "id": "1191a223-bbe3-4a0c-84bd-0a9ae0092d87",
   "metadata": {},
   "outputs": [],
   "source": [
    "# Parámetros generales\n",
    "vocab_size = 20000  # Número de palabras a considerar en el vocabulario\n",
    "max_length = 200  # Longitud máxima de secuencias de entrada\n",
    "embedding_dim = 128  # Dimensión del embedding"
   ]
  },
  {
   "cell_type": "code",
   "execution_count": null,
   "id": "9c54b611-7320-4723-b249-37b63a0a89c6",
   "metadata": {},
   "outputs": [],
   "source": [
    "# Cargar y preprocesar los datos\n",
    "def load_data():\n",
    "    (X_train, y_train), (X_test, y_test) = imdb.load_data(num_words=vocab_size)\n",
    "    X_train = pad_sequences(X_train, maxlen=max_length, padding='post', truncating='post')\n",
    "    X_test = pad_sequences(X_test, maxlen=max_length, padding='post', truncating='post')\n",
    "    return (X_train, y_train), (X_test, y_test)\n",
    "\n",
    "(X_train, y_train), (X_test, y_test) = load_data()"
   ]
  },
  {
   "cell_type": "code",
   "execution_count": null,
   "id": "599c432d-a77c-4e4f-a351-536b0ef3ffe7",
   "metadata": {},
   "outputs": [],
   "source": [
    "# Definir el modelo avanzado con LSTM Bidireccional\n",
    "def build_model():\n",
    "    model = Sequential([\n",
    "        Embedding(input_dim=vocab_size, output_dim=embedding_dim, input_length=max_length),\n",
    "        Bidirectional(LSTM(64, return_sequences=True, dropout=0.3, recurrent_dropout=0.3)),\n",
    "        BatchNormalization(),\n",
    "        Bidirectional(LSTM(32, dropout=0.3, recurrent_dropout=0.3)),\n",
    "        BatchNormalization(),\n",
    "        Dense(64, activation='relu'),\n",
    "        Dropout(0.3),\n",
    "        Dense(1, activation='sigmoid')  # Clasificación binaria\n",
    "    ])\n",
    "    model.compile(loss='binary_crossentropy', optimizer='adam', metrics=['accuracy'])\n",
    "    return model\n",
    "\n",
    "model = build_model()\n",
    "model.summary()"
   ]
  },
  {
   "cell_type": "code",
   "execution_count": null,
   "id": "dec9541c-052d-419e-bc6c-67aafaccf997",
   "metadata": {},
   "outputs": [],
   "source": [
    "# Definir callbacks para mejorar entrenamiento\n",
    "early_stopping = EarlyStopping(monitor='val_loss', patience=3, restore_best_weights=True)\n",
    "reduce_lr = ReduceLROnPlateau(monitor='val_loss', factor=0.5, patience=2, verbose=1)"
   ]
  },
  {
   "cell_type": "code",
   "execution_count": null,
   "id": "06957766-401e-41d7-9b0e-869d75ee01d9",
   "metadata": {},
   "outputs": [],
   "source": [
    "# Entrenar la RNN avanzada\n",
    "history = model.fit(\n",
    "    X_train, y_train,\n",
    "    validation_data=(X_test, y_test),\n",
    "    epochs=10,\n",
    "    batch_size=64,\n",
    "    callbacks=[early_stopping, reduce_lr]\n",
    ")"
   ]
  },
  {
   "cell_type": "code",
   "execution_count": null,
   "id": "4ee765a5-b85b-481f-a674-b629a64e6614",
   "metadata": {},
   "outputs": [],
   "source": [
    "# Evaluación del modelo\n",
    "test_loss, test_acc = model.evaluate(X_test, y_test)\n",
    "print(f'Precisión en test: {test_acc:.4f}')"
   ]
  }
 ],
 "metadata": {
  "kernelspec": {
   "display_name": "Python 3 (ipykernel)",
   "language": "python",
   "name": "python3"
  },
  "language_info": {
   "codemirror_mode": {
    "name": "ipython",
    "version": 3
   },
   "file_extension": ".py",
   "mimetype": "text/x-python",
   "name": "python",
   "nbconvert_exporter": "python",
   "pygments_lexer": "ipython3",
   "version": "3.11.7"
  }
 },
 "nbformat": 4,
 "nbformat_minor": 5
}
