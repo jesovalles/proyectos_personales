{
 "cells": [
  {
   "cell_type": "markdown",
   "id": "c0e72a10-2b66-4ee0-924b-1266316210d6",
   "metadata": {},
   "source": [
    "## Red Neuronal Artificial (ANN)"
   ]
  },
  {
   "cell_type": "markdown",
   "id": "2cdbf816-56e9-49a7-b342-4bbe68241a1e",
   "metadata": {},
   "source": [
    "Red neuronal artificial (ANN) para clasificación con TensorFlow y Keras. Esta red sigue las mejores prácticas para modelos complejos, incluyendo:\n",
    "\n",
    "- Normalización de datos\n",
    "- Arquitectura profunda con Dropout y Batch Normalization\n",
    "- Función de pérdida y métrica adecuadas\n",
    "- Optimización con Adam y ajuste de tasa de aprendizaje\n",
    "- Uso de Early Stopping para evitar sobreajuste"
   ]
  },
  {
   "cell_type": "code",
   "execution_count": 2,
   "id": "4e1dcdf4-2a60-4f49-b16e-19e4e5f6e6ab",
   "metadata": {},
   "outputs": [],
   "source": [
    "import numpy as np\n",
    "import tensorflow as tf\n",
    "from tensorflow import keras\n",
    "from tensorflow.keras.models import Sequential\n",
    "from tensorflow.keras.layers import Dense, Dropout, BatchNormalization\n",
    "from tensorflow.keras.optimizers import Adam\n",
    "from sklearn.model_selection import train_test_split\n",
    "from sklearn.preprocessing import StandardScaler"
   ]
  },
  {
   "cell_type": "code",
   "execution_count": null,
   "id": "ea06f6d3-7d6b-42ee-bc22-f652a3458780",
   "metadata": {},
   "outputs": [],
   "source": [
    "# Simulación de datos (ejemplo con 20 features y 2 clases)\n",
    "np.random.seed(42)\n",
    "X = np.random.rand(5000, 20)\n",
    "y = np.random.randint(0, 2, 5000)  # Clasificación binaria\n",
    "\n",
    "# División en conjuntos de entrenamiento y prueba\n",
    "X_train, X_test, y_train, y_test = train_test_split(X, y, test_size=0.2, random_state=42)"
   ]
  },
  {
   "cell_type": "code",
   "execution_count": null,
   "id": "6a1edb6b-ddc6-41eb-9af5-aa94fe93a959",
   "metadata": {},
   "outputs": [],
   "source": [
    "# Normalización de los datos\n",
    "scaler = StandardScaler()\n",
    "X_train = scaler.fit_transform(X_train)\n",
    "X_test = scaler.transform(X_test)"
   ]
  },
  {
   "cell_type": "code",
   "execution_count": null,
   "id": "ffca2053-0f81-4f8d-b665-8c1a54e463c1",
   "metadata": {},
   "outputs": [],
   "source": [
    "# Definición de la arquitectura de la red neuronal\n",
    "def build_model():\n",
    "    model = Sequential()\n",
    "    \n",
    "    # Capa de entrada con BatchNormalization\n",
    "    model.add(Dense(64, activation='relu', input_shape=(X_train.shape[1],)))\n",
    "    model.add(BatchNormalization())\n",
    "    model.add(Dropout(0.3))  # Reduce el overfitting\n",
    "    \n",
    "    # Capas ocultas profundas\n",
    "    model.add(Dense(128, activation='relu'))\n",
    "    model.add(BatchNormalization())\n",
    "    model.add(Dropout(0.3))\n",
    "    \n",
    "    model.add(Dense(64, activation='relu'))\n",
    "    model.add(BatchNormalization())\n",
    "    model.add(Dropout(0.3))\n",
    "    \n",
    "    # Capa de salida para clasificación binaria\n",
    "    model.add(Dense(1, activation='sigmoid'))\n",
    "    \n",
    "    return model"
   ]
  },
  {
   "cell_type": "code",
   "execution_count": null,
   "id": "936d9fe7-92ac-4ee1-8812-f633e34171ab",
   "metadata": {},
   "outputs": [],
   "source": [
    "# Creación del modelo\n",
    "model = build_model()\n",
    "\n",
    "# Compilación con el optimizador Adam y función de pérdida adecuada\n",
    "model.compile(optimizer=Adam(learning_rate=0.001), loss='binary_crossentropy', metrics=['accuracy'])\n",
    "\n",
    "# Early Stopping para evitar sobreajuste\n",
    "early_stopping = keras.callbacks.EarlyStopping(monitor='val_loss', patience=10, restore_best_weights=True)"
   ]
  },
  {
   "cell_type": "code",
   "execution_count": null,
   "id": "d2ad66bc-31b3-4c05-ac9d-aaac86df0002",
   "metadata": {},
   "outputs": [],
   "source": [
    "# Entrenamiento del modelo\n",
    "history = model.fit(X_train, y_train, validation_data=(X_test, y_test),\n",
    "                    epochs=100, batch_size=32, callbacks=[early_stopping], verbose=1)"
   ]
  },
  {
   "cell_type": "code",
   "execution_count": null,
   "id": "b1b68586-4d2b-431a-8d6f-a2b525429124",
   "metadata": {},
   "outputs": [],
   "source": [
    "# Evaluación en el conjunto de prueba\n",
    "test_loss, test_acc = model.evaluate(X_test, y_test, verbose=1)\n",
    "print(f\"Precisión en test: {test_acc:.4f}\")"
   ]
  }
 ],
 "metadata": {
  "kernelspec": {
   "display_name": "Python 3 (ipykernel)",
   "language": "python",
   "name": "python3"
  },
  "language_info": {
   "codemirror_mode": {
    "name": "ipython",
    "version": 3
   },
   "file_extension": ".py",
   "mimetype": "text/x-python",
   "name": "python",
   "nbconvert_exporter": "python",
   "pygments_lexer": "ipython3",
   "version": "3.11.7"
  }
 },
 "nbformat": 4,
 "nbformat_minor": 5
}
