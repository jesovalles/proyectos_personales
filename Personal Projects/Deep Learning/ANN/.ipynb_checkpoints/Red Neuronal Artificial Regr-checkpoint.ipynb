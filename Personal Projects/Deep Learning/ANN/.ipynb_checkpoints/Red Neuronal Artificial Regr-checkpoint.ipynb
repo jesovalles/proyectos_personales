{
 "cells": [
  {
   "cell_type": "markdown",
   "id": "c0e72a10-2b66-4ee0-924b-1266316210d6",
   "metadata": {},
   "source": [
    "## Red Neuronal Artificial (ANN)"
   ]
  },
  {
   "cell_type": "markdown",
   "id": "2cdbf816-56e9-49a7-b342-4bbe68241a1e",
   "metadata": {},
   "source": [
    "Red neuronal artificial (ANN) avanzada para regresión utilizando TensorFlow y Keras. He incorporado las mejores prácticas, como la normalización de datos, regularización para evitar el sobreajuste, early stopping y ajuste de hiperparámetros.\n",
    "\n",
    "La red está diseñada para manejar datos de regresión complejos, por lo que incluye varias capas densas con activaciones ReLU, dropout y regularización L2."
   ]
  },
  {
   "cell_type": "code",
   "execution_count": 2,
   "id": "4e1dcdf4-2a60-4f49-b16e-19e4e5f6e6ab",
   "metadata": {},
   "outputs": [],
   "source": [
    "import tensorflow as tf\n",
    "from tensorflow import keras\n",
    "from tensorflow.keras import layers, regularizers\n",
    "import numpy as np\n",
    "from sklearn.model_selection import train_test_split\n",
    "from sklearn.preprocessing import StandardScaler\n",
    "import matplotlib.pyplot as plt"
   ]
  },
  {
   "cell_type": "code",
   "execution_count": null,
   "id": "ea06f6d3-7d6b-42ee-bc22-f652a3458780",
   "metadata": {},
   "outputs": [],
   "source": [
    "# Generar datos sintéticos para regresión\n",
    "np.random.seed(42)\n",
    "X = np.random.rand(5000, 10)  # 5000 muestras, 10 características\n",
    "y = np.sum(X * np.random.rand(10), axis=1) + np.random.normal(0, 0.1, 5000)  # Función objetivo con ruido\n",
    "\n",
    "# Dividir en conjuntos de entrenamiento, validación y prueba\n",
    "X_train, X_temp, y_train, y_temp = train_test_split(X, y, test_size=0.2, random_state=42)\n",
    "X_val, X_test, y_val, y_test = train_test_split(X_temp, y_temp, test_size=0.5, random_state=42)"
   ]
  },
  {
   "cell_type": "code",
   "execution_count": null,
   "id": "6a1edb6b-ddc6-41eb-9af5-aa94fe93a959",
   "metadata": {},
   "outputs": [],
   "source": [
    "# Normalización de los datos\n",
    "scaler = StandardScaler()\n",
    "X_train = scaler.fit_transform(X_train)\n",
    "X_val = scaler.transform(X_val)\n",
    "X_test = scaler.transform(X_test)"
   ]
  },
  {
   "cell_type": "code",
   "execution_count": null,
   "id": "ffca2053-0f81-4f8d-b665-8c1a54e463c1",
   "metadata": {},
   "outputs": [],
   "source": [
    "# Definir la arquitectura de la red neuronal\n",
    "def build_model():\n",
    "    model = keras.Sequential([\n",
    "        layers.Dense(128, activation='relu', kernel_regularizer=regularizers.l2(0.001), input_shape=(X_train.shape[1],)),\n",
    "        layers.Dropout(0.2),  # Dropout para evitar sobreajuste\n",
    "        layers.Dense(64, activation='relu', kernel_regularizer=regularizers.l2(0.001)),\n",
    "        layers.Dropout(0.2),\n",
    "        layers.Dense(32, activation='relu', kernel_regularizer=regularizers.l2(0.001)),\n",
    "        layers.Dense(1)  # Capa de salida sin activación para regresión\n",
    "    ])\n",
    "\n",
    "    # Compilar el modelo con optimizador Adam y métrica de error cuadrático medio (MSE)\n",
    "    model.compile(optimizer=keras.optimizers.Adam(learning_rate=0.001),\n",
    "                  loss='mse',\n",
    "                  metrics=['mae'])\n",
    "\n",
    "    return model"
   ]
  },
  {
   "cell_type": "code",
   "execution_count": null,
   "id": "936d9fe7-92ac-4ee1-8812-f633e34171ab",
   "metadata": {},
   "outputs": [],
   "source": [
    "# Construcción del modelo\n",
    "model = build_model()\n",
    "\n",
    "# Configurar el callback de Early Stopping para evitar sobreajuste\n",
    "early_stopping = keras.callbacks.EarlyStopping(monitor='val_loss', patience=20, restore_best_weights=True)"
   ]
  },
  {
   "cell_type": "code",
   "execution_count": null,
   "id": "d2ad66bc-31b3-4c05-ac9d-aaac86df0002",
   "metadata": {},
   "outputs": [],
   "source": [
    "# Entrenamiento del modelo\n",
    "history = model.fit(X_train, y_train, epochs=200, batch_size=32, validation_data=(X_val, y_val),\n",
    "                    callbacks=[early_stopping], verbose=1)"
   ]
  },
  {
   "cell_type": "code",
   "execution_count": null,
   "id": "b1b68586-4d2b-431a-8d6f-a2b525429124",
   "metadata": {},
   "outputs": [],
   "source": [
    "# Evaluación en el conjunto de prueba\n",
    "test_loss, test_mae = model.evaluate(X_test, y_test)\n",
    "print(f\"\\nPérdida en el conjunto de prueba: {test_loss:.4f}\")\n",
    "print(f\"MAE en el conjunto de prueba: {test_mae:.4f}\")\n",
    "\n",
    "# Gráfico de la pérdida durante el entrenamiento\n",
    "plt.plot(history.history['loss'], label='Entrenamiento')\n",
    "plt.plot(history.history['val_loss'], label='Validación')\n",
    "plt.xlabel('Épocas')\n",
    "plt.ylabel('Pérdida (MSE)')\n",
    "plt.legend()\n",
    "plt.title('Evolución de la pérdida')\n",
    "plt.show()"
   ]
  },
  {
   "cell_type": "markdown",
   "id": "a453b564-3483-4c69-82e5-1a0f56952889",
   "metadata": {},
   "source": [
    "## Explicación de la implementación:\n",
    "\n",
    "1. Preprocesamiento de datos:\n",
    "- Se generan datos sintéticos con 10 características.\n",
    "- Se divide el dataset en entrenamiento, validación y prueba.\n",
    "- Se normalizan las características con StandardScaler.\n",
    "\n",
    "2. Definición del modelo:\n",
    "- Capas densas con activación ReLU para manejar no linealidades.\n",
    "- Regularización L2 (kernel_regularizer) para evitar sobreajuste.\n",
    "- Dropout en capas ocultas para mejorar la generalización.\n",
    "\n",
    "3. Compilación y entrenamiento:\n",
    "- Optimización con Adam (learning_rate=0.001).\n",
    "- Función de pérdida MSE (error cuadrático medio), adecuada para regresión.\n",
    "- Callback de EarlyStopping para detener el entrenamiento cuando la pérdida de validación deja de mejorar.\n",
    "\n",
    "4. Evaluación y visualización:\n",
    "- Se mide el error en el conjunto de prueba.\n",
    "- Se grafica la evolución de la pérdida en entrenamiento y validación."
   ]
  }
 ],
 "metadata": {
  "kernelspec": {
   "display_name": "Python 3 (ipykernel)",
   "language": "python",
   "name": "python3"
  },
  "language_info": {
   "codemirror_mode": {
    "name": "ipython",
    "version": 3
   },
   "file_extension": ".py",
   "mimetype": "text/x-python",
   "name": "python",
   "nbconvert_exporter": "python",
   "pygments_lexer": "ipython3",
   "version": "3.11.7"
  }
 },
 "nbformat": 4,
 "nbformat_minor": 5
}
