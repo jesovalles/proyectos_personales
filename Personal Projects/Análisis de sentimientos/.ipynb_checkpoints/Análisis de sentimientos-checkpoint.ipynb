{
 "cells": [
  {
   "cell_type": "markdown",
   "id": "7bca028d-781c-49ef-b9b3-e4dd2ae2b04f",
   "metadata": {},
   "source": [
    "# Análisis de sentimientos"
   ]
  },
  {
   "cell_type": "markdown",
   "id": "aee29e54-9347-435c-80a7-cb62d33f2c94",
   "metadata": {},
   "source": [
    "Este proyecto se realiza para realizar la predicción de análisis de sentimientos en comentarios."
   ]
  },
  {
   "cell_type": "code",
   "execution_count": 1,
   "id": "ae246465-9d57-436e-b874-71f0fbe47e35",
   "metadata": {},
   "outputs": [],
   "source": [
    "# importando librerias\n",
    "import numpy as np\n",
    "import pandas as pd\n",
    "import seaborn as sns\n",
    "import matplotlib.pyplot as plt\n",
    "import re\n",
    "from sklearn.feature_extraction.text import CountVectorizer, TfidfVectorizer\n",
    "from sklearn.linear_model import LogisticRegression\n",
    "from sklearn.metrics import roc_auc_score, f1_score, confusion_matrix\n",
    "from sklearn.model_selection import train_test_split"
   ]
  },
  {
   "cell_type": "markdown",
   "id": "6194327c-ac52-4a70-8aa5-7ae5d09cc464",
   "metadata": {},
   "source": [
    "# Importando el dataset"
   ]
  },
  {
   "cell_type": "code",
   "execution_count": 2,
   "id": "2fed506d-8341-4cb8-be34-fa1bf222880c",
   "metadata": {},
   "outputs": [
    {
     "data": {
      "text/html": [
       "<div>\n",
       "<style scoped>\n",
       "    .dataframe tbody tr th:only-of-type {\n",
       "        vertical-align: middle;\n",
       "    }\n",
       "\n",
       "    .dataframe tbody tr th {\n",
       "        vertical-align: top;\n",
       "    }\n",
       "\n",
       "    .dataframe thead th {\n",
       "        text-align: right;\n",
       "    }\n",
       "</style>\n",
       "<table border=\"1\" class=\"dataframe\">\n",
       "  <thead>\n",
       "    <tr style=\"text-align: right;\">\n",
       "      <th></th>\n",
       "      <th>review_en</th>\n",
       "      <th>review_es</th>\n",
       "      <th>sentiment</th>\n",
       "      <th>sentimiento</th>\n",
       "    </tr>\n",
       "  </thead>\n",
       "  <tbody>\n",
       "    <tr>\n",
       "      <th>0</th>\n",
       "      <td>One of the other reviewers has mentioned that ...</td>\n",
       "      <td>Uno de los otros críticos ha mencionado que de...</td>\n",
       "      <td>positive</td>\n",
       "      <td>positivo</td>\n",
       "    </tr>\n",
       "    <tr>\n",
       "      <th>1</th>\n",
       "      <td>A wonderful little production. The filming tec...</td>\n",
       "      <td>Una pequeña pequeña producción.La técnica de f...</td>\n",
       "      <td>positive</td>\n",
       "      <td>positivo</td>\n",
       "    </tr>\n",
       "    <tr>\n",
       "      <th>2</th>\n",
       "      <td>I thought this was a wonderful way to spend ti...</td>\n",
       "      <td>Pensé que esta era una manera maravillosa de p...</td>\n",
       "      <td>positive</td>\n",
       "      <td>positivo</td>\n",
       "    </tr>\n",
       "    <tr>\n",
       "      <th>3</th>\n",
       "      <td>Basically there's a family where a little boy ...</td>\n",
       "      <td>Básicamente, hay una familia donde un niño peq...</td>\n",
       "      <td>negative</td>\n",
       "      <td>negativo</td>\n",
       "    </tr>\n",
       "    <tr>\n",
       "      <th>4</th>\n",
       "      <td>Petter Mattei's \"Love in the Time of Money\" is...</td>\n",
       "      <td>El \"amor en el tiempo\" de Petter Mattei es una...</td>\n",
       "      <td>positive</td>\n",
       "      <td>positivo</td>\n",
       "    </tr>\n",
       "  </tbody>\n",
       "</table>\n",
       "</div>"
      ],
      "text/plain": [
       "                                           review_en  \\\n",
       "0  One of the other reviewers has mentioned that ...   \n",
       "1  A wonderful little production. The filming tec...   \n",
       "2  I thought this was a wonderful way to spend ti...   \n",
       "3  Basically there's a family where a little boy ...   \n",
       "4  Petter Mattei's \"Love in the Time of Money\" is...   \n",
       "\n",
       "                                           review_es sentiment sentimiento  \n",
       "0  Uno de los otros críticos ha mencionado que de...  positive    positivo  \n",
       "1  Una pequeña pequeña producción.La técnica de f...  positive    positivo  \n",
       "2  Pensé que esta era una manera maravillosa de p...  positive    positivo  \n",
       "3  Básicamente, hay una familia donde un niño peq...  negative    negativo  \n",
       "4  El \"amor en el tiempo\" de Petter Mattei es una...  positive    positivo  "
      ]
     },
     "execution_count": 2,
     "metadata": {},
     "output_type": "execute_result"
    }
   ],
   "source": [
    "df = pd.read_excel(\"BBDD.xlsx\")\n",
    "df.head()"
   ]
  },
  {
   "cell_type": "code",
   "execution_count": 3,
   "id": "3b8acd7d-44b1-4899-bce9-3667f90a1e49",
   "metadata": {},
   "outputs": [
    {
     "data": {
      "text/html": [
       "<div>\n",
       "<style scoped>\n",
       "    .dataframe tbody tr th:only-of-type {\n",
       "        vertical-align: middle;\n",
       "    }\n",
       "\n",
       "    .dataframe tbody tr th {\n",
       "        vertical-align: top;\n",
       "    }\n",
       "\n",
       "    .dataframe thead th {\n",
       "        text-align: right;\n",
       "    }\n",
       "</style>\n",
       "<table border=\"1\" class=\"dataframe\">\n",
       "  <thead>\n",
       "    <tr style=\"text-align: right;\">\n",
       "      <th></th>\n",
       "      <th>review_en</th>\n",
       "      <th>review_es</th>\n",
       "      <th>sentiment</th>\n",
       "      <th>sentimiento</th>\n",
       "      <th>target</th>\n",
       "    </tr>\n",
       "  </thead>\n",
       "  <tbody>\n",
       "    <tr>\n",
       "      <th>0</th>\n",
       "      <td>One of the other reviewers has mentioned that ...</td>\n",
       "      <td>Uno de los otros críticos ha mencionado que de...</td>\n",
       "      <td>positive</td>\n",
       "      <td>positivo</td>\n",
       "      <td>1</td>\n",
       "    </tr>\n",
       "    <tr>\n",
       "      <th>1</th>\n",
       "      <td>A wonderful little production. The filming tec...</td>\n",
       "      <td>Una pequeña pequeña producción.La técnica de f...</td>\n",
       "      <td>positive</td>\n",
       "      <td>positivo</td>\n",
       "      <td>1</td>\n",
       "    </tr>\n",
       "    <tr>\n",
       "      <th>2</th>\n",
       "      <td>I thought this was a wonderful way to spend ti...</td>\n",
       "      <td>Pensé que esta era una manera maravillosa de p...</td>\n",
       "      <td>positive</td>\n",
       "      <td>positivo</td>\n",
       "      <td>1</td>\n",
       "    </tr>\n",
       "    <tr>\n",
       "      <th>3</th>\n",
       "      <td>Basically there's a family where a little boy ...</td>\n",
       "      <td>Básicamente, hay una familia donde un niño peq...</td>\n",
       "      <td>negative</td>\n",
       "      <td>negativo</td>\n",
       "      <td>0</td>\n",
       "    </tr>\n",
       "    <tr>\n",
       "      <th>4</th>\n",
       "      <td>Petter Mattei's \"Love in the Time of Money\" is...</td>\n",
       "      <td>El \"amor en el tiempo\" de Petter Mattei es una...</td>\n",
       "      <td>positive</td>\n",
       "      <td>positivo</td>\n",
       "      <td>1</td>\n",
       "    </tr>\n",
       "  </tbody>\n",
       "</table>\n",
       "</div>"
      ],
      "text/plain": [
       "                                           review_en  \\\n",
       "0  One of the other reviewers has mentioned that ...   \n",
       "1  A wonderful little production. The filming tec...   \n",
       "2  I thought this was a wonderful way to spend ti...   \n",
       "3  Basically there's a family where a little boy ...   \n",
       "4  Petter Mattei's \"Love in the Time of Money\" is...   \n",
       "\n",
       "                                           review_es sentiment sentimiento  \\\n",
       "0  Uno de los otros críticos ha mencionado que de...  positive    positivo   \n",
       "1  Una pequeña pequeña producción.La técnica de f...  positive    positivo   \n",
       "2  Pensé que esta era una manera maravillosa de p...  positive    positivo   \n",
       "3  Básicamente, hay una familia donde un niño peq...  negative    negativo   \n",
       "4  El \"amor en el tiempo\" de Petter Mattei es una...  positive    positivo   \n",
       "\n",
       "   target  \n",
       "0       1  \n",
       "1       1  \n",
       "2       1  \n",
       "3       0  \n",
       "4       1  "
      ]
     },
     "execution_count": 3,
     "metadata": {},
     "output_type": "execute_result"
    }
   ],
   "source": [
    "# convirtiendo a valores numericos la variable objetivo\n",
    "df[\"target\"] = df[\"sentimiento\"].map({\"positivo\": 1, \"negativo\": 0})\n",
    "df.head()"
   ]
  },
  {
   "cell_type": "markdown",
   "id": "818cabdc-8f33-4ac3-9cd9-c4cca2de893e",
   "metadata": {},
   "source": [
    "# Train Test Split"
   ]
  },
  {
   "cell_type": "code",
   "execution_count": 4,
   "id": "7169eb24-18d1-4133-8e67-02b53e0cf52d",
   "metadata": {},
   "outputs": [],
   "source": [
    "df_train, df_test = train_test_split(df)"
   ]
  },
  {
   "cell_type": "code",
   "execution_count": 5,
   "id": "de981c07-fe1e-4356-8c7e-08b7fc3b5350",
   "metadata": {},
   "outputs": [],
   "source": [
    "vectorizer = TfidfVectorizer(max_features=2000)"
   ]
  },
  {
   "cell_type": "code",
   "execution_count": 6,
   "id": "75115658-6a3a-4700-832d-6a2868dd4b4e",
   "metadata": {},
   "outputs": [],
   "source": [
    "X_train = vectorizer.fit_transform(df_train[\"review_es\"])"
   ]
  },
  {
   "cell_type": "code",
   "execution_count": 7,
   "id": "6ac66db7-1588-4e7f-ad00-8b29a5a73414",
   "metadata": {},
   "outputs": [],
   "source": [
    "X_test = vectorizer.transform(df_test[\"review_es\"])"
   ]
  },
  {
   "cell_type": "code",
   "execution_count": 8,
   "id": "fae47fec-5392-4a50-b901-231972a6bddf",
   "metadata": {},
   "outputs": [],
   "source": [
    "Y_train = df_train[\"target\"]\n",
    "Y_test = df_test[\"target\"]"
   ]
  },
  {
   "cell_type": "markdown",
   "id": "950dcc9a-7bbd-45ff-b235-e95c5bc5aeff",
   "metadata": {},
   "source": [
    "# Regresión logística"
   ]
  },
  {
   "cell_type": "code",
   "execution_count": 9,
   "id": "a9903fbb-1f9d-4eac-8128-b03abec2a863",
   "metadata": {},
   "outputs": [
    {
     "name": "stdout",
     "output_type": "stream",
     "text": [
      "Train acc: 0.87784\n",
      "Test acc: 0.86752\n"
     ]
    }
   ],
   "source": [
    "lg = LogisticRegression(max_iter=1000)\n",
    "lg.fit(X_train, Y_train)\n",
    "print(\"Train acc:\", lg.score(X_train, Y_train))\n",
    "print(\"Test acc:\", lg.score(X_test, Y_test))"
   ]
  },
  {
   "cell_type": "code",
   "execution_count": 10,
   "id": "a04d1110-fbcf-4730-9791-5b976c49f370",
   "metadata": {},
   "outputs": [],
   "source": [
    "pred_train = lg.predict(X_train)\n",
    "pred_test = lg.predict(X_test)"
   ]
  },
  {
   "cell_type": "code",
   "execution_count": 11,
   "id": "7b536bd2-7fce-4859-8415-56fc8833f5d1",
   "metadata": {},
   "outputs": [
    {
     "data": {
      "image/png": "[encoded data removed]",
      "text/plain": [
       "<Figure size 640x480 with 2 Axes>"
      ]
     },
     "metadata": {},
     "output_type": "display_data"
    }
   ],
   "source": [
    "# cm train\n",
    "cm = confusion_matrix(Y_train, pred_train, normalize=\"true\")\n",
    "classes = [\"negativo\", \"positivo\"]\n",
    "df_cm = pd.DataFrame(cm, index=classes, columns=classes)\n",
    "ax = sns.heatmap(df_cm, annot=True, fmt=\"g\")\n",
    "ax.set_xlabel(\"Predicción\")\n",
    "ax.set_ylabel(\"Real\")\n",
    "plt.show()"
   ]
  },
  {
   "cell_type": "code",
   "execution_count": 12,
   "id": "fdb6c19f-bb0a-4fc6-8f52-d0d5e5f48be5",
   "metadata": {},
   "outputs": [
    {
     "data": {
      "image/png": "[encoded data removed]",
      "text/plain": [
       "<Figure size 640x480 with 2 Axes>"
      ]
     },
     "metadata": {},
     "output_type": "display_data"
    }
   ],
   "source": [
    "# cm test\n",
    "cm = confusion_matrix(Y_test, pred_test, normalize=\"true\")\n",
    "classes = [\"negativo\", \"positivo\"]\n",
    "df_cm = pd.DataFrame(cm, index=classes, columns=classes)\n",
    "ax = sns.heatmap(df_cm, annot=True, fmt=\"g\")\n",
    "ax.set_xlabel(\"Predicción\")\n",
    "ax.set_ylabel(\"Real\")\n",
    "plt.show()"
   ]
  },
  {
   "cell_type": "markdown",
   "id": "08c40e6d-78a5-48b9-ab74-1f2fb7c619cf",
   "metadata": {},
   "source": [
    "# Sistema de predicción"
   ]
  },
  {
   "cell_type": "code",
   "execution_count": 13,
   "id": "b41413e6-97a4-468a-b0ce-16151326bd6f",
   "metadata": {},
   "outputs": [],
   "source": [
    "words = vectorizer.vocabulary_"
   ]
  },
  {
   "cell_type": "code",
   "execution_count": 14,
   "id": "eb0b052c-8bfb-4d73-8496-a7710a4dd709",
   "metadata": {},
   "outputs": [
    {
     "name": "stdout",
     "output_type": "stream",
     "text": [
      "Palabras más positivas:\n",
      "increíble 4.1332879560842155\n",
      "definitivamente 4.496345703031417\n",
      "gran 4.440851464064794\n",
      "excelente 7.723224520327482\n",
      "perfecto 4.143480062403673\n",
      "excelentes 4.0050636561890345\n",
      "disfruté 4.28891733916127\n",
      "encantó 4.706351097613561\n",
      "mejores 4.318691429120273\n",
      "maravillosa 4.099255855542779\n",
      "hoy 4.138319101469715\n"
     ]
    }
   ],
   "source": [
    "corte = 4\n",
    "\n",
    "print(\"Palabras más positivas:\")\n",
    "for word, index in words.items():\n",
    "    weight = lg.coef_[0][index]\n",
    "    if weight > corte:\n",
    "        print(word, weight)"
   ]
  },
  {
   "cell_type": "code",
   "execution_count": 15,
   "id": "15f6fec2-8938-4deb-811b-1c0d5b7aa0e9",
   "metadata": {},
   "outputs": [
    {
     "name": "stdout",
     "output_type": "stream",
     "text": [
      "Palabras más negativas:\n",
      "no -4.347912951266907\n",
      "minutos -4.078023616650131\n",
      "aburrido -6.718058397790996\n",
      "malo -4.035676038811411\n",
      "horrible -9.442512751588202\n",
      "peor -10.291141839834285\n",
      "mala -7.767923613931268\n",
      "basura -4.972451957679753\n",
      "mal -5.680228851177859\n",
      "terrible -7.346879964976751\n",
      "decepción -4.9560448381621915\n",
      "desafortunadamente -4.481137164842231\n",
      "peores -7.321156871115732\n",
      "decepcionante -4.627852564144827\n",
      "pobre -5.274231170694866\n",
      "aburrida -6.389304399722567\n"
     ]
    }
   ],
   "source": [
    "print(\"Palabras más negativas:\")\n",
    "for word, index in words.items():\n",
    "    weight = lg.coef_[0][index]\n",
    "    if weight < -corte:\n",
    "        print(word, weight)"
   ]
  },
  {
   "cell_type": "code",
   "execution_count": 16,
   "id": "0417b607-836c-464a-9e45-a28ba4f9e9c7",
   "metadata": {},
   "outputs": [],
   "source": [
    "def prediccion_sentimiento(texto):\n",
    "    # Transformar la entrada con el vectorizador\n",
    "    x = vectorizer.transform([texto])\n",
    "    # Predecir con el modelo\n",
    "    text_pred = lg.predict(x)\n",
    "    # Obtener las clases del modelo\n",
    "    clases = lg.classes_\n",
    "\n",
    "    if clases[text_pred[0]] == 0:\n",
    "        print(f'El Comentario: \"{texto}\" es: Negativo')\n",
    "    else:\n",
    "        print(f'El Comentario: \"{texto}\" es: Positivo')"
   ]
  },
  {
   "cell_type": "code",
   "execution_count": 17,
   "id": "7740f5fd-9e3c-489b-ada2-4243c29dc1e3",
   "metadata": {},
   "outputs": [
    {
     "name": "stdout",
     "output_type": "stream",
     "text": [
      "El Comentario: \"estuvo muy entretenida la película\" es: Positivo\n"
     ]
    }
   ],
   "source": [
    "comentario = \"estuvo muy entretenida la película\"\n",
    "prediccion_sentimiento(comentario)"
   ]
  },
  {
   "cell_type": "code",
   "execution_count": 18,
   "id": "2a0f1b53-134b-4c0c-b0df-9ff069c6cd22",
   "metadata": {},
   "outputs": [
    {
     "name": "stdout",
     "output_type": "stream",
     "text": [
      "El Comentario: \"estuvo terrible la película, me aburrí mucho\" es: Negativo\n"
     ]
    }
   ],
   "source": [
    "comentario = \"estuvo terrible la película, me aburrí mucho\"\n",
    "prediccion_sentimiento(comentario)"
   ]
  },
  {
   "cell_type": "code",
   "execution_count": 20,
   "id": "2fb21083-e9ba-4187-b377-ffb9b50265f3",
   "metadata": {},
   "outputs": [
    {
     "name": "stdout",
     "output_type": "stream",
     "text": [
      "El Comentario: \"No la recomiendo\" es: Positivo\n"
     ]
    }
   ],
   "source": [
    "comentario = \"No la recomiendo\" # deficiencias del modelo\n",
    "prediccion_sentimiento(comentario)"
   ]
  },
  {
   "cell_type": "markdown",
   "id": "86c0bfb5-f528-4b81-b329-dc6b307cf329",
   "metadata": {},
   "source": [
    "Se debe ajustar el modelo ya que debido a su naturaleza, tiene algunos sesgos que pueden manifestarse en predicciones erróneas"
   ]
  }
 ],
 "metadata": {
  "kernelspec": {
   "display_name": "Python 3 (ipykernel)",
   "language": "python",
   "name": "python3"
  },
  "language_info": {
   "codemirror_mode": {
    "name": "ipython",
    "version": 3
   },
   "file_extension": ".py",
   "mimetype": "text/x-python",
   "name": "python",
   "nbconvert_exporter": "python",
   "pygments_lexer": "ipython3",
   "version": "3.11.7"
  }
 },
 "nbformat": 4,
 "nbformat_minor": 5
}
