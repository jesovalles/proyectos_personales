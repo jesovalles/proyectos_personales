{
 "cells": [
  {
   "cell_type": "code",
   "execution_count": 1,
   "id": "e1b4c4bd-2a0d-4a32-8ad9-c231a32cd380",
   "metadata": {},
   "outputs": [
    {
     "name": "stdout",
     "output_type": "stream",
     "text": [
      "WARNING:tensorflow:From C:\\Users\\Alejandro\\anaconda3\\Lib\\site-packages\\tf_keras\\src\\losses.py:2976: The name tf.losses.sparse_softmax_cross_entropy is deprecated. Please use tf.compat.v1.losses.sparse_softmax_cross_entropy instead.\n",
      "\n"
     ]
    }
   ],
   "source": [
    "import threading\n",
    "import cv2\n",
    "from deepface import DeepFace"
   ]
  },
  {
   "cell_type": "code",
   "execution_count": null,
   "id": "dd38783d-a046-4d29-879a-36edd0c92758",
   "metadata": {},
   "outputs": [],
   "source": [
    "cap = cv2.VideoCapture(0, cv2.CAP_DSHOW)\n",
    "cap.set(cv2.CAP_PROP_FRAME_WIDTH, 640)\n",
    "cap.set(cv2.CAP_PROP_FRAME_HEIGHT, 480)\n",
    "\n",
    "counter = 0\n",
    "\n",
    "reference_img = cv2.imread(\"foto.jpeg\")\n",
    "\n",
    "face_match = False\n",
    "\n",
    "\n",
    "def check_face(frame):\n",
    "    global face_match\n",
    "    try:\n",
    "        if DeepFace.verify(frame, reference_img.copy())['verified']:\n",
    "            face_match = True\n",
    "        else:\n",
    "            face_match = False\n",
    "    except ValueError:\n",
    "        face_match = False\n",
    "\n",
    "\n",
    "while True:\n",
    "    ret, frame = cap.read()\n",
    "\n",
    "    if ret:\n",
    "        if counter % 30 == 0:\n",
    "            try:\n",
    "                threading.Thread(target=check_face, args=(frame.copy(),)).start()\n",
    "            except ValueError:\n",
    "                pass\n",
    "        counter += 1\n",
    "        if face_match:\n",
    "            cv2.putText(frame, \"MATCH!\", (20, 450), cv2.FONT_HERSHEY_SIMPLEX, 2, (0, 255, 0), 3)\n",
    "        else:\n",
    "            cv2.putText(frame, \"NO MATCH!\", (20, 450), cv2.FONT_HERSHEY_SIMPLEX, 2, (0, 0, 255), 3)\n",
    "\n",
    "        cv2.imshow('video', frame)\n",
    "\n",
    "    key = cv2.waitKey(1)\n",
    "    if key == ord('q'):\n",
    "        break\n",
    "\n",
    "cv2.destroyAllWindows()"
   ]
  }
 ],
 "metadata": {
  "kernelspec": {
   "display_name": "Python 3 (ipykernel)",
   "language": "python",
   "name": "python3"
  },
  "language_info": {
   "codemirror_mode": {
    "name": "ipython",
    "version": 3
   },
   "file_extension": ".py",
   "mimetype": "text/x-python",
   "name": "python",
   "nbconvert_exporter": "python",
   "pygments_lexer": "ipython3",
   "version": "3.11.7"
  }
 },
 "nbformat": 4,
 "nbformat_minor": 5
}
