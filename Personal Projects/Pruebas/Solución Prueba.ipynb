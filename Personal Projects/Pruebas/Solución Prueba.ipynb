{
 "cells": [
  {
   "cell_type": "markdown",
   "id": "4028be54-af79-4fe4-ab18-b176b8fe1332",
   "metadata": {},
   "source": [
    "# Planteamiento de la prueba técnica"
   ]
  },
  {
   "cell_type": "markdown",
   "id": "3f47d274-7575-4cd3-8956-bca191c09d3f",
   "metadata": {},
   "source": [
    "- Partiendo de la base de datos transaccional realice la carga y el respectivo preprocesamiento de los datos, encuentre patrones o comportamientos que sean relevantes para identificar el hábito transaccional de los clientes y presente un análisis descriptivo de esta información.\n",
    "-  Luego identifique los grupos para cada estrategia (descuento) considerando el tipo de uso (Compra y avances), justificar la metodología que le permitió asignar cada uno de los clientes en los diferentes grupos y dimensionar la cantidad de clientes para cada estrategia."
   ]
  },
  {
   "cell_type": "markdown",
   "id": "2599e9b8-31a2-450d-8499-d0e671b03f23",
   "metadata": {},
   "source": [
    "## Consideraciones"
   ]
  },
  {
   "cell_type": "markdown",
   "id": "b097717a-e2fc-417e-9456-660d579f47c4",
   "metadata": {},
   "source": [
    "- El equipo de mercadeo tiene una estrategia y desea incentivar la compra en estos clientes, la estrategia tendrá descuentos dirigidos de 5%, 20%, 25% en su próxima compra y tenga en cuenta que no todos los clientes necesitan un incentivo. Nos dicen desde el equipo de mercadeo que debemos priorizar la magnitud de los descuentos en los grupos que tienen menos uso en nuestras tarjetas, tanto en compras, como en avances.\n",
    "- Los clientes que son muy afines a realizar avances pero poco afines a realizar compras, necesitamos incentivarlos a realizar compras.\n",
    "- Se considera que los clientes con más afinidad a nuestro producto, son clientes con mayor número de compras, mayor facturación y al menos una utilización hace pocos días."
   ]
  },
  {
   "cell_type": "markdown",
   "id": "17879c74-5f94-4393-8aed-95ceac4d12f5",
   "metadata": {},
   "source": [
    "# Solución de la prueba técnica"
   ]
  },
  {
   "cell_type": "markdown",
   "id": "2d946c51-5a39-47a2-93f8-010f57c9cfe7",
   "metadata": {},
   "source": [
    "La solución de esta prueba se realizará en el entorno de Anaconda usando Python. Se dejarán comentarios en el código para una mejor lectura."
   ]
  },
  {
   "cell_type": "code",
   "execution_count": 1,
   "id": "2bfaa003-bc4a-4f98-8ed0-086e226190b3",
   "metadata": {},
   "outputs": [],
   "source": [
    "# Importando librerías a usar\n",
    "import pandas as pd\n",
    "import numpy as np\n",
    "import matplotlib.pyplot as plt\n",
    "import seaborn as sns\n",
    "import warnings\n",
    "\n",
    "warnings.filterwarnings('ignore')"
   ]
  },
  {
   "cell_type": "markdown",
   "id": "139a1340-a62f-461e-b3a9-a6c88974b8c7",
   "metadata": {},
   "source": [
    "## Cargando los dataset"
   ]
  },
  {
   "cell_type": "code",
   "execution_count": 2,
   "id": "efd7c5fc-8a26-4012-83f7-9916f945c1a0",
   "metadata": {},
   "outputs": [
    {
     "data": {
      "text/html": [
       "<div>\n",
       "<style scoped>\n",
       "    .dataframe tbody tr th:only-of-type {\n",
       "        vertical-align: middle;\n",
       "    }\n",
       "\n",
       "    .dataframe tbody tr th {\n",
       "        vertical-align: top;\n",
       "    }\n",
       "\n",
       "    .dataframe thead th {\n",
       "        text-align: right;\n",
       "    }\n",
       "</style>\n",
       "<table border=\"1\" class=\"dataframe\">\n",
       "  <thead>\n",
       "    <tr style=\"text-align: right;\">\n",
       "      <th></th>\n",
       "      <th>Id_cliente</th>\n",
       "      <th>fecha_efectiva</th>\n",
       "      <th>Id_tx</th>\n",
       "    </tr>\n",
       "  </thead>\n",
       "  <tbody>\n",
       "    <tr>\n",
       "      <th>0</th>\n",
       "      <td>136</td>\n",
       "      <td>20210303.0</td>\n",
       "      <td>6869</td>\n",
       "    </tr>\n",
       "    <tr>\n",
       "      <th>1</th>\n",
       "      <td>116</td>\n",
       "      <td>20201129.0</td>\n",
       "      <td>4355</td>\n",
       "    </tr>\n",
       "    <tr>\n",
       "      <th>2</th>\n",
       "      <td>119</td>\n",
       "      <td>20200929.0</td>\n",
       "      <td>5416</td>\n",
       "    </tr>\n",
       "    <tr>\n",
       "      <th>3</th>\n",
       "      <td>121</td>\n",
       "      <td>20210222.0</td>\n",
       "      <td>3249</td>\n",
       "    </tr>\n",
       "    <tr>\n",
       "      <th>4</th>\n",
       "      <td>152</td>\n",
       "      <td>20200930.0</td>\n",
       "      <td>2774</td>\n",
       "    </tr>\n",
       "  </tbody>\n",
       "</table>\n",
       "</div>"
      ],
      "text/plain": [
       "   Id_cliente  fecha_efectiva  Id_tx\n",
       "0         136      20210303.0   6869\n",
       "1         116      20201129.0   4355\n",
       "2         119      20200929.0   5416\n",
       "3         121      20210222.0   3249\n",
       "4         152      20200930.0   2774"
      ]
     },
     "execution_count": 2,
     "metadata": {},
     "output_type": "execute_result"
    }
   ],
   "source": [
    "# Cargando la tabla Detalle_cliente a un dataframe llamado df_1\n",
    "df_1 = pd.read_excel('Prueba proceso de selección Analista de Datos - bases.xlsx')\n",
    "df_1.head()"
   ]
  },
  {
   "cell_type": "code",
   "execution_count": 3,
   "id": "f0bef1f8-260b-4c56-88cb-4f89e423d149",
   "metadata": {},
   "outputs": [
    {
     "data": {
      "text/html": [
       "<div>\n",
       "<style scoped>\n",
       "    .dataframe tbody tr th:only-of-type {\n",
       "        vertical-align: middle;\n",
       "    }\n",
       "\n",
       "    .dataframe tbody tr th {\n",
       "        vertical-align: top;\n",
       "    }\n",
       "\n",
       "    .dataframe thead th {\n",
       "        text-align: right;\n",
       "    }\n",
       "</style>\n",
       "<table border=\"1\" class=\"dataframe\">\n",
       "  <thead>\n",
       "    <tr style=\"text-align: right;\">\n",
       "      <th></th>\n",
       "      <th>Id_tx</th>\n",
       "      <th>clase</th>\n",
       "      <th>valor</th>\n",
       "    </tr>\n",
       "  </thead>\n",
       "  <tbody>\n",
       "    <tr>\n",
       "      <th>0</th>\n",
       "      <td>6869</td>\n",
       "      <td>COMPRA</td>\n",
       "      <td>3495240</td>\n",
       "    </tr>\n",
       "    <tr>\n",
       "      <th>1</th>\n",
       "      <td>4355</td>\n",
       "      <td>COMPRA</td>\n",
       "      <td>475800</td>\n",
       "    </tr>\n",
       "    <tr>\n",
       "      <th>2</th>\n",
       "      <td>5416</td>\n",
       "      <td>COMPRA</td>\n",
       "      <td>115775</td>\n",
       "    </tr>\n",
       "    <tr>\n",
       "      <th>3</th>\n",
       "      <td>3249</td>\n",
       "      <td>COMPRA</td>\n",
       "      <td>1579898</td>\n",
       "    </tr>\n",
       "    <tr>\n",
       "      <th>4</th>\n",
       "      <td>2774</td>\n",
       "      <td>COMPRA</td>\n",
       "      <td>84077</td>\n",
       "    </tr>\n",
       "  </tbody>\n",
       "</table>\n",
       "</div>"
      ],
      "text/plain": [
       "   Id_tx   clase    valor\n",
       "0   6869  COMPRA  3495240\n",
       "1   4355  COMPRA   475800\n",
       "2   5416  COMPRA   115775\n",
       "3   3249  COMPRA  1579898\n",
       "4   2774  COMPRA    84077"
      ]
     },
     "execution_count": 3,
     "metadata": {},
     "output_type": "execute_result"
    }
   ],
   "source": [
    "# Cargando la tabla Detalle_cliente a un dataframe llamado df_2\n",
    "df_2 = pd.read_excel('Prueba proceso de selección Analista de Datos - bases.xlsx', sheet_name='Detalle_tx')\n",
    "df_2.head()"
   ]
  },
  {
   "cell_type": "code",
   "execution_count": 4,
   "id": "6c624643-b43d-4083-829a-299c1f24e6a0",
   "metadata": {},
   "outputs": [
    {
     "data": {
      "text/html": [
       "<div>\n",
       "<style scoped>\n",
       "    .dataframe tbody tr th:only-of-type {\n",
       "        vertical-align: middle;\n",
       "    }\n",
       "\n",
       "    .dataframe tbody tr th {\n",
       "        vertical-align: top;\n",
       "    }\n",
       "\n",
       "    .dataframe thead th {\n",
       "        text-align: right;\n",
       "    }\n",
       "</style>\n",
       "<table border=\"1\" class=\"dataframe\">\n",
       "  <thead>\n",
       "    <tr style=\"text-align: right;\">\n",
       "      <th></th>\n",
       "      <th>Id_cliente</th>\n",
       "      <th>fecha_efectiva</th>\n",
       "      <th>Id_tx</th>\n",
       "      <th>clase</th>\n",
       "      <th>valor</th>\n",
       "    </tr>\n",
       "  </thead>\n",
       "  <tbody>\n",
       "    <tr>\n",
       "      <th>0</th>\n",
       "      <td>136</td>\n",
       "      <td>20210303.0</td>\n",
       "      <td>6869</td>\n",
       "      <td>COMPRA</td>\n",
       "      <td>3495240</td>\n",
       "    </tr>\n",
       "    <tr>\n",
       "      <th>1</th>\n",
       "      <td>116</td>\n",
       "      <td>20201129.0</td>\n",
       "      <td>4355</td>\n",
       "      <td>COMPRA</td>\n",
       "      <td>475800</td>\n",
       "    </tr>\n",
       "    <tr>\n",
       "      <th>2</th>\n",
       "      <td>116</td>\n",
       "      <td>20201129.0</td>\n",
       "      <td>4355</td>\n",
       "      <td>COMPRA</td>\n",
       "      <td>350503.62</td>\n",
       "    </tr>\n",
       "    <tr>\n",
       "      <th>3</th>\n",
       "      <td>124</td>\n",
       "      <td>20210120.0</td>\n",
       "      <td>4355</td>\n",
       "      <td>COMPRA</td>\n",
       "      <td>475800</td>\n",
       "    </tr>\n",
       "    <tr>\n",
       "      <th>4</th>\n",
       "      <td>124</td>\n",
       "      <td>20210120.0</td>\n",
       "      <td>4355</td>\n",
       "      <td>COMPRA</td>\n",
       "      <td>350503.62</td>\n",
       "    </tr>\n",
       "  </tbody>\n",
       "</table>\n",
       "</div>"
      ],
      "text/plain": [
       "   Id_cliente  fecha_efectiva  Id_tx   clase      valor\n",
       "0         136      20210303.0   6869  COMPRA    3495240\n",
       "1         116      20201129.0   4355  COMPRA     475800\n",
       "2         116      20201129.0   4355  COMPRA  350503.62\n",
       "3         124      20210120.0   4355  COMPRA     475800\n",
       "4         124      20210120.0   4355  COMPRA  350503.62"
      ]
     },
     "execution_count": 4,
     "metadata": {},
     "output_type": "execute_result"
    }
   ],
   "source": [
    "# Combinando df_1 y df_2 para crear un dataframe llamado df\n",
    "df = pd.merge(df_1, df_2, left_on='Id_tx', right_on='Id_tx', how='inner')\n",
    "df.head()"
   ]
  },
  {
   "cell_type": "markdown",
   "id": "46065dd7-f734-466c-b506-5001ce5ea94f",
   "metadata": {},
   "source": [
    "## Transformación y limpieza del dataframe"
   ]
  },
  {
   "cell_type": "markdown",
   "id": "65e7ad1e-855d-411b-a19b-5a92c58a4147",
   "metadata": {},
   "source": [
    "Antes de realizar cualquier análisis debemos asegurarnos que la calidad de los datos sea adecuada ya que estos pueden hacer que realicemos mediciones erróneas y con sesgos."
   ]
  },
  {
   "cell_type": "code",
   "execution_count": 5,
   "id": "6ddd8ce6-3252-4af1-85f7-fd628bea7975",
   "metadata": {},
   "outputs": [
    {
     "name": "stdout",
     "output_type": "stream",
     "text": [
      "<class 'pandas.core.frame.DataFrame'>\n",
      "RangeIndex: 3336 entries, 0 to 3335\n",
      "Data columns (total 5 columns):\n",
      " #   Column          Non-Null Count  Dtype  \n",
      "---  ------          --------------  -----  \n",
      " 0   Id_cliente      3336 non-null   int64  \n",
      " 1   fecha_efectiva  3318 non-null   float64\n",
      " 2   Id_tx           3336 non-null   int64  \n",
      " 3   clase           3331 non-null   object \n",
      " 4   valor           3304 non-null   object \n",
      "dtypes: float64(1), int64(2), object(2)\n",
      "memory usage: 130.4+ KB\n"
     ]
    }
   ],
   "source": [
    "# visualizando información del dataset\n",
    "df.info()"
   ]
  },
  {
   "cell_type": "markdown",
   "id": "32017f2b-f88d-46c4-bbb8-8ea93c9ca0fa",
   "metadata": {},
   "source": [
    "Podemos evidenciar que el dataframe contiene 3336 filas y 5 columnas, además podemos notar que existen valores nulos en las columnas fecha_efectiva, clase y valor, estos valores los eliminaremos para terminos de esta prueba ya que usar la moda, media u otra métrica, nos alterará nuestro análisis. En el mismo orden de ideas, la columna fecha_efectiva es de tipo float64, lo cual no es adecuado para una columna de fecha, también se hará un procesamiento sobre esa columna."
   ]
  },
  {
   "cell_type": "code",
   "execution_count": 6,
   "id": "1aa347b3-fb24-46f7-b65d-48bcc79e78d7",
   "metadata": {},
   "outputs": [],
   "source": [
    "# Eliminando filas con valores nulos\n",
    "df.dropna(subset=['fecha_efectiva'], inplace=True)\n",
    "df.dropna(subset=['clase'], inplace=True)\n",
    "df.dropna(subset=['valor'], inplace=True)"
   ]
  },
  {
   "cell_type": "markdown",
   "id": "568ae879-ab38-490c-9027-0a4b32b8213d",
   "metadata": {},
   "source": [
    "A la hora de seguir realizando limpieza y transformación, notamos que en la columna valor existen registros tipeados como 41f30, 3_8383, 4000'00. Estos registros nos generaran problemas a la hora de querer convertir la columna valor a float, por lo tanto los eliminaremos tambien. Cabe destacar que en la columna fecha_efectiva, también existen errores de tipeo, de igual forma se omitiran estos registros."
   ]
  },
  {
   "cell_type": "code",
   "execution_count": 7,
   "id": "cbb81658-1a28-40f7-a0c3-816736cec0b2",
   "metadata": {},
   "outputs": [],
   "source": [
    "# Eliminando valores atípicos\n",
    "df = df[df['valor'] != '41f30']\n",
    "df = df[df['valor'] != '3_8383']\n",
    "df = df[df['valor'] != \"4000'00\"]\n",
    "df = df[df['fecha_efectiva'] != \"202012\"]\n",
    "df = df[df['fecha_efectiva'] != \"202001\"]\n",
    "df = df[df['fecha_efectiva'] != \"2021\"]\n",
    "df = df[df['fecha_efectiva'] != \"2020\"]"
   ]
  },
  {
   "cell_type": "code",
   "execution_count": 8,
   "id": "5da4c6de-ee35-4216-811a-ee912b838709",
   "metadata": {},
   "outputs": [],
   "source": [
    "# Cambiando el tipo de dato de la columna valor a tipo float\n",
    "df[\"valor\"] = df[\"valor\"].astype('float')\n",
    "\n",
    "# Cambiando el tipo de dato de las columna Id_cliente y Id_tx a tipo string\n",
    "df[\"Id_cliente\"] = df[\"Id_cliente\"].astype('str')\n",
    "df[\"Id_tx\"] = df[\"Id_tx\"].astype('str')\n",
    "\n",
    "# Convertir la columna fecha a string con el mismo formato\n",
    "df['fecha_efectiva'] = pd.to_datetime(df['fecha_efectiva'], errors='coerce', format='%Y%m%d', exact=False).dt.strftime('%Y%m%d')\n",
    "\n",
    "df.dropna(subset=['fecha_efectiva'], inplace=True) # validación de valores nulos"
   ]
  },
  {
   "cell_type": "markdown",
   "id": "ab27e746-e222-4d36-97e8-0080850144b0",
   "metadata": {},
   "source": [
    "Para el caso de este ejercicio omitiremos la clase SEGURO, por lo que eliminaremos dichos registros."
   ]
  },
  {
   "cell_type": "code",
   "execution_count": 9,
   "id": "189a4c0a-b0c7-4ba6-bb78-bbdc886f706b",
   "metadata": {},
   "outputs": [
    {
     "data": {
      "text/html": [
       "<div>\n",
       "<style scoped>\n",
       "    .dataframe tbody tr th:only-of-type {\n",
       "        vertical-align: middle;\n",
       "    }\n",
       "\n",
       "    .dataframe tbody tr th {\n",
       "        vertical-align: top;\n",
       "    }\n",
       "\n",
       "    .dataframe thead th {\n",
       "        text-align: right;\n",
       "    }\n",
       "</style>\n",
       "<table border=\"1\" class=\"dataframe\">\n",
       "  <thead>\n",
       "    <tr style=\"text-align: right;\">\n",
       "      <th></th>\n",
       "      <th>Id_cliente</th>\n",
       "      <th>fecha_efectiva</th>\n",
       "      <th>Id_tx</th>\n",
       "      <th>clase</th>\n",
       "      <th>valor</th>\n",
       "    </tr>\n",
       "  </thead>\n",
       "  <tbody>\n",
       "    <tr>\n",
       "      <th>0</th>\n",
       "      <td>136</td>\n",
       "      <td>20210303</td>\n",
       "      <td>6869</td>\n",
       "      <td>COMPRA</td>\n",
       "      <td>3495240.00</td>\n",
       "    </tr>\n",
       "    <tr>\n",
       "      <th>1</th>\n",
       "      <td>116</td>\n",
       "      <td>20201129</td>\n",
       "      <td>4355</td>\n",
       "      <td>COMPRA</td>\n",
       "      <td>475800.00</td>\n",
       "    </tr>\n",
       "    <tr>\n",
       "      <th>2</th>\n",
       "      <td>116</td>\n",
       "      <td>20201129</td>\n",
       "      <td>4355</td>\n",
       "      <td>COMPRA</td>\n",
       "      <td>350503.62</td>\n",
       "    </tr>\n",
       "    <tr>\n",
       "      <th>3</th>\n",
       "      <td>124</td>\n",
       "      <td>20210120</td>\n",
       "      <td>4355</td>\n",
       "      <td>COMPRA</td>\n",
       "      <td>475800.00</td>\n",
       "    </tr>\n",
       "    <tr>\n",
       "      <th>4</th>\n",
       "      <td>124</td>\n",
       "      <td>20210120</td>\n",
       "      <td>4355</td>\n",
       "      <td>COMPRA</td>\n",
       "      <td>350503.62</td>\n",
       "    </tr>\n",
       "  </tbody>\n",
       "</table>\n",
       "</div>"
      ],
      "text/plain": [
       "  Id_cliente fecha_efectiva Id_tx   clase       valor\n",
       "0        136       20210303  6869  COMPRA  3495240.00\n",
       "1        116       20201129  4355  COMPRA   475800.00\n",
       "2        116       20201129  4355  COMPRA   350503.62\n",
       "3        124       20210120  4355  COMPRA   475800.00\n",
       "4        124       20210120  4355  COMPRA   350503.62"
      ]
     },
     "execution_count": 9,
     "metadata": {},
     "output_type": "execute_result"
    }
   ],
   "source": [
    "# Eliminar las filas con la columna clase que hagan referencia a SEGURO\n",
    "df = df[df['clase'] != 'SEGURO']\n",
    "df.head()"
   ]
  },
  {
   "cell_type": "markdown",
   "id": "7289494d-9e15-4eeb-97b5-73177cf9205b",
   "metadata": {},
   "source": [
    "Logramos mantener la estructura del dataframe sin perder registros lo cual es bueno, ahora al tener el dataframe listo para ser analizado, haremos un análisis previo de las variables categóricas y la variable númerica."
   ]
  },
  {
   "cell_type": "markdown",
   "id": "850b5f17-0256-4fd6-a499-89eb3542768b",
   "metadata": {},
   "source": [
    "## Análisis introductorio"
   ]
  },
  {
   "cell_type": "code",
   "execution_count": 10,
   "id": "3c2d3226-8d94-45a7-87d5-a53fd3ff31de",
   "metadata": {},
   "outputs": [
    {
     "data": {
      "text/html": [
       "<div>\n",
       "<style scoped>\n",
       "    .dataframe tbody tr th:only-of-type {\n",
       "        vertical-align: middle;\n",
       "    }\n",
       "\n",
       "    .dataframe tbody tr th {\n",
       "        vertical-align: top;\n",
       "    }\n",
       "\n",
       "    .dataframe thead th {\n",
       "        text-align: right;\n",
       "    }\n",
       "</style>\n",
       "<table border=\"1\" class=\"dataframe\">\n",
       "  <thead>\n",
       "    <tr style=\"text-align: right;\">\n",
       "      <th></th>\n",
       "      <th>count</th>\n",
       "      <th>unique</th>\n",
       "      <th>top</th>\n",
       "      <th>freq</th>\n",
       "    </tr>\n",
       "  </thead>\n",
       "  <tbody>\n",
       "    <tr>\n",
       "      <th>Id_cliente</th>\n",
       "      <td>3266</td>\n",
       "      <td>70</td>\n",
       "      <td>125</td>\n",
       "      <td>137</td>\n",
       "    </tr>\n",
       "    <tr>\n",
       "      <th>fecha_efectiva</th>\n",
       "      <td>3266</td>\n",
       "      <td>190</td>\n",
       "      <td>20201121</td>\n",
       "      <td>51</td>\n",
       "    </tr>\n",
       "    <tr>\n",
       "      <th>Id_tx</th>\n",
       "      <td>3266</td>\n",
       "      <td>2086</td>\n",
       "      <td>6276</td>\n",
       "      <td>16</td>\n",
       "    </tr>\n",
       "    <tr>\n",
       "      <th>clase</th>\n",
       "      <td>3266</td>\n",
       "      <td>2</td>\n",
       "      <td>COMPRA</td>\n",
       "      <td>2543</td>\n",
       "    </tr>\n",
       "  </tbody>\n",
       "</table>\n",
       "</div>"
      ],
      "text/plain": [
       "               count unique       top  freq\n",
       "Id_cliente      3266     70       125   137\n",
       "fecha_efectiva  3266    190  20201121    51\n",
       "Id_tx           3266   2086      6276    16\n",
       "clase           3266      2    COMPRA  2543"
      ]
     },
     "execution_count": 10,
     "metadata": {},
     "output_type": "execute_result"
    }
   ],
   "source": [
    "# Información de las variables categóricas\n",
    "df.describe(include='O').T"
   ]
  },
  {
   "cell_type": "markdown",
   "id": "980151ac-ce94-47db-9b11-1323b5e547b2",
   "metadata": {},
   "source": [
    "Acá podemos visualizar ciertos datos relevantes para nuestro análisis, donde podemos notar que para este dataframe existen 70 clientes, donde el cliente 125 es el que más transacciones posee, la fecha donde más transacciones se realizaron fue el 2020-11-21, el código de transacción que más registros generó fue el 6276 y la clase más frecuente fue la COMPRA. Con esto tenemos una visión general de lo que podemos encontrarnos más adelante."
   ]
  },
  {
   "cell_type": "code",
   "execution_count": 11,
   "id": "1ac8fdfc-770a-49de-a646-1eb3c5595dad",
   "metadata": {},
   "outputs": [
    {
     "data": {
      "text/html": [
       "<div>\n",
       "<style scoped>\n",
       "    .dataframe tbody tr th:only-of-type {\n",
       "        vertical-align: middle;\n",
       "    }\n",
       "\n",
       "    .dataframe tbody tr th {\n",
       "        vertical-align: top;\n",
       "    }\n",
       "\n",
       "    .dataframe thead th {\n",
       "        text-align: right;\n",
       "    }\n",
       "</style>\n",
       "<table border=\"1\" class=\"dataframe\">\n",
       "  <thead>\n",
       "    <tr style=\"text-align: right;\">\n",
       "      <th></th>\n",
       "      <th>count</th>\n",
       "      <th>mean</th>\n",
       "      <th>std</th>\n",
       "      <th>min</th>\n",
       "      <th>25%</th>\n",
       "      <th>50%</th>\n",
       "      <th>75%</th>\n",
       "      <th>max</th>\n",
       "    </tr>\n",
       "  </thead>\n",
       "  <tbody>\n",
       "    <tr>\n",
       "      <th>valor</th>\n",
       "      <td>3266.0</td>\n",
       "      <td>376515.48</td>\n",
       "      <td>575869.15</td>\n",
       "      <td>20.0</td>\n",
       "      <td>63685.75</td>\n",
       "      <td>167211.0</td>\n",
       "      <td>484050.0</td>\n",
       "      <td>7952039.23</td>\n",
       "    </tr>\n",
       "  </tbody>\n",
       "</table>\n",
       "</div>"
      ],
      "text/plain": [
       "        count       mean        std   min       25%       50%       75%  \\\n",
       "valor  3266.0  376515.48  575869.15  20.0  63685.75  167211.0  484050.0   \n",
       "\n",
       "              max  \n",
       "valor  7952039.23  "
      ]
     },
     "execution_count": 11,
     "metadata": {},
     "output_type": "execute_result"
    }
   ],
   "source": [
    "# Estadística básica de la variable númerica\n",
    "round(df.describe().T, 2)"
   ]
  },
  {
   "cell_type": "markdown",
   "id": "92bc1db1-36e9-435f-8682-f6d643b93b12",
   "metadata": {},
   "source": [
    "A primera vista noto una desviación estándar y un máximo muy altos, lo que me hace suponer que existen outliers(valores atípicos). Estos valores debemos manejarlos ya que al momento de hacer nuestras distribuciones, nos creará una visión distorsionada de la distribución real del valor de las transacciones. De igual forma podemos visualizar que el promedio por transacción ronda los 375 mil."
   ]
  },
  {
   "cell_type": "markdown",
   "id": "05c19fca-402d-4385-a6a3-49900fbbfd36",
   "metadata": {},
   "source": [
    "## Análisis exploratorio de datos"
   ]
  },
  {
   "cell_type": "markdown",
   "id": "fc73f54a-5597-4bdd-b642-b88d168c9606",
   "metadata": {},
   "source": [
    "Al tener una visión previa de los datos, procedemos a realizar un análisis exploratorio de datos. Donde primeramente identificaremos cuanto dinero en transacciones se generó y cuales son los clientes que más dinero  en transacciones gastaron."
   ]
  },
  {
   "cell_type": "code",
   "execution_count": 12,
   "id": "549f97ea-c560-4946-bd9f-96c0e3d2af44",
   "metadata": {},
   "outputs": [
    {
     "data": {
      "text/plain": [
       "1229699556.55"
      ]
     },
     "execution_count": 12,
     "metadata": {},
     "output_type": "execute_result"
    }
   ],
   "source": [
    "# suma total por transacciones\n",
    "round(df['valor'].sum(), 2)"
   ]
  },
  {
   "cell_type": "markdown",
   "id": "e8bc154f-10d5-47aa-b335-ea6bf6602db7",
   "metadata": {},
   "source": [
    "Al realizar la suma de total de las transacciones, nos da un valor de 1229699556.55. Ahora procedemos a buscar las variables que más dinero nos generaron."
   ]
  },
  {
   "cell_type": "markdown",
   "id": "1777df6b-6c28-4665-9256-1fa39e2ae926",
   "metadata": {},
   "source": [
    "### Top 5 clientes con más valor en transacciones"
   ]
  },
  {
   "cell_type": "code",
   "execution_count": 13,
   "id": "4d5a051b-e769-4925-98f3-febf0202de17",
   "metadata": {},
   "outputs": [
    {
     "data": {
      "text/html": [
       "<div>\n",
       "<style scoped>\n",
       "    .dataframe tbody tr th:only-of-type {\n",
       "        vertical-align: middle;\n",
       "    }\n",
       "\n",
       "    .dataframe tbody tr th {\n",
       "        vertical-align: top;\n",
       "    }\n",
       "\n",
       "    .dataframe thead th {\n",
       "        text-align: right;\n",
       "    }\n",
       "</style>\n",
       "<table border=\"1\" class=\"dataframe\">\n",
       "  <thead>\n",
       "    <tr style=\"text-align: right;\">\n",
       "      <th></th>\n",
       "      <th>Id_cliente</th>\n",
       "      <th>total_valor_cliente</th>\n",
       "      <th>% sobre total_valor</th>\n",
       "    </tr>\n",
       "  </thead>\n",
       "  <tbody>\n",
       "    <tr>\n",
       "      <th>0</th>\n",
       "      <td>129</td>\n",
       "      <td>53537848.42</td>\n",
       "      <td>4.353734</td>\n",
       "    </tr>\n",
       "    <tr>\n",
       "      <th>1</th>\n",
       "      <td>125</td>\n",
       "      <td>48310692.88</td>\n",
       "      <td>3.928658</td>\n",
       "    </tr>\n",
       "    <tr>\n",
       "      <th>2</th>\n",
       "      <td>131</td>\n",
       "      <td>47572387.55</td>\n",
       "      <td>3.868619</td>\n",
       "    </tr>\n",
       "    <tr>\n",
       "      <th>3</th>\n",
       "      <td>130</td>\n",
       "      <td>47418622.75</td>\n",
       "      <td>3.856114</td>\n",
       "    </tr>\n",
       "    <tr>\n",
       "      <th>4</th>\n",
       "      <td>126</td>\n",
       "      <td>44379677.09</td>\n",
       "      <td>3.608985</td>\n",
       "    </tr>\n",
       "  </tbody>\n",
       "</table>\n",
       "</div>"
      ],
      "text/plain": [
       "  Id_cliente  total_valor_cliente  % sobre total_valor\n",
       "0        129          53537848.42             4.353734\n",
       "1        125          48310692.88             3.928658\n",
       "2        131          47572387.55             3.868619\n",
       "3        130          47418622.75             3.856114\n",
       "4        126          44379677.09             3.608985"
      ]
     },
     "execution_count": 13,
     "metadata": {},
     "output_type": "execute_result"
    }
   ],
   "source": [
    "# Agrupando los valores de transacciones por cliente\n",
    "df_cliente = df.groupby('Id_cliente')['valor'].sum().sort_values(ascending=False).reset_index()\n",
    "\n",
    "# Creando columna que muestra el porcentaje que representa la suma del valor del cliente sobre el total\n",
    "df_cliente['porcentaje_valor_total'] = ((df_cliente['valor']) / (df['valor'].sum())) * 100\n",
    "\n",
    "# Renombrando las columnas\n",
    "df_cliente = df_cliente.rename(columns={'valor': 'total_valor_cliente', \n",
    "                                        'porcentaje_valor_total': '% sobre total_valor'})\n",
    "df_cliente.head() # Visualizando el Top 5 clientes"
   ]
  },
  {
   "cell_type": "markdown",
   "id": "4fdc247b-9101-4f36-a40e-fbf6e34dd870",
   "metadata": {},
   "source": [
    "Se puede visualizar que a pesar que el cliente 125 es el que ha realizado más transacciones, no es el que más valor ha generado. También podemos darnos cuenta que entre estos 5 clientes, está aproximadamente el 20% del total_valor de las transacciones."
   ]
  },
  {
   "cell_type": "markdown",
   "id": "1e1af293-2a9d-453f-8a5d-111bd9629b40",
   "metadata": {},
   "source": [
    "### Top 5 fechas con más valor en transacciones"
   ]
  },
  {
   "cell_type": "code",
   "execution_count": 14,
   "id": "f2ee5b54-eb7e-42d3-adb8-49ec7cf7a832",
   "metadata": {},
   "outputs": [
    {
     "data": {
      "text/html": [
       "<div>\n",
       "<style scoped>\n",
       "    .dataframe tbody tr th:only-of-type {\n",
       "        vertical-align: middle;\n",
       "    }\n",
       "\n",
       "    .dataframe tbody tr th {\n",
       "        vertical-align: top;\n",
       "    }\n",
       "\n",
       "    .dataframe thead th {\n",
       "        text-align: right;\n",
       "    }\n",
       "</style>\n",
       "<table border=\"1\" class=\"dataframe\">\n",
       "  <thead>\n",
       "    <tr style=\"text-align: right;\">\n",
       "      <th></th>\n",
       "      <th>fecha_efectiva</th>\n",
       "      <th>total_valor_fecha</th>\n",
       "      <th>% sobre total_valor</th>\n",
       "    </tr>\n",
       "  </thead>\n",
       "  <tbody>\n",
       "    <tr>\n",
       "      <th>0</th>\n",
       "      <td>20201121</td>\n",
       "      <td>32980851.99</td>\n",
       "      <td>2.682025</td>\n",
       "    </tr>\n",
       "    <tr>\n",
       "      <th>1</th>\n",
       "      <td>20201202</td>\n",
       "      <td>18268628.52</td>\n",
       "      <td>1.485617</td>\n",
       "    </tr>\n",
       "    <tr>\n",
       "      <th>2</th>\n",
       "      <td>20210224</td>\n",
       "      <td>17578439.00</td>\n",
       "      <td>1.429491</td>\n",
       "    </tr>\n",
       "    <tr>\n",
       "      <th>3</th>\n",
       "      <td>20201127</td>\n",
       "      <td>15789808.00</td>\n",
       "      <td>1.284038</td>\n",
       "    </tr>\n",
       "    <tr>\n",
       "      <th>4</th>\n",
       "      <td>20210227</td>\n",
       "      <td>15112645.00</td>\n",
       "      <td>1.228971</td>\n",
       "    </tr>\n",
       "  </tbody>\n",
       "</table>\n",
       "</div>"
      ],
      "text/plain": [
       "  fecha_efectiva  total_valor_fecha  % sobre total_valor\n",
       "0       20201121        32980851.99             2.682025\n",
       "1       20201202        18268628.52             1.485617\n",
       "2       20210224        17578439.00             1.429491\n",
       "3       20201127        15789808.00             1.284038\n",
       "4       20210227        15112645.00             1.228971"
      ]
     },
     "execution_count": 14,
     "metadata": {},
     "output_type": "execute_result"
    }
   ],
   "source": [
    "# Agrupando los valores de transacciones por fecha\n",
    "df_fecha = df.groupby('fecha_efectiva')['valor'].sum().sort_values(ascending=False).reset_index()\n",
    "\n",
    "# Creando columna que muestra el porcentaje que representa la suma del valor de la fecha sobre el total\n",
    "df_fecha['porcentaje_valor_total'] = ((df_fecha['valor']) / (df['valor'].sum())) * 100\n",
    "\n",
    "# Renombrando las columnas\n",
    "df_fecha = df_fecha.rename(columns={'valor': 'total_valor_fecha', \n",
    "                                        'porcentaje_valor_total': '% sobre total_valor'})\n",
    "df_fecha.head() # Visualizando el Top 5 clientes"
   ]
  },
  {
   "cell_type": "markdown",
   "id": "4e79c091-c18d-46b1-9f60-1a7a4611f5d6",
   "metadata": {},
   "source": [
    "Se evidencia que en la fecha 2020-11-21 además de ser el día donde se registraron más transacciones, es el día donde más valor por transacciones se generaron, es curioso ver que lo que se generó ese día representa casi el doble que el día que le sigue en la lista. Esto es una particularidad, donde podriamos suponer que ese día fue un festivo u otra fecha especial."
   ]
  },
  {
   "cell_type": "markdown",
   "id": "fa406bb9-8589-4bd8-b239-fc1bc25ecdde",
   "metadata": {},
   "source": [
    "### Registro de transacciones"
   ]
  },
  {
   "cell_type": "code",
   "execution_count": 15,
   "id": "c17fee5f-5bfb-4c05-a0d8-63165b091e4d",
   "metadata": {},
   "outputs": [
    {
     "data": {
      "image/png": "[encoded data removed]",
      "text/plain": [
       "<Figure size 1500x1000 with 4 Axes>"
      ]
     },
     "metadata": {},
     "output_type": "display_data"
    }
   ],
   "source": [
    "# obteniendo los nombres de las columnas object (columnas categoricas)\n",
    "cat_vars = df.select_dtypes(include='object').columns.tolist()\n",
    "\n",
    "# creando una figura con los subplots\n",
    "num_cols = len(cat_vars)\n",
    "num_rows = (num_cols + 2) // 3\n",
    "fig, axs = plt.subplots(nrows=num_rows, ncols=3, figsize=(15, 5*num_rows))\n",
    "axs = axs.flatten()\n",
    "\n",
    "# creando grafico de barras para cada variable categorica\n",
    "for i, var in enumerate(cat_vars):\n",
    "    top_values = df[var].value_counts().nlargest(5).index\n",
    "    filtered_df = df[df[var].isin(top_values)]\n",
    "    ax = sns.countplot(x=var, data=filtered_df, ax=axs[i])\n",
    "    axs[i].tick_params(axis='x', rotation=90)\n",
    "    axs[i].set_ylabel(\"Cantidad de transacciones\")\n",
    "\n",
    "# remueve los subplots que queden vacios\n",
    "if num_cols < len(axs):\n",
    "    for i in range(num_cols, len(axs)):\n",
    "        fig.delaxes(axs[i])\n",
    "\n",
    "# ajustando los espacios entre subplots\n",
    "fig.tight_layout()"
   ]
  },
  {
   "cell_type": "markdown",
   "id": "7a196fbc-af48-4387-94c7-4cd684d3eeef",
   "metadata": {},
   "source": [
    "Acá podemos corroborar la información anterior a nivel visual, donde los casos puntuales se reflejan en el día 2020-11-21 y el código de transacción 6276."
   ]
  },
  {
   "cell_type": "markdown",
   "id": "ffc31ab9-9ab7-4bd5-8c4f-63dfa70c5270",
   "metadata": {},
   "source": [
    "### Manejo de valores atípicos"
   ]
  },
  {
   "cell_type": "markdown",
   "id": "48b6e5c0-bfd3-4772-8e36-117dd1101610",
   "metadata": {},
   "source": [
    "Debido a los valores atípico que encontramos en la columna valor, antes de realizar alguna gráfica de distribución debemos manejarlos ya que estos alterarán de gran manera la distribución de los datos. Para la correción de estos valores se usará el método de rango intercuartílico. Se mostrará una gráfica con outliers y luego sin ellos."
   ]
  },
  {
   "cell_type": "code",
   "execution_count": 16,
   "id": "ad131771-7a07-4ba6-b275-22bf9dba7645",
   "metadata": {},
   "outputs": [
    {
     "data": {
      "image/png": "[encoded data removed]",
      "text/plain": [
       "<Figure size 1200x500 with 2 Axes>"
      ]
     },
     "metadata": {},
     "output_type": "display_data"
    }
   ],
   "source": [
    "fig, axes = plt.subplots(1, 2, figsize=(12, 5)) # Creamos un lienzo de 1 fila y 2 columnas\n",
    "\n",
    "sns.boxplot(x=df[\"valor\"], ax=axes[0]) # Creamos el gráfico de caja\n",
    "axes[0].set_title(\"Gráfico de Caja\") # Título del gráfico\n",
    "\n",
    "sns.histplot(df[\"valor\"], bins=20, ax=axes[1]) # Creamos la distribución\n",
    "axes[1].set_title(\"Gráfico de Distribución\") # Título del gráfico\n",
    "axes[1].set_ylabel(\"Cantidad de transacciones\") # Título del eje y\n",
    "\n",
    "plt.tight_layout() # Ajustando gráficos\n",
    "plt.show() # Visualizando"
   ]
  },
  {
   "cell_type": "markdown",
   "id": "0b5ae361-3654-442a-adac-bf41d36c1ef6",
   "metadata": {},
   "source": [
    "A simple vista observamos los outliers con unos valores muy altos, estos outliers nos distorsionan la distribución. Procedemos a realizar el método de rango intercuartílico (IQR)."
   ]
  },
  {
   "cell_type": "code",
   "execution_count": 17,
   "id": "a9669ee1-76f2-4f6b-90a0-850d8617632a",
   "metadata": {},
   "outputs": [],
   "source": [
    "Q1 = df['valor'].quantile(0.25)\n",
    "Q3 = df['valor'].quantile(0.75)\n",
    "\n",
    "IQR = Q3 - Q1 # Calcular el rango intercuartílico (IQR)\n",
    "\n",
    "lower_limit = Q1 - 1.5 * IQR # Definir límites para detectar outliers\n",
    "upper_limit = Q3 + 1.5 * IQR\n",
    "\n",
    "df = df[(df['valor'] >= lower_limit) & (df['valor'] <= upper_limit)] # Filtrar valores que están dentro del rango límite"
   ]
  },
  {
   "cell_type": "markdown",
   "id": "9913977b-2092-4a0d-8143-8151d020b4d5",
   "metadata": {},
   "source": [
    "### Distribución del valor de las transacciones"
   ]
  },
  {
   "cell_type": "code",
   "execution_count": 18,
   "id": "bac1b43e-a295-4629-9ee4-d24f766271a4",
   "metadata": {},
   "outputs": [
    {
     "data": {
      "image/png": "[encoded data removed]",
      "text/plain": [
       "<Figure size 1200x500 with 2 Axes>"
      ]
     },
     "metadata": {},
     "output_type": "display_data"
    }
   ],
   "source": [
    "fig, axes = plt.subplots(1, 2, figsize=(12, 5)) # Creamos un lienzo de 1 fila y 2 columnas\n",
    "\n",
    "sns.boxplot(x=df[\"valor\"], ax=axes[0]) # Creamos el gráfico de caja\n",
    "axes[0].set_title(\"Gráfico de Caja\") # Título del gráfico\n",
    "\n",
    "sns.histplot(df[\"valor\"], bins=20, ax=axes[1]) # Creamos la distribución\n",
    "axes[1].set_title(\"Gráfico de Distribución\") # Título del gráfico\n",
    "axes[1].set_ylabel(\"Cantidad de transacciones\") # Título del eje y\n",
    "\n",
    "plt.tight_layout() # Ajustando gráficos\n",
    "plt.show() # Visualizando"
   ]
  },
  {
   "cell_type": "markdown",
   "id": "ab4c6b65-31c8-4d1d-ab64-e5de2ce2ce1a",
   "metadata": {},
   "source": [
    "Acá ya podemos observar una distribución más real, donde a pesar de existir algunos outliers, podemos decir que son tolerables. De acá podemos extraer el hecho que la distribución de la mayoría de las transacciones rondan entre los 50mil y 400mil y la mediana ronda los 150mil. Se puede decir que las transacciones más habituales son las menores de 100mil."
   ]
  },
  {
   "cell_type": "markdown",
   "id": "46889e3d-0b13-4073-93f0-604b30d1d20d",
   "metadata": {},
   "source": [
    "### Valor total por transacciones por fecha"
   ]
  },
  {
   "cell_type": "markdown",
   "id": "19af9da6-b606-431d-878b-08e9e6b1c92d",
   "metadata": {},
   "source": [
    "Vamos a graficar la suma total de las transacciones por mes, semana y día. Esto con el fin de poder identificar patrones y tendencias. Primeramente cambiaremos el formato de nuestra columna de fecha y seguidamente procedemos a crear un dataframe donde su índice corresponderá a la columna fecha_efectiva y así poder graficar."
   ]
  },
  {
   "cell_type": "code",
   "execution_count": 19,
   "id": "4ed07bcf-1317-4992-a398-4762d5d00113",
   "metadata": {},
   "outputs": [],
   "source": [
    "# Cambiando el formato de la columna fecha_efectiva a formato %Y%m%d\n",
    "df['fecha_efectiva'] = pd.to_datetime(df['fecha_efectiva'], format='%Y%m%d')"
   ]
  },
  {
   "cell_type": "code",
   "execution_count": 20,
   "id": "e6e726cc-df4d-478d-8ad5-e9d09b60b5de",
   "metadata": {},
   "outputs": [
    {
     "data": {
      "image/png": "[encoded data removed]",
      "text/plain": [
       "<Figure size 1500x700 with 3 Axes>"
      ]
     },
     "metadata": {},
     "output_type": "display_data"
    }
   ],
   "source": [
    "# Creando dataframe donde el indice corresponde a la fecha_efectiva\n",
    "df_tendencia = df.set_index(\"fecha_efectiva\")\n",
    "\n",
    "fig, (ax1, ax2, ax3) = plt.subplots(nrows = 3, ncols = 1, figsize = (15, 7), sharex = False) # Creando el lienzo\n",
    "\n",
    "# Agrupando los datos por mes\n",
    "df_tendencia[\"valor\"].resample(\"MS\").sum().plot(ax = ax1)\n",
    "ax1.set_xlabel(\"\")\n",
    "\n",
    "# Agrupando los datos por semanas\n",
    "df_tendencia[\"valor\"].resample(\"W\").sum().plot(ax = ax2)\n",
    "ax2.set_xlabel(\"\")\n",
    "\n",
    "# Agrupando los datos por dias\n",
    "df_tendencia[\"valor\"].resample(\"D\").sum().plot(ax = ax3)\n",
    "ax3.set_xlabel(\"\")\n",
    "\n",
    "plt.show() # Visualizando gráfico"
   ]
  },
  {
   "cell_type": "markdown",
   "id": "81f8400e-a5f5-4f2c-910d-67e939bfc4d8",
   "metadata": {},
   "source": [
    "A nivel mensual (Fig.1), visualizamos que desde Diciembre han venido disminuyendo lo generado por las transacciones, podemos deducir que después de Diciembre entramos en temporada baja y esto se traduzca en menos valor generado. A nivel semanal (Fig.2), desde Septiembre la tendencia se mantuvo estable pero en las primeras semanas de Enero se generó una abrupta caída, lo cual es normal para este tipo de negocios y hubo un repunte en las últimas semanas de Febrero. A nivel diario (Fig.3), se visualiza mucho ruido y el cual no permite ver una tendencia definida."
   ]
  },
  {
   "cell_type": "markdown",
   "id": "cec96420-fa07-4ca1-815c-17f223f0cb8c",
   "metadata": {},
   "source": [
    "## Segmentación"
   ]
  },
  {
   "cell_type": "markdown",
   "id": "69c0b063-ca4e-4eca-8b69-2666bbd72746",
   "metadata": {},
   "source": [
    "Crearemos un dataframe que contenga solo los registros del mes de Febrero, haciendo la simulación de que esas transacciones fueran de Febrero de este año y los descuentos los aplicariamos a este mes actual de Marzo y así simular sus actividades del mes anterior y poder definir en que clientes enfocarnos y aplicar los descuentos correspondientes. El dataframe será la unión de la agrupación del valor total generado por clientes, total de transacciones por clientes, total de transacciones de compra por cliente y total de transacciones de compra por avance del mes de Febrero."
   ]
  },
  {
   "cell_type": "code",
   "execution_count": 21,
   "id": "6f8c8879-b6f7-4f95-af79-dc2d5c6dcc2c",
   "metadata": {},
   "outputs": [],
   "source": [
    "# Creando dataframe que contenga solo los datos de Febrero\n",
    "febrero_df = df[df['fecha_efectiva'].dt.month == 2]"
   ]
  },
  {
   "cell_type": "markdown",
   "id": "7a3e4e2b-86c9-4e33-a47e-a5c49950b77b",
   "metadata": {},
   "source": [
    "### Agrupación por valor generado"
   ]
  },
  {
   "cell_type": "code",
   "execution_count": 22,
   "id": "948dd2e4-af38-42cb-990c-096574807b98",
   "metadata": {},
   "outputs": [
    {
     "data": {
      "text/html": [
       "<div>\n",
       "<style scoped>\n",
       "    .dataframe tbody tr th:only-of-type {\n",
       "        vertical-align: middle;\n",
       "    }\n",
       "\n",
       "    .dataframe tbody tr th {\n",
       "        vertical-align: top;\n",
       "    }\n",
       "\n",
       "    .dataframe thead th {\n",
       "        text-align: right;\n",
       "    }\n",
       "</style>\n",
       "<table border=\"1\" class=\"dataframe\">\n",
       "  <thead>\n",
       "    <tr style=\"text-align: right;\">\n",
       "      <th></th>\n",
       "      <th>Id_cliente</th>\n",
       "      <th>valor_total_generado</th>\n",
       "    </tr>\n",
       "  </thead>\n",
       "  <tbody>\n",
       "    <tr>\n",
       "      <th>0</th>\n",
       "      <td>123</td>\n",
       "      <td>7726231.00</td>\n",
       "    </tr>\n",
       "    <tr>\n",
       "      <th>1</th>\n",
       "      <td>129</td>\n",
       "      <td>6996311.63</td>\n",
       "    </tr>\n",
       "    <tr>\n",
       "      <th>2</th>\n",
       "      <td>122</td>\n",
       "      <td>6824276.05</td>\n",
       "    </tr>\n",
       "    <tr>\n",
       "      <th>3</th>\n",
       "      <td>118</td>\n",
       "      <td>6612805.00</td>\n",
       "    </tr>\n",
       "    <tr>\n",
       "      <th>4</th>\n",
       "      <td>131</td>\n",
       "      <td>4689364.00</td>\n",
       "    </tr>\n",
       "  </tbody>\n",
       "</table>\n",
       "</div>"
      ],
      "text/plain": [
       "  Id_cliente  valor_total_generado\n",
       "0        123            7726231.00\n",
       "1        129            6996311.63\n",
       "2        122            6824276.05\n",
       "3        118            6612805.00\n",
       "4        131            4689364.00"
      ]
     },
     "execution_count": 22,
     "metadata": {},
     "output_type": "execute_result"
    }
   ],
   "source": [
    "# Agrupando clientes por total de la suma del valor\n",
    "clientes_valor = febrero_df.groupby('Id_cliente')['valor'].sum().sort_values(ascending=False).reset_index()\n",
    "# Renombrando columna\n",
    "clientes_valor.rename(columns={'valor': 'valor_total_generado'}, inplace=True)\n",
    "clientes_valor.head() # Visualizando dataframe"
   ]
  },
  {
   "cell_type": "markdown",
   "id": "18c17dcb-c4da-4bcb-af49-c37484fe3fdb",
   "metadata": {},
   "source": [
    "### Agrupación por total de transacciones"
   ]
  },
  {
   "cell_type": "code",
   "execution_count": 23,
   "id": "144c1460-1a63-4e1c-960f-5332cb74e5c7",
   "metadata": {},
   "outputs": [
    {
     "data": {
      "text/html": [
       "<div>\n",
       "<style scoped>\n",
       "    .dataframe tbody tr th:only-of-type {\n",
       "        vertical-align: middle;\n",
       "    }\n",
       "\n",
       "    .dataframe tbody tr th {\n",
       "        vertical-align: top;\n",
       "    }\n",
       "\n",
       "    .dataframe thead th {\n",
       "        text-align: right;\n",
       "    }\n",
       "</style>\n",
       "<table border=\"1\" class=\"dataframe\">\n",
       "  <thead>\n",
       "    <tr style=\"text-align: right;\">\n",
       "      <th></th>\n",
       "      <th>Id_cliente</th>\n",
       "      <th>total_transacciones</th>\n",
       "    </tr>\n",
       "  </thead>\n",
       "  <tbody>\n",
       "    <tr>\n",
       "      <th>0</th>\n",
       "      <td>118</td>\n",
       "      <td>27</td>\n",
       "    </tr>\n",
       "    <tr>\n",
       "      <th>1</th>\n",
       "      <td>123</td>\n",
       "      <td>24</td>\n",
       "    </tr>\n",
       "    <tr>\n",
       "      <th>2</th>\n",
       "      <td>129</td>\n",
       "      <td>23</td>\n",
       "    </tr>\n",
       "    <tr>\n",
       "      <th>3</th>\n",
       "      <td>128</td>\n",
       "      <td>22</td>\n",
       "    </tr>\n",
       "    <tr>\n",
       "      <th>4</th>\n",
       "      <td>122</td>\n",
       "      <td>21</td>\n",
       "    </tr>\n",
       "  </tbody>\n",
       "</table>\n",
       "</div>"
      ],
      "text/plain": [
       "  Id_cliente  total_transacciones\n",
       "0        118                   27\n",
       "1        123                   24\n",
       "2        129                   23\n",
       "3        128                   22\n",
       "4        122                   21"
      ]
     },
     "execution_count": 23,
     "metadata": {},
     "output_type": "execute_result"
    }
   ],
   "source": [
    "# Agrupando clientes por total de las transacciones\n",
    "clientes_tx = febrero_df.groupby('Id_cliente')['Id_tx'].count().sort_values(ascending=False).reset_index()\n",
    "# Renombrando columna\n",
    "clientes_tx.rename(columns={'Id_tx': 'total_transacciones'}, inplace=True)\n",
    "clientes_tx.head() # Visualizando dataframe"
   ]
  },
  {
   "cell_type": "markdown",
   "id": "d737c2d2-1cb4-4dbf-bc74-98c919c1354f",
   "metadata": {},
   "source": [
    "### Agrupación por total de transacciones compra"
   ]
  },
  {
   "cell_type": "code",
   "execution_count": 24,
   "id": "8e0b60e5-89dd-4292-a389-2ed9c0bb0123",
   "metadata": {},
   "outputs": [
    {
     "data": {
      "text/html": [
       "<div>\n",
       "<style scoped>\n",
       "    .dataframe tbody tr th:only-of-type {\n",
       "        vertical-align: middle;\n",
       "    }\n",
       "\n",
       "    .dataframe tbody tr th {\n",
       "        vertical-align: top;\n",
       "    }\n",
       "\n",
       "    .dataframe thead th {\n",
       "        text-align: right;\n",
       "    }\n",
       "</style>\n",
       "<table border=\"1\" class=\"dataframe\">\n",
       "  <thead>\n",
       "    <tr style=\"text-align: right;\">\n",
       "      <th></th>\n",
       "      <th>Id_cliente</th>\n",
       "      <th>total_transacciones_compra</th>\n",
       "    </tr>\n",
       "  </thead>\n",
       "  <tbody>\n",
       "    <tr>\n",
       "      <th>0</th>\n",
       "      <td>118</td>\n",
       "      <td>25</td>\n",
       "    </tr>\n",
       "    <tr>\n",
       "      <th>1</th>\n",
       "      <td>128</td>\n",
       "      <td>19</td>\n",
       "    </tr>\n",
       "    <tr>\n",
       "      <th>2</th>\n",
       "      <td>129</td>\n",
       "      <td>18</td>\n",
       "    </tr>\n",
       "    <tr>\n",
       "      <th>3</th>\n",
       "      <td>123</td>\n",
       "      <td>16</td>\n",
       "    </tr>\n",
       "    <tr>\n",
       "      <th>4</th>\n",
       "      <td>126</td>\n",
       "      <td>14</td>\n",
       "    </tr>\n",
       "  </tbody>\n",
       "</table>\n",
       "</div>"
      ],
      "text/plain": [
       "  Id_cliente  total_transacciones_compra\n",
       "0        118                          25\n",
       "1        128                          19\n",
       "2        129                          18\n",
       "3        123                          16\n",
       "4        126                          14"
      ]
     },
     "execution_count": 24,
     "metadata": {},
     "output_type": "execute_result"
    }
   ],
   "source": [
    "# Filtrando el dataframe para obtener solo las compra\n",
    "clientes_compra = febrero_df[febrero_df['clase'] == 'COMPRA']\n",
    "# Agrupando clientes por total de las transacciones\n",
    "clientes_compra = clientes_compra.groupby('Id_cliente')['clase'].count().sort_values(ascending=False).reset_index()\n",
    "# Renombrando columna\n",
    "clientes_compra.rename(columns={'clase': 'total_transacciones_compra'}, inplace=True)\n",
    "clientes_compra.head() # Visualizando dataframe"
   ]
  },
  {
   "cell_type": "markdown",
   "id": "ca54b928-a129-42ff-b7ae-cbeb06b811b4",
   "metadata": {},
   "source": [
    "### Agrupación por total de transacciones avance"
   ]
  },
  {
   "cell_type": "code",
   "execution_count": 25,
   "id": "2c0ca0f3-48ad-497a-a875-87b2372536f8",
   "metadata": {},
   "outputs": [
    {
     "data": {
      "text/html": [
       "<div>\n",
       "<style scoped>\n",
       "    .dataframe tbody tr th:only-of-type {\n",
       "        vertical-align: middle;\n",
       "    }\n",
       "\n",
       "    .dataframe tbody tr th {\n",
       "        vertical-align: top;\n",
       "    }\n",
       "\n",
       "    .dataframe thead th {\n",
       "        text-align: right;\n",
       "    }\n",
       "</style>\n",
       "<table border=\"1\" class=\"dataframe\">\n",
       "  <thead>\n",
       "    <tr style=\"text-align: right;\">\n",
       "      <th></th>\n",
       "      <th>Id_cliente</th>\n",
       "      <th>total_transacciones_avance</th>\n",
       "    </tr>\n",
       "  </thead>\n",
       "  <tbody>\n",
       "    <tr>\n",
       "      <th>0</th>\n",
       "      <td>122</td>\n",
       "      <td>9</td>\n",
       "    </tr>\n",
       "    <tr>\n",
       "      <th>1</th>\n",
       "      <td>123</td>\n",
       "      <td>8</td>\n",
       "    </tr>\n",
       "    <tr>\n",
       "      <th>2</th>\n",
       "      <td>136</td>\n",
       "      <td>8</td>\n",
       "    </tr>\n",
       "    <tr>\n",
       "      <th>3</th>\n",
       "      <td>132</td>\n",
       "      <td>6</td>\n",
       "    </tr>\n",
       "    <tr>\n",
       "      <th>4</th>\n",
       "      <td>129</td>\n",
       "      <td>5</td>\n",
       "    </tr>\n",
       "  </tbody>\n",
       "</table>\n",
       "</div>"
      ],
      "text/plain": [
       "  Id_cliente  total_transacciones_avance\n",
       "0        122                           9\n",
       "1        123                           8\n",
       "2        136                           8\n",
       "3        132                           6\n",
       "4        129                           5"
      ]
     },
     "execution_count": 25,
     "metadata": {},
     "output_type": "execute_result"
    }
   ],
   "source": [
    "# Filtrando el dataframe para obtener solo las avance\n",
    "clientes_avance = febrero_df[febrero_df['clase'] == 'AVANCE']\n",
    "# Agrupando clientes por total de las transacciones\n",
    "clientes_avance = clientes_avance.groupby('Id_cliente')['clase'].count().sort_values(ascending=False).reset_index()\n",
    "# Renombrando columna\n",
    "clientes_avance.rename(columns={'clase': 'total_transacciones_avance'}, inplace=True)\n",
    "clientes_avance.head() # Visualizando dataframe"
   ]
  },
  {
   "cell_type": "markdown",
   "id": "8afc7be5-c6ed-4db5-adcf-9a9af57e21a9",
   "metadata": {},
   "source": [
    "### Dataframe final"
   ]
  },
  {
   "cell_type": "code",
   "execution_count": 26,
   "id": "4a5dd3b0-6164-4f73-92b0-6a5335b09b2a",
   "metadata": {},
   "outputs": [
    {
     "data": {
      "text/html": [
       "<div>\n",
       "<style scoped>\n",
       "    .dataframe tbody tr th:only-of-type {\n",
       "        vertical-align: middle;\n",
       "    }\n",
       "\n",
       "    .dataframe tbody tr th {\n",
       "        vertical-align: top;\n",
       "    }\n",
       "\n",
       "    .dataframe thead th {\n",
       "        text-align: right;\n",
       "    }\n",
       "</style>\n",
       "<table border=\"1\" class=\"dataframe\">\n",
       "  <thead>\n",
       "    <tr style=\"text-align: right;\">\n",
       "      <th></th>\n",
       "      <th>Id_cliente</th>\n",
       "      <th>valor_total_generado</th>\n",
       "      <th>total_transacciones</th>\n",
       "      <th>total_transacciones_compra</th>\n",
       "      <th>total_transacciones_avance</th>\n",
       "      <th>%avances</th>\n",
       "    </tr>\n",
       "  </thead>\n",
       "  <tbody>\n",
       "    <tr>\n",
       "      <th>0</th>\n",
       "      <td>123</td>\n",
       "      <td>7726231.00</td>\n",
       "      <td>24</td>\n",
       "      <td>16.0</td>\n",
       "      <td>8.0</td>\n",
       "      <td>33.33</td>\n",
       "    </tr>\n",
       "    <tr>\n",
       "      <th>1</th>\n",
       "      <td>129</td>\n",
       "      <td>6996311.63</td>\n",
       "      <td>23</td>\n",
       "      <td>18.0</td>\n",
       "      <td>5.0</td>\n",
       "      <td>21.74</td>\n",
       "    </tr>\n",
       "    <tr>\n",
       "      <th>2</th>\n",
       "      <td>122</td>\n",
       "      <td>6824276.05</td>\n",
       "      <td>21</td>\n",
       "      <td>12.0</td>\n",
       "      <td>9.0</td>\n",
       "      <td>42.86</td>\n",
       "    </tr>\n",
       "    <tr>\n",
       "      <th>3</th>\n",
       "      <td>118</td>\n",
       "      <td>6612805.00</td>\n",
       "      <td>27</td>\n",
       "      <td>25.0</td>\n",
       "      <td>2.0</td>\n",
       "      <td>7.41</td>\n",
       "    </tr>\n",
       "    <tr>\n",
       "      <th>4</th>\n",
       "      <td>131</td>\n",
       "      <td>4689364.00</td>\n",
       "      <td>11</td>\n",
       "      <td>8.0</td>\n",
       "      <td>3.0</td>\n",
       "      <td>27.27</td>\n",
       "    </tr>\n",
       "  </tbody>\n",
       "</table>\n",
       "</div>"
      ],
      "text/plain": [
       "  Id_cliente  valor_total_generado  total_transacciones  \\\n",
       "0        123            7726231.00                   24   \n",
       "1        129            6996311.63                   23   \n",
       "2        122            6824276.05                   21   \n",
       "3        118            6612805.00                   27   \n",
       "4        131            4689364.00                   11   \n",
       "\n",
       "   total_transacciones_compra  total_transacciones_avance  %avances  \n",
       "0                        16.0                         8.0     33.33  \n",
       "1                        18.0                         5.0     21.74  \n",
       "2                        12.0                         9.0     42.86  \n",
       "3                        25.0                         2.0      7.41  \n",
       "4                         8.0                         3.0     27.27  "
      ]
     },
     "execution_count": 26,
     "metadata": {},
     "output_type": "execute_result"
    }
   ],
   "source": [
    "# Uniendo las 4 tablas de agrupaciones\n",
    "df_final = pd.merge(clientes_valor, clientes_tx, left_on='Id_cliente', right_on='Id_cliente', how='left')\n",
    "df_final = pd.merge(df_final, clientes_compra, left_on='Id_cliente', right_on='Id_cliente', how='left')\n",
    "df_final = pd.merge(df_final, clientes_avance, left_on='Id_cliente', right_on='Id_cliente', how='left')\n",
    "\n",
    "# Creando la columna %avances\n",
    "df_final['%avances'] = round((df_final['total_transacciones_avance'] / df_final['total_transacciones']) * 100, 2)\n",
    "\n",
    "df_final.to_csv('clientes.csv', index=False) # Guardando archivo con los clientes del mes de Febrero\n",
    "df_final.head() # Visualizando dataframe"
   ]
  },
  {
   "cell_type": "markdown",
   "id": "20dbf598-27ad-406c-805a-9147b76efa73",
   "metadata": {},
   "source": [
    "Al tener nuestro dataframe definido para la segmentación de clientes, procedemos a definir los parámetros por los cuales se realizará la misma:"
   ]
  },
  {
   "cell_type": "markdown",
   "id": "491ffdee-4183-486b-8353-a814d629c5ff",
   "metadata": {},
   "source": [
    "## Asignación de grupos"
   ]
  },
  {
   "cell_type": "markdown",
   "id": "fe23ce36-dc2c-40ce-a16e-5cde1006279f",
   "metadata": {},
   "source": [
    "Luego de realizar un análisis al dataframe que contiene los datos consolidados del mes de febrero de los cliente, se llegó a la conclusión de crear tres formas de incentivos:"
   ]
  },
  {
   "cell_type": "markdown",
   "id": "6d67fc3f-cd2d-4f88-966c-ca3e506ff994",
   "metadata": {},
   "source": [
    "- ### Incentivo por ganancias generadas"
   ]
  },
  {
   "cell_type": "markdown",
   "id": "d8e2ba5d-9b70-456d-9c6a-6c0ddb990888",
   "metadata": {},
   "source": [
    "Este incentivo se dividirá en tres grupos:\n",
    "- VIP: Clientes que durante el mes hayan generado más de 5 millones, recibirán un 25% de descuento en su siguiente compra.\n",
    "- Gold: Clientes que durante el mes hayan generado más de 4 millones, recibirán un 20% de descuento en su siguiente compra.\n",
    "- Silver: Clientes que durante el mes hayan generado más de 2 millones, recibirán un 5% de descuento en su siguiente compra."
   ]
  },
  {
   "cell_type": "markdown",
   "id": "fe526e9a-bbde-42f0-8c67-d3f17169ab63",
   "metadata": {},
   "source": [
    "- ### Incentivo por cantidad de transacciones"
   ]
  },
  {
   "cell_type": "markdown",
   "id": "6aedd0de-6e2d-4d26-9534-b74d5b29618c",
   "metadata": {},
   "source": [
    "Este incentivo se dividirá en tres grupos:\n",
    "- VIP: Clientes que durante el mes hayan tenido más de 20 transacciones y por lo menos 15 de ellas fueron por compra, recibirán un 25% de descuento en su siguiente compra.\n",
    "- Gold: Clientes que durante el mes hayan tenido más de 15 transacciones y por lo menos 11 de ellas fueron por compra, recibirán un 20% de descuento en su siguiente compra.\n",
    "- Silver: Clientes que durante el mes hayan tenido más de 10 transacciones y por lo menos 7 de ellas fueron por compra, recibirán un 5% de descuento en su siguiente compra."
   ]
  },
  {
   "cell_type": "markdown",
   "id": "2c7e10b7-09e2-4f87-a7f5-e972ad0bd988",
   "metadata": {},
   "source": [
    "- ### Incentivo para promover compras y no avances"
   ]
  },
  {
   "cell_type": "markdown",
   "id": "8d72578c-e5f4-457a-b3a2-49fdd8fb4e99",
   "metadata": {},
   "source": [
    "Este incentivo se aplicará a los clientes que no cumplan con las condiciones anteriores y que sus transacciones por avances sean mayores al 20% del total de sus transacciones, se les incentivará con un 20% de descuento en su próxima compra."
   ]
  },
  {
   "cell_type": "markdown",
   "id": "b6ecf699-98de-4f0b-afb2-d82770de111b",
   "metadata": {},
   "source": [
    "Los clientes que no cumplan con ninguno de los incentivos, no aplicaran a ningún incentivo."
   ]
  },
  {
   "cell_type": "markdown",
   "id": "e4476719-5a55-41d4-8d83-f0f421c77688",
   "metadata": {},
   "source": [
    "## Justificación de la asignación de grupos"
   ]
  },
  {
   "cell_type": "markdown",
   "id": "bb7d77b2-3b71-4147-8c29-890a8436094d",
   "metadata": {},
   "source": [
    "Estas medidas se tomaron pensando primeramente en los clientes que nos generan más ganancias y realizan más transacciones, ya que estos clientes representan un gran porcentaje del total de las ganancias. Dependiendo de los hábitos que tengan a con la compañía, se les premiará con alguno de los beneficios mencionados anteriormente. Además, se tomó en cuenta el tipo de transacción para incentivar las compras y no los avances."
   ]
  }
 ],
 "metadata": {
  "kernelspec": {
   "display_name": "Python 3 (ipykernel)",
   "language": "python",
   "name": "python3"
  },
  "language_info": {
   "codemirror_mode": {
    "name": "ipython",
    "version": 3
   },
   "file_extension": ".py",
   "mimetype": "text/x-python",
   "name": "python",
   "nbconvert_exporter": "python",
   "pygments_lexer": "ipython3",
   "version": "3.11.7"
  }
 },
 "nbformat": 4,
 "nbformat_minor": 5
}
