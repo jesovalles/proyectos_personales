{
 "cells": [
  {
   "cell_type": "markdown",
   "id": "4c5841ba-0c7e-4ffa-8717-07b8004b1fb5",
   "metadata": {},
   "source": [
    "# Solución del punto 6 - Modelación analítica"
   ]
  },
  {
   "cell_type": "markdown",
   "id": "a0df1f1b-e4ff-4762-8068-7aff5ae08a14",
   "metadata": {},
   "source": [
    "## Planteamiento de la prueba"
   ]
  },
  {
   "cell_type": "markdown",
   "id": "2c94a67a-ef42-40bc-9f16-05e19cf38832",
   "metadata": {},
   "source": [
    "1. Cargue el archivo train.csv y Construya un modelo que capaz de realizar predicciones de FRAUDE.\r\n",
    "2. Enviar un archivo test_evaluado.csv con todas las columnas en el mismo orden que se encuentran en test.csv y adicionalmente la columna FRAUDE poblada con el valor predicho por su modelo. Cualquier valo real (es decir, fraccionario) entre 0 y 1 será admisible aquí, donde 1 debe corresponder a FRAUDE y 0 a transacción legítima.\r\n",
    "3. *opcional, realizar montaje de este sobre servicios azure o AWS, realizar puesta en productivo batch o/y servicio.r"
   ]
  },
  {
   "cell_type": "markdown",
   "id": "814ba38a-3108-4fc6-a24a-d11628f6f9a3",
   "metadata": {},
   "source": [
    "## Diccionario de variables"
   ]
  },
  {
   "attachments": {},
   "cell_type": "markdown",
   "id": "9ba5e3ce-0ef2-4efc-895c-972162ffaaa6",
   "metadata": {},
   "source": [
    "| Variable                  |        Significado                           | \n",
    "|---------------------------|----------------------------------------------|\n",
    "| ID\t                | Id Cliente                                           |\n",
    "| FRAUDE           |1= Fraude; 0=No fraude       |\n",
    "| VALOR\t                |Valor de la transacción           |\n",
    "| HORA_AUX\t            |Hora de la transacción, sin minutos ni segundos           |\n",
    "| Dist_max_NAL\t            |Dist maxima recorrida a nivel nacional (en millas)            |\n",
    "| Canal1               |Canal transaccional de la transacción, incluido tipos de datafonoso                |\n",
    "| FECHA\t            |Fecha de ocurrencia de la transaccións                |\n",
    "| COD_PAIS               |Pais de ocurrencia de la transacción. Ver codigo ISO Internet                |\n",
    "| CANAL   |Canal transaccional de la transaccióne |\n",
    "| DIASEM\t|Día de la semana que se realizó la transaccióne   |\n",
    "| DIAMES\t    |Día del mes que se realizó la transacción (0= Domingo, 1= Lunes, 2= martes,… 3= miercoles…6= sabado)e     |\n",
    "| FECHA_VIN\t        |Fecha de vinculacion del cliente    |\n",
    "| OFICINA_VIN               |Oficina de vinculacion del cliente)     |\n",
    "| SEXO               |M=masculino, F= femenino)     |\n",
    "| SEGMENTO               |Segmento del cliente     |\n",
    "| EDAD               |Edad del cliente)     |\n",
    "| INGRESOS               |Ingresos del cliente)     |\n",
    "| EGRESOS               |Egresos del cliente     |\n",
    "| NROPAISES               |# paises visitados )     |\n",
    "| Dist_Sum_INTER               |Sumatoria de distancia recorrida a nivel internacional (en millas))     |\n",
    "| Dist_Mean_INTER               |Promedio de distancia recorrida a nivel internacional (en millas))     |\n",
    "| NROCIUDADES               |Numero de ciudades nacionales visitadas)     |\n",
    "| Dist_Sum_NAL               |Distancia máxima recorrida a nivel nacional (en millas)     |\n",
    "| Dist_Mean_NAL               |Distancia máxima recorrida a nivel nacional (en millas))     |\n",
    "| Dist_HOY               |Diferencia entre la ultima transacción presente realizada y la transacción que esta realizando el dia de hoy)     |\n",
    "| Dist_sum_NAL               |Sumatoria de distacia recorrida a nivel nacional (en millas)     |"
   ]
  },
  {
   "cell_type": "markdown",
   "id": "bf1f7efe-3ecb-43b3-a98c-a14b113291b2",
   "metadata": {},
   "source": [
    "## Solución de la prueba"
   ]
  },
  {
   "cell_type": "code",
   "execution_count": 1,
   "id": "3d892abd-e85e-4cda-82a6-a2238073db14",
   "metadata": {},
   "outputs": [],
   "source": [
    "# importando librerías\n",
    "import pandas as pd\n",
    "import numpy as np\n",
    "import matplotlib.pyplot as plt\n",
    "import seaborn as sns\n",
    "from imblearn.over_sampling import SMOTE\n",
    "from sklearn.neighbors import KNeighborsClassifier\n",
    "import warnings\n",
    "\n",
    "warnings.filterwarnings('ignore')\n",
    "pd.set_option('display.max_columns', None)"
   ]
  },
  {
   "cell_type": "markdown",
   "id": "72b266c0-af22-47ec-9bc2-ca66f90e80f0",
   "metadata": {},
   "source": [
    "### Cargando el dataset con los datos de entrenamiento"
   ]
  },
  {
   "cell_type": "code",
   "execution_count": 2,
   "id": "b9db6d22-fd74-47d5-9f27-e035ddfd25ad",
   "metadata": {},
   "outputs": [
    {
     "data": {
      "text/html": [
       "<div>\n",
       "<style scoped>\n",
       "    .dataframe tbody tr th:only-of-type {\n",
       "        vertical-align: middle;\n",
       "    }\n",
       "\n",
       "    .dataframe tbody tr th {\n",
       "        vertical-align: top;\n",
       "    }\n",
       "\n",
       "    .dataframe thead th {\n",
       "        text-align: right;\n",
       "    }\n",
       "</style>\n",
       "<table border=\"1\" class=\"dataframe\">\n",
       "  <thead>\n",
       "    <tr style=\"text-align: right;\">\n",
       "      <th></th>\n",
       "      <th>id</th>\n",
       "      <th>FRAUDE</th>\n",
       "      <th>VALOR</th>\n",
       "      <th>HORA_AUX</th>\n",
       "      <th>Dist_max_NAL</th>\n",
       "      <th>Canal1</th>\n",
       "      <th>FECHA</th>\n",
       "      <th>COD_PAIS</th>\n",
       "      <th>CANAL</th>\n",
       "      <th>DIASEM</th>\n",
       "      <th>DIAMES</th>\n",
       "      <th>FECHA_VIN</th>\n",
       "      <th>OFICINA_VIN</th>\n",
       "      <th>SEXO</th>\n",
       "      <th>SEGMENTO</th>\n",
       "      <th>EDAD</th>\n",
       "      <th>INGRESOS</th>\n",
       "      <th>EGRESOS</th>\n",
       "      <th>NROPAISES</th>\n",
       "      <th>Dist_Sum_INTER</th>\n",
       "      <th>Dist_Mean_INTER</th>\n",
       "      <th>Dist_Max_INTER</th>\n",
       "      <th>NROCIUDADES</th>\n",
       "      <th>Dist_Mean_NAL</th>\n",
       "      <th>Dist_HOY</th>\n",
       "      <th>Dist_sum_NAL</th>\n",
       "    </tr>\n",
       "  </thead>\n",
       "  <tbody>\n",
       "    <tr>\n",
       "      <th>0</th>\n",
       "      <td>9000000001</td>\n",
       "      <td>1</td>\n",
       "      <td>0.0</td>\n",
       "      <td>13</td>\n",
       "      <td>659.13</td>\n",
       "      <td>ATM_INT</td>\n",
       "      <td>20150501</td>\n",
       "      <td>US</td>\n",
       "      <td>ATM_INT</td>\n",
       "      <td>5</td>\n",
       "      <td>1</td>\n",
       "      <td>20120306.0</td>\n",
       "      <td>392.0</td>\n",
       "      <td>M</td>\n",
       "      <td>Personal Plus</td>\n",
       "      <td>29.0</td>\n",
       "      <td>1200000.0</td>\n",
       "      <td>1200000.0</td>\n",
       "      <td>1</td>\n",
       "      <td>NaN</td>\n",
       "      <td>NaN</td>\n",
       "      <td>NaN</td>\n",
       "      <td>6</td>\n",
       "      <td>474.94</td>\n",
       "      <td>4552.41</td>\n",
       "      <td>5224.36</td>\n",
       "    </tr>\n",
       "    <tr>\n",
       "      <th>1</th>\n",
       "      <td>9000000002</td>\n",
       "      <td>1</td>\n",
       "      <td>0.0</td>\n",
       "      <td>17</td>\n",
       "      <td>594.77</td>\n",
       "      <td>ATM_INT</td>\n",
       "      <td>20150515</td>\n",
       "      <td>US</td>\n",
       "      <td>ATM_INT</td>\n",
       "      <td>5</td>\n",
       "      <td>15</td>\n",
       "      <td>20050415.0</td>\n",
       "      <td>716.0</td>\n",
       "      <td>M</td>\n",
       "      <td>Personal Plus</td>\n",
       "      <td>29.0</td>\n",
       "      <td>5643700.0</td>\n",
       "      <td>500000.0</td>\n",
       "      <td>1</td>\n",
       "      <td>NaN</td>\n",
       "      <td>NaN</td>\n",
       "      <td>NaN</td>\n",
       "      <td>5</td>\n",
       "      <td>289.99</td>\n",
       "      <td>4552.41</td>\n",
       "      <td>2029.90</td>\n",
       "    </tr>\n",
       "    <tr>\n",
       "      <th>2</th>\n",
       "      <td>9000000003</td>\n",
       "      <td>1</td>\n",
       "      <td>0.0</td>\n",
       "      <td>13</td>\n",
       "      <td>659.13</td>\n",
       "      <td>ATM_INT</td>\n",
       "      <td>20150501</td>\n",
       "      <td>US</td>\n",
       "      <td>ATM_INT</td>\n",
       "      <td>5</td>\n",
       "      <td>1</td>\n",
       "      <td>20120306.0</td>\n",
       "      <td>392.0</td>\n",
       "      <td>M</td>\n",
       "      <td>Personal Plus</td>\n",
       "      <td>29.0</td>\n",
       "      <td>1200000.0</td>\n",
       "      <td>1200000.0</td>\n",
       "      <td>1</td>\n",
       "      <td>NaN</td>\n",
       "      <td>NaN</td>\n",
       "      <td>NaN</td>\n",
       "      <td>6</td>\n",
       "      <td>474.94</td>\n",
       "      <td>4552.41</td>\n",
       "      <td>5224.36</td>\n",
       "    </tr>\n",
       "    <tr>\n",
       "      <th>3</th>\n",
       "      <td>9000000004</td>\n",
       "      <td>1</td>\n",
       "      <td>0.0</td>\n",
       "      <td>13</td>\n",
       "      <td>659.13</td>\n",
       "      <td>ATM_INT</td>\n",
       "      <td>20150501</td>\n",
       "      <td>US</td>\n",
       "      <td>ATM_INT</td>\n",
       "      <td>5</td>\n",
       "      <td>1</td>\n",
       "      <td>20120306.0</td>\n",
       "      <td>392.0</td>\n",
       "      <td>M</td>\n",
       "      <td>Personal Plus</td>\n",
       "      <td>29.0</td>\n",
       "      <td>1200000.0</td>\n",
       "      <td>1200000.0</td>\n",
       "      <td>1</td>\n",
       "      <td>NaN</td>\n",
       "      <td>NaN</td>\n",
       "      <td>NaN</td>\n",
       "      <td>6</td>\n",
       "      <td>474.94</td>\n",
       "      <td>4552.41</td>\n",
       "      <td>5224.36</td>\n",
       "    </tr>\n",
       "    <tr>\n",
       "      <th>4</th>\n",
       "      <td>9000000005</td>\n",
       "      <td>1</td>\n",
       "      <td>0.0</td>\n",
       "      <td>0</td>\n",
       "      <td>1.00</td>\n",
       "      <td>ATM_INT</td>\n",
       "      <td>20150510</td>\n",
       "      <td>CR</td>\n",
       "      <td>ATM_INT</td>\n",
       "      <td>0</td>\n",
       "      <td>10</td>\n",
       "      <td>20141009.0</td>\n",
       "      <td>788.0</td>\n",
       "      <td>M</td>\n",
       "      <td>Personal</td>\n",
       "      <td>25.0</td>\n",
       "      <td>0.0</td>\n",
       "      <td>0.0</td>\n",
       "      <td>1</td>\n",
       "      <td>NaN</td>\n",
       "      <td>NaN</td>\n",
       "      <td>NaN</td>\n",
       "      <td>1</td>\n",
       "      <td>NaN</td>\n",
       "      <td>1482.35</td>\n",
       "      <td>1.00</td>\n",
       "    </tr>\n",
       "  </tbody>\n",
       "</table>\n",
       "</div>"
      ],
      "text/plain": [
       "           id  FRAUDE  VALOR  HORA_AUX  Dist_max_NAL   Canal1     FECHA  \\\n",
       "0  9000000001       1    0.0        13        659.13  ATM_INT  20150501   \n",
       "1  9000000002       1    0.0        17        594.77  ATM_INT  20150515   \n",
       "2  9000000003       1    0.0        13        659.13  ATM_INT  20150501   \n",
       "3  9000000004       1    0.0        13        659.13  ATM_INT  20150501   \n",
       "4  9000000005       1    0.0         0          1.00  ATM_INT  20150510   \n",
       "\n",
       "  COD_PAIS    CANAL  DIASEM  DIAMES   FECHA_VIN  OFICINA_VIN SEXO  \\\n",
       "0       US  ATM_INT       5       1  20120306.0        392.0    M   \n",
       "1       US  ATM_INT       5      15  20050415.0        716.0    M   \n",
       "2       US  ATM_INT       5       1  20120306.0        392.0    M   \n",
       "3       US  ATM_INT       5       1  20120306.0        392.0    M   \n",
       "4       CR  ATM_INT       0      10  20141009.0        788.0    M   \n",
       "\n",
       "        SEGMENTO  EDAD   INGRESOS    EGRESOS  NROPAISES  Dist_Sum_INTER  \\\n",
       "0  Personal Plus  29.0  1200000.0  1200000.0          1             NaN   \n",
       "1  Personal Plus  29.0  5643700.0   500000.0          1             NaN   \n",
       "2  Personal Plus  29.0  1200000.0  1200000.0          1             NaN   \n",
       "3  Personal Plus  29.0  1200000.0  1200000.0          1             NaN   \n",
       "4       Personal  25.0        0.0        0.0          1             NaN   \n",
       "\n",
       "   Dist_Mean_INTER  Dist_Max_INTER  NROCIUDADES  Dist_Mean_NAL  Dist_HOY  \\\n",
       "0              NaN             NaN            6         474.94   4552.41   \n",
       "1              NaN             NaN            5         289.99   4552.41   \n",
       "2              NaN             NaN            6         474.94   4552.41   \n",
       "3              NaN             NaN            6         474.94   4552.41   \n",
       "4              NaN             NaN            1            NaN   1482.35   \n",
       "\n",
       "   Dist_sum_NAL  \n",
       "0       5224.36  \n",
       "1       2029.90  \n",
       "2       5224.36  \n",
       "3       5224.36  \n",
       "4          1.00  "
      ]
     },
     "execution_count": 2,
     "metadata": {},
     "output_type": "execute_result"
    }
   ],
   "source": [
    "# cargando el dataset train en un dataframe llamado df\n",
    "df = pd.read_csv('train.csv')\n",
    "df.head()"
   ]
  },
  {
   "cell_type": "code",
   "execution_count": 3,
   "id": "9e56a083-24c1-47c0-b2a6-9985354ce004",
   "metadata": {},
   "outputs": [
    {
     "name": "stdout",
     "output_type": "stream",
     "text": [
      "<class 'pandas.core.frame.DataFrame'>\n",
      "RangeIndex: 2965 entries, 0 to 2964\n",
      "Data columns (total 26 columns):\n",
      " #   Column           Non-Null Count  Dtype  \n",
      "---  ------           --------------  -----  \n",
      " 0   id               2965 non-null   int64  \n",
      " 1   FRAUDE           2965 non-null   int64  \n",
      " 2   VALOR            2965 non-null   float64\n",
      " 3   HORA_AUX         2965 non-null   int64  \n",
      " 4   Dist_max_NAL     2965 non-null   float64\n",
      " 5   Canal1           2965 non-null   object \n",
      " 6   FECHA            2965 non-null   int64  \n",
      " 7   COD_PAIS         2965 non-null   object \n",
      " 8   CANAL            2965 non-null   object \n",
      " 9   DIASEM           2965 non-null   int64  \n",
      " 10  DIAMES           2965 non-null   int64  \n",
      " 11  FECHA_VIN        2941 non-null   float64\n",
      " 12  OFICINA_VIN      2941 non-null   float64\n",
      " 13  SEXO             2910 non-null   object \n",
      " 14  SEGMENTO         2941 non-null   object \n",
      " 15  EDAD             2941 non-null   float64\n",
      " 16  INGRESOS         2941 non-null   float64\n",
      " 17  EGRESOS          2941 non-null   float64\n",
      " 18  NROPAISES        2965 non-null   int64  \n",
      " 19  Dist_Sum_INTER   1418 non-null   float64\n",
      " 20  Dist_Mean_INTER  1418 non-null   float64\n",
      " 21  Dist_Max_INTER   1418 non-null   float64\n",
      " 22  NROCIUDADES      2965 non-null   int64  \n",
      " 23  Dist_Mean_NAL    2508 non-null   float64\n",
      " 24  Dist_HOY         2965 non-null   float64\n",
      " 25  Dist_sum_NAL     2965 non-null   float64\n",
      "dtypes: float64(13), int64(8), object(5)\n",
      "memory usage: 602.4+ KB\n"
     ]
    }
   ],
   "source": [
    "# visualizando la información del dataframe\n",
    "df.info()"
   ]
  },
  {
   "cell_type": "markdown",
   "id": "f04793e6-5eac-4875-ac7f-d569c466b502",
   "metadata": {},
   "source": [
    "Podemos visualizar que el dataframe contiene 2965 filas y 26 columnas. También notamos que existen valores nulos en varias columnas, visualizaremos que porcentaje sobre el total de filas representan esos valores nulos para tomar la decisión de si tomar en cuenta esas columnas o no."
   ]
  },
  {
   "cell_type": "markdown",
   "id": "a66cc54e-6689-4aeb-9945-701955f034b4",
   "metadata": {},
   "source": [
    "### Transformación y limpieza del dataframe de entrenamiento"
   ]
  },
  {
   "cell_type": "code",
   "execution_count": 4,
   "id": "63c93fec-9e31-4e66-9293-f0a9b348a0c8",
   "metadata": {},
   "outputs": [
    {
     "data": {
      "text/plain": [
       "Dist_Sum_INTER     52.175379\n",
       "Dist_Mean_INTER    52.175379\n",
       "Dist_Max_INTER     52.175379\n",
       "Dist_Mean_NAL      15.413153\n",
       "SEXO                1.854975\n",
       "FECHA_VIN           0.809444\n",
       "OFICINA_VIN         0.809444\n",
       "SEGMENTO            0.809444\n",
       "EDAD                0.809444\n",
       "INGRESOS            0.809444\n",
       "EGRESOS             0.809444\n",
       "dtype: float64"
      ]
     },
     "execution_count": 4,
     "metadata": {},
     "output_type": "execute_result"
    }
   ],
   "source": [
    "# verificando las columnas con valores nulos\n",
    "check_missing = df.isnull().sum() * 100 / df.shape[0]\n",
    "check_missing[check_missing > 0].sort_values(ascending=False)"
   ]
  },
  {
   "cell_type": "markdown",
   "id": "74749908-ce23-4efd-bebb-b9c2f40be4e2",
   "metadata": {},
   "source": [
    "Podemos darnos cuenta que existen columnas con más del 50% de valores faltantes, sin embargo, teniendo presente también la consideración de que en la gran mayoría de los casos donde las distancias faltantes corresponden a clientes que no tienen recorrido, optaremos por dejarlas."
   ]
  },
  {
   "cell_type": "markdown",
   "id": "aec84bda-8f7f-4c20-b01b-629ed5a7d393",
   "metadata": {},
   "source": [
    "Como consideramos que el sexo de la persona puede influir en un fraude, y debido a que existen valores faltantes en esa columna, procederemos a eliminar esos registros faltantes que representan el 1.8% de la muestra para no usar un método de relleno usando la moda u otra métrica, esto con el fin de no crear sesgos."
   ]
  },
  {
   "cell_type": "code",
   "execution_count": 5,
   "id": "e5c3b48c-b16a-4faf-b434-e224623fbe3f",
   "metadata": {},
   "outputs": [],
   "source": [
    "# eliminando registros nulos en la columna SEXO\n",
    "df.dropna(subset=['SEXO'], inplace=True)"
   ]
  },
  {
   "cell_type": "code",
   "execution_count": 6,
   "id": "ddff1624-5926-45f2-9e12-1c21e9add5df",
   "metadata": {},
   "outputs": [
    {
     "data": {
      "text/plain": [
       "Dist_Sum_INTER     51.821306\n",
       "Dist_Mean_INTER    51.821306\n",
       "Dist_Max_INTER     51.821306\n",
       "Dist_Mean_NAL      15.189003\n",
       "dtype: float64"
      ]
     },
     "execution_count": 6,
     "metadata": {},
     "output_type": "execute_result"
    }
   ],
   "source": [
    "# verificando nuevamente valores nulos\n",
    "check_missing = df.isnull().sum() * 100 / df.shape[0]\n",
    "check_missing[check_missing > 0].sort_values(ascending=False)"
   ]
  },
  {
   "cell_type": "markdown",
   "id": "0cfebd27-0af9-4091-b9f9-a98efb7be912",
   "metadata": {},
   "source": [
    "Observamos que los registros nulos de otras columnas coincidian con los registros nulos de la columna SEXO, por lo tanto al eliminar los registros nulos de la columna SEXO, se eliminaron los registros nulos de las otras columnas y nos quedan solo los valores faltantes debido a las distancias."
   ]
  },
  {
   "cell_type": "markdown",
   "id": "6c3522c2-ffca-425e-bf31-cf9261acdf85",
   "metadata": {},
   "source": [
    "### Conversión de variables categóricas a numéricas"
   ]
  },
  {
   "cell_type": "code",
   "execution_count": 7,
   "id": "1dd31f1a-8afa-4b48-af4b-1984ee6fa81c",
   "metadata": {},
   "outputs": [
    {
     "name": "stdout",
     "output_type": "stream",
     "text": [
      "Canal1: ['ATM_INT' 'POS']\n",
      "COD_PAIS: ['US' 'CR' 'PA' 'FJ' 'EC' 'AR' 'SV' 'GT' 'MX' 'NI' 'JP' 'CN' 'PH' 'UY'\n",
      " 'BR' 'GB' 'DO' 'PR' 'AW' 'HN' 'HK' 'FR' 'CL' 'IT' 'PY' 'CA' 'CU' 'PE'\n",
      " 'CW']\n",
      "CANAL: ['ATM_INT' 'POS' 'MCI']\n",
      "SEXO: ['M' 'F']\n",
      "SEGMENTO: ['Personal Plus' 'Personal' 'Emprendedor' 'PYME' 'Preferencial'\n",
      " 'Empresarial']\n"
     ]
    }
   ],
   "source": [
    "# visualizando los valores de las columnas categóricas\n",
    "for col in df.select_dtypes(include=[\"object\"]).columns:\n",
    "    print(f\"{col}: {df[col].unique()}\")"
   ]
  },
  {
   "cell_type": "code",
   "execution_count": 8,
   "id": "849d8912-041a-474d-af76-f4966223a400",
   "metadata": {},
   "outputs": [],
   "source": [
    "# transformando los datos categóricos a númericos\n",
    "df['Canal1'] = df['Canal1'].map({'ATM_INT':0, 'POS':1})\n",
    "df['CANAL'] = df['CANAL'].map({'ATM_INT':0, 'POS':1, 'MCI':2})\n",
    "df['SEXO'] = df['SEXO'].map({'M':0, 'F':1})\n",
    "df['SEGMENTO'] = df['SEGMENTO'].map({'Personal Plus':0, 'Personal':1, 'Emprendedor':2,\n",
    "                                     'PYME':3, 'Preferencial':4, 'Empresarial':5})\n",
    "\n",
    "# para dar orden a los paises, se hizo un recuento de cuales paises eran los que tenian más registros\n",
    "df['COD_PAIS'] = df['COD_PAIS'].map({'US':0, 'PA':1, 'EC':2, 'CR':3,\n",
    "                                     'DO':4, 'MX':5, 'PH':6, 'AR':7, 'CL':8,\n",
    "                                     'PR':9, 'AW':10, 'BR':11, 'SV':12, 'HN':13,\n",
    "                                     'FR':14, 'PY':15, 'GB':16, 'CW':17, 'UY':18,\n",
    "                                     'PE':19, 'GT':20, 'IT':21, 'CN':22, 'JP':23,\n",
    "                                     'CU':24, 'NI':25, 'CA':26, 'HK':27, 'FJ':28})"
   ]
  },
  {
   "cell_type": "markdown",
   "id": "3601dc42-a264-4514-9967-e69edee14e4e",
   "metadata": {},
   "source": [
    "Teniendo nuestras columnas listas luego del encoding, procedemos a realizar un mapa de calor para ver la correlación de las variables y eliminar columnas que nos generen multicolinealidad, así como columnas que no consideremos relevantes para la predicción."
   ]
  },
  {
   "cell_type": "markdown",
   "id": "2cfc7625-18f8-403a-aa1d-20c338b5a1e9",
   "metadata": {},
   "source": [
    "### Mapa de calor"
   ]
  },
  {
   "cell_type": "code",
   "execution_count": 9,
   "id": "f2c2ac32-2cd1-4f79-ae6f-35fdf603b94f",
   "metadata": {},
   "outputs": [
    {
     "data": {
      "text/plain": [
       "<Axes: >"
      ]
     },
     "execution_count": 9,
     "metadata": {},
     "output_type": "execute_result"
    },
    {
     "data": {
      "image/png": "[encoded data removed]",
      "text/plain": [
       "<Figure size 2000x1200 with 1 Axes>"
      ]
     },
     "metadata": {},
     "output_type": "display_data"
    }
   ],
   "source": [
    "plt.figure(figsize=(20, 12)) # creando lienzo\n",
    "matrix = np.triu(df.corr()) # creando matriz\n",
    "sns.heatmap(df.corr(), annot=True,linewidth=.8, mask=matrix, cmap=\"coolwarm\",cbar=False) # creando visual"
   ]
  },
  {
   "cell_type": "markdown",
   "id": "c4110602-dd98-4221-a033-6289fd7dd5d0",
   "metadata": {},
   "source": [
    "Analizando el mapa de calor podemos evidenciar que existen columnas con mucha correlación entre ellas, lo cual es un problema que debemos corregir. Podemos ver que existe alta correlación entre las columnas CANAL Y CANAL1, FECHA Y DIAMES, dist_max_NAL con las columnas Dist_sum_NAL, Dist_Mean_NAL y NROCIUDADES, así como Dist_Mean_INTER y Dist_Max_INTER."
   ]
  },
  {
   "cell_type": "markdown",
   "id": "e2ba576a-2723-41bf-a0eb-9da182bfb751",
   "metadata": {},
   "source": [
    "### Correlación de la variable a predecir"
   ]
  },
  {
   "cell_type": "code",
   "execution_count": 10,
   "id": "512cee8a-b36e-4044-80ef-187af5a9c9db",
   "metadata": {},
   "outputs": [
    {
     "data": {
      "image/png": "[encoded data removed]",
      "text/plain": [
       "<Figure size 640x480 with 1 Axes>"
      ]
     },
     "metadata": {},
     "output_type": "display_data"
    }
   ],
   "source": [
    "# graficando gráfico de barra\n",
    "df.corr()['FRAUDE'][2:].sort_values().plot(kind='bar')\n",
    "plt.show()"
   ]
  },
  {
   "cell_type": "markdown",
   "id": "247e873c-f5dc-4c63-9771-d13cd67ae014",
   "metadata": {},
   "source": [
    "Acá podemos visualizar la correlación entre la columna FRAUDE y las demás columnas, donde podemos ver el porcentaje de correlación que existe. Podemos ver ciertas correlaciones positivas rondando el 15% y correlaciones negativas rondando los 40%-50%. Usando esta información y la mostrada por el mapa de calor, procederemos a eliminar las columnas no relevantes para la predicción, ya sea por tema de multicolinealidad o por razonamiento personal. Las columnas a eliminar serán:"
   ]
  },
  {
   "cell_type": "markdown",
   "id": "1bd423e8-bb87-46ca-8708-94c86000a1b9",
   "metadata": {},
   "source": [
    "- id.\n",
    "- Dist_max_NAL.\n",
    "- Canal1.\n",
    "- FECHA.\n",
    "- DIAMES.\n",
    "- FECHA_VIN.\n",
    "- OFICINA_VIN.\n",
    "- Dist_Sum_INTER.\n",
    "- Dist_Max_INTER.\n",
    "- Dist_sum_NAL."
   ]
  },
  {
   "cell_type": "code",
   "execution_count": 11,
   "id": "3350b582-1bbe-4bb9-9cf4-e2c49ec6b158",
   "metadata": {},
   "outputs": [],
   "source": [
    "# eliminando las columnas que no se usaran\n",
    "df.drop(columns=['id', 'Dist_max_NAL', 'Canal1', 'FECHA',\n",
    "                  'DIAMES', 'FECHA_VIN', 'OFICINA_VIN', 'Dist_Sum_INTER',\n",
    "                  'Dist_Max_INTER', 'Dist_sum_NAL'], inplace=True)"
   ]
  },
  {
   "cell_type": "markdown",
   "id": "65b97062-c604-4a72-92d2-00e2da19b3f5",
   "metadata": {},
   "source": [
    "Las razones para no tomar en cuenta las columnas id, FECHA, DIAMES, FECHA_VIN y OFICINA_VIN, se deben a que por su naturaleza y a criterio personal, no las considero importantes para la predicción, no se usará una fecha para la predicción pero si se usará el día de la semana así como la hora. La columna Canal1 se elimina por su alta correlación con la columna CANAL y correspecto a las distancias, además de que poseen una alta correlación entre ellas, se decide usar para el modelo la distancia promedio nacionales e internacionales."
   ]
  },
  {
   "cell_type": "markdown",
   "id": "48e107df-1a19-420a-bfa4-acb4aa650833",
   "metadata": {},
   "source": [
    "### Dataframe resultante"
   ]
  },
  {
   "cell_type": "code",
   "execution_count": 12,
   "id": "d2b1a918-f091-4ac9-b560-97ba8c9d288d",
   "metadata": {},
   "outputs": [
    {
     "data": {
      "text/html": [
       "<div>\n",
       "<style scoped>\n",
       "    .dataframe tbody tr th:only-of-type {\n",
       "        vertical-align: middle;\n",
       "    }\n",
       "\n",
       "    .dataframe tbody tr th {\n",
       "        vertical-align: top;\n",
       "    }\n",
       "\n",
       "    .dataframe thead th {\n",
       "        text-align: right;\n",
       "    }\n",
       "</style>\n",
       "<table border=\"1\" class=\"dataframe\">\n",
       "  <thead>\n",
       "    <tr style=\"text-align: right;\">\n",
       "      <th></th>\n",
       "      <th>FRAUDE</th>\n",
       "      <th>VALOR</th>\n",
       "      <th>HORA_AUX</th>\n",
       "      <th>COD_PAIS</th>\n",
       "      <th>CANAL</th>\n",
       "      <th>DIASEM</th>\n",
       "      <th>SEXO</th>\n",
       "      <th>SEGMENTO</th>\n",
       "      <th>EDAD</th>\n",
       "      <th>INGRESOS</th>\n",
       "      <th>EGRESOS</th>\n",
       "      <th>NROPAISES</th>\n",
       "      <th>Dist_Mean_INTER</th>\n",
       "      <th>NROCIUDADES</th>\n",
       "      <th>Dist_Mean_NAL</th>\n",
       "      <th>Dist_HOY</th>\n",
       "    </tr>\n",
       "  </thead>\n",
       "  <tbody>\n",
       "    <tr>\n",
       "      <th>0</th>\n",
       "      <td>1</td>\n",
       "      <td>0.0</td>\n",
       "      <td>13</td>\n",
       "      <td>0</td>\n",
       "      <td>0</td>\n",
       "      <td>5</td>\n",
       "      <td>0</td>\n",
       "      <td>0</td>\n",
       "      <td>29.0</td>\n",
       "      <td>1200000.0</td>\n",
       "      <td>1200000.0</td>\n",
       "      <td>1</td>\n",
       "      <td>NaN</td>\n",
       "      <td>6</td>\n",
       "      <td>474.94</td>\n",
       "      <td>4552.41</td>\n",
       "    </tr>\n",
       "    <tr>\n",
       "      <th>1</th>\n",
       "      <td>1</td>\n",
       "      <td>0.0</td>\n",
       "      <td>17</td>\n",
       "      <td>0</td>\n",
       "      <td>0</td>\n",
       "      <td>5</td>\n",
       "      <td>0</td>\n",
       "      <td>0</td>\n",
       "      <td>29.0</td>\n",
       "      <td>5643700.0</td>\n",
       "      <td>500000.0</td>\n",
       "      <td>1</td>\n",
       "      <td>NaN</td>\n",
       "      <td>5</td>\n",
       "      <td>289.99</td>\n",
       "      <td>4552.41</td>\n",
       "    </tr>\n",
       "    <tr>\n",
       "      <th>2</th>\n",
       "      <td>1</td>\n",
       "      <td>0.0</td>\n",
       "      <td>13</td>\n",
       "      <td>0</td>\n",
       "      <td>0</td>\n",
       "      <td>5</td>\n",
       "      <td>0</td>\n",
       "      <td>0</td>\n",
       "      <td>29.0</td>\n",
       "      <td>1200000.0</td>\n",
       "      <td>1200000.0</td>\n",
       "      <td>1</td>\n",
       "      <td>NaN</td>\n",
       "      <td>6</td>\n",
       "      <td>474.94</td>\n",
       "      <td>4552.41</td>\n",
       "    </tr>\n",
       "    <tr>\n",
       "      <th>3</th>\n",
       "      <td>1</td>\n",
       "      <td>0.0</td>\n",
       "      <td>13</td>\n",
       "      <td>0</td>\n",
       "      <td>0</td>\n",
       "      <td>5</td>\n",
       "      <td>0</td>\n",
       "      <td>0</td>\n",
       "      <td>29.0</td>\n",
       "      <td>1200000.0</td>\n",
       "      <td>1200000.0</td>\n",
       "      <td>1</td>\n",
       "      <td>NaN</td>\n",
       "      <td>6</td>\n",
       "      <td>474.94</td>\n",
       "      <td>4552.41</td>\n",
       "    </tr>\n",
       "    <tr>\n",
       "      <th>4</th>\n",
       "      <td>1</td>\n",
       "      <td>0.0</td>\n",
       "      <td>0</td>\n",
       "      <td>3</td>\n",
       "      <td>0</td>\n",
       "      <td>0</td>\n",
       "      <td>0</td>\n",
       "      <td>1</td>\n",
       "      <td>25.0</td>\n",
       "      <td>0.0</td>\n",
       "      <td>0.0</td>\n",
       "      <td>1</td>\n",
       "      <td>NaN</td>\n",
       "      <td>1</td>\n",
       "      <td>NaN</td>\n",
       "      <td>1482.35</td>\n",
       "    </tr>\n",
       "  </tbody>\n",
       "</table>\n",
       "</div>"
      ],
      "text/plain": [
       "   FRAUDE  VALOR  HORA_AUX  COD_PAIS  CANAL  DIASEM  SEXO  SEGMENTO  EDAD  \\\n",
       "0       1    0.0        13         0      0       5     0         0  29.0   \n",
       "1       1    0.0        17         0      0       5     0         0  29.0   \n",
       "2       1    0.0        13         0      0       5     0         0  29.0   \n",
       "3       1    0.0        13         0      0       5     0         0  29.0   \n",
       "4       1    0.0         0         3      0       0     0         1  25.0   \n",
       "\n",
       "    INGRESOS    EGRESOS  NROPAISES  Dist_Mean_INTER  NROCIUDADES  \\\n",
       "0  1200000.0  1200000.0          1              NaN            6   \n",
       "1  5643700.0   500000.0          1              NaN            5   \n",
       "2  1200000.0  1200000.0          1              NaN            6   \n",
       "3  1200000.0  1200000.0          1              NaN            6   \n",
       "4        0.0        0.0          1              NaN            1   \n",
       "\n",
       "   Dist_Mean_NAL  Dist_HOY  \n",
       "0         474.94   4552.41  \n",
       "1         289.99   4552.41  \n",
       "2         474.94   4552.41  \n",
       "3         474.94   4552.41  \n",
       "4            NaN   1482.35  "
      ]
     },
     "execution_count": 12,
     "metadata": {},
     "output_type": "execute_result"
    }
   ],
   "source": [
    "df.head()"
   ]
  },
  {
   "cell_type": "markdown",
   "id": "97274af9-2291-4198-af61-cebbe039652d",
   "metadata": {},
   "source": [
    "### Construcción del modelo"
   ]
  },
  {
   "cell_type": "markdown",
   "id": "dda354de-f5f2-46a3-bcf5-7640ed5f45c3",
   "metadata": {},
   "source": [
    "Antes de desarrollar nuestro modelo, debemos verificar si nuestros datos objetivos estan desbalanceados y proceder a corregirlos en el caso de ser así."
   ]
  },
  {
   "cell_type": "code",
   "execution_count": 13,
   "id": "2e5e9035-586a-4710-bc77-d5cc2b8106c8",
   "metadata": {},
   "outputs": [
    {
     "data": {
      "text/plain": [
       "FRAUDE\n",
       "0    2188\n",
       "1     722\n",
       "Name: count, dtype: int64"
      ]
     },
     "execution_count": 13,
     "metadata": {},
     "output_type": "execute_result"
    }
   ],
   "source": [
    "df['FRAUDE'].value_counts()"
   ]
  },
  {
   "cell_type": "markdown",
   "id": "066b6605-7e30-4ba6-a1f3-ee0e213df7e3",
   "metadata": {},
   "source": [
    "Como podemos observar, existe un desbalanceo entre clases lo cual no es bueno para el desarrollo del modelo. Se usará SMOTE, este generará muestras sintéticas para la clase minoritaria con el objetivo de equilibrar la distribución de clases. Creando nuevos ejemplos sintéticos mediante la interpolación de características de ejemplos vecinos."
   ]
  },
  {
   "cell_type": "markdown",
   "id": "7a34f5bc-6fdb-4576-9ab7-7ea216ed6c7b",
   "metadata": {},
   "source": [
    "Como SMOTE no admite valores faltantes, reemplazaremos estos valores de las distancias promedios por 0, ya que como son datos que significan que el cliente no tiene recorrido, podemos hacerlo sin ningun inconveniente."
   ]
  },
  {
   "cell_type": "code",
   "execution_count": 14,
   "id": "8cfbc308-c5e4-4cf5-9ca4-ad7c48623539",
   "metadata": {},
   "outputs": [],
   "source": [
    "# rellenando los valores nulos por 0 en las columnas de distancia promedios\n",
    "df['Dist_Mean_INTER'] = df['Dist_Mean_INTER'].fillna(0)\n",
    "df['Dist_Mean_NAL'] = df['Dist_Mean_NAL'].fillna(0)"
   ]
  },
  {
   "cell_type": "code",
   "execution_count": 15,
   "id": "0eeadd2b-6d8c-4ee8-a01a-05ed41e0c877",
   "metadata": {},
   "outputs": [],
   "source": [
    "# creando variables para el modelo\n",
    "X = df.drop(columns=\"FRAUDE\")    \n",
    "y = df[\"FRAUDE\"]"
   ]
  },
  {
   "cell_type": "code",
   "execution_count": 16,
   "id": "1acf19bd-d473-422a-b31c-88878fe3bbac",
   "metadata": {},
   "outputs": [],
   "source": [
    "# usando SMOTE para equilibrar las clases, usando la semilla 2 para poder replicar el ejercicio\n",
    "smote = SMOTE(random_state=2)\n",
    "X, y = smote.fit_resample(X, y) # Ajustando las variables con SMOTE"
   ]
  },
  {
   "cell_type": "code",
   "execution_count": 17,
   "id": "73e72763-782b-4373-acbc-a0a9b68bf46a",
   "metadata": {},
   "outputs": [
    {
     "data": {
      "image/png": "[encoded data removed]",
      "text/plain": [
       "<Figure size 640x480 with 1 Axes>"
      ]
     },
     "metadata": {},
     "output_type": "display_data"
    }
   ],
   "source": [
    "# grafica de barras para verificar el equilibrio de clases\n",
    "g = sns.countplot(x=y, palette='pastel') # creando gráfico de barras\n",
    "g.set(title='Cantidad de registros', ylabel ='Número de registros', xlabel='Fraude: 1-Si 0-No') # Etiquetas\n",
    "g.set_xticklabels(['', '1']) # Etiquetas del eje x\n",
    "plt.show()"
   ]
  },
  {
   "cell_type": "markdown",
   "id": "7de862e0-2ab0-4818-8917-2949f9d9484b",
   "metadata": {},
   "source": [
    "Habiendo realizado el ajuste de las clases, ya podemos realizar nuestro modelo de predicción."
   ]
  },
  {
   "cell_type": "markdown",
   "id": "4c886194-b419-4304-b0f8-742319cd7d52",
   "metadata": {},
   "source": [
    "Al ser un problema de clasificación, elegimos el modelo de k-Nearest Neightbors (k-NN) para hacer nuestras predicciones."
   ]
  },
  {
   "cell_type": "markdown",
   "id": "95b0ec66-8828-4d28-b076-be9fd72fa2c3",
   "metadata": {},
   "source": [
    "### k-Nearest Neightbors (k-NN)"
   ]
  },
  {
   "cell_type": "markdown",
   "id": "06ae16d6-6ab9-465c-b70f-7870cfe855f8",
   "metadata": {},
   "source": [
    "Es un algoritmo que se basa en la idea de que las instancias similares deben tener etiquetas similares."
   ]
  },
  {
   "cell_type": "code",
   "execution_count": 18,
   "id": "76ee985e-d69d-4c4d-b153-3b4aa0cd6fc7",
   "metadata": {},
   "outputs": [],
   "source": [
    "# clasificador k-NN que utilizará 2 vecinos más cercanos\n",
    "knn = KNeighborsClassifier(n_neighbors=2)"
   ]
  },
  {
   "cell_type": "code",
   "execution_count": 19,
   "id": "dea0cf23-ee9e-4850-bd97-5f914f9b4caf",
   "metadata": {},
   "outputs": [
    {
     "data": {
      "text/html": [
       "<style>#sk-container-id-1 {color: black;background-color: white;}#sk-container-id-1 pre{padding: 0;}#sk-container-id-1 div.sk-toggleable {background-color: white;}#sk-container-id-1 label.sk-toggleable__label {cursor: pointer;display: block;width: 100%;margin-bottom: 0;padding: 0.3em;box-sizing: border-box;text-align: center;}#sk-container-id-1 label.sk-toggleable__label-arrow:before {content: \"▸\";float: left;margin-right: 0.25em;color: #696969;}#sk-container-id-1 label.sk-toggleable__label-arrow:hover:before {color: black;}#sk-container-id-1 div.sk-estimator:hover label.sk-toggleable__label-arrow:before {color: black;}#sk-container-id-1 div.sk-toggleable__content {max-height: 0;max-width: 0;overflow: hidden;text-align: left;background-color: #f0f8ff;}#sk-container-id-1 div.sk-toggleable__content pre {margin: 0.2em;color: black;border-radius: 0.25em;background-color: #f0f8ff;}#sk-container-id-1 input.sk-toggleable__control:checked~div.sk-toggleable__content {max-height: 200px;max-width: 100%;overflow: auto;}#sk-container-id-1 input.sk-toggleable__control:checked~label.sk-toggleable__label-arrow:before {content: \"▾\";}#sk-container-id-1 div.sk-estimator input.sk-toggleable__control:checked~label.sk-toggleable__label {background-color: #d4ebff;}#sk-container-id-1 div.sk-label input.sk-toggleable__control:checked~label.sk-toggleable__label {background-color: #d4ebff;}#sk-container-id-1 input.sk-hidden--visually {border: 0;clip: rect(1px 1px 1px 1px);clip: rect(1px, 1px, 1px, 1px);height: 1px;margin: -1px;overflow: hidden;padding: 0;position: absolute;width: 1px;}#sk-container-id-1 div.sk-estimator {font-family: monospace;background-color: #f0f8ff;border: 1px dotted black;border-radius: 0.25em;box-sizing: border-box;margin-bottom: 0.5em;}#sk-container-id-1 div.sk-estimator:hover {background-color: #d4ebff;}#sk-container-id-1 div.sk-parallel-item::after {content: \"\";width: 100%;border-bottom: 1px solid gray;flex-grow: 1;}#sk-container-id-1 div.sk-label:hover label.sk-toggleable__label {background-color: #d4ebff;}#sk-container-id-1 div.sk-serial::before {content: \"\";position: absolute;border-left: 1px solid gray;box-sizing: border-box;top: 0;bottom: 0;left: 50%;z-index: 0;}#sk-container-id-1 div.sk-serial {display: flex;flex-direction: column;align-items: center;background-color: white;padding-right: 0.2em;padding-left: 0.2em;position: relative;}#sk-container-id-1 div.sk-item {position: relative;z-index: 1;}#sk-container-id-1 div.sk-parallel {display: flex;align-items: stretch;justify-content: center;background-color: white;position: relative;}#sk-container-id-1 div.sk-item::before, #sk-container-id-1 div.sk-parallel-item::before {content: \"\";position: absolute;border-left: 1px solid gray;box-sizing: border-box;top: 0;bottom: 0;left: 50%;z-index: -1;}#sk-container-id-1 div.sk-parallel-item {display: flex;flex-direction: column;z-index: 1;position: relative;background-color: white;}#sk-container-id-1 div.sk-parallel-item:first-child::after {align-self: flex-end;width: 50%;}#sk-container-id-1 div.sk-parallel-item:last-child::after {align-self: flex-start;width: 50%;}#sk-container-id-1 div.sk-parallel-item:only-child::after {width: 0;}#sk-container-id-1 div.sk-dashed-wrapped {border: 1px dashed gray;margin: 0 0.4em 0.5em 0.4em;box-sizing: border-box;padding-bottom: 0.4em;background-color: white;}#sk-container-id-1 div.sk-label label {font-family: monospace;font-weight: bold;display: inline-block;line-height: 1.2em;}#sk-container-id-1 div.sk-label-container {text-align: center;}#sk-container-id-1 div.sk-container {/* jupyter's `normalize.less` sets `[hidden] { display: none; }` but bootstrap.min.css set `[hidden] { display: none !important; }` so we also need the `!important` here to be able to override the default hidden behavior on the sphinx rendered scikit-learn.org. See: https://github.com/scikit-learn/scikit-learn/issues/21755 */display: inline-block !important;position: relative;}#sk-container-id-1 div.sk-text-repr-fallback {display: none;}</style><div id=\"sk-container-id-1\" class=\"sk-top-container\"><div class=\"sk-text-repr-fallback\"><pre>KNeighborsClassifier(n_neighbors=2)</pre><b>In a Jupyter environment, please rerun this cell to show the HTML representation or trust the notebook. <br />On GitHub, the HTML representation is unable to render, please try loading this page with nbviewer.org.</b></div><div class=\"sk-container\" hidden><div class=\"sk-item\"><div class=\"sk-estimator sk-toggleable\"><input class=\"sk-toggleable__control sk-hidden--visually\" id=\"sk-estimator-id-1\" type=\"checkbox\" checked><label for=\"sk-estimator-id-1\" class=\"sk-toggleable__label sk-toggleable__label-arrow\">KNeighborsClassifier</label><div class=\"sk-toggleable__content\"><pre>KNeighborsClassifier(n_neighbors=2)</pre></div></div></div></div></div>"
      ],
      "text/plain": [
       "KNeighborsClassifier(n_neighbors=2)"
      ]
     },
     "execution_count": 19,
     "metadata": {},
     "output_type": "execute_result"
    }
   ],
   "source": [
    "# Ajustando las variables con el knn\n",
    "knn.fit(X, y)"
   ]
  },
  {
   "cell_type": "code",
   "execution_count": 20,
   "id": "ced7d4a3-725d-4941-93e7-782fe895f4ba",
   "metadata": {},
   "outputs": [
    {
     "data": {
      "text/plain": [
       "0.9668647166361974"
      ]
     },
     "execution_count": 20,
     "metadata": {},
     "output_type": "execute_result"
    }
   ],
   "source": [
    "# precisión del modelo usando las vriables de entrenamiento\n",
    "knn.score(X, y)"
   ]
  },
  {
   "cell_type": "markdown",
   "id": "719b7d30-fef8-4c3c-88b6-ff899c34aa84",
   "metadata": {},
   "source": [
    "### Cargando el dataset con los datos de prueba"
   ]
  },
  {
   "cell_type": "markdown",
   "id": "b94c7a23-a703-437d-ba06-fcde06b05242",
   "metadata": {},
   "source": [
    "Para este ejercicio de rellenar la columna FRAUDE del archivo test.csv con los valores predichos, procesaremos el archivo test.csv para usar las variables con las que entrenamos nuestro modelo de KNN y luego estos valores los anexaremos en el archivo test_evaluado.csv."
   ]
  },
  {
   "cell_type": "code",
   "execution_count": 21,
   "id": "6d3b27e5-3583-4011-bdbb-43c942db19cb",
   "metadata": {},
   "outputs": [
    {
     "data": {
      "text/html": [
       "<div>\n",
       "<style scoped>\n",
       "    .dataframe tbody tr th:only-of-type {\n",
       "        vertical-align: middle;\n",
       "    }\n",
       "\n",
       "    .dataframe tbody tr th {\n",
       "        vertical-align: top;\n",
       "    }\n",
       "\n",
       "    .dataframe thead th {\n",
       "        text-align: right;\n",
       "    }\n",
       "</style>\n",
       "<table border=\"1\" class=\"dataframe\">\n",
       "  <thead>\n",
       "    <tr style=\"text-align: right;\">\n",
       "      <th></th>\n",
       "      <th>id</th>\n",
       "      <th>FRAUDE</th>\n",
       "      <th>VALOR</th>\n",
       "      <th>HORA_AUX</th>\n",
       "      <th>Dist_max_COL</th>\n",
       "      <th>Dist_max_INTER</th>\n",
       "      <th>Canal1</th>\n",
       "      <th>FECHA_FRAUDE</th>\n",
       "      <th>COD_PAIS</th>\n",
       "      <th>CANAL</th>\n",
       "      <th>FECHA</th>\n",
       "      <th>DIASEM</th>\n",
       "      <th>DIAMES</th>\n",
       "      <th>FECHA_VIN</th>\n",
       "      <th>OFICINA_VIN</th>\n",
       "      <th>SEXO</th>\n",
       "      <th>SEGMENTO</th>\n",
       "      <th>EDAD</th>\n",
       "      <th>INGRESOS</th>\n",
       "      <th>EGRESOS</th>\n",
       "      <th>NROPAISES</th>\n",
       "      <th>Dist_Sum_INTER</th>\n",
       "      <th>Dist_Mean_INTER</th>\n",
       "      <th>Dist_Max_INTER</th>\n",
       "      <th>NROCIUDADES</th>\n",
       "      <th>Dist_Sum_NAL</th>\n",
       "      <th>Dist_Mean_NAL</th>\n",
       "      <th>Dist_HOY</th>\n",
       "      <th>Dist_sum_NAL</th>\n",
       "      <th>Dist_mean_NAL</th>\n",
       "      <th>Dist_sum_INTER</th>\n",
       "      <th>Dist_mean_INTER</th>\n",
       "    </tr>\n",
       "  </thead>\n",
       "  <tbody>\n",
       "    <tr>\n",
       "      <th>0</th>\n",
       "      <td>98523068</td>\n",
       "      <td>NaN</td>\n",
       "      <td>42230.09</td>\n",
       "      <td>18</td>\n",
       "      <td>1.00</td>\n",
       "      <td>1.00</td>\n",
       "      <td>POS</td>\n",
       "      <td>20150515</td>\n",
       "      <td>US</td>\n",
       "      <td>POS</td>\n",
       "      <td>20150515</td>\n",
       "      <td>5</td>\n",
       "      <td>15</td>\n",
       "      <td>20150316</td>\n",
       "      <td>611</td>\n",
       "      <td>F</td>\n",
       "      <td>Personal Plus</td>\n",
       "      <td>46</td>\n",
       "      <td>20000000</td>\n",
       "      <td>10000000</td>\n",
       "      <td>1</td>\n",
       "      <td>NaN</td>\n",
       "      <td>NaN</td>\n",
       "      <td>NaN</td>\n",
       "      <td>1</td>\n",
       "      <td>NaN</td>\n",
       "      <td>NaN</td>\n",
       "      <td>4552.41</td>\n",
       "      <td>1.00</td>\n",
       "      <td>1.00</td>\n",
       "      <td>1.00</td>\n",
       "      <td>1.00</td>\n",
       "    </tr>\n",
       "    <tr>\n",
       "      <th>1</th>\n",
       "      <td>300237898</td>\n",
       "      <td>NaN</td>\n",
       "      <td>143202.65</td>\n",
       "      <td>20</td>\n",
       "      <td>614.04</td>\n",
       "      <td>7632.97</td>\n",
       "      <td>POS</td>\n",
       "      <td>20150506</td>\n",
       "      <td>US</td>\n",
       "      <td>MCI</td>\n",
       "      <td>20150506</td>\n",
       "      <td>3</td>\n",
       "      <td>6</td>\n",
       "      <td>19890814</td>\n",
       "      <td>961</td>\n",
       "      <td>F</td>\n",
       "      <td>Preferencial</td>\n",
       "      <td>56</td>\n",
       "      <td>11000000</td>\n",
       "      <td>4500000</td>\n",
       "      <td>3</td>\n",
       "      <td>24370.75</td>\n",
       "      <td>6092.69</td>\n",
       "      <td>7632.97</td>\n",
       "      <td>2</td>\n",
       "      <td>1228.07</td>\n",
       "      <td>614.04</td>\n",
       "      <td>4552.41</td>\n",
       "      <td>1228.07</td>\n",
       "      <td>614.04</td>\n",
       "      <td>24370.75</td>\n",
       "      <td>6092.69</td>\n",
       "    </tr>\n",
       "    <tr>\n",
       "      <th>2</th>\n",
       "      <td>943273308</td>\n",
       "      <td>NaN</td>\n",
       "      <td>243591.25</td>\n",
       "      <td>2</td>\n",
       "      <td>286.84</td>\n",
       "      <td>2443.14</td>\n",
       "      <td>ATM_INT</td>\n",
       "      <td>20150517</td>\n",
       "      <td>EC</td>\n",
       "      <td>ATM_INT</td>\n",
       "      <td>20150517</td>\n",
       "      <td>0</td>\n",
       "      <td>17</td>\n",
       "      <td>20051201</td>\n",
       "      <td>218</td>\n",
       "      <td>F</td>\n",
       "      <td>Personal Plus</td>\n",
       "      <td>33</td>\n",
       "      <td>9000000</td>\n",
       "      <td>4000000</td>\n",
       "      <td>3</td>\n",
       "      <td>6974.09</td>\n",
       "      <td>1743.52</td>\n",
       "      <td>2443.14</td>\n",
       "      <td>7</td>\n",
       "      <td>1944.35</td>\n",
       "      <td>138.88</td>\n",
       "      <td>5083.41</td>\n",
       "      <td>1944.35</td>\n",
       "      <td>138.88</td>\n",
       "      <td>6974.09</td>\n",
       "      <td>1743.52</td>\n",
       "    </tr>\n",
       "    <tr>\n",
       "      <th>3</th>\n",
       "      <td>951645809</td>\n",
       "      <td>NaN</td>\n",
       "      <td>238267.40</td>\n",
       "      <td>20</td>\n",
       "      <td>1.00</td>\n",
       "      <td>1.00</td>\n",
       "      <td>ATM_INT</td>\n",
       "      <td>20150508</td>\n",
       "      <td>EC</td>\n",
       "      <td>ATM_INT</td>\n",
       "      <td>20150508</td>\n",
       "      <td>5</td>\n",
       "      <td>8</td>\n",
       "      <td>19990301</td>\n",
       "      <td>113</td>\n",
       "      <td>F</td>\n",
       "      <td>Personal Plus</td>\n",
       "      <td>53</td>\n",
       "      <td>2300000</td>\n",
       "      <td>500000</td>\n",
       "      <td>1</td>\n",
       "      <td>NaN</td>\n",
       "      <td>NaN</td>\n",
       "      <td>NaN</td>\n",
       "      <td>1</td>\n",
       "      <td>NaN</td>\n",
       "      <td>NaN</td>\n",
       "      <td>904.81</td>\n",
       "      <td>1.00</td>\n",
       "      <td>1.00</td>\n",
       "      <td>1.00</td>\n",
       "      <td>1.00</td>\n",
       "    </tr>\n",
       "    <tr>\n",
       "      <th>4</th>\n",
       "      <td>963797516</td>\n",
       "      <td>NaN</td>\n",
       "      <td>490403.58</td>\n",
       "      <td>13</td>\n",
       "      <td>1.00</td>\n",
       "      <td>1.00</td>\n",
       "      <td>ATM_INT</td>\n",
       "      <td>20150501</td>\n",
       "      <td>US</td>\n",
       "      <td>ATM_INT</td>\n",
       "      <td>20150501</td>\n",
       "      <td>5</td>\n",
       "      <td>1</td>\n",
       "      <td>19910330</td>\n",
       "      <td>85</td>\n",
       "      <td>M</td>\n",
       "      <td>Personal</td>\n",
       "      <td>0</td>\n",
       "      <td>0</td>\n",
       "      <td>0</td>\n",
       "      <td>1</td>\n",
       "      <td>NaN</td>\n",
       "      <td>NaN</td>\n",
       "      <td>NaN</td>\n",
       "      <td>1</td>\n",
       "      <td>NaN</td>\n",
       "      <td>NaN</td>\n",
       "      <td>4552.41</td>\n",
       "      <td>1.00</td>\n",
       "      <td>1.00</td>\n",
       "      <td>1.00</td>\n",
       "      <td>1.00</td>\n",
       "    </tr>\n",
       "  </tbody>\n",
       "</table>\n",
       "</div>"
      ],
      "text/plain": [
       "          id  FRAUDE      VALOR  HORA_AUX  Dist_max_COL  Dist_max_INTER  \\\n",
       "0   98523068     NaN   42230.09        18          1.00            1.00   \n",
       "1  300237898     NaN  143202.65        20        614.04         7632.97   \n",
       "2  943273308     NaN  243591.25         2        286.84         2443.14   \n",
       "3  951645809     NaN  238267.40        20          1.00            1.00   \n",
       "4  963797516     NaN  490403.58        13          1.00            1.00   \n",
       "\n",
       "    Canal1  FECHA_FRAUDE COD_PAIS    CANAL     FECHA  DIASEM  DIAMES  \\\n",
       "0      POS      20150515       US      POS  20150515       5      15   \n",
       "1      POS      20150506       US      MCI  20150506       3       6   \n",
       "2  ATM_INT      20150517       EC  ATM_INT  20150517       0      17   \n",
       "3  ATM_INT      20150508       EC  ATM_INT  20150508       5       8   \n",
       "4  ATM_INT      20150501       US  ATM_INT  20150501       5       1   \n",
       "\n",
       "   FECHA_VIN  OFICINA_VIN SEXO       SEGMENTO  EDAD  INGRESOS   EGRESOS  \\\n",
       "0   20150316          611    F  Personal Plus    46  20000000  10000000   \n",
       "1   19890814          961    F   Preferencial    56  11000000   4500000   \n",
       "2   20051201          218    F  Personal Plus    33   9000000   4000000   \n",
       "3   19990301          113    F  Personal Plus    53   2300000    500000   \n",
       "4   19910330           85    M       Personal     0         0         0   \n",
       "\n",
       "   NROPAISES  Dist_Sum_INTER  Dist_Mean_INTER  Dist_Max_INTER  NROCIUDADES  \\\n",
       "0          1             NaN              NaN             NaN            1   \n",
       "1          3        24370.75          6092.69         7632.97            2   \n",
       "2          3         6974.09          1743.52         2443.14            7   \n",
       "3          1             NaN              NaN             NaN            1   \n",
       "4          1             NaN              NaN             NaN            1   \n",
       "\n",
       "   Dist_Sum_NAL  Dist_Mean_NAL  Dist_HOY  Dist_sum_NAL  Dist_mean_NAL  \\\n",
       "0           NaN            NaN   4552.41          1.00           1.00   \n",
       "1       1228.07         614.04   4552.41       1228.07         614.04   \n",
       "2       1944.35         138.88   5083.41       1944.35         138.88   \n",
       "3           NaN            NaN    904.81          1.00           1.00   \n",
       "4           NaN            NaN   4552.41          1.00           1.00   \n",
       "\n",
       "   Dist_sum_INTER  Dist_mean_INTER  \n",
       "0            1.00             1.00  \n",
       "1        24370.75          6092.69  \n",
       "2         6974.09          1743.52  \n",
       "3            1.00             1.00  \n",
       "4            1.00             1.00  "
      ]
     },
     "execution_count": 21,
     "metadata": {},
     "output_type": "execute_result"
    }
   ],
   "source": [
    "# cargando el dataset test.csv en el dataframe llamado df_2\n",
    "df_2 = pd.read_csv('test.csv')\n",
    "df_2.head()"
   ]
  },
  {
   "cell_type": "markdown",
   "id": "e121f97d-3e58-4c28-8a71-18a817c663eb",
   "metadata": {},
   "source": [
    "### Transformación y limpieza del dataframe de prueba"
   ]
  },
  {
   "cell_type": "code",
   "execution_count": 22,
   "id": "73f343f7-d5c0-4dcc-b32a-50ebe4e37340",
   "metadata": {},
   "outputs": [
    {
     "data": {
      "text/html": [
       "<div>\n",
       "<style scoped>\n",
       "    .dataframe tbody tr th:only-of-type {\n",
       "        vertical-align: middle;\n",
       "    }\n",
       "\n",
       "    .dataframe tbody tr th {\n",
       "        vertical-align: top;\n",
       "    }\n",
       "\n",
       "    .dataframe thead th {\n",
       "        text-align: right;\n",
       "    }\n",
       "</style>\n",
       "<table border=\"1\" class=\"dataframe\">\n",
       "  <thead>\n",
       "    <tr style=\"text-align: right;\">\n",
       "      <th></th>\n",
       "      <th>FRAUDE</th>\n",
       "      <th>VALOR</th>\n",
       "      <th>HORA_AUX</th>\n",
       "      <th>COD_PAIS</th>\n",
       "      <th>CANAL</th>\n",
       "      <th>DIASEM</th>\n",
       "      <th>SEXO</th>\n",
       "      <th>SEGMENTO</th>\n",
       "      <th>EDAD</th>\n",
       "      <th>INGRESOS</th>\n",
       "      <th>EGRESOS</th>\n",
       "      <th>NROPAISES</th>\n",
       "      <th>Dist_Mean_INTER</th>\n",
       "      <th>NROCIUDADES</th>\n",
       "      <th>Dist_Mean_NAL</th>\n",
       "      <th>Dist_HOY</th>\n",
       "    </tr>\n",
       "  </thead>\n",
       "  <tbody>\n",
       "    <tr>\n",
       "      <th>0</th>\n",
       "      <td>NaN</td>\n",
       "      <td>42230.09</td>\n",
       "      <td>18</td>\n",
       "      <td>0</td>\n",
       "      <td>1</td>\n",
       "      <td>5</td>\n",
       "      <td>1</td>\n",
       "      <td>0</td>\n",
       "      <td>46</td>\n",
       "      <td>20000000</td>\n",
       "      <td>10000000</td>\n",
       "      <td>1</td>\n",
       "      <td>0.00</td>\n",
       "      <td>1</td>\n",
       "      <td>0.00</td>\n",
       "      <td>4552.41</td>\n",
       "    </tr>\n",
       "    <tr>\n",
       "      <th>1</th>\n",
       "      <td>NaN</td>\n",
       "      <td>143202.65</td>\n",
       "      <td>20</td>\n",
       "      <td>0</td>\n",
       "      <td>2</td>\n",
       "      <td>3</td>\n",
       "      <td>1</td>\n",
       "      <td>4</td>\n",
       "      <td>56</td>\n",
       "      <td>11000000</td>\n",
       "      <td>4500000</td>\n",
       "      <td>3</td>\n",
       "      <td>6092.69</td>\n",
       "      <td>2</td>\n",
       "      <td>614.04</td>\n",
       "      <td>4552.41</td>\n",
       "    </tr>\n",
       "    <tr>\n",
       "      <th>2</th>\n",
       "      <td>NaN</td>\n",
       "      <td>243591.25</td>\n",
       "      <td>2</td>\n",
       "      <td>2</td>\n",
       "      <td>0</td>\n",
       "      <td>0</td>\n",
       "      <td>1</td>\n",
       "      <td>0</td>\n",
       "      <td>33</td>\n",
       "      <td>9000000</td>\n",
       "      <td>4000000</td>\n",
       "      <td>3</td>\n",
       "      <td>1743.52</td>\n",
       "      <td>7</td>\n",
       "      <td>138.88</td>\n",
       "      <td>5083.41</td>\n",
       "    </tr>\n",
       "    <tr>\n",
       "      <th>3</th>\n",
       "      <td>NaN</td>\n",
       "      <td>238267.40</td>\n",
       "      <td>20</td>\n",
       "      <td>2</td>\n",
       "      <td>0</td>\n",
       "      <td>5</td>\n",
       "      <td>1</td>\n",
       "      <td>0</td>\n",
       "      <td>53</td>\n",
       "      <td>2300000</td>\n",
       "      <td>500000</td>\n",
       "      <td>1</td>\n",
       "      <td>0.00</td>\n",
       "      <td>1</td>\n",
       "      <td>0.00</td>\n",
       "      <td>904.81</td>\n",
       "    </tr>\n",
       "    <tr>\n",
       "      <th>4</th>\n",
       "      <td>NaN</td>\n",
       "      <td>490403.58</td>\n",
       "      <td>13</td>\n",
       "      <td>0</td>\n",
       "      <td>0</td>\n",
       "      <td>5</td>\n",
       "      <td>0</td>\n",
       "      <td>1</td>\n",
       "      <td>0</td>\n",
       "      <td>0</td>\n",
       "      <td>0</td>\n",
       "      <td>1</td>\n",
       "      <td>0.00</td>\n",
       "      <td>1</td>\n",
       "      <td>0.00</td>\n",
       "      <td>4552.41</td>\n",
       "    </tr>\n",
       "  </tbody>\n",
       "</table>\n",
       "</div>"
      ],
      "text/plain": [
       "   FRAUDE      VALOR  HORA_AUX  COD_PAIS  CANAL  DIASEM  SEXO  SEGMENTO  EDAD  \\\n",
       "0     NaN   42230.09        18         0      1       5     1         0    46   \n",
       "1     NaN  143202.65        20         0      2       3     1         4    56   \n",
       "2     NaN  243591.25         2         2      0       0     1         0    33   \n",
       "3     NaN  238267.40        20         2      0       5     1         0    53   \n",
       "4     NaN  490403.58        13         0      0       5     0         1     0   \n",
       "\n",
       "   INGRESOS   EGRESOS  NROPAISES  Dist_Mean_INTER  NROCIUDADES  Dist_Mean_NAL  \\\n",
       "0  20000000  10000000          1             0.00            1           0.00   \n",
       "1  11000000   4500000          3          6092.69            2         614.04   \n",
       "2   9000000   4000000          3          1743.52            7         138.88   \n",
       "3   2300000    500000          1             0.00            1           0.00   \n",
       "4         0         0          1             0.00            1           0.00   \n",
       "\n",
       "   Dist_HOY  \n",
       "0   4552.41  \n",
       "1   4552.41  \n",
       "2   5083.41  \n",
       "3    904.81  \n",
       "4   4552.41  "
      ]
     },
     "execution_count": 22,
     "metadata": {},
     "output_type": "execute_result"
    }
   ],
   "source": [
    "# eliminando registros nulos en la columna SEXO\n",
    "df_2.dropna(subset=['SEXO'], inplace=True)\n",
    "\n",
    "# transformando los datos categóricos a númericos\n",
    "df_2['Canal1'] = df_2['Canal1'].map({'ATM_INT':0, 'POS':1})\n",
    "df_2['CANAL'] = df_2['CANAL'].map({'ATM_INT':0, 'POS':1, 'MCI':2})\n",
    "df_2['SEXO'] = df_2['SEXO'].map({'M':0, 'F':1})\n",
    "df_2['SEGMENTO'] = df_2['SEGMENTO'].map({'Personal Plus':0, 'Personal':1, 'Emprendedor':2,\n",
    "                                     'PYME':3, 'Preferencial':4, 'Empresarial':5})\n",
    "\n",
    "# para dar orden a los paises, se hizo un recuento de cuales paises eran los que tenian más registros\n",
    "df_2['COD_PAIS'] = df_2['COD_PAIS'].map({'US':0, 'PA':1, 'EC':2, 'CR':3,\n",
    "                                     'DO':4, 'MX':5, 'PH':6, 'AR':7, 'CL':8,\n",
    "                                     'PR':9, 'AW':10, 'BR':11, 'SV':12, 'HN':13,\n",
    "                                     'FR':14, 'PY':15, 'GB':16, 'CW':17, 'UY':18,\n",
    "                                     'PE':19, 'GT':20, 'IT':21, 'CN':22, 'JP':23,\n",
    "                                     'CU':24, 'NI':25, 'CA':26, 'HK':27, 'FJ':28})\n",
    "\n",
    "# eliminando cualquier columna que no se relacione con las columnas resultantes de df\n",
    "columns_drop = ['id', 'Dist_max_NAL', 'Canal1', 'FECHA', 'DIAMES', 'FECHA_VIN', 'OFICINA_VIN',\n",
    "                   'Dist_Sum_INTER', 'Dist_Max_INTER', 'Dist_sum_NAL', 'Dist_max_COL',\n",
    "                   'FECHA_FRAUDE', 'Dist_max_INTER', 'Dist_Sum_NAL', 'Dist_mean_NAL',\n",
    "                   'Dist_sum_INTER', 'Dist_mean_INTER']\n",
    "\n",
    "# iterando atraves de la lista donde si consigue alguna de esas columnas, la borra\n",
    "for column in columns_drop:\n",
    "    if column in df_2.columns:\n",
    "        df_2.drop(columns=column, inplace=True)\n",
    "\n",
    "# rellando nulos por 0\n",
    "df_2['Dist_Mean_INTER'] = df_2['Dist_Mean_INTER'].fillna(0)\n",
    "df_2['Dist_Mean_NAL'] = df_2['Dist_Mean_NAL'].fillna(0)\n",
    "\n",
    "# visualizando df_2\n",
    "df_2.head()"
   ]
  },
  {
   "cell_type": "markdown",
   "id": "afd69222-87b6-47be-993b-0d37d69228d3",
   "metadata": {},
   "source": [
    "Ya al tener nuestro dataset de prueba optimo, procedemos a realizar las predicciones usando el modelo KNN."
   ]
  },
  {
   "cell_type": "markdown",
   "id": "9b45dea4-e297-4e79-a75d-045b3c29cc7c",
   "metadata": {},
   "source": [
    "### Predicción de Fraude"
   ]
  },
  {
   "cell_type": "markdown",
   "id": "b5536add-2135-498c-8afe-9ceaf1506eb4",
   "metadata": {},
   "source": [
    "Luego de tener el dataset óptimo para ingresar los datos al modelo, creamos las variables para dicha acción."
   ]
  },
  {
   "cell_type": "code",
   "execution_count": 23,
   "id": "85663fb4-93f9-4577-a175-c0d84115d13e",
   "metadata": {},
   "outputs": [],
   "source": [
    "# variable que contiene los datos de df_2 para la predicción\n",
    "X = df_2.drop(columns=['FRAUDE'])"
   ]
  },
  {
   "cell_type": "code",
   "execution_count": 24,
   "id": "c6f516db-02d1-435e-b5db-1d58b469d6ab",
   "metadata": {},
   "outputs": [],
   "source": [
    "# realizando las predicciones\n",
    "y = knn.predict(X)"
   ]
  },
  {
   "cell_type": "markdown",
   "id": "e9179caf-5468-44c2-9378-29656586a662",
   "metadata": {},
   "source": [
    "La variable X contiene los datos que se usarán para predecir los valores de y. La variable y almacenará un array con los valores predichos por el modelo KNN luego de procesar los valores de X."
   ]
  },
  {
   "cell_type": "markdown",
   "id": "74109d74-0e81-4ac2-9e47-1535c7bdd6ec",
   "metadata": {},
   "source": [
    "Procedemos a cargar el dataset que contendrá los valores predichos."
   ]
  },
  {
   "cell_type": "code",
   "execution_count": 25,
   "id": "2da13369-83fd-4cca-995c-cd59579f0bd1",
   "metadata": {},
   "outputs": [],
   "source": [
    "# cargando el dataset que contendra los valores predichos\n",
    "test_evaluado = pd.read_csv('test.csv')"
   ]
  },
  {
   "cell_type": "markdown",
   "id": "b4efdef3-b26e-40b1-bf16-593322801c78",
   "metadata": {},
   "source": [
    "Ahora anexamos los valores contenidos en la variable y en la columna FRAUDE."
   ]
  },
  {
   "cell_type": "code",
   "execution_count": 26,
   "id": "1e55743f-0d91-445a-b9eb-7649e00e5eb7",
   "metadata": {},
   "outputs": [
    {
     "data": {
      "text/html": [
       "<div>\n",
       "<style scoped>\n",
       "    .dataframe tbody tr th:only-of-type {\n",
       "        vertical-align: middle;\n",
       "    }\n",
       "\n",
       "    .dataframe tbody tr th {\n",
       "        vertical-align: top;\n",
       "    }\n",
       "\n",
       "    .dataframe thead th {\n",
       "        text-align: right;\n",
       "    }\n",
       "</style>\n",
       "<table border=\"1\" class=\"dataframe\">\n",
       "  <thead>\n",
       "    <tr style=\"text-align: right;\">\n",
       "      <th></th>\n",
       "      <th>id</th>\n",
       "      <th>FRAUDE</th>\n",
       "      <th>VALOR</th>\n",
       "      <th>HORA_AUX</th>\n",
       "      <th>Dist_max_COL</th>\n",
       "      <th>Dist_max_INTER</th>\n",
       "      <th>Canal1</th>\n",
       "      <th>FECHA_FRAUDE</th>\n",
       "      <th>COD_PAIS</th>\n",
       "      <th>CANAL</th>\n",
       "      <th>FECHA</th>\n",
       "      <th>DIASEM</th>\n",
       "      <th>DIAMES</th>\n",
       "      <th>FECHA_VIN</th>\n",
       "      <th>OFICINA_VIN</th>\n",
       "      <th>SEXO</th>\n",
       "      <th>SEGMENTO</th>\n",
       "      <th>EDAD</th>\n",
       "      <th>INGRESOS</th>\n",
       "      <th>EGRESOS</th>\n",
       "      <th>NROPAISES</th>\n",
       "      <th>Dist_Sum_INTER</th>\n",
       "      <th>Dist_Mean_INTER</th>\n",
       "      <th>Dist_Max_INTER</th>\n",
       "      <th>NROCIUDADES</th>\n",
       "      <th>Dist_Sum_NAL</th>\n",
       "      <th>Dist_Mean_NAL</th>\n",
       "      <th>Dist_HOY</th>\n",
       "      <th>Dist_sum_NAL</th>\n",
       "      <th>Dist_mean_NAL</th>\n",
       "      <th>Dist_sum_INTER</th>\n",
       "      <th>Dist_mean_INTER</th>\n",
       "    </tr>\n",
       "  </thead>\n",
       "  <tbody>\n",
       "    <tr>\n",
       "      <th>0</th>\n",
       "      <td>98523068</td>\n",
       "      <td>0</td>\n",
       "      <td>42230.09</td>\n",
       "      <td>18</td>\n",
       "      <td>1.00</td>\n",
       "      <td>1.00</td>\n",
       "      <td>POS</td>\n",
       "      <td>20150515</td>\n",
       "      <td>US</td>\n",
       "      <td>POS</td>\n",
       "      <td>20150515</td>\n",
       "      <td>5</td>\n",
       "      <td>15</td>\n",
       "      <td>20150316</td>\n",
       "      <td>611</td>\n",
       "      <td>F</td>\n",
       "      <td>Personal Plus</td>\n",
       "      <td>46</td>\n",
       "      <td>20000000</td>\n",
       "      <td>10000000</td>\n",
       "      <td>1</td>\n",
       "      <td>NaN</td>\n",
       "      <td>NaN</td>\n",
       "      <td>NaN</td>\n",
       "      <td>1</td>\n",
       "      <td>NaN</td>\n",
       "      <td>NaN</td>\n",
       "      <td>4552.41</td>\n",
       "      <td>1.00</td>\n",
       "      <td>1.00</td>\n",
       "      <td>1.00</td>\n",
       "      <td>1.00</td>\n",
       "    </tr>\n",
       "    <tr>\n",
       "      <th>1</th>\n",
       "      <td>300237898</td>\n",
       "      <td>0</td>\n",
       "      <td>143202.65</td>\n",
       "      <td>20</td>\n",
       "      <td>614.04</td>\n",
       "      <td>7632.97</td>\n",
       "      <td>POS</td>\n",
       "      <td>20150506</td>\n",
       "      <td>US</td>\n",
       "      <td>MCI</td>\n",
       "      <td>20150506</td>\n",
       "      <td>3</td>\n",
       "      <td>6</td>\n",
       "      <td>19890814</td>\n",
       "      <td>961</td>\n",
       "      <td>F</td>\n",
       "      <td>Preferencial</td>\n",
       "      <td>56</td>\n",
       "      <td>11000000</td>\n",
       "      <td>4500000</td>\n",
       "      <td>3</td>\n",
       "      <td>24370.75</td>\n",
       "      <td>6092.69</td>\n",
       "      <td>7632.97</td>\n",
       "      <td>2</td>\n",
       "      <td>1228.07</td>\n",
       "      <td>614.04</td>\n",
       "      <td>4552.41</td>\n",
       "      <td>1228.07</td>\n",
       "      <td>614.04</td>\n",
       "      <td>24370.75</td>\n",
       "      <td>6092.69</td>\n",
       "    </tr>\n",
       "    <tr>\n",
       "      <th>2</th>\n",
       "      <td>943273308</td>\n",
       "      <td>1</td>\n",
       "      <td>243591.25</td>\n",
       "      <td>2</td>\n",
       "      <td>286.84</td>\n",
       "      <td>2443.14</td>\n",
       "      <td>ATM_INT</td>\n",
       "      <td>20150517</td>\n",
       "      <td>EC</td>\n",
       "      <td>ATM_INT</td>\n",
       "      <td>20150517</td>\n",
       "      <td>0</td>\n",
       "      <td>17</td>\n",
       "      <td>20051201</td>\n",
       "      <td>218</td>\n",
       "      <td>F</td>\n",
       "      <td>Personal Plus</td>\n",
       "      <td>33</td>\n",
       "      <td>9000000</td>\n",
       "      <td>4000000</td>\n",
       "      <td>3</td>\n",
       "      <td>6974.09</td>\n",
       "      <td>1743.52</td>\n",
       "      <td>2443.14</td>\n",
       "      <td>7</td>\n",
       "      <td>1944.35</td>\n",
       "      <td>138.88</td>\n",
       "      <td>5083.41</td>\n",
       "      <td>1944.35</td>\n",
       "      <td>138.88</td>\n",
       "      <td>6974.09</td>\n",
       "      <td>1743.52</td>\n",
       "    </tr>\n",
       "    <tr>\n",
       "      <th>3</th>\n",
       "      <td>951645809</td>\n",
       "      <td>1</td>\n",
       "      <td>238267.40</td>\n",
       "      <td>20</td>\n",
       "      <td>1.00</td>\n",
       "      <td>1.00</td>\n",
       "      <td>ATM_INT</td>\n",
       "      <td>20150508</td>\n",
       "      <td>EC</td>\n",
       "      <td>ATM_INT</td>\n",
       "      <td>20150508</td>\n",
       "      <td>5</td>\n",
       "      <td>8</td>\n",
       "      <td>19990301</td>\n",
       "      <td>113</td>\n",
       "      <td>F</td>\n",
       "      <td>Personal Plus</td>\n",
       "      <td>53</td>\n",
       "      <td>2300000</td>\n",
       "      <td>500000</td>\n",
       "      <td>1</td>\n",
       "      <td>NaN</td>\n",
       "      <td>NaN</td>\n",
       "      <td>NaN</td>\n",
       "      <td>1</td>\n",
       "      <td>NaN</td>\n",
       "      <td>NaN</td>\n",
       "      <td>904.81</td>\n",
       "      <td>1.00</td>\n",
       "      <td>1.00</td>\n",
       "      <td>1.00</td>\n",
       "      <td>1.00</td>\n",
       "    </tr>\n",
       "    <tr>\n",
       "      <th>4</th>\n",
       "      <td>963797516</td>\n",
       "      <td>1</td>\n",
       "      <td>490403.58</td>\n",
       "      <td>13</td>\n",
       "      <td>1.00</td>\n",
       "      <td>1.00</td>\n",
       "      <td>ATM_INT</td>\n",
       "      <td>20150501</td>\n",
       "      <td>US</td>\n",
       "      <td>ATM_INT</td>\n",
       "      <td>20150501</td>\n",
       "      <td>5</td>\n",
       "      <td>1</td>\n",
       "      <td>19910330</td>\n",
       "      <td>85</td>\n",
       "      <td>M</td>\n",
       "      <td>Personal</td>\n",
       "      <td>0</td>\n",
       "      <td>0</td>\n",
       "      <td>0</td>\n",
       "      <td>1</td>\n",
       "      <td>NaN</td>\n",
       "      <td>NaN</td>\n",
       "      <td>NaN</td>\n",
       "      <td>1</td>\n",
       "      <td>NaN</td>\n",
       "      <td>NaN</td>\n",
       "      <td>4552.41</td>\n",
       "      <td>1.00</td>\n",
       "      <td>1.00</td>\n",
       "      <td>1.00</td>\n",
       "      <td>1.00</td>\n",
       "    </tr>\n",
       "  </tbody>\n",
       "</table>\n",
       "</div>"
      ],
      "text/plain": [
       "          id  FRAUDE      VALOR  HORA_AUX  Dist_max_COL  Dist_max_INTER  \\\n",
       "0   98523068       0   42230.09        18          1.00            1.00   \n",
       "1  300237898       0  143202.65        20        614.04         7632.97   \n",
       "2  943273308       1  243591.25         2        286.84         2443.14   \n",
       "3  951645809       1  238267.40        20          1.00            1.00   \n",
       "4  963797516       1  490403.58        13          1.00            1.00   \n",
       "\n",
       "    Canal1  FECHA_FRAUDE COD_PAIS    CANAL     FECHA  DIASEM  DIAMES  \\\n",
       "0      POS      20150515       US      POS  20150515       5      15   \n",
       "1      POS      20150506       US      MCI  20150506       3       6   \n",
       "2  ATM_INT      20150517       EC  ATM_INT  20150517       0      17   \n",
       "3  ATM_INT      20150508       EC  ATM_INT  20150508       5       8   \n",
       "4  ATM_INT      20150501       US  ATM_INT  20150501       5       1   \n",
       "\n",
       "   FECHA_VIN  OFICINA_VIN SEXO       SEGMENTO  EDAD  INGRESOS   EGRESOS  \\\n",
       "0   20150316          611    F  Personal Plus    46  20000000  10000000   \n",
       "1   19890814          961    F   Preferencial    56  11000000   4500000   \n",
       "2   20051201          218    F  Personal Plus    33   9000000   4000000   \n",
       "3   19990301          113    F  Personal Plus    53   2300000    500000   \n",
       "4   19910330           85    M       Personal     0         0         0   \n",
       "\n",
       "   NROPAISES  Dist_Sum_INTER  Dist_Mean_INTER  Dist_Max_INTER  NROCIUDADES  \\\n",
       "0          1             NaN              NaN             NaN            1   \n",
       "1          3        24370.75          6092.69         7632.97            2   \n",
       "2          3         6974.09          1743.52         2443.14            7   \n",
       "3          1             NaN              NaN             NaN            1   \n",
       "4          1             NaN              NaN             NaN            1   \n",
       "\n",
       "   Dist_Sum_NAL  Dist_Mean_NAL  Dist_HOY  Dist_sum_NAL  Dist_mean_NAL  \\\n",
       "0           NaN            NaN   4552.41          1.00           1.00   \n",
       "1       1228.07         614.04   4552.41       1228.07         614.04   \n",
       "2       1944.35         138.88   5083.41       1944.35         138.88   \n",
       "3           NaN            NaN    904.81          1.00           1.00   \n",
       "4           NaN            NaN   4552.41          1.00           1.00   \n",
       "\n",
       "   Dist_sum_INTER  Dist_mean_INTER  \n",
       "0            1.00             1.00  \n",
       "1        24370.75          6092.69  \n",
       "2         6974.09          1743.52  \n",
       "3            1.00             1.00  \n",
       "4            1.00             1.00  "
      ]
     },
     "execution_count": 26,
     "metadata": {},
     "output_type": "execute_result"
    }
   ],
   "source": [
    "# anexando valores de la variable y en la columna FRAUDE\n",
    "test_evaluado['FRAUDE'] = y\n",
    "test_evaluado.head()"
   ]
  },
  {
   "cell_type": "markdown",
   "id": "25ab1687-2527-4f24-8fbd-7013c8b12d60",
   "metadata": {},
   "source": [
    "Al tener nuestro dataframe listo, lo procedemos a guardar."
   ]
  },
  {
   "cell_type": "code",
   "execution_count": 27,
   "id": "71647c8d-b209-4fcf-8e61-59bac49e12d0",
   "metadata": {},
   "outputs": [],
   "source": [
    "test_evaluado.to_csv('test_evaluado.csv', index=False)"
   ]
  },
  {
   "cell_type": "markdown",
   "id": "d85f189d-603b-4a59-b813-fbaf612d0fde",
   "metadata": {},
   "source": [
    "## ADICIONAL (Modelo de predicción)"
   ]
  },
  {
   "cell_type": "markdown",
   "id": "faf38533-8ba5-4d24-8dff-c50c54902651",
   "metadata": {},
   "source": [
    "Este modelo en base a las variables que usa el modelo predice si la transacción es fraunde o no."
   ]
  },
  {
   "cell_type": "code",
   "execution_count": 28,
   "id": "b23c66b3-d442-4a74-bd23-724d3c45ee40",
   "metadata": {},
   "outputs": [],
   "source": [
    "def prediccion_fraude (data):\n",
    "    # convirtiendo los datos en un array\n",
    "    input_data_as_numpy_array= np.asarray(data)\n",
    "\n",
    "    # reformando los datos\n",
    "    input_data_reshaped = input_data_as_numpy_array.reshape(1,-1)\n",
    "\n",
    "    # realizando predicción usando knn\n",
    "    prediction = knn.predict(input_data_reshaped)\n",
    "\n",
    "    # imprimiendo los resultados\n",
    "    print(f'El resultado es {prediction[0]}')\n",
    "\n",
    "    if (prediction[0]== 0):\n",
    "      print(\"La transacción no es fraude\")\n",
    "    else:\n",
    "      print(\"La transacción es fraude\")"
   ]
  },
  {
   "cell_type": "code",
   "execution_count": 29,
   "id": "66065db1-b502-471d-832d-b9f08f4b9620",
   "metadata": {},
   "outputs": [
    {
     "name": "stdout",
     "output_type": "stream",
     "text": [
      "El resultado es 0\n",
      "La transacción no es fraude\n"
     ]
    }
   ],
   "source": [
    "datos_prediccion = (42230.09,18,0,1,5,1,0,46,20000000,10000000,1,0.00,1,0.00,4552.41)\n",
    "prediccion_fraude(datos_prediccion)"
   ]
  },
  {
   "cell_type": "code",
   "execution_count": 30,
   "id": "e08aa934-746c-4edc-8aa8-af4217c9c25c",
   "metadata": {},
   "outputs": [
    {
     "name": "stdout",
     "output_type": "stream",
     "text": [
      "El resultado es 1\n",
      "La transacción es fraude\n"
     ]
    }
   ],
   "source": [
    "datos_prediccion = (238267.40,20,2,0,5,1,0,53,2300000,500000,1,0.00,1,0.00,904.811)\n",
    "prediccion_fraude(datos_prediccion)"
   ]
  }
 ],
 "metadata": {
  "kernelspec": {
   "display_name": "Python 3 (ipykernel)",
   "language": "python",
   "name": "python3"
  },
  "language_info": {
   "codemirror_mode": {
    "name": "ipython",
    "version": 3
   },
   "file_extension": ".py",
   "mimetype": "text/x-python",
   "name": "python",
   "nbconvert_exporter": "python",
   "pygments_lexer": "ipython3",
   "version": "3.11.7"
  }
 },
 "nbformat": 4,
 "nbformat_minor": 5
}
