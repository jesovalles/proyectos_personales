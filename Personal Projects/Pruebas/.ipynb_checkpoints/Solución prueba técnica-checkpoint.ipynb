{
 "cells": [
  {
   "cell_type": "markdown",
   "id": "fdba58c0-ab75-464a-bba4-5ea4ca77ab5e",
   "metadata": {},
   "source": [
    "# Prueba técnica"
   ]
  },
  {
   "cell_type": "markdown",
   "id": "7ff46add-d969-4d6f-8721-e774ef361293",
   "metadata": {},
   "source": [
    "Parte I – Python\n",
    "\n",
    "Archivo: “Flight_Predictions.csv”\n",
    "\n",
    "Descripción de los datos\n",
    "El dataset contiene información de reservas de vuelos realizados en la página web Easemytrip, vuelos realizados entre las ciudadades principales de la India."
   ]
  },
  {
   "cell_type": "markdown",
   "id": "79b19630-02f1-46ea-bf58-5169c362b4cf",
   "metadata": {},
   "source": [
    "Objetivo: Predecir el precio de los tiquetes aéreos"
   ]
  },
  {
   "cell_type": "markdown",
   "id": "ac84eb91-1ccc-430e-b3f1-f60631c97105",
   "metadata": {},
   "source": [
    "Actividades:"
   ]
  },
  {
   "cell_type": "markdown",
   "id": "24a26149-68ce-491f-be83-2d0e8893dee3",
   "metadata": {},
   "source": [
    "Explorar la data:\n",
    "- Limpiar la data si es necesario\n",
    "- ¿Cuáles son las ciudades de origen?\n",
    "- ¿Cuántas aerolíneas son?\n",
    "- ¿Cuál es el precio promedio de cada aerolínea según la clase?"
   ]
  },
  {
   "cell_type": "markdown",
   "id": "957c0af4-aa98-48e3-8dcb-93dd276a9c2b",
   "metadata": {},
   "source": [
    "Modelo de machine learning\n",
    "- Aplicar al menos 2 modelos de regresión para predecir el precio del tiquete del vuelo, ¿Cuál modelo de regresión se adapta mejor? ¿por qué?"
   ]
  },
  {
   "cell_type": "markdown",
   "id": "4224c5f9-3f98-487e-83cb-7f2f268c6845",
   "metadata": {},
   "source": [
    "# Diccionario"
   ]
  },
  {
   "cell_type": "markdown",
   "id": "e648bd8b-2563-468a-be93-9c8de10668c1",
   "metadata": {},
   "source": [
    "| Variable       |        Significado     | \n",
    "|-----------------------|-----------------------|\n",
    "| Airline            |        Aerolinea del vuelo      |\n",
    "| Flight         |        Número del vuelo      |\n",
    "| Source city            |        Ciudad origen del vuelo     |\n",
    "| Departure time   |        Periodo de tiempo de la salida del vuelo: 'Evening', 'Early_Morning','Morning','Afternoon','Night','Late Night'      |\n",
    "| Stops  |        Número de escalas: 0, 1, 2 o más|\n",
    "| Arrival time   |        Hora de llegada a la ciudad destino     |\n",
    "| Destination city      |        Ciudad destino    |\n",
    "| Days left |        Diferencia de días entre la fecha de viaje y la fecha en que el tiquete fue reservado    |\n",
    "|Price |      Precio del tiquete aéreo      |\n",
    "| Class              |      Económica o Business    |\n",
    "| Duration   |      Duración del vuelo    |"
   ]
  },
  {
   "cell_type": "markdown",
   "id": "52944771-2ea7-4c9a-a010-4fe3c7166641",
   "metadata": {},
   "source": [
    "# Solución"
   ]
  },
  {
   "cell_type": "code",
   "execution_count": 27,
   "id": "b6bcfc30-0d6f-4090-a65e-b4b9ee72e8a7",
   "metadata": {},
   "outputs": [],
   "source": [
    "# importando librerías a usar\n",
    "import pandas as pd\n",
    "import numpy as np\n",
    "import matplotlib.pyplot as plt\n",
    "import seaborn as sns\n",
    "from sklearn import preprocessing\n",
    "from sklearn import metrics\n",
    "from sklearn.metrics import mean_squared_error, mean_absolute_error, r2_score\n",
    "from sklearn.model_selection import train_test_split\n",
    "from sklearn.linear_model import Ridge\n",
    "from sklearn.ensemble import RandomForestRegressor\n",
    "import warnings\n",
    "\n",
    "warnings.filterwarnings(\"ignore\")\n",
    "pd.set_option('display.max_columns', None)"
   ]
  },
  {
   "cell_type": "markdown",
   "id": "dcf07dcc-1caf-4e4c-8876-ec909c8c1181",
   "metadata": {},
   "source": [
    "## Cargando el dataset"
   ]
  },
  {
   "cell_type": "code",
   "execution_count": 2,
   "id": "18697d21-1e15-4def-bdd7-0f717aa357c5",
   "metadata": {},
   "outputs": [
    {
     "data": {
      "text/html": [
       "<div>\n",
       "<style scoped>\n",
       "    .dataframe tbody tr th:only-of-type {\n",
       "        vertical-align: middle;\n",
       "    }\n",
       "\n",
       "    .dataframe tbody tr th {\n",
       "        vertical-align: top;\n",
       "    }\n",
       "\n",
       "    .dataframe thead th {\n",
       "        text-align: right;\n",
       "    }\n",
       "</style>\n",
       "<table border=\"1\" class=\"dataframe\">\n",
       "  <thead>\n",
       "    <tr style=\"text-align: right;\">\n",
       "      <th></th>\n",
       "      <th>Unnamed: 0</th>\n",
       "      <th>airline</th>\n",
       "      <th>flight</th>\n",
       "      <th>source_city</th>\n",
       "      <th>departure_time</th>\n",
       "      <th>stops</th>\n",
       "      <th>arrival_time</th>\n",
       "      <th>destination_city</th>\n",
       "      <th>class</th>\n",
       "      <th>duration</th>\n",
       "      <th>days_left</th>\n",
       "      <th>price</th>\n",
       "    </tr>\n",
       "  </thead>\n",
       "  <tbody>\n",
       "    <tr>\n",
       "      <th>0</th>\n",
       "      <td>0</td>\n",
       "      <td>SpiceJet</td>\n",
       "      <td>SG-8709</td>\n",
       "      <td>Delhi</td>\n",
       "      <td>Evening</td>\n",
       "      <td>zero</td>\n",
       "      <td>Night</td>\n",
       "      <td>Mumbai</td>\n",
       "      <td>Economy</td>\n",
       "      <td>2.17</td>\n",
       "      <td>1</td>\n",
       "      <td>5953</td>\n",
       "    </tr>\n",
       "    <tr>\n",
       "      <th>1</th>\n",
       "      <td>1</td>\n",
       "      <td>SpiceJet</td>\n",
       "      <td>SG-8157</td>\n",
       "      <td>Delhi</td>\n",
       "      <td>Early_Morning</td>\n",
       "      <td>zero</td>\n",
       "      <td>Morning</td>\n",
       "      <td>Mumbai</td>\n",
       "      <td>Economy</td>\n",
       "      <td>2.33</td>\n",
       "      <td>1</td>\n",
       "      <td>5953</td>\n",
       "    </tr>\n",
       "    <tr>\n",
       "      <th>2</th>\n",
       "      <td>2</td>\n",
       "      <td>AirAsia</td>\n",
       "      <td>I5-764</td>\n",
       "      <td>Delhi</td>\n",
       "      <td>Early_Morning</td>\n",
       "      <td>zero</td>\n",
       "      <td>Early_Morning</td>\n",
       "      <td>Mumbai</td>\n",
       "      <td>Economy</td>\n",
       "      <td>2.17</td>\n",
       "      <td>1</td>\n",
       "      <td>5956</td>\n",
       "    </tr>\n",
       "    <tr>\n",
       "      <th>3</th>\n",
       "      <td>3</td>\n",
       "      <td>Vistara</td>\n",
       "      <td>UK-995</td>\n",
       "      <td>Delhi</td>\n",
       "      <td>Morning</td>\n",
       "      <td>zero</td>\n",
       "      <td>Afternoon</td>\n",
       "      <td>Mumbai</td>\n",
       "      <td>Economy</td>\n",
       "      <td>2.25</td>\n",
       "      <td>1</td>\n",
       "      <td>5955</td>\n",
       "    </tr>\n",
       "    <tr>\n",
       "      <th>4</th>\n",
       "      <td>4</td>\n",
       "      <td>Vistara</td>\n",
       "      <td>UK-963</td>\n",
       "      <td>Delhi</td>\n",
       "      <td>Morning</td>\n",
       "      <td>zero</td>\n",
       "      <td>Morning</td>\n",
       "      <td>Mumbai</td>\n",
       "      <td>Economy</td>\n",
       "      <td>2.33</td>\n",
       "      <td>1</td>\n",
       "      <td>5955</td>\n",
       "    </tr>\n",
       "  </tbody>\n",
       "</table>\n",
       "</div>"
      ],
      "text/plain": [
       "   Unnamed: 0   airline   flight source_city departure_time stops  \\\n",
       "0           0  SpiceJet  SG-8709       Delhi        Evening  zero   \n",
       "1           1  SpiceJet  SG-8157       Delhi  Early_Morning  zero   \n",
       "2           2   AirAsia   I5-764       Delhi  Early_Morning  zero   \n",
       "3           3   Vistara   UK-995       Delhi        Morning  zero   \n",
       "4           4   Vistara   UK-963       Delhi        Morning  zero   \n",
       "\n",
       "    arrival_time destination_city    class  duration  days_left  price  \n",
       "0          Night           Mumbai  Economy      2.17          1   5953  \n",
       "1        Morning           Mumbai  Economy      2.33          1   5953  \n",
       "2  Early_Morning           Mumbai  Economy      2.17          1   5956  \n",
       "3      Afternoon           Mumbai  Economy      2.25          1   5955  \n",
       "4        Morning           Mumbai  Economy      2.33          1   5955  "
      ]
     },
     "execution_count": 2,
     "metadata": {},
     "output_type": "execute_result"
    }
   ],
   "source": [
    "# cargando dataset en un dataframe\n",
    "df = pd.read_csv('Flight_Predictions.csv')\n",
    "df.head()"
   ]
  },
  {
   "cell_type": "code",
   "execution_count": 3,
   "id": "1adf4f63-77fb-4715-a754-eab8c17e4219",
   "metadata": {},
   "outputs": [
    {
     "name": "stdout",
     "output_type": "stream",
     "text": [
      "<class 'pandas.core.frame.DataFrame'>\n",
      "RangeIndex: 300153 entries, 0 to 300152\n",
      "Data columns (total 12 columns):\n",
      " #   Column            Non-Null Count   Dtype  \n",
      "---  ------            --------------   -----  \n",
      " 0   Unnamed: 0        300153 non-null  int64  \n",
      " 1   airline           300153 non-null  object \n",
      " 2   flight            300153 non-null  object \n",
      " 3   source_city       300153 non-null  object \n",
      " 4   departure_time    300153 non-null  object \n",
      " 5   stops             300153 non-null  object \n",
      " 6   arrival_time      300153 non-null  object \n",
      " 7   destination_city  300153 non-null  object \n",
      " 8   class             300153 non-null  object \n",
      " 9   duration          300153 non-null  float64\n",
      " 10  days_left         300153 non-null  int64  \n",
      " 11  price             300153 non-null  int64  \n",
      "dtypes: float64(1), int64(3), object(8)\n",
      "memory usage: 27.5+ MB\n"
     ]
    }
   ],
   "source": [
    "# visualizando la información del dataset\n",
    "df.info()"
   ]
  },
  {
   "cell_type": "code",
   "execution_count": 4,
   "id": "6fd12590-7061-4c60-8691-decfc38a087f",
   "metadata": {},
   "outputs": [
    {
     "data": {
      "text/plain": [
       "Unnamed: 0          0\n",
       "airline             0\n",
       "flight              0\n",
       "source_city         0\n",
       "departure_time      0\n",
       "stops               0\n",
       "arrival_time        0\n",
       "destination_city    0\n",
       "class               0\n",
       "duration            0\n",
       "days_left           0\n",
       "price               0\n",
       "dtype: int64"
      ]
     },
     "execution_count": 4,
     "metadata": {},
     "output_type": "execute_result"
    }
   ],
   "source": [
    "# visualizando valores faltantes en la data\n",
    "df.isnull().sum()"
   ]
  },
  {
   "cell_type": "markdown",
   "id": "f3da9525-4e97-4677-b5f4-14126c1fa520",
   "metadata": {},
   "source": [
    "Podemos visualizar que el dataset contiene 300153 filas y 12 columnas. Además podemos notar que no existen valores faltantes en la data, por lo que el procesamiento de datos se basará en la eliminación de columnas que no serán relevantes para el modelo."
   ]
  },
  {
   "cell_type": "markdown",
   "id": "bf930501-fb75-4af7-9f2a-1a95e16c85b6",
   "metadata": {},
   "source": [
    "## Limpieza y transformación de los datos"
   ]
  },
  {
   "cell_type": "markdown",
   "id": "59257f30-eb43-4ac4-a80a-468e2b17738d",
   "metadata": {},
   "source": [
    "Se procede a eliminar las columnas Unnamed: 0 y flight ya que básicamente son identificadores y no nos aportaran nada al modelo."
   ]
  },
  {
   "cell_type": "code",
   "execution_count": 5,
   "id": "2dd57c5a-4d1d-40d7-9ca2-680e2b822f06",
   "metadata": {},
   "outputs": [
    {
     "data": {
      "text/html": [
       "<div>\n",
       "<style scoped>\n",
       "    .dataframe tbody tr th:only-of-type {\n",
       "        vertical-align: middle;\n",
       "    }\n",
       "\n",
       "    .dataframe tbody tr th {\n",
       "        vertical-align: top;\n",
       "    }\n",
       "\n",
       "    .dataframe thead th {\n",
       "        text-align: right;\n",
       "    }\n",
       "</style>\n",
       "<table border=\"1\" class=\"dataframe\">\n",
       "  <thead>\n",
       "    <tr style=\"text-align: right;\">\n",
       "      <th></th>\n",
       "      <th>airline</th>\n",
       "      <th>source_city</th>\n",
       "      <th>departure_time</th>\n",
       "      <th>stops</th>\n",
       "      <th>arrival_time</th>\n",
       "      <th>destination_city</th>\n",
       "      <th>class</th>\n",
       "      <th>duration</th>\n",
       "      <th>days_left</th>\n",
       "      <th>price</th>\n",
       "    </tr>\n",
       "  </thead>\n",
       "  <tbody>\n",
       "    <tr>\n",
       "      <th>0</th>\n",
       "      <td>SpiceJet</td>\n",
       "      <td>Delhi</td>\n",
       "      <td>Evening</td>\n",
       "      <td>zero</td>\n",
       "      <td>Night</td>\n",
       "      <td>Mumbai</td>\n",
       "      <td>Economy</td>\n",
       "      <td>2.17</td>\n",
       "      <td>1</td>\n",
       "      <td>5953</td>\n",
       "    </tr>\n",
       "    <tr>\n",
       "      <th>1</th>\n",
       "      <td>SpiceJet</td>\n",
       "      <td>Delhi</td>\n",
       "      <td>Early_Morning</td>\n",
       "      <td>zero</td>\n",
       "      <td>Morning</td>\n",
       "      <td>Mumbai</td>\n",
       "      <td>Economy</td>\n",
       "      <td>2.33</td>\n",
       "      <td>1</td>\n",
       "      <td>5953</td>\n",
       "    </tr>\n",
       "    <tr>\n",
       "      <th>2</th>\n",
       "      <td>AirAsia</td>\n",
       "      <td>Delhi</td>\n",
       "      <td>Early_Morning</td>\n",
       "      <td>zero</td>\n",
       "      <td>Early_Morning</td>\n",
       "      <td>Mumbai</td>\n",
       "      <td>Economy</td>\n",
       "      <td>2.17</td>\n",
       "      <td>1</td>\n",
       "      <td>5956</td>\n",
       "    </tr>\n",
       "    <tr>\n",
       "      <th>3</th>\n",
       "      <td>Vistara</td>\n",
       "      <td>Delhi</td>\n",
       "      <td>Morning</td>\n",
       "      <td>zero</td>\n",
       "      <td>Afternoon</td>\n",
       "      <td>Mumbai</td>\n",
       "      <td>Economy</td>\n",
       "      <td>2.25</td>\n",
       "      <td>1</td>\n",
       "      <td>5955</td>\n",
       "    </tr>\n",
       "    <tr>\n",
       "      <th>4</th>\n",
       "      <td>Vistara</td>\n",
       "      <td>Delhi</td>\n",
       "      <td>Morning</td>\n",
       "      <td>zero</td>\n",
       "      <td>Morning</td>\n",
       "      <td>Mumbai</td>\n",
       "      <td>Economy</td>\n",
       "      <td>2.33</td>\n",
       "      <td>1</td>\n",
       "      <td>5955</td>\n",
       "    </tr>\n",
       "  </tbody>\n",
       "</table>\n",
       "</div>"
      ],
      "text/plain": [
       "    airline source_city departure_time stops   arrival_time destination_city  \\\n",
       "0  SpiceJet       Delhi        Evening  zero          Night           Mumbai   \n",
       "1  SpiceJet       Delhi  Early_Morning  zero        Morning           Mumbai   \n",
       "2   AirAsia       Delhi  Early_Morning  zero  Early_Morning           Mumbai   \n",
       "3   Vistara       Delhi        Morning  zero      Afternoon           Mumbai   \n",
       "4   Vistara       Delhi        Morning  zero        Morning           Mumbai   \n",
       "\n",
       "     class  duration  days_left  price  \n",
       "0  Economy      2.17          1   5953  \n",
       "1  Economy      2.33          1   5953  \n",
       "2  Economy      2.17          1   5956  \n",
       "3  Economy      2.25          1   5955  \n",
       "4  Economy      2.33          1   5955  "
      ]
     },
     "execution_count": 5,
     "metadata": {},
     "output_type": "execute_result"
    }
   ],
   "source": [
    "# eliminando columnas Unnamed: 0 y flight\n",
    "df.drop(columns=['Unnamed: 0', 'flight'], inplace=True)\n",
    "df.head()"
   ]
  },
  {
   "cell_type": "markdown",
   "id": "fd774511-6e52-48d4-8869-2b0d23e26a0e",
   "metadata": {},
   "source": [
    "Al tener nuestro dataset listo para el análisis, procedemos a responder las preguntas de la prueba."
   ]
  },
  {
   "cell_type": "markdown",
   "id": "b334231e-a164-47bf-b02f-a0d7f52736aa",
   "metadata": {},
   "source": [
    "## ¿Cuáles son las ciudades de origen?"
   ]
  },
  {
   "cell_type": "code",
   "execution_count": 6,
   "id": "836a9593-f7a6-4adf-9661-c1508f4e0272",
   "metadata": {},
   "outputs": [
    {
     "data": {
      "text/plain": [
       "array(['Delhi', 'Mumbai', 'Bangalore', 'Kolkata', 'Hyderabad', 'Chennai'],\n",
       "      dtype=object)"
      ]
     },
     "execution_count": 6,
     "metadata": {},
     "output_type": "execute_result"
    }
   ],
   "source": [
    "# visualizando valores unicos de la columna source_city\n",
    "df['source_city'].unique()"
   ]
  },
  {
   "cell_type": "markdown",
   "id": "1086c884-bff8-4e7d-b2b0-84274e660277",
   "metadata": {},
   "source": [
    "Como podemos visualizar, las ciudades de origen son:\n",
    "- Delhi.\n",
    "- Mumbai.\n",
    "- Bangalore.\n",
    "- Kolkata.\n",
    "- Hyderabad.\n",
    "- Chennai."
   ]
  },
  {
   "cell_type": "markdown",
   "id": "2c48d10b-ef6d-4705-9076-3fb53d38c03d",
   "metadata": {},
   "source": [
    "## ¿Cuántas aerolíneas son?"
   ]
  },
  {
   "cell_type": "code",
   "execution_count": 7,
   "id": "12818192-be63-4338-b709-d99de4bf214d",
   "metadata": {},
   "outputs": [
    {
     "data": {
      "text/plain": [
       "array(['SpiceJet', 'AirAsia', 'Vistara', 'GO_FIRST', 'Indigo',\n",
       "       'Air_India'], dtype=object)"
      ]
     },
     "execution_count": 7,
     "metadata": {},
     "output_type": "execute_result"
    }
   ],
   "source": [
    "# visualizando las aerolineas\n",
    "df['airline'].unique()"
   ]
  },
  {
   "cell_type": "markdown",
   "id": "ceef3ddb-b551-4df2-a3fa-bb5975b272a5",
   "metadata": {},
   "source": [
    "Se evidencia que en la muestra de los datos existen 6 aerolíneas, las cuales son:\n",
    "- SpiceJet.\n",
    "- AirAsia.\n",
    "- Vistara.\n",
    "- GO_FIRTS.\n",
    "- Indigo.\n",
    "- Air_India."
   ]
  },
  {
   "cell_type": "markdown",
   "id": "6031f7c3-5283-4b72-b364-6750531fe51f",
   "metadata": {},
   "source": [
    "## ¿Cuál es el precio promedio de cada aerolínea según la clase?"
   ]
  },
  {
   "cell_type": "code",
   "execution_count": 8,
   "id": "1e8e5f30-dbd6-498e-bcc7-fa155cbbaca5",
   "metadata": {},
   "outputs": [
    {
     "data": {
      "text/plain": [
       "airline    class   \n",
       "AirAsia    Economy      4091.072742\n",
       "Air_India  Business    47131.039212\n",
       "           Economy      7313.682169\n",
       "GO_FIRST   Economy      5652.007595\n",
       "Indigo     Economy      5324.216303\n",
       "SpiceJet   Economy      6179.278881\n",
       "Vistara    Business    55477.027777\n",
       "           Economy      7806.943645\n",
       "Name: price, dtype: float64"
      ]
     },
     "execution_count": 8,
     "metadata": {},
     "output_type": "execute_result"
    }
   ],
   "source": [
    "df.groupby(['airline', 'class'])['price'].mean()"
   ]
  },
  {
   "cell_type": "markdown",
   "id": "2f69680d-be94-4c49-82d6-036f9095c2d7",
   "metadata": {},
   "source": [
    "Acá se puede evidenciar el precio promedio de las aerolíneas según la clase."
   ]
  },
  {
   "cell_type": "markdown",
   "id": "6e283fda-577e-46a1-9c65-668611abafdc",
   "metadata": {},
   "source": [
    "## Creación de modelo de machine learning"
   ]
  },
  {
   "cell_type": "markdown",
   "id": "0ca1a290-f3d9-44d8-9010-3d3a0ab0bf43",
   "metadata": {},
   "source": [
    "Antes de realizar la construcción del modelo debemos convertir las variables categóricas en variables númericas."
   ]
  },
  {
   "cell_type": "code",
   "execution_count": 9,
   "id": "22b0a889-b4d0-4013-8b84-f75991422684",
   "metadata": {},
   "outputs": [
    {
     "name": "stdout",
     "output_type": "stream",
     "text": [
      "airline: ['SpiceJet' 'AirAsia' 'Vistara' 'GO_FIRST' 'Indigo' 'Air_India']\n",
      "source_city: ['Delhi' 'Mumbai' 'Bangalore' 'Kolkata' 'Hyderabad' 'Chennai']\n",
      "departure_time: ['Evening' 'Early_Morning' 'Morning' 'Afternoon' 'Night' 'Late_Night']\n",
      "stops: ['zero' 'one' 'two_or_more']\n",
      "arrival_time: ['Night' 'Morning' 'Early_Morning' 'Afternoon' 'Evening' 'Late_Night']\n",
      "destination_city: ['Mumbai' 'Bangalore' 'Kolkata' 'Hyderabad' 'Chennai' 'Delhi']\n",
      "class: ['Economy' 'Business']\n"
     ]
    }
   ],
   "source": [
    "# visualizando los valores de las columnas categóricas\n",
    "for col in df.select_dtypes(include=[\"object\"]).columns:\n",
    "    print(f\"{col}: {df[col].unique()}\")"
   ]
  },
  {
   "cell_type": "code",
   "execution_count": 10,
   "id": "3a62b13d-2746-45ec-b285-735eebaa8b66",
   "metadata": {},
   "outputs": [
    {
     "name": "stdout",
     "output_type": "stream",
     "text": [
      "airline: [4 0 5 2 3 1]\n",
      "source_city: [2 5 0 4 3 1]\n",
      "departure_time: [2 1 4 0 5 3]\n",
      "stops: [2 0 1]\n",
      "arrival_time: [5 4 1 0 2 3]\n",
      "destination_city: [5 0 4 3 1 2]\n",
      "class: [1 0]\n"
     ]
    }
   ],
   "source": [
    "# transformando variables categoricas a numericas - labelEncoding\n",
    "for col in df.select_dtypes(include=['object']).columns:\n",
    "    \n",
    "    label_encoder = preprocessing.LabelEncoder()\n",
    "\n",
    "    label_encoder.fit(df[col].unique())\n",
    "\n",
    "    df[col] = label_encoder.transform(df[col])\n",
    "\n",
    "    print(f\"{col}: {df[col].unique()}\")"
   ]
  },
  {
   "cell_type": "markdown",
   "id": "82246693-0bda-4b0d-88e5-d3461fc33cd1",
   "metadata": {},
   "source": [
    "Al tener nuestras variables listas, procedemos a realizar el modelo. Como es un problema de regresión, se deben usar modelos de regresión."
   ]
  },
  {
   "cell_type": "markdown",
   "id": "3150dc2c-7581-44eb-b9ab-fd02c6c64dba",
   "metadata": {},
   "source": [
    "## Train Test Split"
   ]
  },
  {
   "cell_type": "markdown",
   "id": "4faa45f1-c0eb-4343-a616-5889624449b1",
   "metadata": {},
   "source": [
    "Primeramente procedemos a dividir nuestra data en datos de entrenamiento y en datos de prueba."
   ]
  },
  {
   "cell_type": "code",
   "execution_count": 11,
   "id": "433dae18-393e-45d7-8f7e-1ac4352f2438",
   "metadata": {},
   "outputs": [],
   "source": [
    "# creando variables\n",
    "X = df.drop(\"price\",axis=1)\n",
    "y = df[\"price\"]\n",
    "# dividiendo los datos en datos de entrenamiento y datos de prueba con una semilla 42 para poder replicar los resultados\n",
    "X_train, X_test, y_train, y_test = train_test_split(X, y, test_size=0.3, random_state=42)"
   ]
  },
  {
   "cell_type": "markdown",
   "id": "0463fed8-d2e6-4a17-961f-d3d48676ed0b",
   "metadata": {},
   "source": [
    "Usaré los siguientes modelos de aprendizaje automático para predecir el precio de las casas:\n",
    "- Regresión lineal polinomial.\n",
    "- Ridge Regression.\n",
    "- Random Forest Regression."
   ]
  },
  {
   "cell_type": "markdown",
   "id": "03b598ff-ebf5-4ff5-aa08-66fd056e5eb2",
   "metadata": {},
   "source": [
    "## Regresión Ridge"
   ]
  },
  {
   "cell_type": "code",
   "execution_count": 12,
   "id": "d8efe134-3769-469f-8a06-e9ea84ba96c1",
   "metadata": {},
   "outputs": [],
   "source": [
    "# creando modelo con un alpha de 0.001\n",
    "rr = Ridge(alpha = 0.001)"
   ]
  },
  {
   "cell_type": "code",
   "execution_count": 13,
   "id": "7012092a-4db8-4ff0-88b5-d4cd144b3649",
   "metadata": {},
   "outputs": [
    {
     "data": {
      "text/html": [
       "<style>#sk-container-id-1 {color: black;background-color: white;}#sk-container-id-1 pre{padding: 0;}#sk-container-id-1 div.sk-toggleable {background-color: white;}#sk-container-id-1 label.sk-toggleable__label {cursor: pointer;display: block;width: 100%;margin-bottom: 0;padding: 0.3em;box-sizing: border-box;text-align: center;}#sk-container-id-1 label.sk-toggleable__label-arrow:before {content: \"▸\";float: left;margin-right: 0.25em;color: #696969;}#sk-container-id-1 label.sk-toggleable__label-arrow:hover:before {color: black;}#sk-container-id-1 div.sk-estimator:hover label.sk-toggleable__label-arrow:before {color: black;}#sk-container-id-1 div.sk-toggleable__content {max-height: 0;max-width: 0;overflow: hidden;text-align: left;background-color: #f0f8ff;}#sk-container-id-1 div.sk-toggleable__content pre {margin: 0.2em;color: black;border-radius: 0.25em;background-color: #f0f8ff;}#sk-container-id-1 input.sk-toggleable__control:checked~div.sk-toggleable__content {max-height: 200px;max-width: 100%;overflow: auto;}#sk-container-id-1 input.sk-toggleable__control:checked~label.sk-toggleable__label-arrow:before {content: \"▾\";}#sk-container-id-1 div.sk-estimator input.sk-toggleable__control:checked~label.sk-toggleable__label {background-color: #d4ebff;}#sk-container-id-1 div.sk-label input.sk-toggleable__control:checked~label.sk-toggleable__label {background-color: #d4ebff;}#sk-container-id-1 input.sk-hidden--visually {border: 0;clip: rect(1px 1px 1px 1px);clip: rect(1px, 1px, 1px, 1px);height: 1px;margin: -1px;overflow: hidden;padding: 0;position: absolute;width: 1px;}#sk-container-id-1 div.sk-estimator {font-family: monospace;background-color: #f0f8ff;border: 1px dotted black;border-radius: 0.25em;box-sizing: border-box;margin-bottom: 0.5em;}#sk-container-id-1 div.sk-estimator:hover {background-color: #d4ebff;}#sk-container-id-1 div.sk-parallel-item::after {content: \"\";width: 100%;border-bottom: 1px solid gray;flex-grow: 1;}#sk-container-id-1 div.sk-label:hover label.sk-toggleable__label {background-color: #d4ebff;}#sk-container-id-1 div.sk-serial::before {content: \"\";position: absolute;border-left: 1px solid gray;box-sizing: border-box;top: 0;bottom: 0;left: 50%;z-index: 0;}#sk-container-id-1 div.sk-serial {display: flex;flex-direction: column;align-items: center;background-color: white;padding-right: 0.2em;padding-left: 0.2em;position: relative;}#sk-container-id-1 div.sk-item {position: relative;z-index: 1;}#sk-container-id-1 div.sk-parallel {display: flex;align-items: stretch;justify-content: center;background-color: white;position: relative;}#sk-container-id-1 div.sk-item::before, #sk-container-id-1 div.sk-parallel-item::before {content: \"\";position: absolute;border-left: 1px solid gray;box-sizing: border-box;top: 0;bottom: 0;left: 50%;z-index: -1;}#sk-container-id-1 div.sk-parallel-item {display: flex;flex-direction: column;z-index: 1;position: relative;background-color: white;}#sk-container-id-1 div.sk-parallel-item:first-child::after {align-self: flex-end;width: 50%;}#sk-container-id-1 div.sk-parallel-item:last-child::after {align-self: flex-start;width: 50%;}#sk-container-id-1 div.sk-parallel-item:only-child::after {width: 0;}#sk-container-id-1 div.sk-dashed-wrapped {border: 1px dashed gray;margin: 0 0.4em 0.5em 0.4em;box-sizing: border-box;padding-bottom: 0.4em;background-color: white;}#sk-container-id-1 div.sk-label label {font-family: monospace;font-weight: bold;display: inline-block;line-height: 1.2em;}#sk-container-id-1 div.sk-label-container {text-align: center;}#sk-container-id-1 div.sk-container {/* jupyter's `normalize.less` sets `[hidden] { display: none; }` but bootstrap.min.css set `[hidden] { display: none !important; }` so we also need the `!important` here to be able to override the default hidden behavior on the sphinx rendered scikit-learn.org. See: https://github.com/scikit-learn/scikit-learn/issues/21755 */display: inline-block !important;position: relative;}#sk-container-id-1 div.sk-text-repr-fallback {display: none;}</style><div id=\"sk-container-id-1\" class=\"sk-top-container\"><div class=\"sk-text-repr-fallback\"><pre>Ridge(alpha=0.001)</pre><b>In a Jupyter environment, please rerun this cell to show the HTML representation or trust the notebook. <br />On GitHub, the HTML representation is unable to render, please try loading this page with nbviewer.org.</b></div><div class=\"sk-container\" hidden><div class=\"sk-item\"><div class=\"sk-estimator sk-toggleable\"><input class=\"sk-toggleable__control sk-hidden--visually\" id=\"sk-estimator-id-1\" type=\"checkbox\" checked><label for=\"sk-estimator-id-1\" class=\"sk-toggleable__label sk-toggleable__label-arrow\">Ridge</label><div class=\"sk-toggleable__content\"><pre>Ridge(alpha=0.001)</pre></div></div></div></div></div>"
      ],
      "text/plain": [
       "Ridge(alpha=0.001)"
      ]
     },
     "execution_count": 13,
     "metadata": {},
     "output_type": "execute_result"
    }
   ],
   "source": [
    "# entrenando el modelo con los datos de prueba\n",
    "rr.fit(X_train, y_train)"
   ]
  },
  {
   "cell_type": "code",
   "execution_count": 14,
   "id": "3e08bacf-897c-41f1-8303-69672b53070e",
   "metadata": {},
   "outputs": [
    {
     "data": {
      "text/plain": [
       "0.9045877099195363"
      ]
     },
     "execution_count": 14,
     "metadata": {},
     "output_type": "execute_result"
    }
   ],
   "source": [
    "rr.score(X_train, y_train)"
   ]
  },
  {
   "cell_type": "markdown",
   "id": "400f74e9-751c-4d0c-9289-14c1f9887ad3",
   "metadata": {},
   "source": [
    "Para terminos de precisión con los datos de prueba, se obtiene un 90.45%"
   ]
  },
  {
   "cell_type": "markdown",
   "id": "29c1ffd9-2f8e-4a95-9a0c-ecd9fd3fe691",
   "metadata": {},
   "source": [
    "## Evaluando el modelo"
   ]
  },
  {
   "cell_type": "code",
   "execution_count": 15,
   "id": "68c14c13-656b-434b-9ed0-6bf1b93cd380",
   "metadata": {},
   "outputs": [
    {
     "data": {
      "text/plain": [
       "0.9046540517481271"
      ]
     },
     "execution_count": 15,
     "metadata": {},
     "output_type": "execute_result"
    }
   ],
   "source": [
    "rr_pred = rr.predict(X_test)\n",
    "r2_score(y_test, rr_pred)"
   ]
  },
  {
   "cell_type": "markdown",
   "id": "96d2bf5e-0f2c-4602-80d5-580c78197ea7",
   "metadata": {},
   "source": [
    "Al procesar los datos de prueba con el modelo ya entrenado, obtuvimos un R2_score de 90.46%"
   ]
  },
  {
   "cell_type": "markdown",
   "id": "bf125808-ec5f-47af-bdbd-10d5e1a759fd",
   "metadata": {},
   "source": [
    "## Random Forest Regression"
   ]
  },
  {
   "cell_type": "code",
   "execution_count": 16,
   "id": "b341fb71-9f33-4bc3-a21a-74357447a488",
   "metadata": {},
   "outputs": [],
   "source": [
    "# creando el modelo usando una semilla de 0 y 100 arboles\n",
    "rfr = RandomForestRegressor(n_estimators=100, random_state=0)"
   ]
  },
  {
   "cell_type": "code",
   "execution_count": 17,
   "id": "8a04ecbc-201f-4dfc-aa5c-43cbbc5974df",
   "metadata": {},
   "outputs": [
    {
     "data": {
      "text/html": [
       "<style>#sk-container-id-2 {color: black;background-color: white;}#sk-container-id-2 pre{padding: 0;}#sk-container-id-2 div.sk-toggleable {background-color: white;}#sk-container-id-2 label.sk-toggleable__label {cursor: pointer;display: block;width: 100%;margin-bottom: 0;padding: 0.3em;box-sizing: border-box;text-align: center;}#sk-container-id-2 label.sk-toggleable__label-arrow:before {content: \"▸\";float: left;margin-right: 0.25em;color: #696969;}#sk-container-id-2 label.sk-toggleable__label-arrow:hover:before {color: black;}#sk-container-id-2 div.sk-estimator:hover label.sk-toggleable__label-arrow:before {color: black;}#sk-container-id-2 div.sk-toggleable__content {max-height: 0;max-width: 0;overflow: hidden;text-align: left;background-color: #f0f8ff;}#sk-container-id-2 div.sk-toggleable__content pre {margin: 0.2em;color: black;border-radius: 0.25em;background-color: #f0f8ff;}#sk-container-id-2 input.sk-toggleable__control:checked~div.sk-toggleable__content {max-height: 200px;max-width: 100%;overflow: auto;}#sk-container-id-2 input.sk-toggleable__control:checked~label.sk-toggleable__label-arrow:before {content: \"▾\";}#sk-container-id-2 div.sk-estimator input.sk-toggleable__control:checked~label.sk-toggleable__label {background-color: #d4ebff;}#sk-container-id-2 div.sk-label input.sk-toggleable__control:checked~label.sk-toggleable__label {background-color: #d4ebff;}#sk-container-id-2 input.sk-hidden--visually {border: 0;clip: rect(1px 1px 1px 1px);clip: rect(1px, 1px, 1px, 1px);height: 1px;margin: -1px;overflow: hidden;padding: 0;position: absolute;width: 1px;}#sk-container-id-2 div.sk-estimator {font-family: monospace;background-color: #f0f8ff;border: 1px dotted black;border-radius: 0.25em;box-sizing: border-box;margin-bottom: 0.5em;}#sk-container-id-2 div.sk-estimator:hover {background-color: #d4ebff;}#sk-container-id-2 div.sk-parallel-item::after {content: \"\";width: 100%;border-bottom: 1px solid gray;flex-grow: 1;}#sk-container-id-2 div.sk-label:hover label.sk-toggleable__label {background-color: #d4ebff;}#sk-container-id-2 div.sk-serial::before {content: \"\";position: absolute;border-left: 1px solid gray;box-sizing: border-box;top: 0;bottom: 0;left: 50%;z-index: 0;}#sk-container-id-2 div.sk-serial {display: flex;flex-direction: column;align-items: center;background-color: white;padding-right: 0.2em;padding-left: 0.2em;position: relative;}#sk-container-id-2 div.sk-item {position: relative;z-index: 1;}#sk-container-id-2 div.sk-parallel {display: flex;align-items: stretch;justify-content: center;background-color: white;position: relative;}#sk-container-id-2 div.sk-item::before, #sk-container-id-2 div.sk-parallel-item::before {content: \"\";position: absolute;border-left: 1px solid gray;box-sizing: border-box;top: 0;bottom: 0;left: 50%;z-index: -1;}#sk-container-id-2 div.sk-parallel-item {display: flex;flex-direction: column;z-index: 1;position: relative;background-color: white;}#sk-container-id-2 div.sk-parallel-item:first-child::after {align-self: flex-end;width: 50%;}#sk-container-id-2 div.sk-parallel-item:last-child::after {align-self: flex-start;width: 50%;}#sk-container-id-2 div.sk-parallel-item:only-child::after {width: 0;}#sk-container-id-2 div.sk-dashed-wrapped {border: 1px dashed gray;margin: 0 0.4em 0.5em 0.4em;box-sizing: border-box;padding-bottom: 0.4em;background-color: white;}#sk-container-id-2 div.sk-label label {font-family: monospace;font-weight: bold;display: inline-block;line-height: 1.2em;}#sk-container-id-2 div.sk-label-container {text-align: center;}#sk-container-id-2 div.sk-container {/* jupyter's `normalize.less` sets `[hidden] { display: none; }` but bootstrap.min.css set `[hidden] { display: none !important; }` so we also need the `!important` here to be able to override the default hidden behavior on the sphinx rendered scikit-learn.org. See: https://github.com/scikit-learn/scikit-learn/issues/21755 */display: inline-block !important;position: relative;}#sk-container-id-2 div.sk-text-repr-fallback {display: none;}</style><div id=\"sk-container-id-2\" class=\"sk-top-container\"><div class=\"sk-text-repr-fallback\"><pre>RandomForestRegressor(random_state=0)</pre><b>In a Jupyter environment, please rerun this cell to show the HTML representation or trust the notebook. <br />On GitHub, the HTML representation is unable to render, please try loading this page with nbviewer.org.</b></div><div class=\"sk-container\" hidden><div class=\"sk-item\"><div class=\"sk-estimator sk-toggleable\"><input class=\"sk-toggleable__control sk-hidden--visually\" id=\"sk-estimator-id-2\" type=\"checkbox\" checked><label for=\"sk-estimator-id-2\" class=\"sk-toggleable__label sk-toggleable__label-arrow\">RandomForestRegressor</label><div class=\"sk-toggleable__content\"><pre>RandomForestRegressor(random_state=0)</pre></div></div></div></div></div>"
      ],
      "text/plain": [
       "RandomForestRegressor(random_state=0)"
      ]
     },
     "execution_count": 17,
     "metadata": {},
     "output_type": "execute_result"
    }
   ],
   "source": [
    "# entrenando el modelo con los datos de prueba\n",
    "rfr.fit(X_train, y_train)"
   ]
  },
  {
   "cell_type": "code",
   "execution_count": 20,
   "id": "feb6299f-7c03-434e-8eda-2c9c1214f8bb",
   "metadata": {},
   "outputs": [
    {
     "data": {
      "text/plain": [
       "0.997528175921213"
      ]
     },
     "execution_count": 20,
     "metadata": {},
     "output_type": "execute_result"
    }
   ],
   "source": [
    "rfr.score(X_train, y_train)"
   ]
  },
  {
   "cell_type": "markdown",
   "id": "a55e7b8a-ee73-401c-97a2-16a3cab82a44",
   "metadata": {},
   "source": [
    "## Evaluando el modelo"
   ]
  },
  {
   "cell_type": "code",
   "execution_count": 19,
   "id": "c20d2942-cfcc-44e1-a7d4-2727a69e28df",
   "metadata": {},
   "outputs": [
    {
     "data": {
      "text/plain": [
       "0.9845708162961476"
      ]
     },
     "execution_count": 19,
     "metadata": {},
     "output_type": "execute_result"
    }
   ],
   "source": [
    "rfr_pred = rfr.predict(X_test)\n",
    "r2_score(y_test, rfr_pred)"
   ]
  },
  {
   "cell_type": "markdown",
   "id": "1e02df86-997d-4101-b805-05c7f4b6c93b",
   "metadata": {},
   "source": [
    "Podemos evidenciar que el modelo obtuvo con los datos de entrenamiento un R2_score de 98.45%"
   ]
  },
  {
   "cell_type": "markdown",
   "id": "f1b4fbeb-74d5-4eb1-a830-bb39a310fbfa",
   "metadata": {},
   "source": [
    "## Comparación de los modelos"
   ]
  },
  {
   "cell_type": "markdown",
   "id": "8b741e89-6916-43d6-8acd-e772d926832b",
   "metadata": {},
   "source": [
    "### Errores de los modelos"
   ]
  },
  {
   "cell_type": "code",
   "execution_count": 25,
   "id": "27b4b8d1-c8a3-48a1-8685-4db7fe79ca6c",
   "metadata": {},
   "outputs": [
    {
     "data": {
      "image/png": "[encoded data removed]",
      "text/plain": [
       "<Figure size 2000x500 with 3 Axes>"
      ]
     },
     "metadata": {},
     "output_type": "display_data"
    }
   ],
   "source": [
    "fig, ax = plt.subplots(1,3,figsize=(20,5))\n",
    "sns.barplot(x=[\"Ridge Regression\",\"Random Forest\"], y=[mean_absolute_error(y_test, rr_pred), mean_absolute_error(y_test, rfr_pred)], ax=ax[0])\n",
    "sns.barplot(x=[\"Ridge Regression\",\"Random Forest\"], y=[mean_squared_error(y_test, rr_pred), mean_squared_error(y_test, rfr_pred)], ax=ax[1])\n",
    "sns.barplot(x=[\"Ridge Regression\",\"Random Forest\"], y=[np.sqrt(mean_squared_error(y_test, rr_pred)), np.sqrt(mean_squared_error(y_test, rfr_pred))], ax=ax[2])\n",
    "\n",
    "ax[0].set_ylabel(\"Mean Absolute Error\")\n",
    "ax[1].set_ylabel(\"Mean Squared Error\")\n",
    "ax[2].set_ylabel(\"Root Mean Squared Error\")\n",
    "plt.show()"
   ]
  },
  {
   "cell_type": "markdown",
   "id": "f941753f-3620-4041-8a54-8f24fd5e26db",
   "metadata": {},
   "source": [
    "A nivel de errores absolutos y cuadraticos, podemos evidenciar que el modelo de Random Forest Regressor presento un mejor rendimiento que el modelo De Ridge"
   ]
  },
  {
   "cell_type": "markdown",
   "id": "9bea5cb8-4df3-4bbf-b94e-b7f236aa66b4",
   "metadata": {},
   "source": [
    "### Accuracy de los modelos"
   ]
  },
  {
   "cell_type": "code",
   "execution_count": 28,
   "id": "1f6c393a-108f-4998-ba45-0d0b0ba1284e",
   "metadata": {},
   "outputs": [
    {
     "data": {
      "image/png": "[encoded data removed]",
      "text/plain": [
       "<Figure size 800x600 with 1 Axes>"
      ]
     },
     "metadata": {},
     "output_type": "display_data"
    }
   ],
   "source": [
    "models = [\"Ridge Regression\", \"Random Forest Regression\"]\n",
    "accuracy = [metrics.r2_score(y_test, rr_pred),metrics.r2_score(y_test, rfr_pred)]\n",
    "plt.figure(figsize=(8,6))\n",
    "sns.barplot(x=models, y=accuracy)\n",
    "\n",
    "for i, val in enumerate(accuracy):\n",
    "    plt.text(i, val, f'{val:.4f}', ha=\"center\", va=\"bottom\", fontsize=12)\n",
    "    \n",
    "plt.title(\"Comparación de Accuracy\")\n",
    "plt.ylabel(\"Accuracy\")\n",
    "plt.show()"
   ]
  },
  {
   "cell_type": "markdown",
   "id": "fb2beb53-fd5e-4dd2-b5b1-a5e4d5d31b50",
   "metadata": {},
   "source": [
    "En terminos de Accuracy tambien podemos notar un mejor rendimiento con el Random Forest Regressor, por lo que este será nuestro modelo a usar para las predicciones."
   ]
  },
  {
   "cell_type": "markdown",
   "id": "4c222259-1d7c-42e3-b3db-c2f3c339b674",
   "metadata": {},
   "source": [
    "## Sistema de predicción"
   ]
  },
  {
   "cell_type": "markdown",
   "id": "f1100ffa-ad01-469d-b5c0-05a8f904ac45",
   "metadata": {},
   "source": [
    "Se procede a crear un modelo para la predicción de los precios, usando el modelo rfr"
   ]
  },
  {
   "cell_type": "code",
   "execution_count": 29,
   "id": "644e167c-97ba-4efd-96c3-4e3be22ec0a4",
   "metadata": {},
   "outputs": [
    {
     "data": {
      "text/html": [
       "<div>\n",
       "<style scoped>\n",
       "    .dataframe tbody tr th:only-of-type {\n",
       "        vertical-align: middle;\n",
       "    }\n",
       "\n",
       "    .dataframe tbody tr th {\n",
       "        vertical-align: top;\n",
       "    }\n",
       "\n",
       "    .dataframe thead th {\n",
       "        text-align: right;\n",
       "    }\n",
       "</style>\n",
       "<table border=\"1\" class=\"dataframe\">\n",
       "  <thead>\n",
       "    <tr style=\"text-align: right;\">\n",
       "      <th></th>\n",
       "      <th>airline</th>\n",
       "      <th>source_city</th>\n",
       "      <th>departure_time</th>\n",
       "      <th>stops</th>\n",
       "      <th>arrival_time</th>\n",
       "      <th>destination_city</th>\n",
       "      <th>class</th>\n",
       "      <th>duration</th>\n",
       "      <th>days_left</th>\n",
       "      <th>price</th>\n",
       "    </tr>\n",
       "  </thead>\n",
       "  <tbody>\n",
       "    <tr>\n",
       "      <th>0</th>\n",
       "      <td>4</td>\n",
       "      <td>2</td>\n",
       "      <td>2</td>\n",
       "      <td>2</td>\n",
       "      <td>5</td>\n",
       "      <td>5</td>\n",
       "      <td>1</td>\n",
       "      <td>2.17</td>\n",
       "      <td>1</td>\n",
       "      <td>5953</td>\n",
       "    </tr>\n",
       "    <tr>\n",
       "      <th>1</th>\n",
       "      <td>4</td>\n",
       "      <td>2</td>\n",
       "      <td>1</td>\n",
       "      <td>2</td>\n",
       "      <td>4</td>\n",
       "      <td>5</td>\n",
       "      <td>1</td>\n",
       "      <td>2.33</td>\n",
       "      <td>1</td>\n",
       "      <td>5953</td>\n",
       "    </tr>\n",
       "    <tr>\n",
       "      <th>2</th>\n",
       "      <td>0</td>\n",
       "      <td>2</td>\n",
       "      <td>1</td>\n",
       "      <td>2</td>\n",
       "      <td>1</td>\n",
       "      <td>5</td>\n",
       "      <td>1</td>\n",
       "      <td>2.17</td>\n",
       "      <td>1</td>\n",
       "      <td>5956</td>\n",
       "    </tr>\n",
       "    <tr>\n",
       "      <th>3</th>\n",
       "      <td>5</td>\n",
       "      <td>2</td>\n",
       "      <td>4</td>\n",
       "      <td>2</td>\n",
       "      <td>0</td>\n",
       "      <td>5</td>\n",
       "      <td>1</td>\n",
       "      <td>2.25</td>\n",
       "      <td>1</td>\n",
       "      <td>5955</td>\n",
       "    </tr>\n",
       "    <tr>\n",
       "      <th>4</th>\n",
       "      <td>5</td>\n",
       "      <td>2</td>\n",
       "      <td>4</td>\n",
       "      <td>2</td>\n",
       "      <td>4</td>\n",
       "      <td>5</td>\n",
       "      <td>1</td>\n",
       "      <td>2.33</td>\n",
       "      <td>1</td>\n",
       "      <td>5955</td>\n",
       "    </tr>\n",
       "  </tbody>\n",
       "</table>\n",
       "</div>"
      ],
      "text/plain": [
       "   airline  source_city  departure_time  stops  arrival_time  \\\n",
       "0        4            2               2      2             5   \n",
       "1        4            2               1      2             4   \n",
       "2        0            2               1      2             1   \n",
       "3        5            2               4      2             0   \n",
       "4        5            2               4      2             4   \n",
       "\n",
       "   destination_city  class  duration  days_left  price  \n",
       "0                 5      1      2.17          1   5953  \n",
       "1                 5      1      2.33          1   5953  \n",
       "2                 5      1      2.17          1   5956  \n",
       "3                 5      1      2.25          1   5955  \n",
       "4                 5      1      2.33          1   5955  "
      ]
     },
     "execution_count": 29,
     "metadata": {},
     "output_type": "execute_result"
    }
   ],
   "source": [
    "df.head()"
   ]
  },
  {
   "cell_type": "code",
   "execution_count": 34,
   "id": "56ffecc8-895c-442c-a228-ff51be5357f0",
   "metadata": {},
   "outputs": [],
   "source": [
    "def prediccion_precio (data):\n",
    "    input_data_as_numpy_array= np.asarray(data)\n",
    "\n",
    "    input_data_reshaped = input_data_as_numpy_array.reshape(1,-1)\n",
    "\n",
    "    prediction = rfr.predict(input_data_reshaped)\n",
    "    \n",
    "    print(f\"El precio es ${prediction[0]:.2f}\")"
   ]
  },
  {
   "cell_type": "code",
   "execution_count": 35,
   "id": "b48a4e60-e2e8-46e6-b264-fa655c38716a",
   "metadata": {},
   "outputs": [
    {
     "name": "stdout",
     "output_type": "stream",
     "text": [
      "El precio es $9131.72\n"
     ]
    }
   ],
   "source": [
    "datos_viaje = (4,2,2,2,5,5,1,2.17,1)\n",
    "prediccion_precio(datos_viaje)"
   ]
  },
  {
   "cell_type": "markdown",
   "id": "a4dd6a10-d169-4274-8a75-0c8c94a2e5ed",
   "metadata": {},
   "source": [
    "# Puntos de mejora"
   ]
  },
  {
   "cell_type": "markdown",
   "id": "2b5f66a6-5a3c-4385-be94-e881642d0752",
   "metadata": {},
   "source": [
    "- Se puede realizar una normalización en los datos o una estandarización para tener datos más precisos para el entrenamiento.\n",
    "- Con respecto al LabelEncoding, se puede realizar un mejor mapeo de las caracteristicas para no crear sesgos en los datos."
   ]
  }
 ],
 "metadata": {
  "kernelspec": {
   "display_name": "Python 3 (ipykernel)",
   "language": "python",
   "name": "python3"
  },
  "language_info": {
   "codemirror_mode": {
    "name": "ipython",
    "version": 3
   },
   "file_extension": ".py",
   "mimetype": "text/x-python",
   "name": "python",
   "nbconvert_exporter": "python",
   "pygments_lexer": "ipython3",
   "version": "3.11.7"
  }
 },
 "nbformat": 4,
 "nbformat_minor": 5
}
