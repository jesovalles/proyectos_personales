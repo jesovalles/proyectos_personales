{
 "cells": [
  {
   "cell_type": "markdown",
   "metadata": {
    "_cell_guid": "a1dc673c-6756-44d5-8b83-16cc1d285756",
    "_uuid": "6ad69395-6ff2-42d7-929e-502cdcd6166c"
   },
   "source": [
    "# **Predicción de Diabetes**"
   ]
  },
  {
   "cell_type": "markdown",
   "metadata": {
    "_cell_guid": "4a99dd80-8cbb-4de2-9256-14012f82e48e",
    "_uuid": "98990ccc-502d-419b-833c-96dad374ec6e"
   },
   "source": [
    "# **Objetivo:**\n",
    "\n",
    "El objetivo de este análisis es investigar una variedad de factores relacionados con la salud y sus interconexiones para clasificar la diabetes de manera precisa. Estos factores incluyen aspectos como la edad, el género, el índice de masa corporal (IMC), la hipertensión, enfermedad cardíaca, historial de tabaquismo, nivel de HbA1c y nivel de glucosa en sangre. \n",
    "\n",
    "Este examen exhaustivo no solo proporcionará insights sobre los patrones y tendencias en el riesgo de diabetes, sino que también creará una base sólida para investigaciones futuras. Específicamente, la investigación puede centrarse en cómo estas variables interactúan e influyen en la ocurrencia y progresión de la diabetes, conocimiento crucial para mejorar la atención y los resultados para los pacientes en esta área de la atención médica cada vez más crítica."
   ]
  },
  {
   "cell_type": "markdown",
   "metadata": {
    "_cell_guid": "c5e226c1-4d76-4b71-b02b-5254e829b1c3",
    "_uuid": "9d5af872-4ded-4b18-8e13-1f066c01da41"
   },
   "source": [
    "# **Descripcion de Variables:**\n",
    "\n",
    "**Age:** La edad es un factor importante para predecir el riesgo de diabetes. A medida que las personas envejecen, aumenta su riesgo de desarrollar diabetes. Esto se debe en parte a factores como la reducción de la actividad física, cambios en los niveles hormonales y una mayor probabilidad de desarrollar otras condiciones de salud que pueden contribuir a la diabetes.\n",
    "\n",
    "**Gender:** El género puede desempeñar un papel en el riesgo de diabetes, aunque el efecto puede variar. Por ejemplo, las mujeres con antecedentes de diabetes gestacional (diabetes durante el embarazo) tienen un mayor riesgo de desarrollar diabetes tipo 2 más adelante en la vida. Además, algunos estudios han sugerido que los hombres pueden tener un riesgo ligeramente mayor de diabetes en comparación con las mujeres.\n",
    "\n",
    "**Body Mass Index (BMI):** El BMI es una medida de la grasa corporal basada en la altura y el peso de una persona. Se utiliza comúnmente como indicador del estado general de peso y puede ser útil para predecir el riesgo de diabetes. Un BMI más alto se asocia con una mayor probabilidad de desarrollar diabetes tipo 2. El exceso de grasa corporal, especialmente alrededor de la cintura, puede llevar a la resistencia a la insulina e interferir en la capacidad del cuerpo para regular los niveles de azúcar en la sangre.\n",
    "\n",
    "**Hypertension:** La hipertensión, o presión arterial alta, es una condición que a menudo coexiste con la diabetes. Ambas condiciones comparten factores de riesgo comunes y pueden contribuir al desarrollo mutuo. Tener hipertensión aumenta el riesgo de desarrollar diabetes tipo 2 y viceversa. Ambas condiciones pueden tener efectos perjudiciales para la salud cardiovascular.\n",
    "\n",
    "**Heart Disease:** La enfermedad cardíaca, que incluye condiciones como la enfermedad de las arterias coronarias y la insuficiencia cardíaca, está asociada con un mayor riesgo de diabetes. La relación entre la enfermedad cardíaca y la diabetes es bidireccional, lo que significa que tener una condición aumenta el riesgo de desarrollar la otra. Esto se debe a que comparten muchos factores de riesgo comunes, como la obesidad, la presión arterial alta y el colesterol alto.\n",
    "\n",
    "**Smoking History:** El historial de tabaquismo es un factor de riesgo modificable para la diabetes. Se ha descubierto que fumar aumenta el riesgo de desarrollar diabetes tipo 2. Fumar puede contribuir a la resistencia a la insulina e interferir en el metabolismo de la glucosa. Dejar de fumar puede reducir significativamente el riesgo de desarrollar diabetes y sus complicaciones.\n",
    "\n",
    "**HbA1c Level:** El nivel de HbA1c (hemoglobina glucosilada) es una medida del nivel promedio de glucosa en la sangre durante los últimos 2-3 meses. Proporciona información sobre el control a largo plazo del azúcar en la sangre. Niveles más altos de HbA1c indican un control glucémico deficiente y se asocian con un mayor riesgo de desarrollar diabetes y sus complicaciones.\n",
    "\n",
    "**Blood Glucose Level:** El nivel de glucosa en sangre se refiere a la cantidad de glucosa (azúcar) presente en la sangre en un momento dado. Niveles elevados de glucosa en sangre, especialmente en ayunas o después de consumir carbohidratos, pueden indicar una regulación deficiente de la glucosa y aumentar el riesgo de desarrollar diabetes. La monitorización regular de los niveles de glucosa en sangre es importante en el diagnóstico y tratamiento de la diabetes."
   ]
  },
  {
   "cell_type": "markdown",
   "metadata": {
    "_cell_guid": "28fdd174-24eb-4d22-93d9-cfed8d71cd57",
    "_uuid": "0b116a63-cec6-45ba-b82b-1bf66d42abb3"
   },
   "source": [
    "***Estas variables, cuando se combinan y analizan con las técnicas apropiadas de estadísticas y aprendizaje automático, pueden ayudar a predecir el riesgo de desarrollar diabetes en un individuo.***"
   ]
  },
  {
   "cell_type": "markdown",
   "metadata": {
    "_cell_guid": "0cafa6f5-df25-4b51-a5e8-7d82d62a459d",
    "_uuid": "0599850e-4e83-4c28-9275-f71b48a0e758"
   },
   "source": [
    "# **1. Introducción**\n",
    "\n",
    "**Eleccion del algoritmo**\n",
    "\n",
    "En este análisis, hemos seleccionado el clasificador RandomForest como nuestro modelo. El algoritmo RandomForest es un método de aprendizaje por conjunto que opera construyendo una multitud de árboles de decisión durante el entrenamiento y emitiendo la clase que es la moda de las clases para la clasificación o la predicción media de los árboles individuales para la regresión.\n",
    "\n",
    "Varias razones guiaron nuestra elección de Random Forest para esta tarea:\n",
    "\n",
    "**1) Manejo de Datos Grandes:** Random Forest es capaz de manejar eficientemente conjuntos de datos grandes con alta dimensionalidad. Nuestro conjunto de datos, que contiene un número sustancial de filas y varias características, entra en esta categoría.\n",
    "\n",
    "**2) Robustez al Sobreajuste:** Random Forest reduce el riesgo de sobreajuste, que es un problema común con los árboles de decisión. El algoritmo logra esto creando un conjunto de árboles de decisión (un \"bosque\") y realizando la predicción final en función de la mayoría de votos de los árboles individuales.\n",
    "\n",
    "**3) Manejo de Tipos de Datos Mixtos:** En nuestro conjunto de datos, tenemos características tanto numéricas como categóricas. Random Forest maneja estas mezclas de manera fluida, lo que lo convierte en una elección ideal.\n",
    "\n",
    "**4) Importancia de Características:** Random Forest proporciona una forma sencilla de estimar la importancia de las características. Dada nuestra intención de investigar el impacto de diferentes factores en la diabetes, esta característica es particularmente útil.\n",
    "\n",
    "**5) No Linealidad:** Los datos médicos a menudo contienen relaciones complejas y no lineales. Random Forest, al ser un modelo no lineal, puede capturar estas relaciones de manera efectiva."
   ]
  },
  {
   "cell_type": "markdown",
   "metadata": {
    "_cell_guid": "dd1d1f52-2049-42fb-8bb1-afb5db49f84d",
    "_uuid": "238b801e-2b96-4202-8f1e-719b5d103f9f"
   },
   "source": [
    "**Cargamos las librerias necesarias:**"
   ]
  },
  {
   "cell_type": "code",
   "execution_count": null,
   "metadata": {
    "_cell_guid": "0aa6432f-6deb-4ce1-85c1-e9046bb87d82",
    "_uuid": "881f2916-c51d-4322-b098-eecff6700b50",
    "collapsed": false,
    "execution": {
     "iopub.execute_input": "2024-02-11T16:51:51.785535Z",
     "iopub.status.busy": "2024-02-11T16:51:51.785191Z",
     "iopub.status.idle": "2024-02-11T16:51:53.218788Z",
     "shell.execute_reply": "2024-02-11T16:51:53.217687Z",
     "shell.execute_reply.started": "2024-02-11T16:51:51.785502Z"
    },
    "jupyter": {
     "outputs_hidden": false
    }
   },
   "outputs": [],
   "source": [
    "import warnings\n",
    "warnings.filterwarnings('ignore')\n",
    "\n",
    "#Librerias basicas\n",
    "import numpy as np\n",
    "import pandas as pd\n",
    "\n",
    "#Librerias de visualizacion\n",
    "import matplotlib.pyplot as plt\n",
    "import seaborn as sns\n",
    "\n",
    "#Librerias para el modelo\n",
    "from sklearn.model_selection import train_test_split, GridSearchCV\n",
    "from sklearn.preprocessing import StandardScaler, OneHotEncoder\n",
    "from sklearn.compose import ColumnTransformer\n",
    "from sklearn.ensemble import RandomForestClassifier\n",
    "from sklearn.metrics import accuracy_score, classification_report, confusion_matrix\n",
    "from sklearn.pipeline import Pipeline\n",
    "\n",
    "#Librerias para el \"sampling\"\n",
    "from imblearn.over_sampling import SMOTE\n",
    "from imblearn.under_sampling import RandomUnderSampler\n",
    "from imblearn.pipeline import Pipeline as imbPipeline\n",
    "\n",
    "#Seleccionamos el formato decimal\n",
    "pd.options.display.float_format = \"{:.2f}\".format"
   ]
  },
  {
   "cell_type": "markdown",
   "metadata": {
    "_cell_guid": "e8b5ce78-e080-4ffd-9ef2-7e0b19725cf5",
    "_uuid": "c7a8b922-4429-4af1-845b-0badcc26eb39"
   },
   "source": [
    "**Importamos los datos**"
   ]
  },
  {
   "cell_type": "code",
   "execution_count": null,
   "metadata": {
    "_cell_guid": "4e391760-115e-4539-adcb-7975dedd6643",
    "_uuid": "4ce0d933-465d-4bed-92c6-a729fed98020",
    "collapsed": false,
    "execution": {
     "iopub.execute_input": "2024-02-11T16:51:53.221666Z",
     "iopub.status.busy": "2024-02-11T16:51:53.22106Z",
     "iopub.status.idle": "2024-02-11T16:51:53.338861Z",
     "shell.execute_reply": "2024-02-11T16:51:53.338113Z",
     "shell.execute_reply.started": "2024-02-11T16:51:53.221629Z"
    },
    "jupyter": {
     "outputs_hidden": false
    }
   },
   "outputs": [],
   "source": [
    "df = pd.read_csv(\"diabetes_prediction_dataset.csv\")"
   ]
  },
  {
   "cell_type": "code",
   "execution_count": null,
   "metadata": {
    "_cell_guid": "b78ab8db-0438-486c-8aa9-b03a3f5a0668",
    "_uuid": "9f7b1091-f297-4550-ada4-e119de986316",
    "collapsed": false,
    "execution": {
     "iopub.execute_input": "2024-02-11T16:51:53.340473Z",
     "iopub.status.busy": "2024-02-11T16:51:53.339838Z",
     "iopub.status.idle": "2024-02-11T16:51:53.359416Z",
     "shell.execute_reply": "2024-02-11T16:51:53.358413Z",
     "shell.execute_reply.started": "2024-02-11T16:51:53.34045Z"
    },
    "jupyter": {
     "outputs_hidden": false
    }
   },
   "outputs": [],
   "source": [
    "df.head()"
   ]
  },
  {
   "cell_type": "markdown",
   "metadata": {
    "_cell_guid": "4914f26b-9270-4156-953a-3df6ec244111",
    "_uuid": "fc4618fe-2cb3-43e9-b8a5-82544607ac20"
   },
   "source": [
    "# **2. Análisis de datos exploratorio**"
   ]
  },
  {
   "cell_type": "markdown",
   "metadata": {
    "_cell_guid": "966db790-e421-46cf-8198-782931f4a3d6",
    "_uuid": "38933ee7-881e-4d44-88f1-5d0f083081db"
   },
   "source": [
    "**2.1.1 Calidad de los datos**"
   ]
  },
  {
   "cell_type": "code",
   "execution_count": null,
   "metadata": {
    "_cell_guid": "34b2aff7-08f7-466c-9eb7-3463f01e78af",
    "_uuid": "59fa4608-8ffd-4b39-9a8a-3821f671c58c",
    "collapsed": false,
    "execution": {
     "iopub.execute_input": "2024-02-11T16:51:53.360834Z",
     "iopub.status.busy": "2024-02-11T16:51:53.360525Z",
     "iopub.status.idle": "2024-02-11T16:51:53.401823Z",
     "shell.execute_reply": "2024-02-11T16:51:53.400748Z",
     "shell.execute_reply.started": "2024-02-11T16:51:53.360809Z"
    },
    "jupyter": {
     "outputs_hidden": false
    }
   },
   "outputs": [],
   "source": [
    "#Manejamos los valores duplicados\n",
    "duplicate_rows_data = df[df.duplicated()]\n",
    "print(\"number of duplicate rows: \", duplicate_rows_data.shape)"
   ]
  },
  {
   "cell_type": "code",
   "execution_count": null,
   "metadata": {
    "_cell_guid": "00d59f41-17b0-4429-bc47-b85a9977ebe5",
    "_uuid": "f20714d2-d686-4327-897c-85358859f631",
    "collapsed": false,
    "execution": {
     "iopub.execute_input": "2024-02-11T16:51:53.404557Z",
     "iopub.status.busy": "2024-02-11T16:51:53.404319Z",
     "iopub.status.idle": "2024-02-11T16:51:53.436547Z",
     "shell.execute_reply": "2024-02-11T16:51:53.435435Z",
     "shell.execute_reply.started": "2024-02-11T16:51:53.404538Z"
    },
    "jupyter": {
     "outputs_hidden": false
    }
   },
   "outputs": [],
   "source": [
    "df = df.drop_duplicates()"
   ]
  },
  {
   "cell_type": "code",
   "execution_count": null,
   "metadata": {
    "_cell_guid": "36fb36a2-f7fb-439c-9700-4fc12b1d6fe1",
    "_uuid": "bffbf02d-9912-4d69-a197-c46e1c664f2a",
    "collapsed": false,
    "execution": {
     "iopub.execute_input": "2024-02-11T16:51:53.438487Z",
     "iopub.status.busy": "2024-02-11T16:51:53.438039Z",
     "iopub.status.idle": "2024-02-11T16:51:53.444085Z",
     "shell.execute_reply": "2024-02-11T16:51:53.44339Z",
     "shell.execute_reply.started": "2024-02-11T16:51:53.438461Z"
    },
    "jupyter": {
     "outputs_hidden": false
    }
   },
   "outputs": [],
   "source": [
    "df.shape"
   ]
  },
  {
   "cell_type": "markdown",
   "metadata": {
    "_cell_guid": "8b9594e6-e2cd-448e-8ddc-6a7b0cafd32c",
    "_uuid": "a8460587-80fa-43ca-93b7-c03d474e7370"
   },
   "source": [
    "**2.1.2 Analizamos los valores**"
   ]
  },
  {
   "cell_type": "code",
   "execution_count": null,
   "metadata": {
    "_cell_guid": "47c9bacd-34f9-4d01-a3e0-c37df29236f9",
    "_uuid": "bb22aac2-025e-44d4-b556-bd632251b47d",
    "collapsed": false,
    "execution": {
     "iopub.execute_input": "2024-02-11T16:51:53.445146Z",
     "iopub.status.busy": "2024-02-11T16:51:53.44487Z",
     "iopub.status.idle": "2024-02-11T16:51:53.47259Z",
     "shell.execute_reply": "2024-02-11T16:51:53.47136Z",
     "shell.execute_reply.started": "2024-02-11T16:51:53.445119Z"
    },
    "jupyter": {
     "outputs_hidden": false
    }
   },
   "outputs": [],
   "source": [
    "#Realizamos una itineracion sobre las columnas para ver la cantidad de valores unicos\n",
    "\n",
    "for column in df.columns:\n",
    "    num_distinct_values = len(df[column].unique())\n",
    "    print(f\"{column}: {num_distinct_values} distinct values\")"
   ]
  },
  {
   "cell_type": "markdown",
   "metadata": {
    "_cell_guid": "5b9e02e0-ae32-4189-af82-9a87cf739d3f",
    "_uuid": "25ef35f0-6e0a-45fa-a85e-d3fe8331e415"
   },
   "source": [
    "**2.1.3 Valores faltantes**"
   ]
  },
  {
   "cell_type": "code",
   "execution_count": null,
   "metadata": {
    "_cell_guid": "4624f4c8-51cd-43dd-b360-8ab7bfe2faf7",
    "_uuid": "31218ca1-6989-4f81-9cd7-f05a1ca76e25",
    "collapsed": false,
    "execution": {
     "iopub.execute_input": "2024-02-11T16:51:53.473744Z",
     "iopub.status.busy": "2024-02-11T16:51:53.473447Z",
     "iopub.status.idle": "2024-02-11T16:51:53.488324Z",
     "shell.execute_reply": "2024-02-11T16:51:53.487498Z",
     "shell.execute_reply.started": "2024-02-11T16:51:53.473716Z"
    },
    "jupyter": {
     "outputs_hidden": false
    }
   },
   "outputs": [],
   "source": [
    "#Observamos cuantos valores \"null\" hay en el dataset\n",
    "print(df.isnull().sum())"
   ]
  },
  {
   "cell_type": "code",
   "execution_count": null,
   "metadata": {
    "_cell_guid": "1e386856-8e98-4ca0-801a-2a205fbbb16b",
    "_uuid": "525bf647-5227-4c59-a8b0-44efe20f3474",
    "collapsed": false,
    "execution": {
     "iopub.execute_input": "2024-02-11T16:51:53.489796Z",
     "iopub.status.busy": "2024-02-11T16:51:53.489535Z",
     "iopub.status.idle": "2024-02-11T16:51:53.501974Z",
     "shell.execute_reply": "2024-02-11T16:51:53.500938Z",
     "shell.execute_reply.started": "2024-02-11T16:51:53.489774Z"
    },
    "jupyter": {
     "outputs_hidden": false
    }
   },
   "outputs": [],
   "source": [
    "#Removemos el valor extraño en la variable \"gender\"\n",
    "df['gender'].unique()"
   ]
  },
  {
   "cell_type": "code",
   "execution_count": null,
   "metadata": {
    "_cell_guid": "6c35a598-3215-4048-9f2d-b6e0d67776ff",
    "_uuid": "a3f2add3-ed50-4ba0-ad41-c1847fcd9d87",
    "collapsed": false,
    "execution": {
     "iopub.execute_input": "2024-02-11T16:51:53.504275Z",
     "iopub.status.busy": "2024-02-11T16:51:53.503883Z",
     "iopub.status.idle": "2024-02-11T16:51:53.519965Z",
     "shell.execute_reply": "2024-02-11T16:51:53.519088Z",
     "shell.execute_reply.started": "2024-02-11T16:51:53.504243Z"
    },
    "jupyter": {
     "outputs_hidden": false
    }
   },
   "outputs": [],
   "source": [
    "df = df[df['gender'] != 'Other']"
   ]
  },
  {
   "cell_type": "markdown",
   "metadata": {
    "_cell_guid": "9be76d03-ea51-44b8-9f57-e7608f64c83d",
    "_uuid": "0702ea4d-a16f-4577-8944-151ab56fce9a"
   },
   "source": [
    "**2.1.4 Estadisticos del dataset**"
   ]
  },
  {
   "cell_type": "code",
   "execution_count": null,
   "metadata": {
    "_cell_guid": "60e75db9-8ab0-4946-94c1-9a4d04f2855c",
    "_uuid": "11ee1375-1f27-475d-9b41-8a915824ad67",
    "collapsed": false,
    "execution": {
     "iopub.execute_input": "2024-02-11T16:51:53.521298Z",
     "iopub.status.busy": "2024-02-11T16:51:53.52099Z",
     "iopub.status.idle": "2024-02-11T16:51:53.624923Z",
     "shell.execute_reply": "2024-02-11T16:51:53.624117Z",
     "shell.execute_reply.started": "2024-02-11T16:51:53.521272Z"
    },
    "jupyter": {
     "outputs_hidden": false
    }
   },
   "outputs": [],
   "source": [
    "df.describe().style.format(\"{:.2f}\")"
   ]
  },
  {
   "cell_type": "markdown",
   "metadata": {
    "_cell_guid": "83ed53c8-d1b8-4ae6-86c6-267a9ba92c10",
    "_uuid": "f79ddd76-70df-4856-a7d6-9e8717142c0b"
   },
   "source": [
    "## **2.2 Análisis Univariado**"
   ]
  },
  {
   "cell_type": "markdown",
   "metadata": {
    "_cell_guid": "6327b0f2-cfa3-4ea8-851a-42eeb9f12b77",
    "_uuid": "57994042-968a-44ca-92b4-1bf057315a96"
   },
   "source": [
    "**2.2.1 Histograma para Age**"
   ]
  },
  {
   "cell_type": "code",
   "execution_count": null,
   "metadata": {
    "_cell_guid": "2b6ccf00-ab67-444f-ae2b-8b7acb6c7a69",
    "_uuid": "5266e4a4-58b3-4076-8ea9-9d07d25f6322",
    "collapsed": false,
    "execution": {
     "iopub.execute_input": "2024-02-11T16:51:53.626614Z",
     "iopub.status.busy": "2024-02-11T16:51:53.626249Z",
     "iopub.status.idle": "2024-02-11T16:51:53.866848Z",
     "shell.execute_reply": "2024-02-11T16:51:53.866008Z",
     "shell.execute_reply.started": "2024-02-11T16:51:53.626594Z"
    },
    "jupyter": {
     "outputs_hidden": false
    }
   },
   "outputs": [],
   "source": [
    "plt.hist(df['age'], bins=30, edgecolor='black')\n",
    "plt.title('Age Distribution')\n",
    "plt.xlabel('Age')\n",
    "plt.ylabel('Count')\n",
    "plt.show()"
   ]
  },
  {
   "cell_type": "markdown",
   "metadata": {
    "_cell_guid": "b043f409-26fc-4f0c-8aad-0d8b3f8a8f07",
    "_uuid": "9d7e3ae8-c55a-4f64-afa5-64ac05e9261c"
   },
   "source": [
    "**2.2.2 Diagrama de barras para Gender**"
   ]
  },
  {
   "cell_type": "code",
   "execution_count": null,
   "metadata": {
    "_cell_guid": "ec38264e-130e-45ff-89e7-672cee99746a",
    "_uuid": "02180ecf-d284-4bb5-9c5e-15666eeafc9a",
    "collapsed": false,
    "execution": {
     "iopub.execute_input": "2024-02-11T16:51:53.868388Z",
     "iopub.status.busy": "2024-02-11T16:51:53.868142Z",
     "iopub.status.idle": "2024-02-11T16:51:54.042787Z",
     "shell.execute_reply": "2024-02-11T16:51:54.041938Z",
     "shell.execute_reply.started": "2024-02-11T16:51:53.868364Z"
    },
    "jupyter": {
     "outputs_hidden": false
    }
   },
   "outputs": [],
   "source": [
    "sns.countplot(x='gender', data=df, palette='Set2')\n",
    "plt.title('Gender Distribution')\n",
    "plt.show()"
   ]
  },
  {
   "cell_type": "markdown",
   "metadata": {
    "_cell_guid": "4953e3ca-e402-48fb-b22f-bd9e7b0278d2",
    "_uuid": "4305e5f2-1dba-4d02-813e-e86888871b1d"
   },
   "source": [
    "**2.2.3 Grafico de distribucion para BMI**"
   ]
  },
  {
   "cell_type": "code",
   "execution_count": null,
   "metadata": {
    "_cell_guid": "eb4fd207-f97f-420f-8917-84b550a10376",
    "_uuid": "fa636823-fbb7-4827-bea4-dc71e5ae5091",
    "collapsed": false,
    "execution": {
     "iopub.execute_input": "2024-02-11T16:51:54.047854Z",
     "iopub.status.busy": "2024-02-11T16:51:54.047389Z",
     "iopub.status.idle": "2024-02-11T16:51:54.737909Z",
     "shell.execute_reply": "2024-02-11T16:51:54.736698Z",
     "shell.execute_reply.started": "2024-02-11T16:51:54.047831Z"
    },
    "jupyter": {
     "outputs_hidden": false
    }
   },
   "outputs": [],
   "source": [
    "sns.distplot(df['bmi'], bins=30)\n",
    "plt.title('BMI Distribution')\n",
    "plt.show()"
   ]
  },
  {
   "cell_type": "markdown",
   "metadata": {
    "_cell_guid": "87e6b973-def6-421b-bd9e-bb015539267c",
    "_uuid": "47016cb1-1447-4193-ad63-095aff2223ff"
   },
   "source": [
    "**2.2.4 Graficos para variables binarias**"
   ]
  },
  {
   "cell_type": "code",
   "execution_count": null,
   "metadata": {
    "_cell_guid": "6bbdbda2-e065-4f7e-8934-4e7604bb1a74",
    "_uuid": "5ef9277f-64e2-4968-a311-65538ffe4c03",
    "collapsed": false,
    "execution": {
     "iopub.execute_input": "2024-02-11T16:51:54.739347Z",
     "iopub.status.busy": "2024-02-11T16:51:54.738989Z",
     "iopub.status.idle": "2024-02-11T16:51:55.110755Z",
     "shell.execute_reply": "2024-02-11T16:51:55.109876Z",
     "shell.execute_reply.started": "2024-02-11T16:51:54.73932Z"
    },
    "jupyter": {
     "outputs_hidden": false
    }
   },
   "outputs": [],
   "source": [
    "for col in ['hypertension','heart_disease','diabetes']:\n",
    "  sns.countplot(x=col, data=df, palette='Set2')\n",
    "  plt.title(f'{col} Distribution')\n",
    "  plt.show()"
   ]
  },
  {
   "cell_type": "markdown",
   "metadata": {
    "_cell_guid": "d410b328-6c4c-4076-b99d-9110a8fc4f97",
    "_uuid": "38b3878a-7f8d-452d-96bf-3b867ca5892e"
   },
   "source": [
    "**2.2.5 Grafico para smoking history**"
   ]
  },
  {
   "cell_type": "code",
   "execution_count": null,
   "metadata": {
    "_cell_guid": "0cc4ab37-844d-4e0a-b84e-7139170f57fb",
    "_uuid": "81971371-0b9f-429a-871d-83ad2397d11e",
    "collapsed": false,
    "execution": {
     "iopub.execute_input": "2024-02-11T16:51:55.112092Z",
     "iopub.status.busy": "2024-02-11T16:51:55.111837Z",
     "iopub.status.idle": "2024-02-11T16:51:55.310673Z",
     "shell.execute_reply": "2024-02-11T16:51:55.309561Z",
     "shell.execute_reply.started": "2024-02-11T16:51:55.112056Z"
    },
    "jupyter": {
     "outputs_hidden": false
    }
   },
   "outputs": [],
   "source": [
    "sns.countplot(x='smoking_history', data=df, palette='Set2')\n",
    "plt.title('Smoking history Distribution')\n",
    "plt.show()"
   ]
  },
  {
   "cell_type": "markdown",
   "metadata": {
    "_cell_guid": "c5ca8617-6dc4-4401-83d2-31682ac09c34",
    "_uuid": "d65cfe7a-88ce-462c-8504-c6b0c14b3158"
   },
   "source": [
    "## **2.3 Análisis Bivariado**"
   ]
  },
  {
   "cell_type": "markdown",
   "metadata": {
    "_cell_guid": "e9bc76de-e218-4196-a1b4-29dd032f37da",
    "_uuid": "8a900e55-a495-42b7-825e-bf5f8a40a04f"
   },
   "source": [
    "**2.3.1 Diagrama de caja BMI vs Diabetes**"
   ]
  },
  {
   "cell_type": "code",
   "execution_count": null,
   "metadata": {
    "_cell_guid": "4ee74105-eabf-42b7-af86-76681c9a225d",
    "_uuid": "124dccd7-b0da-4843-9154-76a6b69d2263",
    "collapsed": false,
    "execution": {
     "iopub.execute_input": "2024-02-11T16:51:55.31249Z",
     "iopub.status.busy": "2024-02-11T16:51:55.311932Z",
     "iopub.status.idle": "2024-02-11T16:51:55.462103Z",
     "shell.execute_reply": "2024-02-11T16:51:55.461132Z",
     "shell.execute_reply.started": "2024-02-11T16:51:55.312459Z"
    },
    "jupyter": {
     "outputs_hidden": false
    }
   },
   "outputs": [],
   "source": [
    "sns.boxplot(x='diabetes', y='bmi', data=df, palette='Set2')\n",
    "plt.title('BMI vs Diabetes')\n",
    "plt.show()"
   ]
  },
  {
   "cell_type": "markdown",
   "metadata": {
    "_cell_guid": "09d83a21-5562-4c75-8249-ff1a43fd0913",
    "_uuid": "7dd41456-3930-4b34-aeb8-5f92906e9f5b"
   },
   "source": [
    "**2.3.2 Diagrama de caja Age vs Diabetes**"
   ]
  },
  {
   "cell_type": "code",
   "execution_count": null,
   "metadata": {
    "_cell_guid": "17584fb5-2e6e-42ba-a981-74434d4b94b9",
    "_uuid": "523d631e-e27e-47ea-bbdd-2204869a1946",
    "collapsed": false,
    "execution": {
     "iopub.execute_input": "2024-02-11T16:51:55.463952Z",
     "iopub.status.busy": "2024-02-11T16:51:55.463281Z",
     "iopub.status.idle": "2024-02-11T16:51:55.626191Z",
     "shell.execute_reply": "2024-02-11T16:51:55.625118Z",
     "shell.execute_reply.started": "2024-02-11T16:51:55.463925Z"
    },
    "jupyter": {
     "outputs_hidden": false
    }
   },
   "outputs": [],
   "source": [
    "sns.boxplot(x='diabetes', y='age', data=df, palette='Set2')\n",
    "plt.title('BMI vs Diabetes')\n",
    "plt.show()"
   ]
  },
  {
   "cell_type": "markdown",
   "metadata": {
    "_cell_guid": "e87de17f-38c4-46a5-b6c6-642d95d59a1a",
    "_uuid": "417936ff-0c27-42e0-9778-f3ca8aafb022"
   },
   "source": [
    "**2.3.3 Grafico para gender vs diabetes**"
   ]
  },
  {
   "cell_type": "code",
   "execution_count": null,
   "metadata": {
    "_cell_guid": "0421f0cf-72c0-4fb2-949d-c659833d8808",
    "_uuid": "15e136e5-4047-4f05-987e-021195373a36",
    "collapsed": false,
    "execution": {
     "iopub.execute_input": "2024-02-11T16:51:55.627767Z",
     "iopub.status.busy": "2024-02-11T16:51:55.627492Z",
     "iopub.status.idle": "2024-02-11T16:51:55.832524Z",
     "shell.execute_reply": "2024-02-11T16:51:55.831612Z",
     "shell.execute_reply.started": "2024-02-11T16:51:55.627743Z"
    },
    "jupyter": {
     "outputs_hidden": false
    }
   },
   "outputs": [],
   "source": [
    "sns.countplot(x='gender', hue='diabetes', data=df, palette='Set2')\n",
    "plt.title('Gender vs Diabetes')\n",
    "plt.show()"
   ]
  },
  {
   "cell_type": "markdown",
   "metadata": {
    "_cell_guid": "ccaf28ef-2bdc-48bf-88f6-d23c6d048511",
    "_uuid": "5c1ae4ec-002f-4749-a348-a67e1a3e1a98"
   },
   "source": [
    "**2.3.4 Diagrama de caja HbA1c vs Diabetes**"
   ]
  },
  {
   "cell_type": "code",
   "execution_count": null,
   "metadata": {
    "_cell_guid": "cae6bb4b-7d46-4872-97f6-434feaa7ed21",
    "_uuid": "571501a2-ed81-4fe0-b84c-7aa2d32331c4",
    "collapsed": false,
    "execution": {
     "iopub.execute_input": "2024-02-11T16:51:55.83396Z",
     "iopub.status.busy": "2024-02-11T16:51:55.833639Z",
     "iopub.status.idle": "2024-02-11T16:51:55.984214Z",
     "shell.execute_reply": "2024-02-11T16:51:55.982704Z",
     "shell.execute_reply.started": "2024-02-11T16:51:55.833932Z"
    },
    "jupyter": {
     "outputs_hidden": false
    }
   },
   "outputs": [],
   "source": [
    "sns.boxplot(x='diabetes', y='HbA1c_level', data=df, palette='Set2')\n",
    "plt.title('HbA1c level vs Diabetes')\n",
    "plt.show()"
   ]
  },
  {
   "cell_type": "markdown",
   "metadata": {
    "_cell_guid": "8859192f-ecb9-4df7-beac-6dea068013d5",
    "_uuid": "19e85757-9857-4395-b8a2-59cdb177d3ef"
   },
   "source": [
    "**2.3.5 Diagrama de caja blood glucose level vs Diabetes**"
   ]
  },
  {
   "cell_type": "code",
   "execution_count": null,
   "metadata": {
    "_cell_guid": "fdd0146c-ecfc-474b-9f34-bd153fcac72b",
    "_uuid": "cb2bc3d3-57c6-4f4e-805c-b052d3f447b1",
    "collapsed": false,
    "execution": {
     "iopub.execute_input": "2024-02-11T16:51:55.985787Z",
     "iopub.status.busy": "2024-02-11T16:51:55.985466Z",
     "iopub.status.idle": "2024-02-11T16:51:56.227744Z",
     "shell.execute_reply": "2024-02-11T16:51:56.226127Z",
     "shell.execute_reply.started": "2024-02-11T16:51:55.985762Z"
    },
    "jupyter": {
     "outputs_hidden": false
    }
   },
   "outputs": [],
   "source": [
    "sns.boxplot(x='diabetes', y='blood_glucose_level', data=df, palette='Set2')\n",
    "plt.title('HbA1c level vs Diabetes')\n",
    "plt.show()"
   ]
  },
  {
   "cell_type": "markdown",
   "metadata": {
    "_cell_guid": "e93195ea-e75f-424b-b241-9483abe6d39c",
    "_uuid": "71895751-8227-474e-938b-53568495e652"
   },
   "source": [
    "**2.3.6 Gráfico de pares para variables numéricas**"
   ]
  },
  {
   "cell_type": "code",
   "execution_count": null,
   "metadata": {
    "_cell_guid": "258894d5-edae-41a0-997d-0b660994d1b9",
    "_uuid": "f7e4cdb4-3ecc-43d4-b83c-697b79c9b56a",
    "collapsed": false,
    "execution": {
     "iopub.execute_input": "2024-02-11T16:51:56.229885Z",
     "iopub.status.busy": "2024-02-11T16:51:56.229015Z"
    },
    "jupyter": {
     "outputs_hidden": false
    }
   },
   "outputs": [],
   "source": [
    "sns.pairplot(df, hue='diabetes')\n",
    "plt.show()"
   ]
  },
  {
   "cell_type": "markdown",
   "metadata": {
    "_cell_guid": "7a06f5b8-c637-4e6c-9c13-f31701ad2895",
    "_uuid": "4202e848-2cd5-4d73-85c4-ac6d460b6ac7"
   },
   "source": [
    "## **2.4 Análisis Multivariado**"
   ]
  },
  {
   "cell_type": "markdown",
   "metadata": {
    "_cell_guid": "faa7d591-51c6-49d3-aa5c-15fdcd86707e",
    "_uuid": "565eaf0e-a33f-4501-8a23-02c87aa4e72c"
   },
   "source": [
    "**2.4.1 Gráfico de dispersión para Age vs BMI diferenciado por clasificación de diabetes**"
   ]
  },
  {
   "cell_type": "code",
   "execution_count": null,
   "metadata": {
    "_cell_guid": "98e195f7-8ba1-4e04-9ba5-b408d9dd6ebe",
    "_uuid": "d890afc0-9f53-4a7f-9287-56669bd94eed",
    "collapsed": false,
    "jupyter": {
     "outputs_hidden": false
    }
   },
   "outputs": [],
   "source": [
    "sns.scatterplot(x='age', y='bmi', hue='diabetes', data=df)\n",
    "plt.title('Age vs BMI')\n",
    "plt.show()"
   ]
  },
  {
   "cell_type": "markdown",
   "metadata": {
    "_cell_guid": "f6c1faf8-ebad-4529-abf4-fb52aab08cc4",
    "_uuid": "0ab1efab-0de7-409f-b45d-c40d57270e6f"
   },
   "source": [
    "**2.4.2 Gráfico de violin para BMI vs Diabetes diferenciado por género**"
   ]
  },
  {
   "cell_type": "code",
   "execution_count": null,
   "metadata": {
    "_cell_guid": "312eafb3-99dd-4fe6-a7c3-afd86a131039",
    "_uuid": "135a965d-bbe3-486c-8c22-042fdb84ee21",
    "collapsed": false,
    "jupyter": {
     "outputs_hidden": false
    }
   },
   "outputs": [],
   "source": [
    "sns.violinplot(x='diabetes', y='bmi', hue='gender', split=True, data=df)\n",
    "plt.title('BMI vs Diabetes split by Gender')\n",
    "plt.show()"
   ]
  },
  {
   "cell_type": "markdown",
   "metadata": {
    "_cell_guid": "579dff75-e52f-43d6-9290-21c2b73dce20",
    "_uuid": "f39379c7-4213-4c1f-bd9d-a48e23475f2a"
   },
   "source": [
    "**2.4.3 Relación entre BMI, diabetes diferenciado por gender**"
   ]
  },
  {
   "cell_type": "code",
   "execution_count": null,
   "metadata": {
    "_cell_guid": "d0c735df-6e4f-4b67-9e98-8f6402d4ff1c",
    "_uuid": "698457a3-8772-42fb-9050-3fa2de7f694c",
    "collapsed": false,
    "jupyter": {
     "outputs_hidden": false
    }
   },
   "outputs": [],
   "source": [
    "sns.violinplot(x='diabetes', y='bmi', hue='gender', split=True, data=df)\n",
    "plt.title('BMI vs Diabetes split by Gender')\n",
    "plt.show()"
   ]
  },
  {
   "cell_type": "markdown",
   "metadata": {
    "_cell_guid": "d6535e77-908e-4137-a11c-e38ebb1a7d79",
    "_uuid": "60311699-b35d-4852-bacf-4f78fcd70764"
   },
   "source": [
    "**2.4.4 Relación entre BMI, diabetes y gender**"
   ]
  },
  {
   "cell_type": "code",
   "execution_count": null,
   "metadata": {
    "_cell_guid": "2eb326b2-752b-4b36-897d-d02d9b2347b6",
    "_uuid": "e6c8dd56-ddb6-4e88-9ec0-b433119a7724",
    "collapsed": false,
    "jupyter": {
     "outputs_hidden": false
    }
   },
   "outputs": [],
   "source": [
    "sns.boxplot(x='diabetes', y='bmi', hue = 'gender', data=df)\n",
    "plt.title('BMI Distribution by Diabetes Status and Gender')\n",
    "plt.show()"
   ]
  },
  {
   "cell_type": "markdown",
   "metadata": {
    "_cell_guid": "5e61ca76-1ecd-49df-86f7-04b26591557d",
    "_uuid": "4111398d-9fbe-48e7-a126-5c04f10bb2fd"
   },
   "source": [
    "**2.4.5 Relación entre Edad, diabetes y gender**"
   ]
  },
  {
   "cell_type": "code",
   "execution_count": null,
   "metadata": {
    "_cell_guid": "0879e4f1-e852-4d08-90d0-8b0506ef355d",
    "_uuid": "55488e06-bb46-41d0-8a53-066dbfa2f2b6",
    "collapsed": false,
    "jupyter": {
     "outputs_hidden": false
    }
   },
   "outputs": [],
   "source": [
    "sns.boxplot(x='diabetes', y='age', hue='gender', data=df)\n",
    "plt.title('Age distribution by Diabetes Status and Gender')\n",
    "plt.show()"
   ]
  },
  {
   "cell_type": "markdown",
   "metadata": {
    "_cell_guid": "1e5fb5df-c890-4636-afab-d2fcf93b096b",
    "_uuid": "84a0b814-3be2-47f1-85b4-2c1e55caafef"
   },
   "source": [
    "# **3. Preparacion de datos**"
   ]
  },
  {
   "cell_type": "code",
   "execution_count": null,
   "metadata": {
    "_cell_guid": "753d1bb4-e250-49c2-9dfd-55a6c5d6071c",
    "_uuid": "69b0e6a1-0396-4b68-9862-8a97e3684c76",
    "collapsed": false,
    "jupyter": {
     "outputs_hidden": false
    }
   },
   "outputs": [],
   "source": [
    "#Definimos una funcion para realizar \"mapping\" de las variables existentes a nuevas\n",
    "\n",
    "def recategorize_smoking(smoking_status):\n",
    "    if smoking_status in ['never', 'No Info']:\n",
    "        return 'non-smoker'\n",
    "    elif smoking_status == 'current':\n",
    "        return 'current'\n",
    "    elif smoking_status in ['ever', 'former', 'not current']:\n",
    "        return 'past_smoker'\n",
    "\n",
    "\n",
    "#Aplicamos la funcion \"recategorizate_smoking\" a la columna \"smoking_history\"\n",
    "\n",
    "df['smoking_history'] = df['smoking_history'].apply(recategorize_smoking)\n",
    "\n",
    "#Chequeamos los valores resultantes\n",
    "\n",
    "print(df['smoking_history'].value_counts())"
   ]
  },
  {
   "cell_type": "code",
   "execution_count": null,
   "metadata": {
    "_cell_guid": "a253771d-1478-4c53-81f7-4a708c618562",
    "_uuid": "a9092d21-e726-4df0-9254-c8a7f37ce2b0",
    "collapsed": false,
    "jupyter": {
     "outputs_hidden": false
    }
   },
   "outputs": [],
   "source": [
    "data = df.copy()"
   ]
  },
  {
   "cell_type": "markdown",
   "metadata": {
    "_cell_guid": "ef8cc099-692d-4585-a069-fc8fba55983b",
    "_uuid": "21df581e-9500-41e4-a82b-c24f454c0b29"
   },
   "source": [
    "## **3.1 Realizamos Encoder**"
   ]
  },
  {
   "cell_type": "code",
   "execution_count": null,
   "metadata": {
    "_cell_guid": "bc34fc9b-b389-4ba7-bd38-54dcc0a34b7a",
    "_uuid": "9913b360-19f6-4e0a-bb85-2b4dfacabda3",
    "collapsed": false,
    "jupyter": {
     "outputs_hidden": false
    }
   },
   "outputs": [],
   "source": [
    "def perform_one_hot_encoding(df, column_name):\n",
    "  #Realizamos el encoding sobre columnas especificas\n",
    "  dummies = pd.get_dummies(df[column_name], prefix=column_name)\n",
    "\n",
    "  #Eliminamos las columnas originales y acomplamos las nuevas\n",
    "  df = pd.concat([df.drop(column_name, axis=1), dummies], axis=1)\n",
    "\n",
    "  return df\n",
    "\n",
    "#Aplicamos la funcion sobre la variable \"gender\"\n",
    "\n",
    "data = perform_one_hot_encoding(data, 'gender')\n",
    "\n",
    "#Aplicamos la funcion sobre la variable \"smoking_history\"\n",
    "\n",
    "data = perform_one_hot_encoding(data, 'smoking_history')"
   ]
  },
  {
   "cell_type": "markdown",
   "metadata": {
    "_cell_guid": "8f03cc6e-8c53-4da8-8b96-e1899fe0c38d",
    "_uuid": "a2a8cac2-3c24-4f67-9d17-eb103ffe7a8b"
   },
   "source": [
    "## **3.2 Matriz de Correlación**"
   ]
  },
  {
   "cell_type": "code",
   "execution_count": null,
   "metadata": {
    "_cell_guid": "4b00f3d4-e95e-4576-9a6f-f6ce3a767b9b",
    "_uuid": "cd583ba9-647c-40d9-a31b-f6eac197cd8f",
    "collapsed": false,
    "jupyter": {
     "outputs_hidden": false
    }
   },
   "outputs": [],
   "source": [
    "#Realizamos la matriz de correlación\n",
    "\n",
    "correlation_matrix = data.corr()\n",
    "\n",
    "#Grafico I\n",
    "\n",
    "plt.figure(figsize=(10,5))\n",
    "sns.heatmap(correlation_matrix, annot=True, cmap='coolwarm', linewidths=0.5, fmt='.2f')\n",
    "plt.title(\"Correlation Matrix Heatmap\")\n",
    "plt.show()\n",
    "\n",
    "#Grafico II\n",
    "\n",
    "corr = data.corr()\n",
    "target_corr = corr['diabetes'].drop('diabetes')\n",
    "\n",
    "#Ordenamos la correlacion en orden descendente\n",
    "target_corr_sorted = target_corr.sort_values(ascending=False)\n",
    "\n",
    "sns.set(font_scale=0.8)\n",
    "sns.set_style(\"white\")\n",
    "sns.set_palette(\"PuBuGn_d\")\n",
    "sns.heatmap(target_corr_sorted.to_frame(), cmap=\"coolwarm\", annot=True, fmt='.2f')\n",
    "plt.title('Correlation with Diabetes')\n",
    "plt.show()"
   ]
  },
  {
   "cell_type": "markdown",
   "metadata": {
    "_cell_guid": "d122c6e0-3a22-4d8a-87a8-3132e7f8775b",
    "_uuid": "b2bb6d68-04d7-44fc-a5c0-8907ba7b640f"
   },
   "source": [
    "# **4. Análisis de Predicción**"
   ]
  },
  {
   "cell_type": "markdown",
   "metadata": {
    "_cell_guid": "394ad5fb-4e14-48dd-ad16-fb42f970877a",
    "_uuid": "4099df2e-b41b-4f14-83c5-1fd57aa2b523"
   },
   "source": [
    "## **4.1 Desequilibrio de clases**"
   ]
  },
  {
   "cell_type": "markdown",
   "metadata": {
    "_cell_guid": "4f99d68f-3b11-458f-a9ff-7f48853e029a",
    "_uuid": "5b22baf5-d43e-46af-bb50-ec111be89079"
   },
   "source": [
    "A partir del Análisis Exploratorio de Datos (EDA), **se observa que el conjunto de datos está desbalanceado (con un 9% de casos positivos para la diabetes y un 91% de casos negativos)**, por lo que es esencial balancear los datos para asegurar que el modelo no se sesgue hacia la clase mayoritaria. Con este fin, se utiliza la Técnica de Sobremuestreo Sintético de la Clase Minoritaria (SMOTE, por sus siglas en inglés), la cual genera muestras sintéticas para la clase minoritaria."
   ]
  },
  {
   "cell_type": "code",
   "execution_count": null,
   "metadata": {
    "_cell_guid": "9475e66c-3a6d-4071-896b-d4fd12fe5277",
    "_uuid": "98972b8d-ff31-4078-b746-1fcccffaa69d",
    "collapsed": false,
    "jupyter": {
     "outputs_hidden": false
    }
   },
   "outputs": [],
   "source": [
    "#Mostramos la distribucion de casos para confirmar lo previamente dicho.\n",
    "\n",
    "# Porcentajes de casos de diabetes\n",
    "positivos_diabetes = (df['diabetes'] == 1).sum()\n",
    "negativos_diabetes = (df['diabetes'] == 0).sum()\n",
    "porcentajes = [positivos_diabetes, negativos_diabetes]\n",
    "\n",
    "# Etiquetas para los porcentajes\n",
    "etiquetas = ['Positivo', 'Negativo']\n",
    "\n",
    "# Colores para las porciones\n",
    "colores = ['lightcoral', 'lightskyblue']\n",
    "\n",
    "# Crear el gráfico de torta\n",
    "plt.pie(porcentajes, labels=etiquetas, colors=colores, autopct='%1.1f%%', startangle=140)\n",
    "\n",
    "# Título del gráfico\n",
    "plt.title('Distribución de Diabetes')\n",
    "\n",
    "# Mostrar el gráfico\n",
    "plt.axis('equal')\n",
    "plt.show()"
   ]
  },
  {
   "cell_type": "markdown",
   "metadata": {
    "_cell_guid": "b356f73d-14cf-4a92-8fb0-4d8fb8997711",
    "_uuid": "2bec534d-d914-4947-8735-e94c1b2614e8"
   },
   "source": [
    "### **Técnicas de Remuestreo**\n",
    "\n",
    "* **SMOTE (Synthetic Minority Over-sampling Technique):**\n",
    "\n",
    "SMOTE es una técnica de sobremuestreo utilizada para abordar el desequilibrio de clases en conjuntos de datos, específicamente cuando la clase minoritaria está subrepresentada. Lo que hace SMOTE es generar muestras sintéticas para la clase minoritaria mediante la interpolación de instancias existentes en el espacio de características. Básicamente, SMOTE crea nuevas instancias sintéticas de la clase minoritaria mediante la combinación de ejemplos cercanos de la misma clase.\n",
    "\n",
    "* **RandomUnderSampler:**\n",
    "\n",
    "RandomUnderSampler es una técnica de submuestreo que se utiliza para equilibrar clases al reducir aleatoriamente el número de muestras de la clase mayoritaria. En lugar de crear muestras sintéticas como SMOTE, RandomUnderSampler selecciona aleatoriamente un subconjunto de muestras de la clase mayoritaria para igualar el tamaño de la clase minoritaria."
   ]
  },
  {
   "cell_type": "code",
   "execution_count": null,
   "metadata": {
    "_cell_guid": "7596d61a-4352-4097-9e4b-8fe59cddc087",
    "_uuid": "5a04d356-6776-4faf-b9ef-b00255394ee1",
    "collapsed": false,
    "jupyter": {
     "outputs_hidden": false
    }
   },
   "outputs": [],
   "source": [
    "#Definimos las funciones para el remuestreo\n",
    "\n",
    "over = SMOTE(sampling_strategy=0.1)\n",
    "under = RandomUnderSampler(sampling_strategy=0.5)"
   ]
  },
  {
   "cell_type": "markdown",
   "metadata": {
    "_cell_guid": "bdd7857b-e489-4d2f-b58b-468b971be763",
    "_uuid": "26159250-ede6-4730-83e1-9caca97e3640"
   },
   "source": [
    "## **4.2 Preprocesamiento: Escalador**\n",
    "\n",
    "El preprocesamiento es un paso crucial antes de entrenar el modelo. En este caso, las características numéricas se estandarizan (se elimina la media y se escalan a varianza unitaria), y las características categóricas se codifican en one-hot encoding. La estandarización no es necesaria para todos los modelos, pero generalmente es una buena práctica. La codificación one-hot encoding es necesaria para que las variables categóricas sean comprendidas correctamente por el modelo de aprendizaje automático.\n",
    "\n",
    "El StandardScaler en sklearn se basa en la suposición de que los datos, Y, siguen una distribución que podría no ser necesariamente gaussiana (normal), pero aún así los transformamos de tal manera que su distribución tendrá un valor medio de 0 y una desviación estándar de 1."
   ]
  },
  {
   "cell_type": "code",
   "execution_count": null,
   "metadata": {
    "_cell_guid": "9c74e7bf-be4f-4094-9a8b-33dc2bb70c71",
    "_uuid": "bac1d441-9836-4e4e-ace4-d469b6a054ba",
    "collapsed": false,
    "jupyter": {
     "outputs_hidden": false
    }
   },
   "outputs": [],
   "source": [
    "#Definimos el preprocesador\n",
    "\n",
    "preprocessor = ColumnTransformer(\n",
    "    transformers=[\n",
    "        ('num', StandardScaler(), ['age', 'bmi', 'HbA1c_level', 'blood_glucose_level','hypertension','heart_disease']),\n",
    "        ('cat', OneHotEncoder(), ['gender','smoking_history'])\n",
    "    ])\n",
    "\n",
    "#Separamos los datos en objetivo y las variables a utilizar\n",
    "\n",
    "X = df.drop('diabetes', axis=1)\n",
    "y = df['diabetes']"
   ]
  },
  {
   "cell_type": "markdown",
   "metadata": {
    "_cell_guid": "385bec8e-21a6-47f9-8b0b-73d05b5a45a7",
    "_uuid": "f288fb3f-8e14-4341-8ade-cbb3037da571"
   },
   "source": [
    "## **4.3 Pipeline**\n",
    "\n",
    "Las pipelines de imblearn, son herramientas poderosas utilizadas para automatizar y estructurar flujos de trabajo en el procesamiento de datos desbalanceados en problemas de aprendizaje automático.\n",
    "\n",
    "**Algunos de los principales beneficios son:**\n",
    "\n",
    "1. **Preprocesamiento y remuestreo integrados:**\n",
    "Las pipelines de imblearn permiten combinar pasos de preprocesamiento de datos, como escalado, selección de características, con técnicas de remuestreo específicas para abordar el desequilibrio de clases, como SMOTE o RandomUnderSampler.\n",
    "\n",
    "1. **Facilitan la replicación y validación cruzada:**\n",
    "Al encapsular todos los pasos de preprocesamiento, remuestreo y modelado en una sola entidad, las pipelines facilitan la replicación de experimentos y la aplicación de validación cruzada de manera más eficiente.\n",
    "\n",
    "1. **Evitan fugas de datos:**\n",
    "Al tener todos los pasos de procesamiento dentro de la pipeline, se reduce el riesgo de fugas de datos, ya que las transformaciones se aplican de manera consistente a los datos en cada iteración."
   ]
  },
  {
   "cell_type": "code",
   "execution_count": null,
   "metadata": {
    "_cell_guid": "9af28780-1d54-4b56-b1e4-1a581cf51618",
    "_uuid": "7862a112-cf44-46e3-a575-5107b75e728b",
    "collapsed": false,
    "jupyter": {
     "outputs_hidden": false
    }
   },
   "outputs": [],
   "source": [
    "#Creamos una Pipeline que preprocese los datos y luego entrene el calificador\n",
    "\n",
    "clf = imbPipeline(steps=[\n",
    "                        ('preprocessor', preprocessor),\n",
    "                        ('over', over),\n",
    "                        ('under', under),\n",
    "                        ('classifier', RandomForestClassifier())\n",
    "                        ])"
   ]
  },
  {
   "cell_type": "markdown",
   "metadata": {
    "_cell_guid": "a5984dbf-3b33-4416-b64c-876355a89d57",
    "_uuid": "70b1a66d-dd26-4e5d-950e-eb622c692203"
   },
   "source": [
    "## **4.4 Construcción del modelo y Ajuste de hiperparámetros**\n",
    "\n",
    "Se construye una Pipeline que primero aplica los pasos de preprocesamiento y luego entrena un modelo en los datos. Utilizamos un modelo de RandomForestClassifier, que es un algoritmo popular y potente para tareas de clasificación.\n",
    "\n",
    "Los hiperparámetros del modelo se ajustan utilizando **GridSearchCV**, que realiza una búsqueda exhaustiva sobre los valores de parámetro especificados para el estimador. El mejor modelo en rendimiento se selecciona basado en la validación cruzada."
   ]
  },
  {
   "cell_type": "code",
   "execution_count": null,
   "metadata": {
    "_cell_guid": "19d83365-b289-4f6f-98ae-4f17a4a8c3df",
    "_uuid": "44eb634b-06dc-4f37-8814-df192178728e",
    "collapsed": false,
    "jupyter": {
     "outputs_hidden": false
    }
   },
   "outputs": [],
   "source": [
    "#Definimos los Hiperparámetros y los valores a testear.\n",
    "\n",
    "param_grid = {\n",
    "    'classifier__n_estimators': [50, 100, 200],\n",
    "    'classifier__max_depth': [None, 10, 20],\n",
    "    'classifier__min_samples_split': [2, 5, 10],\n",
    "    'classifier__min_samples_leaf': [1, 2, 4]\n",
    "}"
   ]
  },
  {
   "cell_type": "code",
   "execution_count": null,
   "metadata": {
    "_cell_guid": "7ae40862-b258-4059-ad9e-9ce039f3da9c",
    "_uuid": "5b28f3ff-af46-49e1-84c8-32a07777629e",
    "collapsed": false,
    "jupyter": {
     "outputs_hidden": false
    }
   },
   "outputs": [],
   "source": [
    "# Create Grid Search object\n",
    "grid_search = GridSearchCV(clf, param_grid, cv=5)\n",
    "\n",
    "# Split data into train and test sets\n",
    "X_train, X_test, y_train, y_test = train_test_split(X, y, test_size=0.2, random_state=42)\n",
    "\n",
    "# Train the model\n",
    "grid_search.fit(X_train, y_train)\n",
    "\n",
    "# Print the best parameters\n",
    "print(\"Best Parameters: \", grid_search.best_params_)"
   ]
  },
  {
   "cell_type": "markdown",
   "metadata": {
    "_cell_guid": "4d2ec5d3-8ec2-4033-a420-717d2bd86253",
    "_uuid": "69e617d4-8ba0-4323-b46b-976fb05ef72b"
   },
   "source": [
    "### **Interpretacion de los resultados**\n",
    "\n",
    "Los resultados muestran los mejores parámetros para nuestro modelo de Random Forest que se encontraron durante el proceso de ajuste de hiperparámetros:\n",
    "\n",
    "\n",
    "1.   **max_depth de 10:** Esto indica que la profundidad máxima de los árboles en el bosque es de 10 niveles. Restringir la profundidad del árbol ayuda a reducir el sobreajuste. Parece que un árbol de complejidad media funciona mejor para nuestros datos. Demasiada complejidad (un árbol más profundo) puede capturar ruido, y muy poca (un árbol más superficial) puede no capturar la estructura subyacente de los datos.\n",
    "\n",
    "2. **min_samples_leaf de 2:** Esto significa que cada hoja (el nodo final de un árbol de decisión, donde se realizan las predicciones) debe contener al menos dos muestras. Este parámetro, al igual que max_depth, es una forma de controlar el sobreajuste. Al requerir al menos dos muestras para hacer una predicción, el modelo evita el ajuste a valores atípicos o ruido en los datos de entrenamiento.\n",
    "\n",
    "3. **min_samples_split de 2:** Esto nos dice que un nodo debe contener al menos dos muestras para poder dividirse (para crear dos nodos hijos). Similar al parámetro min_samples_leaf, esto puede ayudar a controlar el sobreajuste.  \n",
    "\n",
    "4.  **n_estimators de 50:** Este es el número de árboles de decisión en el bosque. El algoritmo de Random Forest funciona promediando las predicciones de muchos árboles de decisión para hacer una predicción final, lo que ayuda a reducir el sobreajuste y la varianza. En este caso, parece que tener 50 árboles en el bosque nos brinda el mejor rendimiento."
   ]
  },
  {
   "cell_type": "markdown",
   "metadata": {
    "_cell_guid": "d13923fb-33e3-4e83-b946-13970080925c",
    "_uuid": "b2574f19-1026-40fd-b5ad-5be9be3e6f37"
   },
   "source": [
    "Estos parámetros son el resultado del proceso de ajuste de hiperparámetros, y\n",
    "nos brindan información sobre la estructura de los datos y la complejidad del modelo que mejor captura esa estructura. La profundidad del árbol moderadamente restringida y los requisitos para el número de muestras en cada nodo sugieren un modelo lo suficientemente complejo como para capturar los patrones importantes en los datos, pero no tan complejo como para sobreajustarse al ruido o a los valores atípicos. Este equilibrio es crucial para crear un modelo que generalice bien a nuevos datos."
   ]
  },
  {
   "cell_type": "code",
   "execution_count": null,
   "metadata": {
    "_cell_guid": "34846402-6138-4694-bc9f-73a6bd23ad01",
    "_uuid": "7199a882-b36f-4bcc-a76d-9dc7ade83b11",
    "collapsed": false,
    "jupyter": {
     "outputs_hidden": false
    }
   },
   "outputs": [],
   "source": [
    "#Transformamos los resultados del GridSearchCV a un Dataframe y los graficamos.\n",
    "\n",
    "resulst_df = pd.DataFrame(grid_search.cv_results_)\n",
    "plt.figure(figsize=(8,6))\n",
    "sns.lineplot(data=resulst_df, x='param_classifier__n_estimators', y='mean_test_score', hue='param_classifier__max_depth', palette='PRGn')\n",
    "plt.title('Hyperparameters Tuning Results')\n",
    "plt.xlabel('Number of Estimators')\n",
    "plt.ylabel('Mean Test Score')\n",
    "plt.show()"
   ]
  },
  {
   "cell_type": "markdown",
   "metadata": {
    "_cell_guid": "5bcecb7c-408c-4e6a-9b0c-cc06187f1d05",
    "_uuid": "5790ca1d-8959-496b-b6c2-e0c4a6ac29ce"
   },
   "source": [
    "## **4.5 Matriz de Confusión**\n",
    "\n",
    "El modelo entrenado se evalúa en el conjunto de prueba. La **matriz de confusión** se utiliza para visualizar el rendimiento del modelo. Muestra las predicciones de verdaderos positivos, verdaderos negativos, falsos positivos y falsos negativos del modelo."
   ]
  },
  {
   "cell_type": "markdown",
   "metadata": {
    "_cell_guid": "5e732855-0d00-4a51-9292-38e54de1b4b2",
    "_uuid": "4764ee6d-8254-4381-8099-35e95140b3a4"
   },
   "source": [
    "**Precision:**\n",
    "La precisión es una medida de cuántas de las predicciones verdaderamente positivas fueron realmente correctas. Se define como el número de verdaderos positivos (TP) dividido por la suma de verdaderos positivos (TP) y falsos positivos (FP).\n",
    "\n",
    "**Recall:**\n",
    "La recuperación (o Sensibilidad) es una medida de cuántos de los casos positivos reales fueron identificados correctamente. Se define como el número de verdaderos positivos (TP) dividido por la suma de verdaderos positivos (TP) y falsos negativos (FN).\n",
    "\n",
    "**F1-Score:**\n",
    "La puntuación F1 es la media armónica de Precisión y Recuperación e intenta encontrar el equilibrio entre precisión y recuperación. Se define como 2 veces el producto de precisión y recuperación dividido por la suma de precisión y recuperación."
   ]
  },
  {
   "attachments": {
    "48a21bb5-115f-4215-a83d-bb92f1f1cb11.png": {
     "image/png": "[encoded data removed]"
    }
   },
   "cell_type": "markdown",
   "metadata": {},
   "source": [
    "![Matriz de confusion.png](attachment:48a21bb5-115f-4215-a83d-bb92f1f1cb11.png)"
   ]
  },
  {
   "cell_type": "markdown",
   "metadata": {
    "_cell_guid": "0f7e5737-d65a-4793-b5b8-dc2a5a98decb",
    "_uuid": "e22aa4be-02b9-469c-83a8-2a81481fbbc6"
   },
   "source": [
    "\n",
    "**En todas estas fórmulas:** Los Verdaderos Positivos (TP) son los casos en los que predijimos sí (diabetes presente), y el resultado real también fue sí. Los Verdaderos Negativos (TN) son los casos en los que predijimos no, y el resultado real también fue no. Los Falsos Positivos (FP) son los casos en los que predijimos sí, pero el resultado real fue no. Los Falsos Negativos (FN) son los casos en los que predijimos no, pero el resultado real fue sí."
   ]
  },
  {
   "cell_type": "code",
   "execution_count": null,
   "metadata": {
    "_cell_guid": "70b7bdca-f0f3-4b74-98b2-b2c2f3f3ccd9",
    "_uuid": "3c8e4a7e-8af3-412a-8d7f-79f255203731",
    "collapsed": false,
    "jupyter": {
     "outputs_hidden": false
    }
   },
   "outputs": [],
   "source": [
    "#Realizamos las predicciones en el conjunto de prueba utilizando el mejor modelo encontrado\n",
    "\n",
    "y_pred = grid_search.predict(X_test)\n",
    "\n",
    "#Evaluamos el modelo\n",
    "print(\"Model Accuracy: \", accuracy_score(y_test, y_pred))\n",
    "print(classification_report(y_test,y_pred))\n",
    "\n",
    "#Graficamos la matriz de confusión\n",
    "\n",
    "cm = confusion_matrix(y_test,y_pred)\n",
    "plt.figure(figsize=(8,6))\n",
    "sns.heatmap(cm, annot=True, fmt='d', cmap='Blues')\n",
    "plt.title('Confusion Matrix')\n",
    "plt.xlabel('Predicted')\n",
    "plt.ylabel('True')\n",
    "plt.show()"
   ]
  },
  {
   "cell_type": "markdown",
   "metadata": {
    "_cell_guid": "4c62a312-8ad9-4d55-9b5c-f0b261864883",
    "_uuid": "4421d378-8db7-4d4c-a306-c21badec3b43"
   },
   "source": [
    "## **4.6 Interpretación de los resultados**\n",
    "\n",
    "Interpretación de los resultados:\n",
    "\n",
    "Nuestro modelo de **Random Forest entrenado logró una precisión de alrededor del 95%.** Esto indica que el modelo clasificó correctamente alrededor del 95% de todos los casos en el conjunto de prueba.\n",
    "\n",
    "Al profundizar en las métricas de clasificación, desglosemos el rendimiento para cada clase (0 y 1) por separado:\n",
    "\n",
    "**A | Clase 0 (No diabetes):**\n",
    "El modelo tiene una alta precisión (0.98) para la clase 0, lo que significa que entre todas las instancias donde el modelo predijo no diabetes, el 98% fueron realmente no diabetes.\n",
    "El recall para la clase 0 también es alto (0.96). Esto significa que nuestro modelo identificó correctamente el 96% de todos los casos reales de no diabetes en el conjunto de datos.\n",
    "\n",
    "**B | Clase 1 (Diabetes):**\n",
    "La precisión para la clase 1 es más baja, alrededor de (0.65), lo que indica que cuando el modelo predijo diabetes, fue correcto alrededor del 65% del tiempo.\n",
    "Sin embargo, el recall es razonablemente alto, alrededor de (0.80). Esto significa que nuestro modelo pudo capturar alrededor del 80% de todos los casos reales de diabetes.\n",
    "La puntuación F1, una media armónica de precisión y recall, es alrededor de 0.97 para la clase 0 y alrededor de 0.72 para la clase 1. La puntuación F1 ponderada promedio es alrededor de 0.94, en línea con la precisión general.\n",
    "\n",
    "Esta discrepancia en el rendimiento entre las clases probablemente se deba al desequilibrio en el conjunto de datos original. La Clase 0 (No diabetes) es la clase mayoritaria y tiene más ejemplos para que el modelo aprenda.\n",
    "\n",
    "Sin embargo, el mayor recall para la clase 1 (Diabetes) es prometedor. Este es un aspecto esencial para un modelo de atención médica, ya que perder casos positivos reales (falsos negativos) puede tener serias implicaciones."
   ]
  },
  {
   "cell_type": "markdown",
   "metadata": {
    "_cell_guid": "2fbe190f-7824-4f2b-98fa-4afb54b1a542",
    "_uuid": "1f1445f6-7bf6-43bc-b19f-9e7b8d1ba1a1"
   },
   "source": [
    "*📝 En resumen, aunque nuestro modelo tiene un buen rendimiento en general, destaca especialmente con la clase mayoritaria (no diabetes). Para mejorar el rendimiento en la clase minoritaria (diabetes), podemos abordar aún más el desequilibrio de clases o ajustar los parámetros del modelo. A pesar de estas áreas de mejora, la capacidad del modelo para identificar con precisión un alto porcentaje de casos de diabetes reales es alentadora en esta etapa temprana del desarrollo del modelo. Se espera que iteraciones y refinamientos posteriores mejoren la precisión en las predicciones de diabetes sin comprometer el recall.*"
   ]
  },
  {
   "cell_type": "markdown",
   "metadata": {
    "_cell_guid": "77565c11-396c-4b16-8f40-0e75622b026b",
    "_uuid": "d469394c-627e-4fa0-a1dd-95f37665edb9"
   },
   "source": [
    "# **5. Importancia de las Caracteristicas**\n",
    "\n",
    "Finalmente, se calcula la importancia de cada característica. Esta es la disminución total en la impureza del nodo (ponderada por la probabilidad de alcanzar ese nodo, que se aproxima mediante la proporción de muestras que alcanzan ese nodo) promediada sobre todos los árboles del conjunto. La importancia de las características proporciona información sobre qué características son más útiles para hacer predicciones. Las características se clasifican según su importancia y se visualizan utilizando un gráfico de barras."
   ]
  },
  {
   "cell_type": "code",
   "execution_count": null,
   "metadata": {
    "_cell_guid": "05e04340-6e82-41cf-ad65-b7bba7163255",
    "_uuid": "dbe462a0-823c-480d-917f-e4b5a6ba3122",
    "collapsed": false,
    "jupyter": {
     "outputs_hidden": false
    }
   },
   "outputs": [],
   "source": [
    "#Le colocamos los nombres a las caracteristicas\n",
    "\n",
    "onehot_columns = list(grid_search.best_estimator_.named_steps['preprocessor'].named_transformers_['cat'].get_feature_names_out(['gender','smoking_history']))\n",
    "\n",
    "#Le colocamos los nombres a las caracteristicas numericas\n",
    "\n",
    "feature_names = ['age','BMI','HbA1c_level','blood_glucose_level','hypertension','heart_disease'] + onehot_columns\n",
    "\n",
    "# Vemos la importancia de caracteristicas\n",
    "importances = grid_search.best_estimator_.named_steps['classifier'].feature_importances_\n",
    "\n",
    "# Creamos un DataFrame\n",
    "importance_df = pd.DataFrame({'Feature': feature_names, 'Importance': importances})\n",
    "\n",
    "#Generamos la importancia de las caracteristicas\n",
    "\n",
    "importance_df = importance_df.sort_values('Importance', ascending=False)\n",
    "\n",
    "#Mostramos la importancia de las caracteristicas\n",
    "print(importance_df)\n",
    "\n",
    "#Realizamos grafico de barra\n",
    "plt.figure(figsize=(12,8))\n",
    "sns.barplot(x='Importance',y='Feature', data=importance_df, palette='deep')\n",
    "plt.title('Feature Importance')\n",
    "plt.show()"
   ]
  },
  {
   "cell_type": "markdown",
   "metadata": {
    "_cell_guid": "80c48f91-9c3f-4a75-a894-652d04350d66",
    "_uuid": "376ac680-a552-4430-a0e5-e3ab153866f7"
   },
   "source": [
    "## **Interpretación de los resultados**\n",
    "\n",
    "Los resultados de la importancia de las características proporcionan información sobre qué características son más influyentes en la predicción de la diabetes utilizando nuestro modelo de **Random Forest**. La importancia de una característica se calcula según cuánto reducen la impureza los nodos del árbol que utilizan esa característica en todos los árboles del bosque.\n",
    "\n",
    "Aquí están los hallazgos clave de los resultados de la importancia de las características:\n",
    "\n",
    "- El nivel de HbA1c es la característica más importante con una importancia de 0.44. La HbA1c es una medida de los niveles promedio de glucosa en sangre durante los últimos 2 a 3 meses, por lo que no es sorprendente que sea un predictor significativo de la diabetes.\n",
    "\n",
    "- El nivel de glucosa en sangre es la segunda característica más importante con una importancia de 0.32. Esto coincide con el conocimiento médico, ya que los niveles de glucosa en sangre se utilizan directamente para diagnosticar la diabetes.\n",
    "\n",
    "- La edad es la tercera característica más importante con una importancia de 0.14. Es bien sabido que el riesgo de diabetes tipo 2 aumenta a medida que se envejece.\n",
    "\n",
    "- El IMC ocupa el cuarto lugar en importancia con un valor de 0.06. El Índice de Masa Corporal es un factor de riesgo clave para la diabetes, y su papel está bien documentado en la literatura médica.\n",
    "\n",
    "- Otras características como la hipertensión y la enfermedad cardíaca muestran cierta importancia (0.02 y 0.01, respectivamente), lo que indica que estas condiciones de salud podrían tener cierta relevancia en la predicción de la diabetes, aunque no tan significativa como los cuatro factores principales.\n",
    "\n",
    "- El historial de tabaquismo *('smoking_history_non-smoker', 'smoking_history_past_smoker', 'smoking_history_current') y el género ('gender_Female', 'gender_Male')* muestran tener una importancia mínima o nula en nuestro modelo. Esto podría deberse a una serie de razones, incluido que estos factores pueden no ser tan influyentes en el desarrollo de la diabetes o podría ser el resultado de cómo se recopilaron o estructuraron los datos."
   ]
  },
  {
   "cell_type": "markdown",
   "metadata": {
    "_cell_guid": "890098bf-5d5a-478b-b410-09828eafc149",
    "_uuid": "296cd09c-b9d2-45eb-820e-95696621fd95"
   },
   "source": [
    "\n",
    "⚠️ Sin embargo, estos resultados deben interpretarse con precaución. La importancia de una característica en un modelo de **Random Forest** no necesariamente implica una relación causal, y es específica de este modelo y este conjunto de datos. Otros modelos podrían encontrar resultados diferentes. Además, una baja importancia no significa necesariamente que la característica sea poco importante para predecir la diabetes en general, puede significar simplemente que la característica no es útil en presencia de otras características. Se debe considerar un análisis exhaustivo de las características para comprender mejor la contribución de cada una en la predicción."
   ]
  },
  {
   "cell_type": "markdown",
   "metadata": {
    "_cell_guid": "5faaa3dd-8e11-4e88-a281-0da4e34b285f",
    "_uuid": "9cc11124-c0fa-40a2-acaa-a91028f27aa1"
   },
   "source": [
    "\n",
    "**En general, nuestros hallazgos están en línea con el conocimiento médico y la literatura sobre los factores de riesgo para la diabetes. Las características más importantes están relacionadas con mediciones de sangre, seguidas de la edad y el IMC, con menos importancia para condiciones comórbidas como la hipertensión y la enfermedad cardíaca.**"
   ]
  },
  {
   "cell_type": "markdown",
   "metadata": {
    "_cell_guid": "5bd7ff22-3630-4e21-b2c5-0d4b5b1c47c1",
    "_uuid": "f5c463d6-7ea3-4ba1-b5df-a127fc7eedc8"
   },
   "source": [
    "# **6. Resumen**\n",
    "\n",
    "El análisis empleó un clasificador de Random Forest para predecir la diabetes basado en diversos indicadores de salud y factores de estilo de vida. El modelo fue entrenado y evaluado en un conjunto de datos de 100,000 registros, y se realizó un ajuste de hiperparámetros para optimizar el rendimiento del modelo.\n",
    "\n",
    "El modelo logró una precisión de aproximadamente el 95.1%, con una precisión de 0.98 para la clase 0 (no diabéticos) y 0.69 para la clase 1 (diabéticos). También pudo recordar correctamente el 96% de los casos no diabéticos y el 81% de los casos diabéticos. La precisión relativamente alta y el rendimiento equilibrado en ambas clases indican que el modelo está bien ajustado y es robusto.\n",
    "\n",
    "El análisis de importancia de características destacó el nivel de HbA1c y el nivel de glucosa en sangre como los factores más críticos en la predicción de la diabetes. La edad y el IMC también mostraron una importancia significativa. Sin embargo, algunas características, como el historial de tabaquismo y el género, tuvieron un impacto mínimo o nulo en las predicciones del modelo."
   ]
  },
  {
   "cell_type": "markdown",
   "metadata": {
    "_cell_guid": "230ac810-4179-4860-bce8-ad504cabcf50",
    "_uuid": "fde4817b-3739-4628-bb39-16496d8931c1"
   },
   "source": [
    "## **Sugerencias**\n",
    "\n",
    "1. Recopilación de Datos: Si es posible realizar más recopilación de datos, podríamos aspirar a obtener más información sobre factores de estilo de vida y otros posibles factores de riesgo de la diabetes que no estén cubiertos en este conjunto de datos. Por ejemplo, información detallada sobre la dieta, nivel de actividad física, antecedentes familiares de diabetes y una información más precisa sobre enfermedades cardíacas o hipertensión podrían mejorar las capacidades predictivas del modelo.\n",
    "\n",
    "2. Exploración del Modelo: Aunque el modelo de Random Forest ha tenido un buen rendimiento, podría valer la pena explorar otros modelos de aprendizaje automático. Por ejemplo, modelos de aumento de gradiente como XGBoost o LightGBM podrían ofrecer un rendimiento mejorado.\n",
    "\n",
    "3. Ingeniería de Características: Una ingeniería de características más sofisticada podría potencialmente mejorar el rendimiento del modelo. Características de interacción, características polinomiales u otras transformaciones podrían valer la pena explorar.\n",
    "\n",
    "4. Interpretación del Modelo: Para comprender mejor la influencia de cada característica, podríamos utilizar herramientas de interpretación como SHAP (SHapley Additive exPlanations) o importancia de características por permutación, que pueden ofrecer una vista más matizada de la importancia de las características que la importancia de características tradicional basada en la reducción de la impureza.\n",
    "\n",
    "5. Abordar el Desequilibrio de Clases: A pesar de utilizar SMOTE para equilibrar las clases, todavía hay margen para mejorar las métricas de rendimiento para la clase minoritaria. Se podrían explorar otros métodos de sobre-muestreo, métodos de submuestreo o métodos de aprendizaje sensible al costo para mejorar la recall y la precisión para la clase minoritaria."
   ]
  }
 ],
 "metadata": {
  "kaggle": {
   "accelerator": "none",
   "dataSources": [
    {
     "datasetId": 3102947,
     "sourceId": 5344155,
     "sourceType": "datasetVersion"
    },
    {
     "datasetId": 4426368,
     "sourceId": 7603281,
     "sourceType": "datasetVersion"
    }
   ],
   "dockerImageVersionId": 30646,
   "isGpuEnabled": false,
   "isInternetEnabled": false,
   "language": "python",
   "sourceType": "notebook"
  },
  "kernelspec": {
   "display_name": "Python 3 (ipykernel)",
   "language": "python",
   "name": "python3"
  },
  "language_info": {
   "codemirror_mode": {
    "name": "ipython",
    "version": 3
   },
   "file_extension": ".py",
   "mimetype": "text/x-python",
   "name": "python",
   "nbconvert_exporter": "python",
   "pygments_lexer": "ipython3",
   "version": "3.11.7"
  }
 },
 "nbformat": 4,
 "nbformat_minor": 4
}
