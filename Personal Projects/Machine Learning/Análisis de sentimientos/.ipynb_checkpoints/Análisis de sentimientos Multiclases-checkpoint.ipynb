{
 "cells": [
  {
   "cell_type": "markdown",
   "id": "7370fd1e-77c4-4366-b9f2-6dd688e4036c",
   "metadata": {},
   "source": [
    "# Análisis de sentimientos multiclases"
   ]
  },
  {
   "cell_type": "markdown",
   "id": "1d0c8394-4925-40a8-9bf9-86dba9ae7a81",
   "metadata": {},
   "source": [
    "Este proyecto se realiza para realizar la predicción de análisis de sentimientos multiclases en comentarios."
   ]
  },
  {
   "cell_type": "code",
   "execution_count": 5,
   "id": "705d43ac-6755-4ab3-9214-912631b3f826",
   "metadata": {},
   "outputs": [],
   "source": [
    "# importando librerias\n",
    "import numpy as np\n",
    "import pandas as pd\n",
    "import seaborn as sns\n",
    "import matplotlib.pyplot as plt\n",
    "from sklearn.feature_extraction.text import CountVectorizer, TfidfVectorizer\n",
    "from sklearn.linear_model import LogisticRegression\n",
    "from sklearn.metrics import roc_auc_score, f1_score, confusion_matrix\n",
    "from sklearn.model_selection import train_test_split"
   ]
  },
  {
   "cell_type": "markdown",
   "id": "4760282d-7a39-4846-9b75-3cc4d7639bc7",
   "metadata": {},
   "source": [
    "# Importando el dataset"
   ]
  },
  {
   "cell_type": "code",
   "execution_count": 2,
   "id": "3977dfa1-dab6-424d-aa04-163ac0a03251",
   "metadata": {},
   "outputs": [
    {
     "data": {
      "text/html": [
       "<div>\n",
       "<style scoped>\n",
       "    .dataframe tbody tr th:only-of-type {\n",
       "        vertical-align: middle;\n",
       "    }\n",
       "\n",
       "    .dataframe tbody tr th {\n",
       "        vertical-align: top;\n",
       "    }\n",
       "\n",
       "    .dataframe thead th {\n",
       "        text-align: right;\n",
       "    }\n",
       "</style>\n",
       "<table border=\"1\" class=\"dataframe\">\n",
       "  <thead>\n",
       "    <tr style=\"text-align: right;\">\n",
       "      <th></th>\n",
       "      <th>clean_text</th>\n",
       "      <th>category</th>\n",
       "    </tr>\n",
       "  </thead>\n",
       "  <tbody>\n",
       "    <tr>\n",
       "      <th>0</th>\n",
       "      <td>when modi promised “minimum government maximum...</td>\n",
       "      <td>Negativo</td>\n",
       "    </tr>\n",
       "    <tr>\n",
       "      <th>1</th>\n",
       "      <td>talk all the nonsense and continue all the dra...</td>\n",
       "      <td>Neutro</td>\n",
       "    </tr>\n",
       "    <tr>\n",
       "      <th>2</th>\n",
       "      <td>what did just say vote for modi  welcome bjp t...</td>\n",
       "      <td>Positivo</td>\n",
       "    </tr>\n",
       "    <tr>\n",
       "      <th>3</th>\n",
       "      <td>asking his supporters prefix chowkidar their n...</td>\n",
       "      <td>Positivo</td>\n",
       "    </tr>\n",
       "    <tr>\n",
       "      <th>4</th>\n",
       "      <td>answer who among these the most powerful world...</td>\n",
       "      <td>Positivo</td>\n",
       "    </tr>\n",
       "  </tbody>\n",
       "</table>\n",
       "</div>"
      ],
      "text/plain": [
       "                                          clean_text  category\n",
       "0  when modi promised “minimum government maximum...  Negativo\n",
       "1  talk all the nonsense and continue all the dra...    Neutro\n",
       "2  what did just say vote for modi  welcome bjp t...  Positivo\n",
       "3  asking his supporters prefix chowkidar their n...  Positivo\n",
       "4  answer who among these the most powerful world...  Positivo"
      ]
     },
     "execution_count": 2,
     "metadata": {},
     "output_type": "execute_result"
    }
   ],
   "source": [
    "df = pd.read_csv(\"Twitter_Data.csv\")\n",
    "df.head()"
   ]
  },
  {
   "cell_type": "code",
   "execution_count": 8,
   "id": "2c59fd2a-2123-4911-8284-6a5d2645e527",
   "metadata": {},
   "outputs": [
    {
     "data": {
      "image/png": "[encoded data removed]",
      "text/plain": [
       "<Figure size 640x480 with 1 Axes>"
      ]
     },
     "metadata": {},
     "output_type": "display_data"
    }
   ],
   "source": [
    "# visualizando las categorias de los comentarios\n",
    "sns.countplot(x=df[\"category\"])\n",
    "plt.title(\"Tipos de comentarios\")\n",
    "plt.xlabel(\"\")\n",
    "plt.ylabel(\"Cantidad de comentarios\")\n",
    "plt.show()"
   ]
  },
  {
   "cell_type": "code",
   "execution_count": 9,
   "id": "402444f6-a546-444d-8100-8c9ec6c02595",
   "metadata": {},
   "outputs": [
    {
     "data": {
      "text/html": [
       "<div>\n",
       "<style scoped>\n",
       "    .dataframe tbody tr th:only-of-type {\n",
       "        vertical-align: middle;\n",
       "    }\n",
       "\n",
       "    .dataframe tbody tr th {\n",
       "        vertical-align: top;\n",
       "    }\n",
       "\n",
       "    .dataframe thead th {\n",
       "        text-align: right;\n",
       "    }\n",
       "</style>\n",
       "<table border=\"1\" class=\"dataframe\">\n",
       "  <thead>\n",
       "    <tr style=\"text-align: right;\">\n",
       "      <th></th>\n",
       "      <th>clean_text</th>\n",
       "      <th>category</th>\n",
       "      <th>target</th>\n",
       "    </tr>\n",
       "  </thead>\n",
       "  <tbody>\n",
       "    <tr>\n",
       "      <th>0</th>\n",
       "      <td>when modi promised “minimum government maximum...</td>\n",
       "      <td>Negativo</td>\n",
       "      <td>0</td>\n",
       "    </tr>\n",
       "    <tr>\n",
       "      <th>1</th>\n",
       "      <td>talk all the nonsense and continue all the dra...</td>\n",
       "      <td>Neutro</td>\n",
       "      <td>2</td>\n",
       "    </tr>\n",
       "    <tr>\n",
       "      <th>2</th>\n",
       "      <td>what did just say vote for modi  welcome bjp t...</td>\n",
       "      <td>Positivo</td>\n",
       "      <td>1</td>\n",
       "    </tr>\n",
       "    <tr>\n",
       "      <th>3</th>\n",
       "      <td>asking his supporters prefix chowkidar their n...</td>\n",
       "      <td>Positivo</td>\n",
       "      <td>1</td>\n",
       "    </tr>\n",
       "    <tr>\n",
       "      <th>4</th>\n",
       "      <td>answer who among these the most powerful world...</td>\n",
       "      <td>Positivo</td>\n",
       "      <td>1</td>\n",
       "    </tr>\n",
       "  </tbody>\n",
       "</table>\n",
       "</div>"
      ],
      "text/plain": [
       "                                          clean_text  category  target\n",
       "0  when modi promised “minimum government maximum...  Negativo       0\n",
       "1  talk all the nonsense and continue all the dra...    Neutro       2\n",
       "2  what did just say vote for modi  welcome bjp t...  Positivo       1\n",
       "3  asking his supporters prefix chowkidar their n...  Positivo       1\n",
       "4  answer who among these the most powerful world...  Positivo       1"
      ]
     },
     "execution_count": 9,
     "metadata": {},
     "output_type": "execute_result"
    }
   ],
   "source": [
    "# convirtiendo a valores numericos la variable objetivo\n",
    "df[\"target\"] = df[\"category\"].map({\"Positivo\": 1, \"Negativo\": 0, \"Neutro\": 2})\n",
    "df.head()"
   ]
  },
  {
   "cell_type": "markdown",
   "id": "8c672e09-f159-4d6f-b85d-e01f028fcb86",
   "metadata": {},
   "source": [
    "# Train Test Split"
   ]
  },
  {
   "cell_type": "code",
   "execution_count": 10,
   "id": "08021b42-86fe-47f1-9750-81a1b02d3dde",
   "metadata": {},
   "outputs": [],
   "source": [
    "df_train, df_test = train_test_split(df)"
   ]
  },
  {
   "cell_type": "code",
   "execution_count": 11,
   "id": "2349a710-26d6-4d3d-92b2-1d218a26b2a2",
   "metadata": {},
   "outputs": [],
   "source": [
    "vectorizer = TfidfVectorizer(max_features=2000)\n",
    "X_train = vectorizer.fit_transform(df_train[\"clean_text\"])"
   ]
  },
  {
   "cell_type": "code",
   "execution_count": 12,
   "id": "c95daae9-99f4-4f9c-8c23-a6680d7dbc26",
   "metadata": {},
   "outputs": [],
   "source": [
    "X_test = vectorizer.transform(df_test[\"clean_text\"])"
   ]
  },
  {
   "cell_type": "code",
   "execution_count": 13,
   "id": "9c0db848-c3af-49b3-8894-cc4c5ae52cbe",
   "metadata": {},
   "outputs": [],
   "source": [
    "Y_train = df_train[\"target\"]\n",
    "Y_test = df_test[\"target\"]"
   ]
  },
  {
   "cell_type": "markdown",
   "id": "48bff1be-a695-438f-a1f3-665037b08628",
   "metadata": {},
   "source": [
    "# Regresión logística"
   ]
  },
  {
   "cell_type": "code",
   "execution_count": 14,
   "id": "5a42f4cd-f65e-46b9-b6d2-994df1ad89bd",
   "metadata": {},
   "outputs": [
    {
     "name": "stdout",
     "output_type": "stream",
     "text": [
      "Train acc: 0.8963968386431692\n",
      "Test acc: 0.8920033380786412\n"
     ]
    }
   ],
   "source": [
    "lg = LogisticRegression(max_iter=1000)\n",
    "lg.fit(X_train, Y_train)\n",
    "print(\"Train acc:\", lg.score(X_train, Y_train))\n",
    "print(\"Test acc:\", lg.score(X_test, Y_test))"
   ]
  },
  {
   "cell_type": "code",
   "execution_count": 16,
   "id": "69514a5b-fd51-4ae3-bc27-060bbd0b184a",
   "metadata": {},
   "outputs": [],
   "source": [
    "lg_train = lg.predict(X_train)\n",
    "lg_test = lg.predict(X_test)"
   ]
  },
  {
   "cell_type": "code",
   "execution_count": 17,
   "id": "9e626804-3c9e-403b-8216-c823a5c5665f",
   "metadata": {},
   "outputs": [],
   "source": [
    "cm = confusion_matrix(Y_train, lg_train, normalize=\"true\")"
   ]
  },
  {
   "cell_type": "code",
   "execution_count": 19,
   "id": "3dbbaa80-fa5b-4830-b724-1499f9067b27",
   "metadata": {},
   "outputs": [],
   "source": [
    "def con_max(cm):\n",
    "    clases = [\"negativo\", \"positivo\", \"neutro\"]\n",
    "    df_cm = pd.DataFrame(cm, index=clases, columns=clases)\n",
    "    ax = sn.heatmap(df_cm, annot=True, fmt=\"g\")\n",
    "    ax.set_xlabel(\"Predicción\")\n",
    "    ax.set_ylabel(\"Objetivo\")"
   ]
  },
  {
   "cell_type": "code",
   "execution_count": 20,
   "id": "050a0fd0-c667-4897-a91c-84a29191f07c",
   "metadata": {},
   "outputs": [
    {
     "data": {
      "image/png": "[encoded data removed]",
      "text/plain": [
       "<Figure size 640x480 with 2 Axes>"
      ]
     },
     "metadata": {},
     "output_type": "display_data"
    }
   ],
   "source": [
    "cm_test = confusion_matrix(Y_test, lg_test, normalize=\"true\")\n",
    "con_max(cm_test)"
   ]
  }
 ],
 "metadata": {
  "kernelspec": {
   "display_name": "Python 3 (ipykernel)",
   "language": "python",
   "name": "python3"
  },
  "language_info": {
   "codemirror_mode": {
    "name": "ipython",
    "version": 3
   },
   "file_extension": ".py",
   "mimetype": "text/x-python",
   "name": "python",
   "nbconvert_exporter": "python",
   "pygments_lexer": "ipython3",
   "version": "3.11.7"
  }
 },
 "nbformat": 4,
 "nbformat_minor": 5
}
