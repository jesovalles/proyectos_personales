{
 "cells": [
  {
   "cell_type": "markdown",
   "id": "4217a0a3-558d-43bc-8b8a-abb600b0c4f2",
   "metadata": {},
   "source": [
    "# REGEX - Expresiones regulares"
   ]
  },
  {
   "cell_type": "code",
   "execution_count": 1,
   "id": "e7badcc5-b9fa-4f98-9c3d-90e0cfe9da88",
   "metadata": {},
   "outputs": [],
   "source": [
    "import re"
   ]
  },
  {
   "cell_type": "code",
   "execution_count": 32,
   "id": "db0d7294-e0c3-4e2f-a7f6-0e7111eead0e",
   "metadata": {},
   "outputs": [],
   "source": [
    "texto = '''Hola, esta es la cadena número 1. prueba\n",
    "Esta es la segunda 435 línea\n",
    "y esta es la tercera'''"
   ]
  },
  {
   "cell_type": "code",
   "execution_count": 3,
   "id": "631fbcd7-5c5e-4d2a-a81a-dfbd80bbe749",
   "metadata": {},
   "outputs": [
    {
     "name": "stdout",
     "output_type": "stream",
     "text": [
      "<re.Match object; span=(41, 45), match='Esta'>\n"
     ]
    }
   ],
   "source": [
    "# search busca la primera coincidencia en una cadena de texto\n",
    "resultado = re.search('Esta', texto)\n",
    "print(resultado)"
   ]
  },
  {
   "cell_type": "code",
   "execution_count": 4,
   "id": "1a0d1429-ffe0-4419-b77c-f14e1ceaacc5",
   "metadata": {},
   "outputs": [
    {
     "name": "stdout",
     "output_type": "stream",
     "text": [
      "['esta', 'esta']\n"
     ]
    }
   ],
   "source": [
    "# findall muestra todas las coincidencias que encuentre en una cadena de texto\n",
    "resultado = re.findall('esta', texto)\n",
    "print(resultado)"
   ]
  },
  {
   "cell_type": "code",
   "execution_count": 5,
   "id": "1b11fbf7-36a4-425a-9807-51f62880fbd7",
   "metadata": {},
   "outputs": [
    {
     "name": "stdout",
     "output_type": "stream",
     "text": [
      "['esta', 'Esta', 'esta']\n"
     ]
    }
   ],
   "source": [
    "# el parametro flags permite que se ignoren las minusculas o mayusculas de la cadena de texto\n",
    "resultado = re.findall('esta', texto, flags=re.IGNORECASE)\n",
    "print(resultado)"
   ]
  },
  {
   "cell_type": "code",
   "execution_count": 6,
   "id": "405b4d8e-ea9d-47b3-8970-e1227ca42cd8",
   "metadata": {},
   "outputs": [
    {
     "name": "stdout",
     "output_type": "stream",
     "text": [
      "['1']\n"
     ]
    }
   ],
   "source": [
    "# \\d busca digitos numericos del 0 al 9\n",
    "resultado = re.findall(r'\\d', texto)\n",
    "print(resultado)"
   ]
  },
  {
   "cell_type": "code",
   "execution_count": 7,
   "id": "4cef476c-5b3f-466b-9942-24b9f322b305",
   "metadata": {},
   "outputs": [
    {
     "name": "stdout",
     "output_type": "stream",
     "text": [
      "['H', 'o', 'l', 'a', ',', ' ', 'e', 's', 't', 'a', ' ', 'e', 's', ' ', 'l', 'a', ' ', 'c', 'a', 'd', 'e', 'n', 'a', ' ', 'n', 'ú', 'm', 'e', 'r', 'o', ' ', '.', ' ', 'p', 'r', 'u', 'e', 'b', 'a', '\\n', 'E', 's', 't', 'a', ' ', 'e', 's', ' ', 'l', 'a', ' ', 's', 'e', 'g', 'u', 'n', 'd', 'a', ' ', 'l', 'í', 'n', 'e', 'a', '\\n', 'y', ' ', 'e', 's', 't', 'a', ' ', 'e', 's', ' ', 'l', 'a', ' ', 't', 'e', 'r', 'c', 'e', 'r', 'a']\n"
     ]
    }
   ],
   "source": [
    "# \\D busca todo menos digitos numericos del 0 al 9\n",
    "resultado = re.findall(r'\\D', texto)\n",
    "print(resultado)"
   ]
  },
  {
   "cell_type": "code",
   "execution_count": 8,
   "id": "b179b8f4-50d6-4f99-b49c-f2cd99f2efc8",
   "metadata": {},
   "outputs": [
    {
     "name": "stdout",
     "output_type": "stream",
     "text": [
      "['H', 'o', 'l', 'a', 'e', 's', 't', 'a', 'e', 's', 'l', 'a', 'c', 'a', 'd', 'e', 'n', 'a', 'n', 'ú', 'm', 'e', 'r', 'o', '1', 'p', 'r', 'u', 'e', 'b', 'a', 'E', 's', 't', 'a', 'e', 's', 'l', 'a', 's', 'e', 'g', 'u', 'n', 'd', 'a', 'l', 'í', 'n', 'e', 'a', 'y', 'e', 's', 't', 'a', 'e', 's', 'l', 'a', 't', 'e', 'r', 'c', 'e', 'r', 'a']\n"
     ]
    }
   ],
   "source": [
    "# \\w busca caracteres alfanumericos [a-z, A-Z, 0-9, _]\n",
    "resultado = re.findall(r'\\w', texto)\n",
    "print(resultado)"
   ]
  },
  {
   "cell_type": "code",
   "execution_count": 9,
   "id": "f16570f4-e40e-4ff8-adab-53c5bff84942",
   "metadata": {},
   "outputs": [
    {
     "name": "stdout",
     "output_type": "stream",
     "text": [
      "[',', ' ', ' ', ' ', ' ', ' ', ' ', '.', ' ', '\\n', ' ', ' ', ' ', ' ', '\\n', ' ', ' ', ' ', ' ']\n"
     ]
    }
   ],
   "source": [
    "# \\W busca todo menos caracteres alfanumericos [a-z, A-Z, 0-9, _]\n",
    "resultado = re.findall(r'\\W', texto)\n",
    "print(resultado)"
   ]
  },
  {
   "cell_type": "code",
   "execution_count": 10,
   "id": "b879a391-cc64-4fa6-ac12-4e21fdabb885",
   "metadata": {},
   "outputs": [
    {
     "name": "stdout",
     "output_type": "stream",
     "text": [
      "[' ', ' ', ' ', ' ', ' ', ' ', ' ', '\\n', ' ', ' ', ' ', ' ', '\\n', ' ', ' ', ' ', ' ']\n"
     ]
    }
   ],
   "source": [
    "# \\s busca espacios, tabulaciones y saltos de linea\n",
    "resultado = re.findall(r'\\s', texto)\n",
    "print(resultado)"
   ]
  },
  {
   "cell_type": "code",
   "execution_count": 11,
   "id": "e25b9f66-6c49-488b-bae8-a08b74ed9941",
   "metadata": {},
   "outputs": [
    {
     "name": "stdout",
     "output_type": "stream",
     "text": [
      "['H', 'o', 'l', 'a', ',', 'e', 's', 't', 'a', 'e', 's', 'l', 'a', 'c', 'a', 'd', 'e', 'n', 'a', 'n', 'ú', 'm', 'e', 'r', 'o', '1', '.', 'p', 'r', 'u', 'e', 'b', 'a', 'E', 's', 't', 'a', 'e', 's', 'l', 'a', 's', 'e', 'g', 'u', 'n', 'd', 'a', 'l', 'í', 'n', 'e', 'a', 'y', 'e', 's', 't', 'a', 'e', 's', 'l', 'a', 't', 'e', 'r', 'c', 'e', 'r', 'a']\n"
     ]
    }
   ],
   "source": [
    "# \\S busca todo menos espacios, tabulaciones y saltos de linea\n",
    "resultado = re.findall(r'\\S', texto)\n",
    "print(resultado)"
   ]
  },
  {
   "cell_type": "code",
   "execution_count": 12,
   "id": "622c7016-2410-4a96-9a89-c14490c90465",
   "metadata": {},
   "outputs": [
    {
     "name": "stdout",
     "output_type": "stream",
     "text": [
      "['\\n', '\\n']\n"
     ]
    }
   ],
   "source": [
    "# \\n busca saltos de linea\n",
    "resultado = re.findall(r'\\n', texto)\n",
    "print(resultado)"
   ]
  },
  {
   "cell_type": "code",
   "execution_count": 13,
   "id": "2cb68a32-5b55-421c-b75d-6e76c9b87ad0",
   "metadata": {},
   "outputs": [
    {
     "name": "stdout",
     "output_type": "stream",
     "text": [
      "['H', 'o', 'l', 'a', ',', ' ', 'e', 's', 't', 'a', ' ', 'e', 's', ' ', 'l', 'a', ' ', 'c', 'a', 'd', 'e', 'n', 'a', ' ', 'n', 'ú', 'm', 'e', 'r', 'o', ' ', '1', '.', ' ', 'p', 'r', 'u', 'e', 'b', 'a', 'E', 's', 't', 'a', ' ', 'e', 's', ' ', 'l', 'a', ' ', 's', 'e', 'g', 'u', 'n', 'd', 'a', ' ', 'l', 'í', 'n', 'e', 'a', 'y', ' ', 'e', 's', 't', 'a', ' ', 'e', 's', ' ', 'l', 'a', ' ', 't', 'e', 'r', 'c', 'e', 'r', 'a']\n"
     ]
    }
   ],
   "source": [
    "# . busca todo menos saltos de linea\n",
    "resultado = re.findall(r'.', texto)\n",
    "print(resultado)"
   ]
  },
  {
   "cell_type": "code",
   "execution_count": 14,
   "id": "fe346568-522f-4538-84e4-bfb573718a61",
   "metadata": {},
   "outputs": [
    {
     "name": "stdout",
     "output_type": "stream",
     "text": [
      "['.']\n"
     ]
    }
   ],
   "source": [
    "# \\. busca puntos\n",
    "resultado = re.findall(r'\\.', texto)\n",
    "print(resultado)"
   ]
  },
  {
   "cell_type": "code",
   "execution_count": 15,
   "id": "27117db3-54ca-4eb9-8188-18edda2b19f9",
   "metadata": {},
   "outputs": [
    {
     "name": "stdout",
     "output_type": "stream",
     "text": [
      "['1. ']\n"
     ]
    }
   ],
   "source": [
    "# buscando una cadena que contenga un numero, un punto y luego un espacio o salto de linea\n",
    "resultado = re.findall(r'\\d\\.\\s', texto)\n",
    "print(resultado)"
   ]
  },
  {
   "cell_type": "code",
   "execution_count": 17,
   "id": "e5fc2a17-2d23-4c5c-b022-e47187257364",
   "metadata": {},
   "outputs": [
    {
     "name": "stdout",
     "output_type": "stream",
     "text": [
      "['Hola']\n"
     ]
    }
   ],
   "source": [
    "# ^ busca como empieza el texto, es decir, si empieza por algun texto en especifico\n",
    "resultado = re.findall(r'^Hola', texto)\n",
    "print(resultado)"
   ]
  },
  {
   "cell_type": "code",
   "execution_count": 18,
   "id": "b5ac1483-bd1e-4f74-8d03-ce73a4ff03f5",
   "metadata": {},
   "outputs": [
    {
     "name": "stdout",
     "output_type": "stream",
     "text": [
      "['Esta']\n"
     ]
    }
   ],
   "source": [
    "# busca como empieza alguna de las lineas del texto, es decir, si empieza por algun texto en especifico\n",
    "resultado = re.findall(r'^Esta', texto, flags=re.M)\n",
    "print(resultado)"
   ]
  },
  {
   "cell_type": "code",
   "execution_count": 30,
   "id": "e371f7d7-061e-4f07-ac91-b7282fae415d",
   "metadata": {},
   "outputs": [
    {
     "name": "stdout",
     "output_type": "stream",
     "text": [
      "['tercera']\n"
     ]
    }
   ],
   "source": [
    "# $ busca como termina el texto, es decir, si termina por algun texto en especifico\n",
    "resultado = re.findall(r'tercera$', texto)\n",
    "print(resultado)"
   ]
  },
  {
   "cell_type": "code",
   "execution_count": 31,
   "id": "b7fdd435-fc58-47ab-af6c-bd8b1be4d35d",
   "metadata": {},
   "outputs": [
    {
     "name": "stdout",
     "output_type": "stream",
     "text": [
      "['línea']\n"
     ]
    }
   ],
   "source": [
    "# $ busca como termina alguna de las lineas, es decir, si termina por algun texto en especifico\n",
    "resultado = re.findall(r'línea$', texto, flags=re.M)\n",
    "print(resultado)"
   ]
  },
  {
   "cell_type": "code",
   "execution_count": 33,
   "id": "23020758-1754-44df-9a78-19407e1ab51a",
   "metadata": {},
   "outputs": [
    {
     "name": "stdout",
     "output_type": "stream",
     "text": [
      "['435']\n"
     ]
    }
   ],
   "source": [
    "# buscando una cadena de 3 numeros\n",
    "resultado = re.findall(r'\\d{3}', texto)\n",
    "print(resultado)"
   ]
  },
  {
   "cell_type": "code",
   "execution_count": 34,
   "id": "47e85e64-9e20-4436-84d2-eefc1111a9bf",
   "metadata": {},
   "outputs": [
    {
     "name": "stdout",
     "output_type": "stream",
     "text": [
      "['435 ']\n"
     ]
    }
   ],
   "source": [
    "# buscando 3 numeros y un espacio\n",
    "resultado = re.findall(r'\\d{3}\\s', texto)\n",
    "print(resultado)"
   ]
  },
  {
   "cell_type": "code",
   "execution_count": 42,
   "id": "5cf33aad-963b-4bd8-9a38-745700825dc6",
   "metadata": {},
   "outputs": [
    {
     "name": "stdout",
     "output_type": "stream",
     "text": [
      "['1', '435']\n"
     ]
    }
   ],
   "source": [
    "# buscando cadenas que contengan entre 1 y 3 numeros\n",
    "resultado = re.findall(r'\\d{1,3}', texto)\n",
    "print(resultado)"
   ]
  },
  {
   "cell_type": "code",
   "execution_count": 44,
   "id": "f055ee36-2cf3-4bba-9b8e-fdb7d660a402",
   "metadata": {},
   "outputs": [
    {
     "name": "stdout",
     "output_type": "stream",
     "text": [
      "['Hola', '1', '435']\n"
     ]
    }
   ],
   "source": [
    "# buscando cadenas que contengan entre 1 y 3 numeros o que contenga Hola\n",
    "resultado = re.findall(r'\\d{1,3}|Hola', texto)\n",
    "print(resultado)"
   ]
  },
  {
   "cell_type": "code",
   "execution_count": 48,
   "id": "87b20ae3-54f4-4f40-af9c-87ca9b187f5d",
   "metadata": {},
   "outputs": [
    {
     "name": "stdout",
     "output_type": "stream",
     "text": [
      "Si\n"
     ]
    }
   ],
   "source": [
    "text = 'The quick brown for jumps over the lazy dog' # texto\n",
    "\n",
    "x = re.search(r'^The.*dog$', text) # buscara que el texto inicie con The y termine con dog\n",
    "\n",
    "if x:\n",
    "    print('Si')\n",
    "else:\n",
    "    print('No')\n",
    "\n",
    "# en este caso se imprimira Si ya que el texto empieza por The y termina en dog"
   ]
  },
  {
   "cell_type": "code",
   "execution_count": 51,
   "id": "f1003c04-d779-47a2-bec3-dc9fa5e893ee",
   "metadata": {},
   "outputs": [
    {
     "name": "stdout",
     "output_type": "stream",
     "text": [
      "Texto modificado: La fecha es Fecha oculta y el teléfono es +1-555-555-5555\n"
     ]
    }
   ],
   "source": [
    "text = 'La fecha es 23/06/2023 y el teléfono es +1-555-555-5555' # texto\n",
    "\n",
    "pattern = r'\\d{2}/\\d{2}/\\d{4}' # cadena a buscar xx/xx/xxxx\n",
    "\n",
    "replacement = 'Fecha oculta' # valor que reemplazara la cadena encontrada\n",
    "\n",
    "new_text = re.sub(pattern, replacement, text) # crea la nueva cadena\n",
    "\n",
    "print(f'Texto modificado: {new_text}')\n",
    "\n",
    "# en este caso se reemplazara la fecha por Fecha oculta"
   ]
  },
  {
   "cell_type": "code",
   "execution_count": 52,
   "id": "098a8be2-9fa7-429a-abee-82d3f89fbf3e",
   "metadata": {},
   "outputs": [
    {
     "name": "stdout",
     "output_type": "stream",
     "text": [
      "r**mpl*z*nd* l*s v*c*l*s p*r *st*r*c*s\n"
     ]
    }
   ],
   "source": [
    "text = 'reemplazando las vocales por astericos' # texto\n",
    "\n",
    "new_text = re.sub('[aeiou]', '*', text) # buscara las vocales y las reemplazara por *\n",
    "\n",
    "print(new_text)"
   ]
  },
  {
   "cell_type": "code",
   "execution_count": 86,
   "id": "66efdec8-8c80-4688-b171-cd81003c44de",
   "metadata": {},
   "outputs": [
    {
     "name": "stdout",
     "output_type": "stream",
     "text": [
      "Dirección de correo válida\n"
     ]
    }
   ],
   "source": [
    "email = 'example@gmail.com'\n",
    "\n",
    "pattern = '[a-zA-Z0-9._%+-]+@[a-zA-Z0-9.-]+\\.[a-zA-Z]{2,}'\n",
    "\n",
    "result = re.match(pattern, email)\n",
    "\n",
    "if result:\n",
    "    print('Dirección de correo válida')\n",
    "else:\n",
    "    print('Dirección de correo inválida')"
   ]
  },
  {
   "cell_type": "code",
   "execution_count": 91,
   "id": "79a25a20-301a-4429-a385-2f807de87153",
   "metadata": {},
   "outputs": [
    {
     "name": "stdout",
     "output_type": "stream",
     "text": [
      "['http://www.example.com']\n"
     ]
    }
   ],
   "source": [
    "text = 'Esta es una pagina web: http://www.example.com, este es un ejemplo'\n",
    "\n",
    "pattern = 'https?://[a-zA-Z0-9.-]+\\.[a-zA-Z]{2,}'\n",
    "\n",
    "result = re.findall(pattern, text)\n",
    "\n",
    "print(result)"
   ]
  },
  {
   "cell_type": "code",
   "execution_count": 97,
   "id": "5806f3af-7aa1-4fd7-b827-f3cf7f16a856",
   "metadata": {},
   "outputs": [
    {
     "name": "stdout",
     "output_type": "stream",
     "text": [
      "Hola, este es mi numero: (Número ocultó)\n"
     ]
    }
   ],
   "source": [
    "texto = 'Hola, este es mi numero: +54 11 4321-4321'\n",
    "\n",
    "pattern = r'\\+\\d{2}\\s\\d{2}\\s\\d{4}-\\d{4}'\n",
    "\n",
    "reemplazo = re.sub(pattern, '(Número ocultó)', texto)\n",
    "\n",
    "print(reemplazo)"
   ]
  }
 ],
 "metadata": {
  "kernelspec": {
   "display_name": "Python 3 (ipykernel)",
   "language": "python",
   "name": "python3"
  },
  "language_info": {
   "codemirror_mode": {
    "name": "ipython",
    "version": 3
   },
   "file_extension": ".py",
   "mimetype": "text/x-python",
   "name": "python",
   "nbconvert_exporter": "python",
   "pygments_lexer": "ipython3",
   "version": "3.11.7"
  }
 },
 "nbformat": 4,
 "nbformat_minor": 5
}
