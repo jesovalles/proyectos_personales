{
 "cells": [
  {
   "cell_type": "markdown",
   "id": "1cc9f04b-a36f-4f89-9dc7-3e017a57a968",
   "metadata": {},
   "source": [
    "# Guía de ciencia de datos y machine learning"
   ]
  },
  {
   "cell_type": "markdown",
   "id": "0c40aab7-3634-4992-a764-daef075abaed",
   "metadata": {},
   "source": [
    "Este documento tiene como finalidad resumir los métodos más cómunes empleados en la ciencia de datos y machine learning."
   ]
  },
  {
   "cell_type": "markdown",
   "id": "9bc292ec-a9c7-41d2-a0b2-fe3bf00d88d2",
   "metadata": {},
   "source": [
    "- ## Carga, limpieza y transformación de los datos"
   ]
  },
  {
   "cell_type": "markdown",
   "id": "1eb7d3ef-9c18-42ac-9b9a-78ac349965fd",
   "metadata": {},
   "source": [
    "#### Importando librerías para la limpieza, carga y visualización de los datos"
   ]
  },
  {
   "cell_type": "code",
   "execution_count": null,
   "id": "c8be1345-8ecb-4d5c-aca3-4f186e295d99",
   "metadata": {},
   "outputs": [],
   "source": [
    "import pandas as pd\n",
    "import numpy as p\n",
    "import matplotlib.pyplot as plt\n",
    "import seaborn as sns\n",
    "import warnings \n",
    "\n",
    "warnings.filterwarnings('ignore') # ignora las advertencias\n",
    "pd.set_option('display.max_columns', None) # visualiza todas las columnas\n",
    "pd.options.display.float_format = '{:.2f}'.format # los datos numericos contendran 2 decimales"
   ]
  },
  {
   "cell_type": "markdown",
   "id": "0cc02dab-64d1-41cf-8012-f154c8f8840d",
   "metadata": {},
   "source": [
    "#### Cargando datos desde archivos"
   ]
  },
  {
   "cell_type": "code",
   "execution_count": null,
   "id": "79214f46-276c-4c38-9e4b-2e33b5ba64b0",
   "metadata": {},
   "outputs": [],
   "source": [
    "data = pd.read_csv('archivo.csv') # cargando desde archivo csv\n",
    "data = pd.read_excel('archivo.xlsx') # cargando desde archivo excel\n",
    "data = pd.read_csv('dDEC1204.txt', sep=',', header=None, encoding='ISO-8859-1') # cargando desde archivo txt"
   ]
  },
  {
   "cell_type": "markdown",
   "id": "1c533c10-38dc-4903-b9a8-82f737104ed4",
   "metadata": {},
   "source": [
    "#### Cargando datos desde base de datos"
   ]
  },
  {
   "cell_type": "code",
   "execution_count": null,
   "id": "50a2e908-7961-4119-811a-61af6c7ff478",
   "metadata": {},
   "outputs": [],
   "source": [
    "import mysql.connector\n",
    "\n",
    "conexion = mysql.connector.connect(host='localhost', user='root', password='password', database='database') # conexión a la BD\n",
    "data_sql = pd.read_sql('SELECT * FROM tareas', conexion) # ejecución de la consulta SQL\n",
    "conexion.close() # cerrando conexión a la BD\n",
    "data = pd.DataFrame(data_sql) # guardando la consulta en un dataFrame"
   ]
  },
  {
   "cell_type": "markdown",
   "id": "5eedf8b8-c0b7-4fc5-ac71-ead39e91986c",
   "metadata": {},
   "source": [
    "#### Visualizar información del dataframe"
   ]
  },
  {
   "cell_type": "code",
   "execution_count": null,
   "id": "f9187930-e043-4727-91f3-40e4e02b5aac",
   "metadata": {},
   "outputs": [],
   "source": [
    "data.info()"
   ]
  },
  {
   "cell_type": "markdown",
   "id": "1ca689f4-5b53-4b1d-8ce9-0b759873e319",
   "metadata": {},
   "source": [
    "#### Visualizando la estructura del dataframe"
   ]
  },
  {
   "cell_type": "code",
   "execution_count": null,
   "id": "0815ecaa-cbcc-407d-a4e3-b879c8f56bfd",
   "metadata": {},
   "outputs": [],
   "source": [
    "print(f'El dataframe contiene {data.shape[0]} filas y {data.shape[1]} columnas')"
   ]
  },
  {
   "cell_type": "markdown",
   "id": "fafa4352-d0ce-4c43-9845-af55f6e11c76",
   "metadata": {},
   "source": [
    "### Limpieza y preparación de datos"
   ]
  },
  {
   "cell_type": "markdown",
   "id": "f4f13b45-bc24-4850-996d-254fa16973fa",
   "metadata": {},
   "source": [
    "#### Eliminando columnas innecesarias"
   ]
  },
  {
   "cell_type": "code",
   "execution_count": null,
   "id": "7c88ac49-02bc-4ca8-9723-6b1c79cfa612",
   "metadata": {},
   "outputs": [],
   "source": [
    "data.drop(columns=['id', 'fecha'], inplace=True) # elimina las columnas id y fecha"
   ]
  },
  {
   "cell_type": "markdown",
   "id": "6fccbd4a-aa96-4841-91c8-9203d6e9f90e",
   "metadata": {},
   "source": [
    "#### Seleccionando columnas a usar"
   ]
  },
  {
   "cell_type": "code",
   "execution_count": null,
   "id": "b289173c-0ae9-46f0-b57d-b4aa44cc6f05",
   "metadata": {},
   "outputs": [],
   "source": [
    "data= data[['Agente', 'CENTRAL', 'Tipo de central']] # selecciona unicamente esas 3 columnas"
   ]
  },
  {
   "cell_type": "markdown",
   "id": "750557f6-3b1f-4718-9e2a-129155a10534",
   "metadata": {},
   "source": [
    "#### Eliminando filas duplicadas"
   ]
  },
  {
   "cell_type": "code",
   "execution_count": null,
   "id": "0002f1c3-84c0-47a2-9168-d3e221b1df55",
   "metadata": {},
   "outputs": [],
   "source": [
    "data.drop_duplicates(inplace=True) # elimina las filas duplicadas"
   ]
  },
  {
   "cell_type": "markdown",
   "id": "c36e04eb-7f98-41ce-9c4c-53582e06f4d8",
   "metadata": {},
   "source": [
    "#### Visualizando columnas con valores nulos"
   ]
  },
  {
   "cell_type": "code",
   "execution_count": null,
   "id": "658640cf-ccb8-4539-807a-717a76a69216",
   "metadata": {},
   "outputs": [],
   "source": [
    "null = data.isnull().sum() * 100 / data.shape[0]\n",
    "null[null > 0].sort_values(ascending=False) # verifica los nulos de las columnas"
   ]
  },
  {
   "cell_type": "markdown",
   "id": "291dbf8d-68a4-48e7-b927-84eb59f21128",
   "metadata": {},
   "source": [
    "#### Eliminando filas con valores nulos en una columna"
   ]
  },
  {
   "cell_type": "code",
   "execution_count": null,
   "id": "a2643dab-a725-4758-ad70-415e0a39500e",
   "metadata": {},
   "outputs": [],
   "source": [
    "data.dropna(subset=['categoria'], inplace=True) # elimina las filas nulas de categoria"
   ]
  },
  {
   "cell_type": "markdown",
   "id": "6105d521-3427-4215-ae77-eae52c425605",
   "metadata": {},
   "source": [
    "#### Rellenando valores faltantes en una columna"
   ]
  },
  {
   "cell_type": "code",
   "execution_count": null,
   "id": "b603b932-35ab-4dfe-9202-570aed3e0d50",
   "metadata": {},
   "outputs": [],
   "source": [
    "data['distancia'].fillna(0, inplace=True) # rellanando con 0\n",
    "data['distancia'].fillna(data['distancia'].mean(), inplace=True) # rellanando con la media\n",
    "data['distancia'].fillna(data['distancia'].mode()[0]), inplace=True) # rellanando con la moda\n",
    "data['distancia'].fillna(data['distancia'].median(), inplace=True) # rellanando con la mediana"
   ]
  },
  {
   "cell_type": "markdown",
   "id": "2f62743e-03bc-474e-910b-d30d7493c1a4",
   "metadata": {},
   "source": [
    "#### Reemplazando valores en una columna"
   ]
  },
  {
   "cell_type": "code",
   "execution_count": null,
   "id": "3f9b37d6-e36e-4f95-955c-0e8351f75a0c",
   "metadata": {},
   "outputs": [],
   "source": [
    "data['reviews'].replace(np.nan, 0, inplace=True) # reemplaza los nan por 0"
   ]
  },
  {
   "cell_type": "markdown",
   "id": "dffbb3ac-e368-42e3-b05f-33462d3cd8d4",
   "metadata": {},
   "source": [
    "#### Eliminando filas con un valor específico"
   ]
  },
  {
   "cell_type": "code",
   "execution_count": null,
   "id": "65c2f5ea-6a02-4beb-b710-5d6ef85cd28e",
   "metadata": {},
   "outputs": [],
   "source": [
    "data = data[data['categoria'] != 'desconocido'] # elimina las filas que contengan desconocido"
   ]
  },
  {
   "cell_type": "markdown",
   "id": "852d687c-35f1-49de-bb7a-5ba1ba92ce49",
   "metadata": {},
   "source": [
    "#### Renombrando columnas"
   ]
  },
  {
   "cell_type": "code",
   "execution_count": null,
   "id": "598d4ca7-e22f-4e61-8307-b6f65dd5bc11",
   "metadata": {},
   "outputs": [],
   "source": [
    "data.rename(columns={0: 'Central', 'tienda': 'lugar'}, inplace=True) # renombra 0 y tienda"
   ]
  },
  {
   "cell_type": "markdown",
   "id": "dcaa02bd-20b8-438d-885f-6e9e231b0bad",
   "metadata": {},
   "source": [
    "#### Creando una columna nueva"
   ]
  },
  {
   "cell_type": "code",
   "execution_count": null,
   "id": "0e6e189c-f8af-4016-8d6b-458ef07e2aa2",
   "metadata": {},
   "outputs": [],
   "source": [
    "data['price_night'] = data['price'] / data['minimum_nights'] # price x minimum_nights"
   ]
  },
  {
   "cell_type": "markdown",
   "id": "fe38fd1c-b3b1-4bf1-9349-2a4b9285b061",
   "metadata": {},
   "source": [
    "#### Filtrando dataframe"
   ]
  },
  {
   "cell_type": "code",
   "execution_count": null,
   "id": "0f289446-0019-4a5a-9d4a-7081a0bf845a",
   "metadata": {},
   "outputs": [],
   "source": [
    "# Filtrando por agente EMGESA S.A. y Tipo de central H o T\n",
    "data = data[(data['Agente'] == 'EMGESA S.A.') & (data['Tipo de central'].isin(['H', 'T']))]"
   ]
  },
  {
   "cell_type": "markdown",
   "id": "bd597ec2-3e77-4452-a268-0db35666b2c9",
   "metadata": {},
   "source": [
    "#### Combinando dataframes"
   ]
  },
  {
   "cell_type": "code",
   "execution_count": null,
   "id": "35a1ff67-21ba-40ca-aba5-efb0100ca9f5",
   "metadata": {},
   "outputs": [],
   "source": [
    "# creando dataframe usando data_1 y data_2\n",
    "data = pd.merge(data_1, data_2, left_on='CENTRAL', right_on='Central', how='inner')"
   ]
  },
  {
   "cell_type": "markdown",
   "id": "6dcb8c1e-1570-4760-bf8d-f07a21dc1b63",
   "metadata": {},
   "source": [
    "#### Cambiando tipo de datos de una columna"
   ]
  },
  {
   "cell_type": "code",
   "execution_count": null,
   "id": "3bf26a65-5a4b-4332-bf9f-3d50298befc9",
   "metadata": {},
   "outputs": [],
   "source": [
    "data['codigo_categoria'] = data['codigo_categoria'].astype(str) # cambia a string\n",
    "data['fecha_venta'] = pd.to_datetime(data['fecha_venta']) # cambia a datetime\n",
    "data['fecha'] = data['fecha_venta'].dt.date # crea columna date\n",
    "data['hora'] = data['fecha_venta'].dt.time # crea columna time\n",
    "data['hora'] = pd.to_datetime(data['hora'].apply(lambda x: x.strftime('%H:%M:%S'))) # cambia a formato HH:MM:SS"
   ]
  },
  {
   "cell_type": "markdown",
   "id": "a68c556b-0a44-472c-b9aa-904e150b55d1",
   "metadata": {},
   "source": [
    "- ## Label Encoding"
   ]
  },
  {
   "cell_type": "code",
   "execution_count": null,
   "id": "c6b5d0b8-3906-4c64-b732-3a3493e03973",
   "metadata": {},
   "outputs": [],
   "source": [
    "from sklearn.preprocessing import LabelEncoder\n",
    "\n",
    "df = data.copy(deep = True) # creando copia del dataframe que se transformara\n",
    "\n",
    "le = LabelEncoder() # creando label encoder\n",
    "text_data_features = [i for i in list(data.columns) if i not in list(data.describe().columns)] # obteniendo variables cat\n",
    "\n",
    "print('Label Encoder Transformation')\n",
    "for i in text_data_features:\n",
    "    df[i] = le.fit_transform(df[i])\n",
    "    print(i, ' : ',df[i].unique(), ' = ', le.inverse_transform(df[i].unique()))"
   ]
  },
  {
   "cell_type": "markdown",
   "id": "c8a22521-4787-49bd-98ee-a8bb5a24592c",
   "metadata": {},
   "source": [
    "- ## Dividiendo datos categóricos y numéricos"
   ]
  },
  {
   "cell_type": "code",
   "execution_count": null,
   "id": "f3e7e65c-5576-4691-9036-0af3d5bd28ae",
   "metadata": {},
   "outputs": [],
   "source": [
    "columns = list(df.columns)\n",
    "\n",
    "categorical_features = []\n",
    "numerical_features = []\n",
    "\n",
    "for feature in columns:\n",
    "    if data[feature].nunique() > 6:\n",
    "        numerical_features.append(feature)\n",
    "    else:\n",
    "        categorical_features.append(feature)\n",
    "        \n",
    "print('Categorical Features:')\n",
    "print(', '.join(categorical_features))\n",
    "print('Numerical Features:')\n",
    "print(', '.join(numerical_features))"
   ]
  },
  {
   "cell_type": "markdown",
   "id": "8676194c-cfbf-4cf4-aba3-cf40e5d5c3cc",
   "metadata": {},
   "source": [
    "Aquí, las características categóricas se definen si el atributo tiene menos de 6 elementos únicos, de lo contrario, es una característica numérica. El enfoque típico para esta división de características también puede basarse en los tipos de datos de los elementos del atributo respectivo."
   ]
  },
  {
   "cell_type": "markdown",
   "id": "e28ad4bb-a050-43ed-bad8-6816dcf445b7",
   "metadata": {},
   "source": [
    "- ## Análisis Exploratorio de datos"
   ]
  },
  {
   "cell_type": "markdown",
   "id": "b5dc96ac-f239-47a9-81e1-34ed775d50bb",
   "metadata": {},
   "source": [
    "Para el EDA se usará el dataframe data"
   ]
  },
  {
   "cell_type": "markdown",
   "id": "df6d8c3f-ced3-4989-9853-b3983d3d16e3",
   "metadata": {},
   "source": [
    "#### Estadística descriptiva"
   ]
  },
  {
   "cell_type": "code",
   "execution_count": null,
   "id": "1c303dd3-71ca-400e-b177-6ff9b9a2d195",
   "metadata": {},
   "outputs": [],
   "source": [
    "data.describe(include = 'O').T # variables categóricas\n",
    "data.describe().T # variables numericas\n",
    "round(data['venta'].describe().to_frame().T, 1) # una sola variable numerica\n",
    "data['categoria'].describe(include='O').to_frame().T # una sola variable numerica"
   ]
  },
  {
   "cell_type": "code",
   "execution_count": null,
   "id": "0e25c966-b8e7-48ac-9400-8ffb5b306dff",
   "metadata": {},
   "outputs": [],
   "source": [
    "# promedios de age, income y spending por categoria\n",
    "df.groupby('categoria')[['Age', 'Annual Income (k$)', 'Spending Score (1-100)']].mean()"
   ]
  },
  {
   "cell_type": "markdown",
   "id": "3bbbfa56-d601-4c6d-b70e-cb0798b18e45",
   "metadata": {},
   "source": [
    "Acá se gráfica y se analizan los datos para luego proceder a los siguientes pasos."
   ]
  },
  {
   "cell_type": "markdown",
   "id": "3e6f9468-1a61-4147-bda2-5886e8384c6c",
   "metadata": {},
   "source": [
    "Para las transformaciones y optimizaciones se usará el dataframe df."
   ]
  },
  {
   "cell_type": "markdown",
   "id": "05e5e738-45a8-46f2-95d7-591fd2598226",
   "metadata": {},
   "source": [
    "- ## Estandarizado y normalizado de datos"
   ]
  },
  {
   "cell_type": "code",
   "execution_count": null,
   "id": "bf1f1374-6b89-46c6-b44a-548407aef9da",
   "metadata": {},
   "outputs": [],
   "source": [
    "from sklearn.preprocessing import MinMaxScaler, StandardScaler\n",
    "\n",
    "MinMaxScaler = MinMaxScaler() #Para la normalizacion de los datos\n",
    "StandarScaler = StandardScaler() #Para el escalado de los datos.\n",
    "\n",
    "df['tenure'] = MinMaxScaler.fit_transform(df[['tenure']])\n",
    "df['charges'] = scaler.fit_transform(df[['charges']])"
   ]
  },
  {
   "cell_type": "code",
   "execution_count": null,
   "id": "57ac8f14-788c-4ccf-8b07-96d156387fd7",
   "metadata": {},
   "outputs": [],
   "source": [
    "# creando MinMaxScaler\n",
    "MinMaxScaler = MinMaxScaler()\n",
    "# aplicando MinMaxScaler a todas las columnas numericas\n",
    "df[df.columns] = MinMaxScaler.fit_transform(df[df.columns])\n",
    "\n",
    "# creando StandardScaler\n",
    "StandarScaler = StandardScaler()\n",
    "# aplicando StandardScaler a todas las columnas numericas\n",
    "df[df.columns] = StandarScaler.fit_transform(df[df.columns])"
   ]
  },
  {
   "cell_type": "markdown",
   "id": "379d53b4-7357-47b3-be13-1fc3ab894f6d",
   "metadata": {},
   "source": [
    "**Normalización:** Esta técnica se aplica a características cuyos datos no siguen una distribución normal (gaussiana). Reescala los valores de una característica a un rango entre 0 y 1. Cuando la distribución esta sesgada hacia un lado, se emplea normalización.\n",
    "\n",
    "**Estandarización:** Este método se utiliza para características que siguen una distribución normal o tienen valores significativamente más grandes o más pequeños que los de otras características. La estandarización transforma los valores de una característica para que tengan una media de 0 y una desviación estándar de 1."
   ]
  },
  {
   "cell_type": "markdown",
   "id": "22d3c4ed-500e-4178-968c-7eb6d67cfcb8",
   "metadata": {},
   "source": [
    "- ## Análisis de correlación"
   ]
  },
  {
   "cell_type": "markdown",
   "id": "73f6dd65-d26e-4023-b2f6-41c5f14d5b4b",
   "metadata": {},
   "source": [
    "#### Mapa de calor"
   ]
  },
  {
   "cell_type": "code",
   "execution_count": null,
   "id": "e3650d0f-7972-4ef9-aa32-52ca12bc7af6",
   "metadata": {},
   "outputs": [],
   "source": [
    "plt.figure(figsize = (20,5))\n",
    "sns.heatmap(df.corr(),cmap= colors, annot = True)\n",
    "plt.show()"
   ]
  },
  {
   "cell_type": "markdown",
   "id": "4b244436-593a-4735-8633-898b5369157c",
   "metadata": {},
   "source": [
    "#### Correlación con respecto a la variable objetivo"
   ]
  },
  {
   "cell_type": "code",
   "execution_count": null,
   "id": "56e5504a-558d-4986-8456-a53e36bd3445",
   "metadata": {},
   "outputs": [],
   "source": [
    "Matrix_Corr = df.corrwith(df['Churn']).sort_values(ascending = False).to_frame()\n",
    "Matrix_Corr.columns = ['Correlations']\n",
    "plt.subplots(figsize = (5,5))\n",
    "sns.heatmap(Matrix_Corr,annot = True,cmap = colors,linewidths = 0.4,linecolor = 'black')\n",
    "plt.title('Correlation Outcome')"
   ]
  },
  {
   "cell_type": "markdown",
   "id": "406c9e86-3b66-4d8c-b2c7-e79c6d37dd7c",
   "metadata": {},
   "source": [
    "Eliminamos las características con un coeficiente de correlación entre (-0.1, 0.1)."
   ]
  },
  {
   "cell_type": "markdown",
   "id": "10c53bc5-45ac-460d-acc6-9e8a38c381e0",
   "metadata": {},
   "source": [
    "- ##  Selección de Variables categóricas"
   ]
  },
  {
   "cell_type": "markdown",
   "id": "9aa9ff49-22fa-43d6-a394-2c07a8cda2eb",
   "metadata": {},
   "source": [
    "#### Test cuadrados chi"
   ]
  },
  {
   "cell_type": "code",
   "execution_count": null,
   "id": "222c1938-2947-4821-88c6-434af2c3e5f0",
   "metadata": {},
   "outputs": [],
   "source": [
    "from sklearn.feature_selection import SelectKBest\n",
    "from sklearn.feature_selection import chi2, mutual_info_classif "
   ]
  },
  {
   "cell_type": "code",
   "execution_count": null,
   "id": "78f9b9be-19c1-4142-9978-fde3cfd5326e",
   "metadata": {},
   "outputs": [],
   "source": [
    "features = df.loc[:,categorical_features]\n",
    "target = df.loc[:,'Churn']\n",
    "\n",
    "best_features = SelectKBest(score_func = chi2,k = 'all')\n",
    "fit = best_features.fit(features,target)\n",
    "\n",
    "featureScores = pd.DataFrame(data = fit.scores_,index = list(features.columns),columns = ['Chi Squared Score']) \n",
    "\n",
    "plt.subplots(figsize = (5,5))\n",
    "sns.heatmap(featureScores.sort_values(ascending = False,by = 'Chi Squared Score'),annot = True,cmap = colors,linewidths = 0.4,linecolor = 'black',fmt = '.2f')\n",
    "plt.title('Selection of Categorical Features')"
   ]
  },
  {
   "cell_type": "markdown",
   "id": "bd272f2a-fac3-41e2-ab64-9eeae7ce27ca",
   "metadata": {},
   "source": [
    "Se eliminan las columnas que tengan muy poca correlación con la columna objetivo."
   ]
  },
  {
   "cell_type": "markdown",
   "id": "87528300-ea03-4d88-ad4d-cd83ee0eff9e",
   "metadata": {},
   "source": [
    "- ##  Selección de Variables númericas"
   ]
  },
  {
   "cell_type": "markdown",
   "id": "7ca0f8bf-0122-419b-b1f0-1fd1c6cef3e9",
   "metadata": {},
   "source": [
    "#### Test de ANNOVA"
   ]
  },
  {
   "cell_type": "code",
   "execution_count": null,
   "id": "9de74012-4a6c-4993-9756-9464ae08d4a1",
   "metadata": {},
   "outputs": [],
   "source": [
    "from sklearn.feature_selection import f_classif"
   ]
  },
  {
   "cell_type": "code",
   "execution_count": null,
   "id": "9481fdb2-ee14-4fbb-8da2-16c7607ef7fa",
   "metadata": {},
   "outputs": [],
   "source": [
    "features = df.loc[:,numerical_features]\n",
    "target = df.loc[:,'Churn']\n",
    "\n",
    "best_features = SelectKBest(score_func = f_classif,k = 'all')\n",
    "fit = best_features.fit(features,target)\n",
    "\n",
    "featureScores = pd.DataFrame(data = fit.scores_,index = list(features.columns),columns = ['ANOVA Score']) \n",
    "\n",
    "plt.subplots(figsize = (5,5))\n",
    "sns.heatmap(featureScores.sort_values(ascending = False,by = 'ANOVA Score'),annot = True,cmap = colors,linewidths = 0.4,linecolor = 'black',fmt = '.2f')\n",
    "plt.title('Selection of Numerical Features')"
   ]
  },
  {
   "cell_type": "markdown",
   "id": "880f59fc-6b09-4704-8af0-b559c46f06a5",
   "metadata": {},
   "source": [
    "Se eliminan las columnas que tengan muy poca correlación con la columna objetivo."
   ]
  },
  {
   "cell_type": "markdown",
   "id": "fe807f7a-0ffc-48f4-b5e8-bf3e5b3e3aa1",
   "metadata": {},
   "source": [
    "- ## Train Test Split"
   ]
  },
  {
   "cell_type": "markdown",
   "id": "92865970-2944-46b6-b714-20b58de04d71",
   "metadata": {},
   "source": [
    "Es una técnica utilizada en machine learning para dividir un conjunto de datos en dos partes: un conjunto de entrenamiento y un conjunto de prueba. Esta división es fundamental para evaluar el rendimiento de un modelo de machine learning de manera imparcial."
   ]
  },
  {
   "cell_type": "markdown",
   "id": "033e537b-5807-4234-85f9-b02ec49ba6dd",
   "metadata": {},
   "source": [
    "#### Selección de variable objetivo (y) y variables independientes (X)"
   ]
  },
  {
   "cell_type": "code",
   "execution_count": null,
   "id": "e4e19aca-4622-4b3f-a652-43c8f99e4169",
   "metadata": {},
   "outputs": [],
   "source": [
    "X = df.drop(columns='stroke')    \n",
    "y = df['stroke']"
   ]
  },
  {
   "cell_type": "markdown",
   "id": "1bb8f9f7-6113-4965-8ccb-01a195bf6bcb",
   "metadata": {},
   "source": [
    "- ## Balance entre clases por sobremuestreo (SMOTE)"
   ]
  },
  {
   "cell_type": "markdown",
   "id": "f919bd07-07a3-4988-a953-36ee3fd50a89",
   "metadata": {},
   "source": [
    "El desbalance entre clases puede repercutir negativamente en el entrenamiento y aplicación del modelo. Para solucionar este problema se debe realizar un balance entre clases por sobremuestreo u alguno otra técnica.\n",
    "\n",
    "SMOTE genera muestras sintéticas para la clase minoritaria con el objetivo de equilibrar la distribución de clases. Creando nuevos ejemplos sintéticos mediante la interpolación de características de ejemplos vecinos."
   ]
  },
  {
   "cell_type": "markdown",
   "id": "9308c5da-d2ef-405e-90b3-21da838539d8",
   "metadata": {},
   "source": [
    "#### Visualizando clases"
   ]
  },
  {
   "cell_type": "code",
   "execution_count": null,
   "id": "f9470b7c-580e-4ffc-b759-0f79c345eef4",
   "metadata": {},
   "outputs": [],
   "source": [
    "c = sns.countplot(data=df, x='stroke', palette='pastel')\n",
    "c.set(title='Cantidad de pacientes ACV+/ACV-', ylabel ='Número de pacientes', xlabel='')\n",
    "c.set_xticklabels(['ACV-', 'ACV+'])\n",
    "plt.show()"
   ]
  },
  {
   "cell_type": "markdown",
   "id": "c2be9cd6-1316-42d1-af76-af81331da53a",
   "metadata": {},
   "source": [
    "#### Creando muestras sintéticas con SMOTE"
   ]
  },
  {
   "cell_type": "code",
   "execution_count": null,
   "id": "c16064ba-563d-49bc-a406-075ed1c27ff3",
   "metadata": {},
   "outputs": [],
   "source": [
    "from imblearn.over_sampling import SMOTE\n",
    "\n",
    "smote = SMOTE(random_state=42)\n",
    "X_resampled, y_resampled = smote.fit_resample(X, y)\n",
    "\n",
    "cs = sns.countplot(x=y_resampled, palette='pastel')\n",
    "cs.set(title='Cantidad de pacientes ACV+/ACV-', ylabel ='Número de pacientes', xlabel='')\n",
    "cs.set_xticklabels(['ACV-', 'ACV+'])"
   ]
  },
  {
   "cell_type": "markdown",
   "id": "f121fbc8-7b87-4640-a642-dd6072f299fc",
   "metadata": {},
   "source": [
    "- ## Datos de prueba y datos de entrenamiento"
   ]
  },
  {
   "cell_type": "code",
   "execution_count": null,
   "id": "7f3709b4-4b93-4d3b-96b4-2c3a766c6080",
   "metadata": {},
   "outputs": [],
   "source": [
    "from sklearn.model_selection import train_test_split\n",
    "# Defino datos de entrenamiento (70%) y datos de prueba(30%)\n",
    "# Random_state:Establece una semilla de múmeros aleatorios que asegura que el código sea reproducible cada vez que lo corra\n",
    "# shuffle=True: Mezcla el orden de los datos para evitar sesgos\n",
    "X_train, X_test, y_train, y_test = train_test_split(X_resampled, y_resampled, test_size=0.3, random_state=42, shuffle=True)"
   ]
  },
  {
   "cell_type": "markdown",
   "id": "38589ac7-54e3-479f-bed9-96d8600c44fa",
   "metadata": {},
   "source": [
    "- ## Manejo de valores atípicos"
   ]
  },
  {
   "cell_type": "markdown",
   "id": "dffd0387-0f11-4e91-93bb-c0903e706c82",
   "metadata": {},
   "source": [
    "#### Método Z-Score"
   ]
  },
  {
   "cell_type": "code",
   "execution_count": null,
   "id": "74856b58-cf92-48e0-847d-c8adb7b60812",
   "metadata": {},
   "outputs": [],
   "source": [
    "from scipy import stats\n",
    "import math\n",
    "\n",
    "# seleccionando columnas a las que se les eliminaran los outliers\n",
    "selected_columns = ['Credit_Limit', 'Avg_Open_To_Buy', 'Total_Amt_Chng_Q4_Q1',\n",
    "                    'Total_Trans_Amt', 'Total_Ct_Chng_Q4_Q1']\n",
    "\n",
    "# calcular Z-scores para las columnas seleccionadas en la training data\n",
    "z_scores = np.abs(stats.zscore(X_train[selected_columns]))\n",
    "\n",
    "# establecer valor de threshold para detectar outliers\n",
    "threshold = 3\n",
    "\n",
    "# encontrar el indice de los outliers basado en el threshold\n",
    "outlier_indices = np.where(z_scores > threshold)[0]\n",
    "\n",
    "# remover los outliers de la training data\n",
    "X_train = X_train.drop(X_train.index[outlier_indices])\n",
    "y_train = y_train.drop(y_train.index[outlier_indices])"
   ]
  },
  {
   "cell_type": "markdown",
   "id": "1ff27125-e608-40f6-af10-196bf81a7309",
   "metadata": {},
   "source": [
    "- ## Modelos predictivos"
   ]
  },
  {
   "cell_type": "markdown",
   "id": "55e1112c-0fcd-4afb-8f5b-54581fdcf83a",
   "metadata": {},
   "source": [
    "Acá procederemos a desarrollar los algoritmos para problemas de clasificación, regresión y clustering."
   ]
  },
  {
   "cell_type": "markdown",
   "id": "fb56760b-dffe-4c75-98ba-cc78540248cd",
   "metadata": {},
   "source": [
    "- ## Clasificación"
   ]
  },
  {
   "cell_type": "markdown",
   "id": "f2a0ce31-56a2-4a69-9117-086d59aca365",
   "metadata": {},
   "source": [
    "#### Random Forest Classifier"
   ]
  },
  {
   "cell_type": "code",
   "execution_count": null,
   "id": "be933d5f-6237-4651-8ca7-44b54231e2b4",
   "metadata": {},
   "outputs": [],
   "source": [
    "from sklearn.model_selection import GridSearchCV\n",
    "from sklearn.ensemble import RandomForestClassifier\n",
    "\n",
    "# creando Random Forest Classifier\n",
    "rfc = RandomForestClassifier()\n",
    "\n",
    "# Definiendo los hiperparámetros \n",
    "param_grid = {\n",
    "    'n_estimators': [50, 100, 200],\n",
    "    'max_depth': [None, 10, 20],\n",
    "    'min_samples_split': [2, 5, 10],\n",
    "    'min_samples_leaf': [1, 2, 4],\n",
    "    'random_state': [0, 42]\n",
    "}\n",
    "# desarrollando un grid search con validación cruzada para encontrar los mejores hiperparametros\n",
    "grid_search = GridSearchCV(rfc, param_grid, cv=5, scoring='accuracy')\n",
    "grid_search.fit(X_train, y_train)\n",
    "\n",
    "# imprimiendo los mejores hiperparametros\n",
    "print(grid_search.best_params_)"
   ]
  },
  {
   "cell_type": "code",
   "execution_count": null,
   "id": "d6e6fc7d-10da-4a58-89ee-c6ddca5deac6",
   "metadata": {},
   "outputs": [],
   "source": [
    "# entrenando el modelo\n",
    "rfc = RandomForestClassifier(classifier__max_depth: 10, classifier__min_samples_leaf: 4,\n",
    "                             classifier__min_samples_split: 10, classifier__n_estimators: 50, random_state: 42)\n",
    "rfc.fit(X_train, y_train)"
   ]
  },
  {
   "cell_type": "code",
   "execution_count": null,
   "id": "52e175d5-f8e2-4e6a-94c6-ac588951fc3a",
   "metadata": {},
   "outputs": [],
   "source": [
    "# realizando las predicciones\n",
    "rfc_pred = rfc.predict(X_test)"
   ]
  },
  {
   "cell_type": "markdown",
   "id": "ac3c146b-bb03-4c17-99d7-f48742a9df94",
   "metadata": {},
   "source": [
    "#### Decision Tree Classifier"
   ]
  },
  {
   "cell_type": "code",
   "execution_count": null,
   "id": "02e48219-d3fd-4fe5-8057-e65db0e86c45",
   "metadata": {},
   "outputs": [],
   "source": [
    "from sklearn.model_selection import GridSearchCV\n",
    "from sklearn.tree import DecisionTreeClassifier\n",
    "\n",
    "# creando Decision Tree Classifier\n",
    "dtree = DecisionTreeClassifier()\n",
    "\n",
    "# Definiendo los hiperparámetros \n",
    "param_grid = {\n",
    "    'max_depth': [2, 4, 6, 8],\n",
    "    'min_samples_split': [2, 4, 6, 8],\n",
    "    'min_samples_leaf': [1, 2, 3, 4],\n",
    "    'max_features': ['auto', 'sqrt', 'log2'],\n",
    "    'random_state': [0, 42]\n",
    "}\n",
    "# desarrollando un grid search con validación cruzada para encontrar los mejores hiperparametros\n",
    "grid_search = GridSearchCV(dtree, param_grid, cv=5, scoring='accuracy')\n",
    "grid_search.fit(X_train, y_train)\n",
    "\n",
    "# imprimiendo los mejores hiperparametros\n",
    "print(grid_search.best_params_)"
   ]
  },
  {
   "cell_type": "code",
   "execution_count": null,
   "id": "80215913-a19f-4cbe-b346-4d6533d3de4e",
   "metadata": {},
   "outputs": [],
   "source": [
    "# entrenando el modelo\n",
    "dtree = DecisionTreeClassifier(random_state=42, max_depth=2, max_features='sqrt', min_samples_leaf=4, min_samples_split=2)\n",
    "dtree.fit(X_train, y_train)"
   ]
  },
  {
   "cell_type": "code",
   "execution_count": null,
   "id": "8df1ebf2-a5c1-49df-809e-b9ff4fa92077",
   "metadata": {},
   "outputs": [],
   "source": [
    "# creando las predicciones\n",
    "dtree_pred = dtree.predict(X_test)"
   ]
  },
  {
   "cell_type": "markdown",
   "id": "d6872a56-647b-4efc-9f4d-681d4f080107",
   "metadata": {},
   "source": [
    "#### XGBoost Classifier"
   ]
  },
  {
   "cell_type": "code",
   "execution_count": null,
   "id": "a09563a0-7c01-4075-8b43-3a1c7bcc2fb3",
   "metadata": {},
   "outputs": [],
   "source": [
    "from sklearn.model_selection import GridSearchCV\n",
    "from xgboost import XGBClassifier\n",
    "\n",
    "# creando XGBoost classifier\n",
    "xgbc = XGBClassifier()\n",
    "\n",
    "# definiendo hiperparametros para el XGBoost\n",
    "param_grid = {\n",
    "    'max_depth': [3, 5, 7],\n",
    "    'learning_rate': [0.01, 0.1, 0.2],\n",
    "    'n_estimators': [100, 200, 300],\n",
    "    'subsample': [0.8, 1.0],\n",
    "    'random_state': [0, 42]\n",
    "}\n",
    "# desarrollando un grid search con validación cruzada para encontrar los mejores hiperparametros\n",
    "grid_search = GridSearchCV(xgbc, param_grid, cv=5, scoring='accuracy')\n",
    "grid_search.fit(X_train, y_train)\n",
    "\n",
    "# imprimiendo mejores hiperparametros\n",
    "print(grid_search.best_params_)"
   ]
  },
  {
   "cell_type": "code",
   "execution_count": null,
   "id": "d68bb10a-52a2-4d18-af53-69b0f7c7f899",
   "metadata": {},
   "outputs": [],
   "source": [
    "# entrenando el modelo\n",
    "xgbc = XGBClassifier(max_depth=3, learning_rate=0.1, n_estimators=100, random_state=0, subsample=0.8)\n",
    "xgbc.fit(X_train, y_train)"
   ]
  },
  {
   "cell_type": "code",
   "execution_count": null,
   "id": "ef610c48-e223-4a45-9d69-3fa015c05dc7",
   "metadata": {},
   "outputs": [],
   "source": [
    "# creando predicciones\n",
    "xgbc_pred = xgbc.predict(X_test)"
   ]
  },
  {
   "cell_type": "markdown",
   "id": "f50be49d-2a02-402e-9b19-3307fdb0b4ab",
   "metadata": {},
   "source": [
    "#### k-Nearest Neightbors (k-NN)"
   ]
  },
  {
   "cell_type": "code",
   "execution_count": null,
   "id": "7012dba8-5ca1-4761-8327-b3cd83d62e25",
   "metadata": {},
   "outputs": [],
   "source": [
    "from sklearn.model_selection import GridSearchCV\n",
    "from sklearn.neighbors import KNeighborsClassifier\n",
    "\n",
    "# creando modelo knn\n",
    "knn = KNeighborsClassifier()\n",
    "\n",
    "# definiendo hiperparametros para el knn\n",
    "param_grid = {\n",
    "    'n_neighbors': [3, 5, 7, 9],  # Número de vecinos\n",
    "    'weights': ['uniform', 'distance'],  # Método de ponderación de los vecinos\n",
    "    'algorithm': ['auto', 'ball_tree', 'kd_tree', 'brute'],  # Algoritmo para calcular los vecinos\n",
    "    'p': [1, 2],  # Distancia de Minkowski (1 para Manhattan, 2 para Euclidiana)\n",
    "    'random_state': [0, 42]\n",
    "}\n",
    "# desarrollando un grid search con validación cruzada para encontrar los mejores hiperparametros\n",
    "grid_search = GridSearchCV(knn, param_grid, cv=5, scoring='accuracy')\n",
    "grid_search.fit(X, y)\n",
    "\n",
    "# imprimiendo mejores hiperparametros\n",
    "print(grid_search.best_params_)"
   ]
  },
  {
   "cell_type": "code",
   "execution_count": null,
   "id": "0d46b30d-2d5e-4fa3-98f0-e279633f40cd",
   "metadata": {},
   "outputs": [],
   "source": [
    "# entrenando el modelo\n",
    "knn = KNeighborsClassifier(n_neighbors=3, weights='uniform', algorithm='auto', p=2, random_state=42)\n",
    "knn.fit(X_train, y_train)"
   ]
  },
  {
   "cell_type": "code",
   "execution_count": null,
   "id": "90c2b515-1bf5-450f-881b-bb0798aae818",
   "metadata": {},
   "outputs": [],
   "source": [
    "# creando predicciones\n",
    "knn_pred = knn.predict(X_test)"
   ]
  },
  {
   "cell_type": "markdown",
   "id": "38da41c5-07fe-4f45-94ff-9c6479e46a73",
   "metadata": {},
   "source": [
    "#### SVC (Support Vector Classifier)"
   ]
  },
  {
   "cell_type": "code",
   "execution_count": null,
   "id": "928b4c51-0e61-4b86-b0a7-cfac042b6d1c",
   "metadata": {},
   "outputs": [],
   "source": [
    "from sklearn.model_selection import GridSearchCV\n",
    "from sklearn.svm import SVC\n",
    "\n",
    "# creando modelo SVM\n",
    "svc = SVC()\n",
    "\n",
    "# parametros para el grid search\n",
    "param_grid = {'C': [0.1, 1, 10, 100],\n",
    "              'degree': [2, 3, 4, 5],\n",
    "              'gamma': ['scale', 'auto'],\n",
    "              'random_state': [0,42]\n",
    "}\n",
    "# desarrollando un grid search con validación cruzada para encontrar los mejores hiperparametros\n",
    "grid = GridSearchCV(svc, param_grid, refit=True, verbose=3, cv=5, n_jobs=-1)\n",
    "grid.fit(X_train,y_train)\n",
    "\n",
    "# imprimiendo mejores parametros\n",
    "print(grid.best_params_)"
   ]
  },
  {
   "cell_type": "code",
   "execution_count": null,
   "id": "0faabac5-07de-4d18-8950-c9408b9b633d",
   "metadata": {},
   "outputs": [],
   "source": [
    "# entrenando el modelo\n",
    "svc = SVC(C=0.1, degree=2, gamma='auto', random_state=0, kernel='linear')\n",
    "svc.fit(X_train,y_train)"
   ]
  },
  {
   "cell_type": "code",
   "execution_count": null,
   "id": "01918f8d-c7a9-4a8a-b32c-411a021011d7",
   "metadata": {},
   "outputs": [],
   "source": [
    "# creando predicciones\n",
    "svc_pred = svc.predict(X_test)"
   ]
  },
  {
   "cell_type": "markdown",
   "id": "8b39d47a-daa8-4ca7-8a20-0fecb99a8435",
   "metadata": {},
   "source": [
    "- ## Evaluación del modelo - Clasificación"
   ]
  },
  {
   "cell_type": "markdown",
   "id": "4204324f-579c-416c-b8e8-760c8901f475",
   "metadata": {},
   "source": [
    "#### Classification report"
   ]
  },
  {
   "cell_type": "code",
   "execution_count": null,
   "id": "5a09c0f3-0494-4742-ac02-d46eee5468bd",
   "metadata": {},
   "outputs": [],
   "source": [
    "from sklearn.metrics import accuracy_score, classification_report\n",
    "\n",
    "print(\"Model Accuracy: \", accuracy_score(y_test, knn_pred))\n",
    "print(classification_report(y_test, knn_pred))"
   ]
  },
  {
   "cell_type": "markdown",
   "id": "90e412bf-8cd4-4598-98ac-1de45da4c407",
   "metadata": {},
   "source": [
    "**Precisión:** La precisión indica la proporción de predicciones positivas correctas respecto al total de predicciones positivas realizadas por el modelo.\n",
    "\n",
    "**Recall:** El recall indica la proporción de instancias positivas reales que fueron correctamente identificadas por el modelo.\n",
    "\n",
    "**F1-Score:** La puntuación F1 es la media armónica de precisión y recall. Proporciona una medida de precisión equilibrada con el recall.\n",
    "\n",
    "**Support:** El soporte indica el número de instancias reales para cada clase en los datos de prueba.\n",
    "\n",
    "**Accuracy:** La exactitud del modelo indica la proporción de predicciones correctas respecto al total de predicciones realizadas por el modelo.\n",
    "\n",
    "**Macro Avg:** El promedio de precisión, recall o F1-score sin considerar la proporción para cada clase.\n",
    "\n",
    "**Weighted Avg:** El promedio de precisión, recall o F1-score considerando la proporción para cada clase."
   ]
  },
  {
   "cell_type": "markdown",
   "id": "321b5504-a983-405e-bb2f-31b8ee339ed0",
   "metadata": {},
   "source": [
    "#### Confusion Matriz"
   ]
  },
  {
   "cell_type": "markdown",
   "id": "7bf96fb6-8e16-4a49-a23f-60661b25c863",
   "metadata": {},
   "source": [
    "El modelo entrenado se evalúa en el conjunto de prueba. La matriz de confusión se utiliza para visualizar el rendimiento del modelo. Muestra las predicciones de verdaderos positivos, verdaderos negativos, falsos positivos y falsos negativos del modelo.\r\n",
    "\r\n",
    "Precision: La precisión es una medida de cuántas de las predicciones verdaderamente positivas fueron realmente correctas. Se define como el número de verdaderos positivos (TP) dividido por la suma de verdaderos positivos (TP) y falsos positivos (FP).\r\n",
    "\r\n",
    "Recall: La recuperación (o Sensibilidad) es una medida de cuántos de los casos positivos reales fueron identificados correctamente. Se define como el número de verdaderos positivos (TP) dividido por la suma de verdaderos positivos (TP) y falsos negativos (FN).\r\n",
    "\r\n",
    "F1-Score: La puntuación F1 es la media armónica de Precisión y Recuperación e intenta encontrar el equilibrio entre precisión y recuperación. Se define como 2 veces el producto de precisión y recuperación dividido por la suma de precisión y recuperación."
   ]
  },
  {
   "cell_type": "code",
   "execution_count": null,
   "id": "37b3859b-42cb-4a5b-9e68-6910190e1702",
   "metadata": {},
   "outputs": [],
   "source": [
    "from sklearn.metrics import confusion_matrix\n",
    "\n",
    "# matriz de confusion\n",
    "cm = confusion_matrix(y_test, knn_pred)\n",
    "plt.figure(figsize=(8,6))\n",
    "sns.heatmap(cm, annot=True, fmt='d', cmap='Blues')\n",
    "plt.title('Confusion Matrix')\n",
    "plt.xlabel('Predicted')\n",
    "plt.ylabel('True')\n",
    "plt.show()"
   ]
  },
  {
   "cell_type": "markdown",
   "id": "9b98c396-d029-4599-b7be-c7d952b3bfca",
   "metadata": {},
   "source": [
    "array([[900, 136],\n",
    "       [133, 240]])\n",
    "\n",
    "**True Negatives (TN): 900** - El modelo predijo correctamente la clase 0 (no churn) para estas instancias.\n",
    "\n",
    "**False Positives (FP): 136** - El modelo predijo incorrectamente la clase 1 (churn) para estas instancias, que en realidad son de la clase 0 (no churn).\n",
    "\n",
    "**False Negatives (FN): 133** - El modelo predijo incorrectamente la clase 0 (no churn) para estas instancias, que en realidad son de la clase 1 (churn).\n",
    "\n",
    "**True Positives (TP): 240** - El modelo predijo correctamente la clase 1 (churn) para estas instancias."
   ]
  },
  {
   "cell_type": "markdown",
   "id": "16765bb6-d808-4eaf-ac70-418826a06fbd",
   "metadata": {},
   "source": [
    "#### Importancia de las características"
   ]
  },
  {
   "cell_type": "code",
   "execution_count": null,
   "id": "a08588f6-e6c7-4750-a9de-4b966639940b",
   "metadata": {},
   "outputs": [],
   "source": [
    "imp_df = pd.DataFrame({\n",
    "    \"Feature Name\": X_train.columns,\n",
    "    \"Importance\": dtree.feature_importances_\n",
    "})\n",
    "fi = imp_df.sort_values(by=\"Importance\", ascending=False)\n",
    "\n",
    "fi2 = fi.head(10)\n",
    "plt.figure(figsize=(10,4))\n",
    "sns.barplot(data=fi2, x='Importance', y='Feature Name')\n",
    "plt.title('Importancia de caracteristica (Decision Tree Regressor)', fontsize=18)\n",
    "plt.xlabel ('Importancia', fontsize=16)\n",
    "plt.ylabel ('Caracteristica', fontsize=16)\n",
    "plt.show()"
   ]
  },
  {
   "cell_type": "markdown",
   "id": "3e44d6de-ac27-4923-b24e-c2f6c42079ce",
   "metadata": {},
   "source": [
    "#### Curva ROC y AUC"
   ]
  },
  {
   "cell_type": "markdown",
   "id": "d3f8870d-4c86-4cf0-8a4c-565294561466",
   "metadata": {},
   "source": [
    "La curva ROC (Receiver Operating Characteristic) es una herramienta utilizada para evaluar el rendimiento de un modelo de clasificación binaria en función de su capacidad para discriminar entre clases positivas y negativas. La curva ROC representa la tasa de verdaderos positivos (sensibilidad) en el eje y frente a la tasa de falsos positivos (1 - especificidad) en el eje x para diferentes umbrales de clasificación.\r\n",
    "\r\n",
    "La curva ROC es útil porque proporciona una representación gráfica de la capacidad de discriminación de un modelo en diferentes niveles de sensibilidad y especificidad. Además, el área bajo la curva ROC (AUC-ROC) es una métrica comúnmente utilizada para cuantificar la capacidad discriminativa global del modelo. Un AUC-ROC cercano a 1 indica un modelo excelente que puede distinguir perfectamente entre clases positivas y negativas, mientras que un valor cercano a 0.5 sugiere que el modelo es similar a una clasificación aleatoria."
   ]
  },
  {
   "cell_type": "code",
   "execution_count": null,
   "id": "12b698e2-a9d3-4d50-9218-05722572b77b",
   "metadata": {},
   "outputs": [],
   "source": [
    "from sklearn.metrics import roc_auc_score\n",
    "\n",
    "# Calcula las probabilidades de predicción para la clase positiva\n",
    "y_score = dtree.predict_proba(X_test)[:, 1]\n",
    "\n",
    "# Calcula la tasa de verdaderos positivos y la tasa de falsos positivos\n",
    "fpr, tpr, _ = roc_curve(y_test, y_score)\n",
    "\n",
    "# Calcula el área bajo la curva ROC (AUC)\n",
    "roc_auc = auc(fpr, tpr)\n",
    "\n",
    "# Grafica la curva ROC\n",
    "plt.figure(figsize=(8, 6))\n",
    "plt.plot(fpr, tpr, color='darkorange', lw=2, label='ROC curve (area = %0.2f)' % roc_auc)\n",
    "plt.plot([0, 1], [0, 1], color='navy', lw=2, linestyle='--')\n",
    "plt.xlabel('False Positive Rate')\n",
    "plt.ylabel('True Positive Rate')\n",
    "plt.title('Receiver Operating Characteristic (ROC) Curve')\n",
    "plt.legend(loc='lower right')\n",
    "plt.show()"
   ]
  },
  {
   "cell_type": "markdown",
   "id": "2b3096bd-77db-4108-b095-2bae78ff787e",
   "metadata": {},
   "source": [
    "#### Tabla resumen"
   ]
  },
  {
   "cell_type": "markdown",
   "id": "193c191b-86e4-4307-beb6-d9d0a9a20d86",
   "metadata": {},
   "source": [
    "| Modelo                |        Precision      | Recall                |F1-score              | Falsos negativos|\n",
    "|-----------------------|-----------------------|-----------------------|-----------------------|-----------|\n",
    "| Regresión logistica        | 0.96          | 0.96                     |0.96                   |118|       \n",
    "| k-NN                       |  0.91         | 0.90                     |0.90                   |20|        \n",
    "| Regresión logistica + PCA  |  0.94         |0.94                      |0.94                   |70 |\n",
    "| k-NN + PCA                 | 0.81         | 0.81                     |0.81                    |135| "
   ]
  },
  {
   "cell_type": "markdown",
   "id": "627ba30a-099e-4940-98a1-10ed8b0fd3fa",
   "metadata": {},
   "source": [
    "- ## Regresión"
   ]
  },
  {
   "cell_type": "markdown",
   "id": "111c7ae6-7b4a-440b-bd3a-a9810ddf7697",
   "metadata": {},
   "source": [
    "#### XGBoost Regressor"
   ]
  },
  {
   "cell_type": "code",
   "execution_count": null,
   "id": "fb7f4f2a-2f31-4e48-84ce-ea847375a8e3",
   "metadata": {},
   "outputs": [],
   "source": [
    "from sklearn.model_selection import GridSearchCV\n",
    "from xgboost import XGBRegressor\n",
    "\n",
    "# creando XGBoost Regressor\n",
    "xgbr = XGBRegressor()\n",
    "\n",
    "# definiendo hiperparametros para el XGBoost\n",
    "param_grid = {\n",
    "    'max_depth': [3, 5, 7],\n",
    "    'learning_rate': [0.01, 0.1, 0.2],\n",
    "    'n_estimators': [100, 200, 300],\n",
    "    'subsample': [0.8, 1.0],\n",
    "    'random_state': [0, 42]\n",
    "}\n",
    "# desarrollando un grid search con validación cruzada para encontrar los mejores hiperparametros\n",
    "grid_search = GridSearchCV(xgbr, param_grid, cv=5, scoring='r2')\n",
    "grid_search.fit(X_train, y_train)\n",
    "\n",
    "# imprimiendo mejores hiperparametros\n",
    "print(grid.best_params_)"
   ]
  },
  {
   "cell_type": "code",
   "execution_count": null,
   "id": "3cf8c62b-3307-47f1-a9ca-beec8e4a654d",
   "metadata": {},
   "outputs": [],
   "source": [
    "# entrenando el modelo\n",
    "xgbr = XGBRegressor(max_depth=7, learning_rate=0.1, n_estimators=300, random_state=42, subsample=0.8)\n",
    "xgbr.fit(X_train, y_train)"
   ]
  },
  {
   "cell_type": "code",
   "execution_count": null,
   "id": "d8402666-fb3d-4f52-8e32-d054e04db385",
   "metadata": {},
   "outputs": [],
   "source": [
    "# creando predicciones\n",
    "xgbr_pred = xgbr.predict(X_test)"
   ]
  },
  {
   "cell_type": "markdown",
   "id": "49f49e20-cc0f-4a27-bfe0-8dfb76993bf9",
   "metadata": {},
   "source": [
    "#### Decision Tree Regressor"
   ]
  },
  {
   "cell_type": "code",
   "execution_count": null,
   "id": "752bc21e-9a9d-4152-9c38-d6be92f0607e",
   "metadata": {},
   "outputs": [],
   "source": [
    "from sklearn.model_selection import GridSearchCV\n",
    "from sklearn.tree import DecisionTreeRegressor\n",
    "\n",
    "# creando Decision Tree Regressor\n",
    "dtree = DecisionTreeRegressor()\n",
    "\n",
    "# Definiendo los hiperparámetros a ajustar y sus valores\n",
    "param_grid = {\n",
    "    'max_depth': [2, 4, 6, 8],\n",
    "    'min_samples_split': [2, 4, 6, 8],\n",
    "    'min_samples_leaf': [1, 2, 3, 4],\n",
    "    'max_features': ['auto', 'sqrt', 'log2'],\n",
    "    'random_state': [0, 42]\n",
    "}\n",
    "# desarrollando un grid search con validación cruzada para encontrar los mejores hiperparametros\n",
    "grid_search = GridSearchCV(dtree, param_grid, cv=5, scoring='neg_mean_squared_error')\n",
    "grid_search.fit(X_train, y_train)\n",
    "\n",
    "# imprimiendo los mejores hiperparametros\n",
    "print(grid_search.best_params_)"
   ]
  },
  {
   "cell_type": "code",
   "execution_count": null,
   "id": "077e0445-4998-4d8f-aafc-543faff69685",
   "metadata": {},
   "outputs": [],
   "source": [
    "# entrenando el modelo\n",
    "dtree = DecisionTreeRegressor(random_state=0, max_depth=8, max_features='sqrt', min_samples_leaf=2, min_samples_split=6)\n",
    "dtree.fit(X_train, y_train)"
   ]
  },
  {
   "cell_type": "code",
   "execution_count": null,
   "id": "bf4f6bfc-1aab-4ca8-b485-07d99883a544",
   "metadata": {},
   "outputs": [],
   "source": [
    "# creando las predicciones\n",
    "dtree_pred = dtree.predict(X_test)"
   ]
  },
  {
   "cell_type": "markdown",
   "id": "52e32065-5fa6-445a-8c15-9793772d32a0",
   "metadata": {},
   "source": [
    "- ## Evaluación del modelo - Regresión"
   ]
  },
  {
   "cell_type": "markdown",
   "id": "ab3d64ed-1883-4571-9ca1-961999268ca7",
   "metadata": {},
   "source": [
    "#### Distribución"
   ]
  },
  {
   "cell_type": "code",
   "execution_count": null,
   "id": "4f9d1d9e-214b-4b31-9164-2ad207cdc90d",
   "metadata": {},
   "outputs": [],
   "source": [
    "fig, ax = plt.subplots(1,3,figsize=(20,5))\n",
    "# Regresión lineal\n",
    "sns.distplot(y_test,ax=ax[0])\n",
    "sns.distplot(rlp_pred,ax=ax[0])\n",
    "# Ridge Regression\n",
    "sns.distplot(y_test,ax=ax[1])\n",
    "sns.distplot(rr_pred,ax=ax[1])\n",
    "# Random Forest Regression\n",
    "sns.distplot(y_test,ax=ax[2])\n",
    "sns.distplot(rfr_pred,ax=ax[2])\n",
    "\n",
    "# leyendas\n",
    "ax[0].legend([\"Precio actual\", \"Predicción\"])\n",
    "ax[1].legend([\"Precio actual\", \"Predicción\"])\n",
    "ax[2].legend([\"Precio actual\", \"Predicción\"])\n",
    "\n",
    "# titulos\n",
    "ax[0].set_title(\"Regresión Lineal\")\n",
    "ax[1].set_title(\"Ridge Regression\")\n",
    "ax[2].set_title(\"Random Forest Regression\")\n",
    "plt.show()"
   ]
  },
  {
   "cell_type": "markdown",
   "id": "0f54342d-ea94-4cb4-9065-981620024663",
   "metadata": {},
   "source": [
    "#### Errores"
   ]
  },
  {
   "cell_type": "code",
   "execution_count": null,
   "id": "13bd718c-8561-4916-809f-d2173ba9a7e3",
   "metadata": {},
   "outputs": [],
   "source": [
    "from sklearn import metrics\n",
    "from sklearn.metrics import mean_squared_error, mean_absolute_error, r2_score\n",
    "\n",
    "fig, ax = plt.subplots(1,3,figsize=(20,5))\n",
    "sns.barplot(x=[\"Regresión Lineal\",\"Ridge Regression\",\"Random Forest\"], y=[mean_absolute_error(y_test, rlp_pred), mean_absolute_error(y_test, rr_pred), mean_absolute_error(y_test, rfr_pred)], ax=ax[0])\n",
    "sns.barplot(x=[\"Regresión Lineal\",\"Ridge Regression\",\"Random Forest\"], y=[mean_squared_error(y_test, rlp_pred), mean_squared_error(y_test, rr_pred), mean_squared_error(y_test, rfr_pred)], ax=ax[1])\n",
    "sns.barplot(x=[\"Regresión Lineal\",\"Ridge Regression\",\"Random Forest\"], y=[np.sqrt(mean_squared_error(y_test, rlp_pred)), np.sqrt(mean_squared_error(y_test, rr_pred)), np.sqrt(mean_squared_error(y_test, rfr_pred))], ax=ax[2])\n",
    "\n",
    "ax[0].set_ylabel(\"Mean Absolute Error\")\n",
    "ax[1].set_ylabel(\"Mean Squared Error\")\n",
    "ax[2].set_ylabel(\"Root Mean Squared Error\")\n",
    "plt.show()"
   ]
  },
  {
   "cell_type": "markdown",
   "id": "0014cec8-079a-4c43-a0e5-553542e80167",
   "metadata": {},
   "source": [
    "#### Accuracy"
   ]
  },
  {
   "cell_type": "code",
   "execution_count": null,
   "id": "5674a0e9-fca5-4351-81bb-301f03a24941",
   "metadata": {},
   "outputs": [],
   "source": [
    "from sklearn import metrics\n",
    "from sklearn.metrics import r2_score\n",
    "\n",
    "models = [\"Linear Regression\", \"Ridge Regression\", \"Random Forest Regression\"]\n",
    "accuracy = [metrics.r2_score(y_test, rlp_pred),metrics.r2_score(y_test, rr_pred),metrics.r2_score(y_test, rfr_pred)]\n",
    "plt.figure(figsize=(8,6))\n",
    "sns.barplot(x=models, y=accuracy)\n",
    "\n",
    "for i, val in enumerate(accuracy):\n",
    "    plt.text(i, val, f'{val:.4f}', ha=\"center\", va=\"bottom\", fontsize=12)\n",
    "    \n",
    "plt.title(\"Comparación de Accuracy\")\n",
    "plt.ylabel(\"Accuracy\")\n",
    "plt.show()"
   ]
  },
  {
   "cell_type": "markdown",
   "id": "bf366881-2173-4f29-a49a-43cec430d166",
   "metadata": {},
   "source": [
    "#### Importancia de las características"
   ]
  },
  {
   "cell_type": "code",
   "execution_count": null,
   "id": "fa02bd4e-4d03-4ea5-8ed4-de3b1f6f1f7f",
   "metadata": {},
   "outputs": [],
   "source": [
    "imp_df = pd.DataFrame({\n",
    "    \"Feature Name\": X_train.columns,\n",
    "    \"Importance\": dtree.feature_importances_\n",
    "})\n",
    "fi = imp_df.sort_values(by=\"Importance\", ascending=False)\n",
    "\n",
    "fi2 = fi.head(10)\n",
    "plt.figure(figsize=(10,4))\n",
    "sns.barplot(data=fi2, x='Importance', y='Feature Name')\n",
    "plt.title('Importancia de caracteristica (Decision Tree Regressor)', fontsize=18)\n",
    "plt.xlabel ('Importancia', fontsize=16)\n",
    "plt.ylabel ('Caracteristica', fontsize=16)\n",
    "plt.show()"
   ]
  },
  {
   "cell_type": "markdown",
   "id": "5a9a1c93-d3ce-44f4-8af9-8dd873f28c4c",
   "metadata": {},
   "source": [
    "- ## Clustering"
   ]
  },
  {
   "cell_type": "code",
   "execution_count": null,
   "id": "b56455c6-81ab-4704-ad34-127a7502e34c",
   "metadata": {},
   "outputs": [],
   "source": [
    "# creando variable que contiene los valores de las columnas Annual Income y Spending Score\n",
    "X = df.iloc[:,[3,4]].values"
   ]
  },
  {
   "cell_type": "code",
   "execution_count": null,
   "id": "0a5ad858-5107-4d78-be8e-a0d32201a297",
   "metadata": {},
   "outputs": [],
   "source": [
    "from sklearn.cluster import KMeans\n",
    "\n",
    "# buscando el valor WCSS(Within Clusters Sum of Squares) usando distintos numeros de clusters\n",
    "wcss = []\n",
    "\n",
    "for i in range(1,11):\n",
    "  kmeans = KMeans(n_clusters=i, init=\"k-means++\", random_state=42)\n",
    "  kmeans.fit(X)\n",
    "  wcss.append(kmeans.inertia_)"
   ]
  },
  {
   "cell_type": "code",
   "execution_count": null,
   "id": "0580f4de-de3a-48ef-aef2-876119daae79",
   "metadata": {},
   "outputs": [],
   "source": [
    "# grafico Elbow\n",
    "plt.plot(range(1,11), wcss)\n",
    "plt.title(\"Gráfico Elbow\")\n",
    "plt.xlabel(\"Número de Clústers\")\n",
    "plt.ylabel(\"WCSS\")\n",
    "plt.show()"
   ]
  },
  {
   "cell_type": "code",
   "execution_count": null,
   "id": "4b90ea3b-2347-40cc-979b-d5556c7211a2",
   "metadata": {},
   "outputs": [],
   "source": [
    "# definiendo el modelo\n",
    "kmeans = KMeans(n_clusters=5, init='k-means++', random_state=0)\n",
    "\n",
    "# devuelve una etiqueta para cada punto de datos según su Clúster\n",
    "Y = kmeans.fit_predict(X)"
   ]
  },
  {
   "cell_type": "code",
   "execution_count": null,
   "id": "12a5cd2c-0508-4a31-ad3d-5d2919bce209",
   "metadata": {},
   "outputs": [],
   "source": [
    "# graficando los clústers\n",
    "plt.figure(figsize=(8,8))\n",
    "plt.scatter(X[Y==0,0], X[Y==0,1], s=50, c=\"green\", label=\"Cluster 1\")\n",
    "plt.scatter(X[Y==1,0], X[Y==1,1], s=50, c=\"red\", label=\"Cluster 2\")\n",
    "plt.scatter(X[Y==2,0], X[Y==2,1], s=50, c=\"yellow\", label=\"Cluster 3\")\n",
    "plt.scatter(X[Y==3,0], X[Y==3,1], s=50, c=\"violet\", label=\"Cluster 4\")\n",
    "plt.scatter(X[Y==4,0], X[Y==4,1], s=50, c=\"blue\", label=\"Cluster 5\")\n",
    "\n",
    "# graficando los centroides\n",
    "plt.scatter(kmeans.cluster_centers_[:,0], kmeans.cluster_centers_[:,1], s=50, c=\"cyan\", label=\"Centroides\")\n",
    "\n",
    "plt.title(\"Grupo de clientes\")\n",
    "plt.xlabel(\"Ingresos anuales\")\n",
    "plt.ylabel(\"Puntaje de gasto\")\n",
    "plt.legend()\n",
    "plt.show()"
   ]
  },
  {
   "cell_type": "code",
   "execution_count": null,
   "id": "d35af05e-7b53-4fa3-ba65-c05fd9af363b",
   "metadata": {},
   "outputs": [],
   "source": [
    "# agregando las etiquetas al dataframe\n",
    "df[\"Cluster\"] = kmeans.labels_ + 1\n",
    "df.head()"
   ]
  },
  {
   "cell_type": "markdown",
   "id": "e312fecb-ee3d-4553-ab04-701b3a08c512",
   "metadata": {},
   "source": [
    "Luego de seleccionar el mejor modelo, se procede a crear un sistema de predicción."
   ]
  },
  {
   "cell_type": "markdown",
   "id": "bba72338-950c-44af-977e-a1310476ec6c",
   "metadata": {},
   "source": [
    "- ## Sistema de predicción"
   ]
  },
  {
   "cell_type": "code",
   "execution_count": null,
   "id": "e99d475e-dd0c-41e4-89e7-8f9cce4ce82f",
   "metadata": {},
   "outputs": [],
   "source": [
    "def prediccion_fraude (data):\n",
    "    # convirtiendo los datos en un array\n",
    "    input_data_as_numpy_array= np.asarray(data)\n",
    "\n",
    "    # reformando los datos\n",
    "    input_data_reshaped = input_data_as_numpy_array.reshape(1,-1)\n",
    "\n",
    "    # realizando predicción usando knn\n",
    "    prediction = knn.predict(input_data_reshaped)\n",
    "\n",
    "    # imprimiendo los resultados\n",
    "    print(f'El resultado es {prediction[0]}')\n",
    "\n",
    "    if (prediction[0]== 0):\n",
    "      print(\"La transacción no es fraude\")\n",
    "    else:\n",
    "      print(\"La transacción es fraude\")"
   ]
  },
  {
   "cell_type": "code",
   "execution_count": null,
   "id": "2f27bd10-ed16-4c05-83ea-da613c8d4d5d",
   "metadata": {},
   "outputs": [],
   "source": [
    "datos_prediccion = (42230.09, 18, 0, 1, 5, 1, 0, 46, 20000000, 10000000, 1, 0.00, 1, 0.00, 4552.41)\n",
    "prediccion_fraude(datos_prediccion)"
   ]
  }
 ],
 "metadata": {
  "kernelspec": {
   "display_name": "Python 3 (ipykernel)",
   "language": "python",
   "name": "python3"
  },
  "language_info": {
   "codemirror_mode": {
    "name": "ipython",
    "version": 3
   },
   "file_extension": ".py",
   "mimetype": "text/x-python",
   "name": "python",
   "nbconvert_exporter": "python",
   "pygments_lexer": "ipython3",
   "version": "3.11.7"
  }
 },
 "nbformat": 4,
 "nbformat_minor": 5
}
