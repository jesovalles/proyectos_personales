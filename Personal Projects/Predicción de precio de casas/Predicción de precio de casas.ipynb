{
 "cells": [
  {
   "cell_type": "markdown",
   "id": "c73560ed-dcfb-463c-a209-fc916ad35284",
   "metadata": {},
   "source": [
    "# Predicción de precio de casas"
   ]
  },
  {
   "cell_type": "code",
   "execution_count": null,
   "id": "c6530eb2-80d1-4348-992b-4a491c1a3d46",
   "metadata": {},
   "outputs": [],
   "source": []
  }
 ],
 "metadata": {
  "kernelspec": {
   "display_name": "Python 3 (ipykernel)",
   "language": "python",
   "name": "python3"
  },
  "language_info": {
   "codemirror_mode": {
    "name": "ipython",
    "version": 3
   },
   "file_extension": ".py",
   "mimetype": "text/x-python",
   "name": "python",
   "nbconvert_exporter": "python",
   "pygments_lexer": "ipython3",
   "version": "3.11.7"
  }
 },
 "nbformat": 4,
 "nbformat_minor": 5
}
