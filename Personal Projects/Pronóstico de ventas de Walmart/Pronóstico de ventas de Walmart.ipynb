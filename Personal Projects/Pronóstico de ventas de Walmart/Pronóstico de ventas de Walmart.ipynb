{
 "cells": [
  {
   "cell_type": "markdown",
   "id": "083ba764-5e7e-47f8-8298-80f593bcd7c9",
   "metadata": {},
   "source": [
    "# Pronóstico de ventas de Walmart"
   ]
  }
 ],
 "metadata": {
  "kernelspec": {
   "display_name": "Python 3 (ipykernel)",
   "language": "python",
   "name": "python3"
  },
  "language_info": {
   "codemirror_mode": {
    "name": "ipython",
    "version": 3
   },
   "file_extension": ".py",
   "mimetype": "text/x-python",
   "name": "python",
   "nbconvert_exporter": "python",
   "pygments_lexer": "ipython3",
   "version": "3.11.7"
  }
 },
 "nbformat": 4,
 "nbformat_minor": 5
}
